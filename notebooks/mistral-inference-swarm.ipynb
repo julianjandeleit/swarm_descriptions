{
 "cells": [
  {
   "cell_type": "markdown",
   "id": "7317e466",
   "metadata": {
    "id": "I1OU5Uhm_gOc",
    "papermill": {
     "duration": 0.032804,
     "end_time": "2024-01-08T09:19:43.154652",
     "exception": false,
     "start_time": "2024-01-08T09:19:43.121848",
     "status": "completed"
    },
    "tags": []
   },
   "source": [
    " - mistral-instruct inference tutorial https://huggingface.co/blog/Andyrasika/mistral-7b-empowering-conversation\n",
    " - https://huggingface.co/mistralai/Mistral-7B-Instruct-v0.2"
   ]
  },
  {
   "cell_type": "code",
   "execution_count": 1,
   "id": "ed03a0c9",
   "metadata": {
    "execution": {
     "iopub.execute_input": "2024-01-08T09:19:43.220298Z",
     "iopub.status.busy": "2024-01-08T09:19:43.219902Z",
     "iopub.status.idle": "2024-01-08T09:20:38.701855Z",
     "shell.execute_reply": "2024-01-08T09:20:38.700758Z"
    },
    "id": "nIXzPrL63xdV",
    "outputId": "fd97eb72-4cee-4d23-80ab-add63cde57fd",
    "papermill": {
     "duration": 55.517893,
     "end_time": "2024-01-08T09:20:38.704443",
     "exception": false,
     "start_time": "2024-01-08T09:19:43.186550",
     "status": "completed"
    },
    "tags": []
   },
   "outputs": [
    {
     "name": "stdout",
     "output_type": "stream",
     "text": [
      "\u001b[31mERROR: pip's legacy dependency resolver does not consider dependency conflicts when selecting packages. This behaviour is the source of the following dependency conflicts.\r\n",
      "cudf 23.8.0 requires cupy-cuda11x>=12.0.0, which is not installed.\r\n",
      "cuml 23.8.0 requires cupy-cuda11x>=12.0.0, which is not installed.\r\n",
      "dask-cudf 23.8.0 requires cupy-cuda11x>=12.0.0, which is not installed.\r\n",
      "cudf 23.8.0 requires pandas<1.6.0dev0,>=1.3, but you'll have pandas 2.0.3 which is incompatible.\r\n",
      "cudf 23.8.0 requires protobuf<5,>=4.21, but you'll have protobuf 3.20.3 which is incompatible.\r\n",
      "cuml 23.8.0 requires dask==2023.7.1, but you'll have dask 2023.12.0 which is incompatible.\r\n",
      "cuml 23.8.0 requires distributed==2023.7.1, but you'll have distributed 2023.12.0 which is incompatible.\r\n",
      "dask-cuda 23.8.0 requires dask==2023.7.1, but you'll have dask 2023.12.0 which is incompatible.\r\n",
      "dask-cuda 23.8.0 requires distributed==2023.7.1, but you'll have distributed 2023.12.0 which is incompatible.\r\n",
      "dask-cuda 23.8.0 requires pandas<1.6.0dev0,>=1.3, but you'll have pandas 2.0.3 which is incompatible.\r\n",
      "dask-cudf 23.8.0 requires dask==2023.7.1, but you'll have dask 2023.12.0 which is incompatible.\r\n",
      "dask-cudf 23.8.0 requires distributed==2023.7.1, but you'll have distributed 2023.12.0 which is incompatible.\r\n",
      "dask-cudf 23.8.0 requires pandas<1.6.0dev0,>=1.3, but you'll have pandas 2.0.3 which is incompatible.\r\n",
      "gcsfs 2023.6.0 requires fsspec==2023.6.0, but you'll have fsspec 2023.10.0 which is incompatible.\r\n",
      "raft-dask 23.8.0 requires dask==2023.7.1, but you'll have dask 2023.12.0 which is incompatible.\r\n",
      "raft-dask 23.8.0 requires distributed==2023.7.1, but you'll have distributed 2023.12.0 which is incompatible.\r\n",
      "s3fs 2023.12.2 requires fsspec==2023.12.2, but you'll have fsspec 2023.10.0 which is incompatible.\u001b[0m\u001b[31m\r\n",
      "\u001b[0m"
     ]
    }
   ],
   "source": [
    "!pip install -q -U git+https://github.com/huggingface/transformers bitsandbytes peft datasets accelerate trl --use-deprecated=legacy-resolver"
   ]
  },
  {
   "cell_type": "code",
   "execution_count": 2,
   "id": "c2851998",
   "metadata": {
    "execution": {
     "iopub.execute_input": "2024-01-08T09:20:38.770652Z",
     "iopub.status.busy": "2024-01-08T09:20:38.770345Z",
     "iopub.status.idle": "2024-01-08T09:20:44.013251Z",
     "shell.execute_reply": "2024-01-08T09:20:44.012465Z"
    },
    "id": "BXCcN_rl31jL",
    "papermill": {
     "duration": 5.278479,
     "end_time": "2024-01-08T09:20:44.015590",
     "exception": false,
     "start_time": "2024-01-08T09:20:38.737111",
     "status": "completed"
    },
    "tags": []
   },
   "outputs": [],
   "source": [
    "from transformers import AutoModelForCausalLM\n",
    "import torch\n",
    "from transformers import BitsAndBytesConfig\n",
    "\n",
    "from transformers import AutoTokenizer\n",
    "import numpy as np\n",
    "import pickle\n",
    "from accelerate.utils import release_memory\n",
    "from accelerate import load_checkpoint_and_dispatch\n",
    "import gc\n",
    "import time"
   ]
  },
  {
   "cell_type": "code",
   "execution_count": null,
   "id": "d6e3880d",
   "metadata": {
    "papermill": {
     "duration": 0.031869,
     "end_time": "2024-01-08T09:20:44.080647",
     "exception": false,
     "start_time": "2024-01-08T09:20:44.048778",
     "status": "completed"
    },
    "tags": []
   },
   "outputs": [],
   "source": []
  },
  {
   "cell_type": "code",
   "execution_count": 3,
   "id": "14336add",
   "metadata": {
    "execution": {
     "iopub.execute_input": "2024-01-08T09:20:44.145522Z",
     "iopub.status.busy": "2024-01-08T09:20:44.145109Z",
     "iopub.status.idle": "2024-01-08T09:20:44.149106Z",
     "shell.execute_reply": "2024-01-08T09:20:44.148391Z"
    },
    "id": "bL-XlhXS_Pbd",
    "papermill": {
     "duration": 0.038612,
     "end_time": "2024-01-08T09:20:44.150931",
     "exception": false,
     "start_time": "2024-01-08T09:20:44.112319",
     "status": "completed"
    },
    "tags": []
   },
   "outputs": [],
   "source": [
    "device = \"cuda\""
   ]
  },
  {
   "cell_type": "code",
   "execution_count": 4,
   "id": "7b45bb20",
   "metadata": {
    "execution": {
     "iopub.execute_input": "2024-01-08T09:20:44.215344Z",
     "iopub.status.busy": "2024-01-08T09:20:44.215089Z",
     "iopub.status.idle": "2024-01-08T09:25:07.976212Z",
     "shell.execute_reply": "2024-01-08T09:25:07.975186Z"
    },
    "id": "SyID85vY4fnF",
    "outputId": "f7278d31-bbd0-4ec6-f074-361b4d37468b",
    "papermill": {
     "duration": 263.796178,
     "end_time": "2024-01-08T09:25:07.978644",
     "exception": false,
     "start_time": "2024-01-08T09:20:44.182466",
     "status": "completed"
    },
    "tags": []
   },
   "outputs": [
    {
     "data": {
      "application/vnd.jupyter.widget-view+json": {
       "model_id": "178b581913e9412babeba2a9cf78af9e",
       "version_major": 2,
       "version_minor": 0
      },
      "text/plain": [
       "config.json:   0%|          | 0.00/596 [00:00<?, ?B/s]"
      ]
     },
     "metadata": {},
     "output_type": "display_data"
    },
    {
     "data": {
      "application/vnd.jupyter.widget-view+json": {
       "model_id": "fcc70b06513d4d2d94d896c8a508935a",
       "version_major": 2,
       "version_minor": 0
      },
      "text/plain": [
       "model.safetensors.index.json:   0%|          | 0.00/25.1k [00:00<?, ?B/s]"
      ]
     },
     "metadata": {},
     "output_type": "display_data"
    },
    {
     "data": {
      "application/vnd.jupyter.widget-view+json": {
       "model_id": "ea87685a1ea94fb3b7a62b0b51cc847a",
       "version_major": 2,
       "version_minor": 0
      },
      "text/plain": [
       "Downloading shards:   0%|          | 0/3 [00:00<?, ?it/s]"
      ]
     },
     "metadata": {},
     "output_type": "display_data"
    },
    {
     "data": {
      "application/vnd.jupyter.widget-view+json": {
       "model_id": "dd78a4395ecf49d29fec7a1078ce16bf",
       "version_major": 2,
       "version_minor": 0
      },
      "text/plain": [
       "model-00001-of-00003.safetensors:   0%|          | 0.00/4.94G [00:00<?, ?B/s]"
      ]
     },
     "metadata": {},
     "output_type": "display_data"
    },
    {
     "data": {
      "application/vnd.jupyter.widget-view+json": {
       "model_id": "0dc604bece6c4bc4b6bff97231c71512",
       "version_major": 2,
       "version_minor": 0
      },
      "text/plain": [
       "model-00002-of-00003.safetensors:   0%|          | 0.00/5.00G [00:00<?, ?B/s]"
      ]
     },
     "metadata": {},
     "output_type": "display_data"
    },
    {
     "data": {
      "application/vnd.jupyter.widget-view+json": {
       "model_id": "4a8d79f418994cedafd2a834660a1e14",
       "version_major": 2,
       "version_minor": 0
      },
      "text/plain": [
       "model-00003-of-00003.safetensors:   0%|          | 0.00/4.54G [00:00<?, ?B/s]"
      ]
     },
     "metadata": {},
     "output_type": "display_data"
    },
    {
     "data": {
      "application/vnd.jupyter.widget-view+json": {
       "model_id": "b772ccd776594990bcefe0330a474f14",
       "version_major": 2,
       "version_minor": 0
      },
      "text/plain": [
       "Loading checkpoint shards:   0%|          | 0/3 [00:00<?, ?it/s]"
      ]
     },
     "metadata": {},
     "output_type": "display_data"
    },
    {
     "data": {
      "application/vnd.jupyter.widget-view+json": {
       "model_id": "d38a824368b2447190653be44fc44d18",
       "version_major": 2,
       "version_minor": 0
      },
      "text/plain": [
       "generation_config.json:   0%|          | 0.00/111 [00:00<?, ?B/s]"
      ]
     },
     "metadata": {},
     "output_type": "display_data"
    }
   ],
   "source": [
    "def load_checkpoint_model(path):\n",
    "    bnb_config = BitsAndBytesConfig(\n",
    "    load_in_4bit=True,\n",
    "    bnb_4bit_quant_type=\"nf4\",\n",
    "    bnb_4bit_use_double_quant=True,\n",
    "    bnb_4bit_compute_dtype=torch.bfloat16\n",
    "    )\n",
    "    \n",
    "    model = AutoModelForCausalLM.from_pretrained(\n",
    "            path,\n",
    "            load_in_4bit=True,\n",
    "            #quantization_config=bnb_config,\n",
    "            torch_dtype=torch.bfloat16,\n",
    "            device_map=\"auto\", # \"cuda\" to large, \"cpu\" somehow does not put LinearFP4 Layer on device\n",
    "        )\n",
    "\n",
    "    return model\n",
    "\n",
    "base_model = \"/kaggle/input/mistral-finetuning-swarm-v1/results/checkpoint-400\"\n",
    "model = load_checkpoint_model(base_model)\n",
    "tokenizer = AutoTokenizer.from_pretrained(base_model)"
   ]
  },
  {
   "cell_type": "code",
   "execution_count": 5,
   "id": "3c4331c2",
   "metadata": {
    "execution": {
     "iopub.execute_input": "2024-01-08T09:25:08.049062Z",
     "iopub.status.busy": "2024-01-08T09:25:08.048648Z",
     "iopub.status.idle": "2024-01-08T09:25:08.052889Z",
     "shell.execute_reply": "2024-01-08T09:25:08.052016Z"
    },
    "papermill": {
     "duration": 0.041727,
     "end_time": "2024-01-08T09:25:08.054766",
     "exception": false,
     "start_time": "2024-01-08T09:25:08.013039",
     "status": "completed"
    },
    "tags": []
   },
   "outputs": [],
   "source": [
    "# del model\n",
    "# model = None\n",
    "# gc.collect()\n",
    "# torch.cuda.empty_cache()\n",
    "# tokenizer, model = release_memory(tokenizer, model)"
   ]
  },
  {
   "cell_type": "code",
   "execution_count": 6,
   "id": "ad77ce6f",
   "metadata": {
    "execution": {
     "iopub.execute_input": "2024-01-08T09:25:08.124302Z",
     "iopub.status.busy": "2024-01-08T09:25:08.123629Z",
     "iopub.status.idle": "2024-01-08T09:25:08.146553Z",
     "shell.execute_reply": "2024-01-08T09:25:08.145687Z"
    },
    "id": "ecj8EtNk4lUc",
    "outputId": "d880fee4-bb33-47b2-b132-2d27daac07b0",
    "papermill": {
     "duration": 0.05972,
     "end_time": "2024-01-08T09:25:08.148900",
     "exception": false,
     "start_time": "2024-01-08T09:25:08.089180",
     "status": "completed"
    },
    "tags": []
   },
   "outputs": [
    {
     "data": {
      "text/plain": [
       "MistralForCausalLM(\n",
       "  (model): MistralModel(\n",
       "    (embed_tokens): Embedding(32000, 4096)\n",
       "    (layers): ModuleList(\n",
       "      (0-31): 32 x MistralDecoderLayer(\n",
       "        (self_attn): MistralAttention(\n",
       "          (q_proj): lora.Linear4bit(\n",
       "            (base_layer): Linear4bit(in_features=4096, out_features=4096, bias=False)\n",
       "            (lora_dropout): ModuleDict(\n",
       "              (default): Dropout(p=0.05, inplace=False)\n",
       "            )\n",
       "            (lora_A): ModuleDict(\n",
       "              (default): Linear(in_features=4096, out_features=8, bias=False)\n",
       "            )\n",
       "            (lora_B): ModuleDict(\n",
       "              (default): Linear(in_features=8, out_features=4096, bias=False)\n",
       "            )\n",
       "            (lora_embedding_A): ParameterDict()\n",
       "            (lora_embedding_B): ParameterDict()\n",
       "          )\n",
       "          (k_proj): lora.Linear4bit(\n",
       "            (base_layer): Linear4bit(in_features=4096, out_features=1024, bias=False)\n",
       "            (lora_dropout): ModuleDict(\n",
       "              (default): Dropout(p=0.05, inplace=False)\n",
       "            )\n",
       "            (lora_A): ModuleDict(\n",
       "              (default): Linear(in_features=4096, out_features=8, bias=False)\n",
       "            )\n",
       "            (lora_B): ModuleDict(\n",
       "              (default): Linear(in_features=8, out_features=1024, bias=False)\n",
       "            )\n",
       "            (lora_embedding_A): ParameterDict()\n",
       "            (lora_embedding_B): ParameterDict()\n",
       "          )\n",
       "          (v_proj): lora.Linear4bit(\n",
       "            (base_layer): Linear4bit(in_features=4096, out_features=1024, bias=False)\n",
       "            (lora_dropout): ModuleDict(\n",
       "              (default): Dropout(p=0.05, inplace=False)\n",
       "            )\n",
       "            (lora_A): ModuleDict(\n",
       "              (default): Linear(in_features=4096, out_features=8, bias=False)\n",
       "            )\n",
       "            (lora_B): ModuleDict(\n",
       "              (default): Linear(in_features=8, out_features=1024, bias=False)\n",
       "            )\n",
       "            (lora_embedding_A): ParameterDict()\n",
       "            (lora_embedding_B): ParameterDict()\n",
       "          )\n",
       "          (o_proj): lora.Linear4bit(\n",
       "            (base_layer): Linear4bit(in_features=4096, out_features=4096, bias=False)\n",
       "            (lora_dropout): ModuleDict(\n",
       "              (default): Dropout(p=0.05, inplace=False)\n",
       "            )\n",
       "            (lora_A): ModuleDict(\n",
       "              (default): Linear(in_features=4096, out_features=8, bias=False)\n",
       "            )\n",
       "            (lora_B): ModuleDict(\n",
       "              (default): Linear(in_features=8, out_features=4096, bias=False)\n",
       "            )\n",
       "            (lora_embedding_A): ParameterDict()\n",
       "            (lora_embedding_B): ParameterDict()\n",
       "          )\n",
       "          (rotary_emb): MistralRotaryEmbedding()\n",
       "        )\n",
       "        (mlp): MistralMLP(\n",
       "          (gate_proj): lora.Linear4bit(\n",
       "            (base_layer): Linear4bit(in_features=4096, out_features=14336, bias=False)\n",
       "            (lora_dropout): ModuleDict(\n",
       "              (default): Dropout(p=0.05, inplace=False)\n",
       "            )\n",
       "            (lora_A): ModuleDict(\n",
       "              (default): Linear(in_features=4096, out_features=8, bias=False)\n",
       "            )\n",
       "            (lora_B): ModuleDict(\n",
       "              (default): Linear(in_features=8, out_features=14336, bias=False)\n",
       "            )\n",
       "            (lora_embedding_A): ParameterDict()\n",
       "            (lora_embedding_B): ParameterDict()\n",
       "          )\n",
       "          (up_proj): lora.Linear4bit(\n",
       "            (base_layer): Linear4bit(in_features=4096, out_features=14336, bias=False)\n",
       "            (lora_dropout): ModuleDict(\n",
       "              (default): Dropout(p=0.05, inplace=False)\n",
       "            )\n",
       "            (lora_A): ModuleDict(\n",
       "              (default): Linear(in_features=4096, out_features=8, bias=False)\n",
       "            )\n",
       "            (lora_B): ModuleDict(\n",
       "              (default): Linear(in_features=8, out_features=14336, bias=False)\n",
       "            )\n",
       "            (lora_embedding_A): ParameterDict()\n",
       "            (lora_embedding_B): ParameterDict()\n",
       "          )\n",
       "          (down_proj): lora.Linear4bit(\n",
       "            (base_layer): Linear4bit(in_features=14336, out_features=4096, bias=False)\n",
       "            (lora_dropout): ModuleDict(\n",
       "              (default): Dropout(p=0.05, inplace=False)\n",
       "            )\n",
       "            (lora_A): ModuleDict(\n",
       "              (default): Linear(in_features=14336, out_features=8, bias=False)\n",
       "            )\n",
       "            (lora_B): ModuleDict(\n",
       "              (default): Linear(in_features=8, out_features=4096, bias=False)\n",
       "            )\n",
       "            (lora_embedding_A): ParameterDict()\n",
       "            (lora_embedding_B): ParameterDict()\n",
       "          )\n",
       "          (act_fn): SiLU()\n",
       "        )\n",
       "        (input_layernorm): MistralRMSNorm()\n",
       "        (post_attention_layernorm): MistralRMSNorm()\n",
       "      )\n",
       "    )\n",
       "    (norm): MistralRMSNorm()\n",
       "  )\n",
       "  (lm_head): lora.Linear(\n",
       "    (base_layer): Linear(in_features=4096, out_features=32000, bias=False)\n",
       "    (lora_dropout): ModuleDict(\n",
       "      (default): Dropout(p=0.05, inplace=False)\n",
       "    )\n",
       "    (lora_A): ModuleDict(\n",
       "      (default): Linear(in_features=4096, out_features=8, bias=False)\n",
       "    )\n",
       "    (lora_B): ModuleDict(\n",
       "      (default): Linear(in_features=8, out_features=32000, bias=False)\n",
       "    )\n",
       "    (lora_embedding_A): ParameterDict()\n",
       "    (lora_embedding_B): ParameterDict()\n",
       "  )\n",
       ")"
      ]
     },
     "execution_count": 6,
     "metadata": {},
     "output_type": "execute_result"
    }
   ],
   "source": [
    "model"
   ]
  },
  {
   "cell_type": "code",
   "execution_count": null,
   "id": "4856f9c3",
   "metadata": {
    "id": "ECMdWMUeLjP8",
    "papermill": {
     "duration": 0.033721,
     "end_time": "2024-01-08T09:25:08.224138",
     "exception": false,
     "start_time": "2024-01-08T09:25:08.190417",
     "status": "completed"
    },
    "tags": []
   },
   "outputs": [],
   "source": []
  },
  {
   "cell_type": "code",
   "execution_count": 7,
   "id": "f3fadd7d",
   "metadata": {
    "execution": {
     "iopub.execute_input": "2024-01-08T09:25:08.294123Z",
     "iopub.status.busy": "2024-01-08T09:25:08.293384Z",
     "iopub.status.idle": "2024-01-08T09:25:08.299681Z",
     "shell.execute_reply": "2024-01-08T09:25:08.298789Z"
    },
    "id": "iBhERN4ILo6b",
    "outputId": "674e2af5-d9de-4fa3-b0aa-54c6360de201",
    "papermill": {
     "duration": 0.043783,
     "end_time": "2024-01-08T09:25:08.301620",
     "exception": false,
     "start_time": "2024-01-08T09:25:08.257837",
     "status": "completed"
    },
    "tags": []
   },
   "outputs": [],
   "source": [
    "def generate_text(model, instruction: str, max_new_tokens=1000, device=\"cuda\", tokenizer=tokenizer) -> str:\n",
    "  messages = [\n",
    "      {\"role\": \"user\", \"content\": instruction},\n",
    "  ]\n",
    "\n",
    "  encodeds = tokenizer.apply_chat_template(messages, return_tensors=\"pt\") # wraps text with special tokens depending on role (assitant or user)\n",
    "  model_inputs = encodeds.to(device)\n",
    "  generated_ids = model.generate(model_inputs, max_new_tokens=max_new_tokens, do_sample=False)\n",
    "  decoded = tokenizer.decode(generated_ids[0][len(model_inputs[0]):], skip_special_tokens=True) # [0]: first dimension has size 1\n",
    "  return decoded"
   ]
  },
  {
   "cell_type": "code",
   "execution_count": 8,
   "id": "c10c91a2",
   "metadata": {
    "execution": {
     "iopub.execute_input": "2024-01-08T09:25:08.374522Z",
     "iopub.status.busy": "2024-01-08T09:25:08.373851Z",
     "iopub.status.idle": "2024-01-08T09:26:35.567295Z",
     "shell.execute_reply": "2024-01-08T09:26:35.566300Z"
    },
    "papermill": {
     "duration": 87.26732,
     "end_time": "2024-01-08T09:26:35.603824",
     "exception": false,
     "start_time": "2024-01-08T09:25:08.336504",
     "status": "completed"
    },
    "tags": []
   },
   "outputs": [
    {
     "name": "stderr",
     "output_type": "stream",
     "text": [
      "The attention mask and the pad token id were not set. As a consequence, you may observe unexpected behavior. Please pass your input's `attention_mask` to obtain reliable results.\n",
      "Setting `pad_token_id` to `eos_token_id`:2 for open-end generation.\n",
      "/opt/conda/lib/python3.10/site-packages/scipy/__init__.py:146: UserWarning: A NumPy version >=1.16.5 and <1.23.0 is required for this version of SciPy (detected version 1.24.3\n",
      "  warnings.warn(f\"A NumPy version >={np_minversion} and <{np_maxversion}\"\n"
     ]
    },
    {
     "data": {
      "text/plain": [
       "87.1864333152771"
      ]
     },
     "execution_count": 8,
     "metadata": {},
     "output_type": "execute_result"
    }
   ],
   "source": [
    "text = \"The environment is constructed as a rectangular space with a length of 4.36 meters, width of 3.82 meters, and height of 2.05 meters.There are 3 lights distributed evenly in the arena. Placed within a 1.77-meter radius around the center are 17 robots. The swarm's goal is to cover an area of 2.90 by 4.32 meters while ensuring connectivity.\"\n",
    "req = \"\\nGenerate the xml configuration for this mission.\"\n",
    "\n",
    "start_time = time.time()\n",
    "response = generate_text(model, text+req, max_new_tokens=5000,device=device)\n",
    "end_time = time.time()\n",
    "end_time - start_time"
   ]
  },
  {
   "cell_type": "code",
   "execution_count": 9,
   "id": "7265f237",
   "metadata": {
    "execution": {
     "iopub.execute_input": "2024-01-08T09:26:35.675158Z",
     "iopub.status.busy": "2024-01-08T09:26:35.673976Z",
     "iopub.status.idle": "2024-01-08T09:26:35.679186Z",
     "shell.execute_reply": "2024-01-08T09:26:35.678294Z"
    },
    "papermill": {
     "duration": 0.042683,
     "end_time": "2024-01-08T09:26:35.681260",
     "exception": false,
     "start_time": "2024-01-08T09:26:35.638577",
     "status": "completed"
    },
    "tags": []
   },
   "outputs": [
    {
     "name": "stdout",
     "output_type": "stream",
     "text": [
      "The environment is constructed as a rectangular space with a length of 4.36 meters, width of 3.82 meters, and height of 2.05 meters.There are 3 lights distributed evenly in the arena. Placed within a 1.77-meter radius around the center are 17 robots. The swarm's goal is to cover an area of 2.90 by 4.32 meters while ensuring connectivity.\n",
      "Generate the xml configuration for this mission.\n"
     ]
    }
   ],
   "source": [
    "print(text+req)"
   ]
  },
  {
   "cell_type": "code",
   "execution_count": 10,
   "id": "d574d25c",
   "metadata": {
    "execution": {
     "iopub.execute_input": "2024-01-08T09:26:35.750245Z",
     "iopub.status.busy": "2024-01-08T09:26:35.749954Z",
     "iopub.status.idle": "2024-01-08T09:26:35.754535Z",
     "shell.execute_reply": "2024-01-08T09:26:35.753546Z"
    },
    "id": "Ic6eS7OgMECB",
    "outputId": "ffb6a270-a970-4d3f-ed34-4438f3692a0c",
    "papermill": {
     "duration": 0.041081,
     "end_time": "2024-01-08T09:26:35.756409",
     "exception": false,
     "start_time": "2024-01-08T09:26:35.715328",
     "status": "completed"
    },
    "tags": []
   },
   "outputs": [
    {
     "name": "stdout",
     "output_type": "stream",
     "text": [
      "<?xml version=\"1.00\" ?>\n",
      "<config>\n",
      "  <swarm-elems>\n",
      "    <entity quantity=\"17\" max_trials=\"100\">\n",
      "      <e-puck id=\"epuck\">\n",
      "        <controller config=\"automode_bt\"/>\n",
      "      </e-puck>\n",
      "    </entity>\n",
      "  </swarm-elems>\n",
      "  <env-elems>\n",
      "    <light id=\"light_0\" position=\"0.86,-1.12,0.00\" orientation=\"360,0,0\" color=\"yellow\" intensity=\"2.92\" medium=\"leds\"/>\n",
      "    <light id=\"light_1\" position=\"0.91,-0.84,0.00\" orientation=\"360,0,0\" color=\"yellow\" intensity=\"4.44\" medium=\"leds\"/>\n",
      "    <light id=\"light_2\" position=\"0.84,-0.84,0.00\" orientation=\"360,0,0\" color=\"yellow\" intensity=\"3.42\" medium=\"leds\"/>\n",
      "    <box id=\"wall_0\" size=\"0.01,3.82,0.10\" movable=\"false\">\n",
      "      <body position=\"0,-2.18,0.00\" orientation=\"90.00,0.00,0.00\"/>\n",
      "    </box>\n",
      "    <box id=\"wall_1\" size=\"0.01,4.36,0.10\" movable=\"false\">\n",
      "      <body position=\"1.91,0,0.00\" orientation=\"0.00,0.00,0.00\"/>\n",
      "    </box>\n",
      "    <box id=\"wall_2\" size=\"0.01,3.82,0.10\" movable=\"false\">\n",
      "      <body position=\"0,2.18,0\" orientation=\"90.00,0.00,0.00\"/>\n",
      "    </box>\n",
      "    <box id=\"wall_3\" size=\"0.01,4.36,0.10\" movable=\"false\">\n",
      "      <body position=\"-1.91,0,0\" orientation=\"0,0.00,0.00\"/>\n",
      "    </box>\n",
      "    <arena-attrib size=\"3.82,4.36,2.05\"/>\n",
      "  </env-elems>\n",
      "  <objective-elems>\n",
      "    <spawnCircle position=\"0,0,0\" radius=\"1.77\"/>\n",
      "    <objective type=\"distribution\">\n",
      "      <objective-params area=\"2.90,4.32\" connection_range=\"0.89\"/>\n",
      "    </objective>\n",
      "  </objective-elems>\n",
      "</config>\n"
     ]
    }
   ],
   "source": [
    "print(response)"
   ]
  },
  {
   "cell_type": "code",
   "execution_count": null,
   "id": "11712de6",
   "metadata": {
    "id": "qe_52bHsDQh1",
    "papermill": {
     "duration": 0.033833,
     "end_time": "2024-01-08T09:26:35.824390",
     "exception": false,
     "start_time": "2024-01-08T09:26:35.790557",
     "status": "completed"
    },
    "tags": []
   },
   "outputs": [],
   "source": []
  },
  {
   "cell_type": "markdown",
   "id": "6f383ae5",
   "metadata": {
    "papermill": {
     "duration": 0.033649,
     "end_time": "2024-01-08T09:26:35.891851",
     "exception": false,
     "start_time": "2024-01-08T09:26:35.858202",
     "status": "completed"
    },
    "tags": []
   },
   "source": [
    "## Generate Evaluation Data"
   ]
  },
  {
   "cell_type": "code",
   "execution_count": 11,
   "id": "4c29e86b",
   "metadata": {
    "execution": {
     "iopub.execute_input": "2024-01-08T09:26:35.961594Z",
     "iopub.status.busy": "2024-01-08T09:26:35.961295Z",
     "iopub.status.idle": "2024-01-08T09:27:03.696061Z",
     "shell.execute_reply": "2024-01-08T09:27:03.695020Z"
    },
    "papermill": {
     "duration": 27.772448,
     "end_time": "2024-01-08T09:27:03.698578",
     "exception": false,
     "start_time": "2024-01-08T09:26:35.926130",
     "status": "completed"
    },
    "tags": []
   },
   "outputs": [
    {
     "name": "stderr",
     "output_type": "stream",
     "text": [
      "huggingface/tokenizers: The current process just got forked, after parallelism has already been used. Disabling parallelism to avoid deadlocks...\n",
      "To disable this warning, you can either:\n",
      "\t- Avoid using `tokenizers` before the fork if possible\n",
      "\t- Explicitly set the environment variable TOKENIZERS_PARALLELISM=(true | false)\n"
     ]
    },
    {
     "name": "stdout",
     "output_type": "stream",
     "text": [
      "Collecting git+https://github.com/julianjandeleit/swarm_descriptions.git@df7cb8adb36573bfef7c2bb13ab771c87fb9d4f5\r\n",
      "  Cloning https://github.com/julianjandeleit/swarm_descriptions.git (to revision df7cb8adb36573bfef7c2bb13ab771c87fb9d4f5) to /tmp/pip-req-build-hw1lgrve\r\n",
      "  Running command git clone --filter=blob:none --quiet https://github.com/julianjandeleit/swarm_descriptions.git /tmp/pip-req-build-hw1lgrve\r\n",
      "  Running command git rev-parse -q --verify 'sha^df7cb8adb36573bfef7c2bb13ab771c87fb9d4f5'\r\n",
      "  Running command git fetch -q https://github.com/julianjandeleit/swarm_descriptions.git df7cb8adb36573bfef7c2bb13ab771c87fb9d4f5\r\n",
      "  Running command git checkout -q df7cb8adb36573bfef7c2bb13ab771c87fb9d4f5\r\n",
      "  Resolved https://github.com/julianjandeleit/swarm_descriptions.git to commit df7cb8adb36573bfef7c2bb13ab771c87fb9d4f5\r\n",
      "  Installing build dependencies ... \u001b[?25l-\b \b\\\b \b|\b \b/\b \b-\b \b\\\b \b|\b \b/\b \bdone\r\n",
      "\u001b[?25h  Getting requirements to build wheel ... \u001b[?25ldone\r\n",
      "\u001b[?25h  Preparing metadata (pyproject.toml) ... \u001b[?25ldone\r\n",
      "\u001b[?25hRequirement already satisfied: nltk in /opt/conda/lib/python3.10/site-packages (from swarm_descriptions==0.1.0) (3.2.4)\r\n",
      "Requirement already satisfied: numpy in /opt/conda/lib/python3.10/site-packages (from swarm_descriptions==0.1.0) (1.24.3)\r\n",
      "Requirement already satisfied: pandas in /opt/conda/lib/python3.10/site-packages (from swarm_descriptions==0.1.0) (2.0.3)\r\n",
      "Requirement already satisfied: pyarrow in /opt/conda/lib/python3.10/site-packages (from swarm_descriptions==0.1.0) (11.0.0)\r\n",
      "Requirement already satisfied: pyyaml in /opt/conda/lib/python3.10/site-packages (from swarm_descriptions==0.1.0) (6.0.1)\r\n",
      "Requirement already satisfied: typing-extensions in /opt/conda/lib/python3.10/site-packages (from swarm_descriptions==0.1.0) (4.5.0)\r\n",
      "Requirement already satisfied: six in /opt/conda/lib/python3.10/site-packages (from nltk->swarm_descriptions==0.1.0) (1.16.0)\r\n",
      "Requirement already satisfied: python-dateutil>=2.8.2 in /opt/conda/lib/python3.10/site-packages (from pandas->swarm_descriptions==0.1.0) (2.8.2)\r\n",
      "Requirement already satisfied: pytz>=2020.1 in /opt/conda/lib/python3.10/site-packages (from pandas->swarm_descriptions==0.1.0) (2023.3)\r\n",
      "Requirement already satisfied: tzdata>=2022.1 in /opt/conda/lib/python3.10/site-packages (from pandas->swarm_descriptions==0.1.0) (2023.3)\r\n",
      "Building wheels for collected packages: swarm_descriptions\r\n",
      "  Building wheel for swarm_descriptions (pyproject.toml) ... \u001b[?25ldone\r\n",
      "\u001b[?25h  Created wheel for swarm_descriptions: filename=swarm_descriptions-0.1.0-py3-none-any.whl size=28692 sha256=a9bdb500ca2db69530931682773ef4f552f9e53d348c26a27b00e2b8cb0a77e5\r\n",
      "  Stored in directory: /root/.cache/pip/wheels/76/1f/c3/1b7124f5559e2a7fdf2d6becdbd1bd4272d4f95f66497c976b\r\n",
      "Successfully built swarm_descriptions\r\n",
      "Installing collected packages: swarm_descriptions\r\n",
      "Successfully installed swarm_descriptions-0.1.0\r\n"
     ]
    }
   ],
   "source": [
    "!python -m pip install git+https://github.com/julianjandeleit/swarm_descriptions.git@df7cb8adb36573bfef7c2bb13ab771c87fb9d4f5"
   ]
  },
  {
   "cell_type": "code",
   "execution_count": 12,
   "id": "e11a3214",
   "metadata": {
    "execution": {
     "iopub.execute_input": "2024-01-08T09:27:03.773498Z",
     "iopub.status.busy": "2024-01-08T09:27:03.772617Z",
     "iopub.status.idle": "2024-01-08T09:27:03.802018Z",
     "shell.execute_reply": "2024-01-08T09:27:03.801164Z"
    },
    "papermill": {
     "duration": 0.068306,
     "end_time": "2024-01-08T09:27:03.804025",
     "exception": false,
     "start_time": "2024-01-08T09:27:03.735719",
     "status": "completed"
    },
    "tags": []
   },
   "outputs": [],
   "source": [
    "from swarm_descriptions import utils\n",
    "from swarm_descriptions.configfiles import Configurator, ET, config_to_string\n",
    "from swarm_descriptions.mission_elements import MissionParams, get_generators\n",
    "import random\n",
    "import pandas as pd\n",
    "import time"
   ]
  },
  {
   "cell_type": "code",
   "execution_count": 13,
   "id": "ce5fd231",
   "metadata": {
    "execution": {
     "iopub.execute_input": "2024-01-08T09:27:03.877170Z",
     "iopub.status.busy": "2024-01-08T09:27:03.876812Z",
     "iopub.status.idle": "2024-01-08T09:27:03.884603Z",
     "shell.execute_reply": "2024-01-08T09:27:03.883740Z"
    },
    "papermill": {
     "duration": 0.046461,
     "end_time": "2024-01-08T09:27:03.886410",
     "exception": false,
     "start_time": "2024-01-08T09:27:03.839949",
     "status": "completed"
    },
    "tags": []
   },
   "outputs": [],
   "source": [
    "template = \"\"\"<?xml version=\"1.0\" ?>\n",
    "<argos-configuration>\n",
    "    <!-- ************* -->\n",
    "    <!-- * Framework * -->\n",
    "    <!-- ************* -->\n",
    "    <framework>\n",
    "        <experiment length=\"120\" ticks_per_second=\"10\" random_seed=\"0\"/>\n",
    "    </framework>\n",
    "\n",
    "    <!-- ****************** -->\n",
    "    <!-- * Loop functions * -->\n",
    "    <!-- ****************** -->\n",
    "    <loop_functions library=\"/opt/argos/AutoMoDe-loopfunctions/build/loop-functions/custom/libcustom_loopfunc.so\" label=\"template\">\n",
    "        <loop-placeholder></loop-placeholder>\n",
    "    </loop_functions>\n",
    "\n",
    "    <!-- *************** -->\n",
    "    <!-- * Controllers * -->\n",
    "    <!-- *************** -->\n",
    "    <controllers>\n",
    "    <automode_controller_bt id=\"automode_bt\" library=\"/opt/argos/AutoMoDe/build/src/libautomode_bt.so\">\n",
    "            <actuators>\n",
    "                <epuck_wheels implementation=\"default\" noise_std_dev=\"0.05\"/>\n",
    "                <epuck_rgb_leds implementation=\"default\" medium=\"leds\"/>\n",
    "                <epuck_range_and_bearing implementation=\"medium\" medium=\"rab\" data_size=\"4\" range=\"0.7\"/>\n",
    "            </actuators>\n",
    "            <sensors>\n",
    "                <epuck_proximity implementation=\"default\" show_rays=\"false\" noise_level=\"0.05\" calibrated=\"true\"/>\n",
    "                <epuck_range_and_bearing implementation=\"medium\" medium=\"rab\" data_size=\"4\" nois_std_deviation=\"1.5\" loss_probability=\"0.85\" calibrated=\"true\"/>\n",
    "                <epuck_light implementation=\"default\" show_rays=\"false\" noise_level=\"0.05\" calibrated=\"true\"/>\n",
    "                <epuck_ground implementation=\"rot_z_only\" noise_level=\"0.05\" calibrated=\"true\"/>\n",
    "                <epuck_omnidirectional_camera implementation=\"rot_z_only\" medium=\"leds\" show_rays=\"false\"/>\n",
    "            </sensors>\n",
    "      <params bt-config=\"--nroot 3 --nchildroot 1 --n0 0 --nchild0 2 --n00 6 --c00 5 --p00 0.26 --n01 5 --a01 1 --p01 0\"/>\n",
    "    </automode_controller_bt>\n",
    "    </controllers>\n",
    "\n",
    "    <!-- ********* -->\n",
    "    <!-- * Arena * -->\n",
    "    <!-- ********* -->\n",
    "    <arena size=\"10, 10, 1\" center=\"0,0,0\">\n",
    "\n",
    "        <!-- Change the floor here -->\n",
    "        <floor id=\"floor\" source=\"loop_functions\" pixels_per_meter=\"300\"/>\n",
    "        <!-- Change the light here -->\n",
    "        <!-- Please note that this light has an intensity equal to 0 -->\n",
    "        <!-- and therefore does not affect the experiment. -->\n",
    "        <!-- ARGoS requires at least one light when using the light sensor -->\n",
    "        <light id=\"light\" position=\"0,-1.35,0.45\" orientation=\"0,0,0\" color=\"yellow\" intensity=\"5.0\" medium=\"leds\"/>\n",
    "\n",
    "        <environment-placeholder></environment-placeholder>\n",
    "        <!-- ********** -->\n",
    "        <!-- * E-Puck * -->\n",
    "        <!-- ********** -->\n",
    "\n",
    "        <!-- The epucks are distributed by the AutoMoDeLoopFunctions. -->\n",
    "        <distribute>\n",
    "                <robots-placeholder></robots-placeholder>\n",
    "        </distribute>\n",
    "    </arena>\n",
    "\n",
    "    <!-- ******************* -->\n",
    "    <!-- * Physics engines * -->\n",
    "    <!-- ******************* -->\n",
    "    <physics_engines>\n",
    "        <dynamics2d id=\"dyn2d\" />\n",
    "    </physics_engines>\n",
    "\n",
    "    <!-- ********* -->\n",
    "    <!-- * Media * -->\n",
    "    <!-- ********* -->\n",
    "    <media>\n",
    "        <led id=\"leds\" grid_size=\"1,1,1\"/>\n",
    "        <range_and_bearing id=\"ircom\"/>\n",
    "        <range_and_bearing id=\"rab\"/>\n",
    "    </media>\n",
    "\n",
    "    <!-- ***************** -->\n",
    "    <!-- * Visualization * -->\n",
    "    <!-- ***************** -->\n",
    "  <visualization>\n",
    "        <qt-opengl>\n",
    "            <camera>\n",
    "                <placement idx=\"0\"\n",
    "                           position=\"0,0,4.5\"\n",
    "                           look_at=\"0,0,0\"\n",
    "                           lens_focal_length=\"30\" />\n",
    "            </camera>\n",
    "        </qt-opengl>\n",
    "  </visualization>\n",
    "\n",
    "</argos-configuration>\n",
    "\"\"\""
   ]
  },
  {
   "cell_type": "code",
   "execution_count": 14,
   "id": "4ae84f44",
   "metadata": {
    "execution": {
     "iopub.execute_input": "2024-01-08T09:27:03.961352Z",
     "iopub.status.busy": "2024-01-08T09:27:03.960660Z",
     "iopub.status.idle": "2024-01-08T09:27:03.966027Z",
     "shell.execute_reply": "2024-01-08T09:27:03.965143Z"
    },
    "papermill": {
     "duration": 0.045281,
     "end_time": "2024-01-08T09:27:03.967915",
     "exception": false,
     "start_time": "2024-01-08T09:27:03.922634",
     "status": "completed"
    },
    "tags": []
   },
   "outputs": [],
   "source": [
    "template = ET.fromstring(template)"
   ]
  },
  {
   "cell_type": "code",
   "execution_count": 15,
   "id": "89da2f7d",
   "metadata": {
    "execution": {
     "iopub.execute_input": "2024-01-08T09:27:04.044705Z",
     "iopub.status.busy": "2024-01-08T09:27:04.044373Z",
     "iopub.status.idle": "2024-01-08T09:27:04.056452Z",
     "shell.execute_reply": "2024-01-08T09:27:04.055758Z"
    },
    "papermill": {
     "duration": 0.052612,
     "end_time": "2024-01-08T09:27:04.058508",
     "exception": false,
     "start_time": "2024-01-08T09:27:04.005896",
     "status": "completed"
    },
    "tags": []
   },
   "outputs": [],
   "source": [
    "config_params = response\n",
    "config_params = ET.fromstring(config_params)\n",
    "argos_config = Configurator().convert_config_params(config_params, template)\n",
    "argos_config = config_to_string(argos_config)"
   ]
  },
  {
   "cell_type": "code",
   "execution_count": 16,
   "id": "9f5a26e3",
   "metadata": {
    "execution": {
     "iopub.execute_input": "2024-01-08T09:27:04.134880Z",
     "iopub.status.busy": "2024-01-08T09:27:04.134584Z",
     "iopub.status.idle": "2024-01-08T09:27:04.138896Z",
     "shell.execute_reply": "2024-01-08T09:27:04.138073Z"
    },
    "papermill": {
     "duration": 0.044467,
     "end_time": "2024-01-08T09:27:04.141501",
     "exception": false,
     "start_time": "2024-01-08T09:27:04.097034",
     "status": "completed"
    },
    "tags": []
   },
   "outputs": [
    {
     "name": "stdout",
     "output_type": "stream",
     "text": [
      "<?xml version=\"1.00\" ?>\n",
      "<argos-configuration>\n",
      "  <framework>\n",
      "    <experiment length=\"120\" ticks_per_second=\"10\" random_seed=\"0\"/>\n",
      "  </framework>\n",
      "  <loop_functions library=\"/opt/argos/AutoMoDe-loopfunctions/build/loop-functions/custom/libcustom_loopfunc.so\" label=\"template\">\n",
      "    <spawnCircle position=\"0,0,0\" radius=\"1.77\"/>\n",
      "    <objective type=\"distribution\">\n",
      "      <objective-params area=\"2.90,4.32\" connection_range=\"0.89\"/>\n",
      "    </objective>\n",
      "  </loop_functions>\n",
      "  <controllers>\n",
      "    <automode_controller_bt id=\"automode_bt\" library=\"/opt/argos/AutoMoDe/build/src/libautomode_bt.so\">\n",
      "      <actuators>\n",
      "        <epuck_wheels implementation=\"default\" noise_std_dev=\"0.05\"/>\n",
      "        <epuck_rgb_leds implementation=\"default\" medium=\"leds\"/>\n",
      "        <epuck_range_and_bearing implementation=\"medium\" medium=\"rab\" data_size=\"4\" range=\"0.70\"/>\n",
      "      </actuators>\n",
      "      <sensors>\n",
      "        <epuck_proximity implementation=\"default\" show_rays=\"false\" noise_level=\"0.05\" calibrated=\"true\"/>\n",
      "        <epuck_range_and_bearing implementation=\"medium\" medium=\"rab\" data_size=\"4\" nois_std_deviation=\"1.50\" loss_probability=\"0.85\" calibrated=\"true\"/>\n",
      "        <epuck_light implementation=\"default\" show_rays=\"false\" noise_level=\"0.05\" calibrated=\"true\"/>\n",
      "        <epuck_ground implementation=\"rot_z_only\" noise_level=\"0.05\" calibrated=\"true\"/>\n",
      "        <epuck_omnidirectional_camera implementation=\"rot_z_only\" medium=\"leds\" show_rays=\"false\"/>\n",
      "      </sensors>\n",
      "      <params bt-config=\"--nroot 3 --nchildroot 1 --n0 0 --nchild0 2 --n00 6 --c00 5 --p00 0.26 --n01 5 --a01 1 --p01 0\"/>\n",
      "    </automode_controller_bt>\n",
      "  </controllers>\n",
      "  <arena size=\"3.82,4.36,2.05\" center=\"0,0,0\">\n",
      "    <floor id=\"floor\" source=\"loop_functions\" pixels_per_meter=\"300\"/>\n",
      "    <light id=\"light\" position=\"0,-1.35,0.45\" orientation=\"0,0,0\" color=\"yellow\" intensity=\"5.00\" medium=\"leds\"/>\n",
      "    <distribute>\n",
      "      <entity quantity=\"17\" max_trials=\"100\">\n",
      "        <e-puck id=\"epuck\">\n",
      "          <controller config=\"automode_bt\"/>\n",
      "        </e-puck>\n",
      "      </entity>\n",
      "    </distribute>\n",
      "    <light id=\"light_0\" position=\"0.86,-1.12,0.00\" orientation=\"360,0,0\" color=\"yellow\" intensity=\"2.92\" medium=\"leds\"/>\n",
      "    <light id=\"light_1\" position=\"0.91,-0.84,0.00\" orientation=\"360,0,0\" color=\"yellow\" intensity=\"4.44\" medium=\"leds\"/>\n",
      "    <light id=\"light_2\" position=\"0.84,-0.84,0.00\" orientation=\"360,0,0\" color=\"yellow\" intensity=\"3.42\" medium=\"leds\"/>\n",
      "    <box id=\"wall_0\" size=\"0.01,3.82,0.10\" movable=\"false\">\n",
      "      <body position=\"0,-2.18,0.00\" orientation=\"90.00,0.00,0.00\"/>\n",
      "    </box>\n",
      "    <box id=\"wall_1\" size=\"0.01,4.36,0.10\" movable=\"false\">\n",
      "      <body position=\"1.91,0,0.00\" orientation=\"0.00,0.00,0.00\"/>\n",
      "    </box>\n",
      "    <box id=\"wall_2\" size=\"0.01,3.82,0.10\" movable=\"false\">\n",
      "      <body position=\"0,2.18,0\" orientation=\"90.00,0.00,0.00\"/>\n",
      "    </box>\n",
      "    <box id=\"wall_3\" size=\"0.01,4.36,0.10\" movable=\"false\">\n",
      "      <body position=\"-1.91,0,0\" orientation=\"0,0.00,0.00\"/>\n",
      "    </box>\n",
      "  </arena>\n",
      "  <physics_engines>\n",
      "    <dynamics2d id=\"dyn2d\"/>\n",
      "  </physics_engines>\n",
      "  <media>\n",
      "    <led id=\"leds\" grid_size=\"1,1,1\"/>\n",
      "    <range_and_bearing id=\"ircom\"/>\n",
      "    <range_and_bearing id=\"rab\"/>\n",
      "  </media>\n",
      "  <visualization>\n",
      "    <qt-opengl>\n",
      "      <camera>\n",
      "        <placement idx=\"0\" position=\"0,0,4.50\" look_at=\"0,0,0\" lens_focal_length=\"30\"/>\n",
      "      </camera>\n",
      "    </qt-opengl>\n",
      "  </visualization>\n",
      "</argos-configuration>\n"
     ]
    }
   ],
   "source": [
    "print(argos_config)"
   ]
  },
  {
   "cell_type": "code",
   "execution_count": null,
   "id": "ae452a6c",
   "metadata": {
    "papermill": {
     "duration": 0.03555,
     "end_time": "2024-01-08T09:27:04.213486",
     "exception": false,
     "start_time": "2024-01-08T09:27:04.177936",
     "status": "completed"
    },
    "tags": []
   },
   "outputs": [],
   "source": []
  },
  {
   "cell_type": "code",
   "execution_count": 17,
   "id": "689fd4b7",
   "metadata": {
    "execution": {
     "iopub.execute_input": "2024-01-08T09:27:04.286783Z",
     "iopub.status.busy": "2024-01-08T09:27:04.286438Z",
     "iopub.status.idle": "2024-01-08T09:27:04.298134Z",
     "shell.execute_reply": "2024-01-08T09:27:04.297286Z"
    },
    "papermill": {
     "duration": 0.050627,
     "end_time": "2024-01-08T09:27:04.299982",
     "exception": false,
     "start_time": "2024-01-08T09:27:04.249355",
     "status": "completed"
    },
    "tags": []
   },
   "outputs": [],
   "source": [
    "def generate_for_checkpoint(checkpoint=\"checkpoint-400\", n_rows = 10):\n",
    "    print(f\"generating for checkpoint {checkpoint}\")\n",
    "    base_model = f\"/kaggle/input/mistral-finetuning-swarm-v1/results/{checkpoint}\"\n",
    "    try:\n",
    "        # Remove old model to make space for new one in ram\n",
    "        global model\n",
    "        del model\n",
    "        model = None\n",
    "        gc.collect()\n",
    "        time.sleep(1)\n",
    "        torch.cuda.empty_cache()\n",
    "        model = release_memory(model)\n",
    "    except Exception as e:\n",
    "        print(f\"ERROR: {e}\")\n",
    "    model = load_checkpoint_model(base_model)\n",
    "    tokenizer = AutoTokenizer.from_pretrained(base_model)\n",
    "\n",
    "    rows = []\n",
    "    generators = get_generators()\n",
    "    start_time = time.time()\n",
    "    for n in range(n_rows):\n",
    "        mission = MissionParams.sample(*generators)\n",
    "        conf = config_to_string(mission.configure())\n",
    "        conf = utils.truncate_floats(conf)\n",
    "        desc = random.sample(mission.describe(),1)[0]  \n",
    "        desc = utils.truncate_floats(desc)\n",
    "        rows.append({\"description\": desc, \"configuration\": conf, \"parameters\": mission})\n",
    "\n",
    "    end_time = time.time()\n",
    "    dataset = pd.DataFrame(rows)\n",
    "    dataset.head()\n",
    "\n",
    "    req = \"\\nGenerate the xml configuration for this mission.\"\n",
    "    responses = []\n",
    "    start_time = time.time()\n",
    "    for i, row in dataset.iterrows():\n",
    "        response = row.description+req\n",
    "        response = generate_text(model, response, max_new_tokens=2500,device=\"cpu\",tokenizer=tokenizer)\n",
    "        responses.append(response)\n",
    "        print(f\"generated response for description {i}\")\n",
    "    end_time = time.time()\n",
    "    print(f\"took {end_time - start_time}s\")\n",
    "    dataset[\"response\"] = responses\n",
    "    \n",
    "    return dataset"
   ]
  },
  {
   "cell_type": "code",
   "execution_count": 18,
   "id": "ec1ce460",
   "metadata": {
    "execution": {
     "iopub.execute_input": "2024-01-08T09:27:04.373137Z",
     "iopub.status.busy": "2024-01-08T09:27:04.372833Z",
     "iopub.status.idle": "2024-01-08T09:27:04.376472Z",
     "shell.execute_reply": "2024-01-08T09:27:04.375737Z"
    },
    "papermill": {
     "duration": 0.042462,
     "end_time": "2024-01-08T09:27:04.378308",
     "exception": false,
     "start_time": "2024-01-08T09:27:04.335846",
     "status": "completed"
    },
    "tags": []
   },
   "outputs": [],
   "source": [
    "# this takes too long so should be run only if checkpoint_numbers is empty\n",
    "# dataset_detailed = generate_for_checkpoint(f\"checkpoint-{400}\", n_rows=200)\n",
    "# dataset_detailed.to_pickle(\"eval_dataset_detailed.pkl\")"
   ]
  },
  {
   "cell_type": "code",
   "execution_count": 19,
   "id": "99c5fb28",
   "metadata": {
    "execution": {
     "iopub.execute_input": "2024-01-08T09:27:04.451876Z",
     "iopub.status.busy": "2024-01-08T09:27:04.451565Z",
     "iopub.status.idle": "2024-01-08T09:27:04.458555Z",
     "shell.execute_reply": "2024-01-08T09:27:04.457705Z"
    },
    "papermill": {
     "duration": 0.045994,
     "end_time": "2024-01-08T09:27:04.460553",
     "exception": false,
     "start_time": "2024-01-08T09:27:04.414559",
     "status": "completed"
    },
    "tags": []
   },
   "outputs": [
    {
     "data": {
      "text/plain": [
       "[25, 50, 75, 100, 125, 150, 175, 200, 225, 250, 275, 300, 325, 350, 375, 400]"
      ]
     },
     "execution_count": 19,
     "metadata": {},
     "output_type": "execute_result"
    }
   ],
   "source": [
    "checkpoint_numbers = [a+b for a in [25, 50, 75, 100] for b in [0, 100, 200, 300]]\n",
    "checkpoint_numbers.sort()\n",
    "checkpoint_numbers"
   ]
  },
  {
   "cell_type": "code",
   "execution_count": 20,
   "id": "3a58bbfa",
   "metadata": {
    "execution": {
     "iopub.execute_input": "2024-01-08T09:27:04.534637Z",
     "iopub.status.busy": "2024-01-08T09:27:04.533858Z",
     "iopub.status.idle": "2024-01-08T17:40:24.423466Z",
     "shell.execute_reply": "2024-01-08T17:40:24.421727Z"
    },
    "papermill": {
     "duration": 29600.022652,
     "end_time": "2024-01-08T17:40:24.519271",
     "exception": false,
     "start_time": "2024-01-08T09:27:04.496619",
     "status": "completed"
    },
    "tags": []
   },
   "outputs": [
    {
     "name": "stdout",
     "output_type": "stream",
     "text": [
      "generating for checkpoint checkpoint-25\n"
     ]
    },
    {
     "data": {
      "application/vnd.jupyter.widget-view+json": {
       "model_id": "2666ea98c27a46b59afe530dc2116a86",
       "version_major": 2,
       "version_minor": 0
      },
      "text/plain": [
       "Loading checkpoint shards:   0%|          | 0/3 [00:00<?, ?it/s]"
      ]
     },
     "metadata": {},
     "output_type": "display_data"
    },
    {
     "name": "stderr",
     "output_type": "stream",
     "text": [
      "The attention mask and the pad token id were not set. As a consequence, you may observe unexpected behavior. Please pass your input's `attention_mask` to obtain reliable results.\n",
      "Setting `pad_token_id` to `eos_token_id`:2 for open-end generation.\n",
      "/opt/conda/lib/python3.10/site-packages/transformers/generation/utils.py:1665: UserWarning: You are calling .generate() with the `input_ids` being on a device type different than your model's device. `input_ids` is on cpu, whereas the model is on cuda. You may experience unexpected behaviors or slower generation. Please make sure that you have put `input_ids` to the correct device by calling for example input_ids = input_ids.to('cuda') before running `.generate()`.\n",
      "  warnings.warn(\n",
      "The attention mask and the pad token id were not set. As a consequence, you may observe unexpected behavior. Please pass your input's `attention_mask` to obtain reliable results.\n",
      "Setting `pad_token_id` to `eos_token_id`:2 for open-end generation.\n"
     ]
    },
    {
     "name": "stdout",
     "output_type": "stream",
     "text": [
      "generated response for description 0\n"
     ]
    },
    {
     "name": "stderr",
     "output_type": "stream",
     "text": [
      "The attention mask and the pad token id were not set. As a consequence, you may observe unexpected behavior. Please pass your input's `attention_mask` to obtain reliable results.\n",
      "Setting `pad_token_id` to `eos_token_id`:2 for open-end generation.\n"
     ]
    },
    {
     "name": "stdout",
     "output_type": "stream",
     "text": [
      "generated response for description 1\n"
     ]
    },
    {
     "name": "stderr",
     "output_type": "stream",
     "text": [
      "The attention mask and the pad token id were not set. As a consequence, you may observe unexpected behavior. Please pass your input's `attention_mask` to obtain reliable results.\n",
      "Setting `pad_token_id` to `eos_token_id`:2 for open-end generation.\n"
     ]
    },
    {
     "name": "stdout",
     "output_type": "stream",
     "text": [
      "generated response for description 2\n"
     ]
    },
    {
     "name": "stderr",
     "output_type": "stream",
     "text": [
      "The attention mask and the pad token id were not set. As a consequence, you may observe unexpected behavior. Please pass your input's `attention_mask` to obtain reliable results.\n",
      "Setting `pad_token_id` to `eos_token_id`:2 for open-end generation.\n"
     ]
    },
    {
     "name": "stdout",
     "output_type": "stream",
     "text": [
      "generated response for description 3\n"
     ]
    },
    {
     "name": "stderr",
     "output_type": "stream",
     "text": [
      "The attention mask and the pad token id were not set. As a consequence, you may observe unexpected behavior. Please pass your input's `attention_mask` to obtain reliable results.\n",
      "Setting `pad_token_id` to `eos_token_id`:2 for open-end generation.\n"
     ]
    },
    {
     "name": "stdout",
     "output_type": "stream",
     "text": [
      "generated response for description 4\n"
     ]
    },
    {
     "name": "stderr",
     "output_type": "stream",
     "text": [
      "The attention mask and the pad token id were not set. As a consequence, you may observe unexpected behavior. Please pass your input's `attention_mask` to obtain reliable results.\n",
      "Setting `pad_token_id` to `eos_token_id`:2 for open-end generation.\n"
     ]
    },
    {
     "name": "stdout",
     "output_type": "stream",
     "text": [
      "generated response for description 5\n"
     ]
    },
    {
     "name": "stderr",
     "output_type": "stream",
     "text": [
      "The attention mask and the pad token id were not set. As a consequence, you may observe unexpected behavior. Please pass your input's `attention_mask` to obtain reliable results.\n",
      "Setting `pad_token_id` to `eos_token_id`:2 for open-end generation.\n"
     ]
    },
    {
     "name": "stdout",
     "output_type": "stream",
     "text": [
      "generated response for description 6\n"
     ]
    },
    {
     "name": "stderr",
     "output_type": "stream",
     "text": [
      "The attention mask and the pad token id were not set. As a consequence, you may observe unexpected behavior. Please pass your input's `attention_mask` to obtain reliable results.\n",
      "Setting `pad_token_id` to `eos_token_id`:2 for open-end generation.\n"
     ]
    },
    {
     "name": "stdout",
     "output_type": "stream",
     "text": [
      "generated response for description 7\n"
     ]
    },
    {
     "name": "stderr",
     "output_type": "stream",
     "text": [
      "The attention mask and the pad token id were not set. As a consequence, you may observe unexpected behavior. Please pass your input's `attention_mask` to obtain reliable results.\n",
      "Setting `pad_token_id` to `eos_token_id`:2 for open-end generation.\n"
     ]
    },
    {
     "name": "stdout",
     "output_type": "stream",
     "text": [
      "generated response for description 8\n"
     ]
    },
    {
     "name": "stderr",
     "output_type": "stream",
     "text": [
      "The attention mask and the pad token id were not set. As a consequence, you may observe unexpected behavior. Please pass your input's `attention_mask` to obtain reliable results.\n",
      "Setting `pad_token_id` to `eos_token_id`:2 for open-end generation.\n"
     ]
    },
    {
     "name": "stdout",
     "output_type": "stream",
     "text": [
      "generated response for description 9\n"
     ]
    },
    {
     "name": "stderr",
     "output_type": "stream",
     "text": [
      "The attention mask and the pad token id were not set. As a consequence, you may observe unexpected behavior. Please pass your input's `attention_mask` to obtain reliable results.\n",
      "Setting `pad_token_id` to `eos_token_id`:2 for open-end generation.\n"
     ]
    },
    {
     "name": "stdout",
     "output_type": "stream",
     "text": [
      "generated response for description 10\n"
     ]
    },
    {
     "name": "stderr",
     "output_type": "stream",
     "text": [
      "The attention mask and the pad token id were not set. As a consequence, you may observe unexpected behavior. Please pass your input's `attention_mask` to obtain reliable results.\n",
      "Setting `pad_token_id` to `eos_token_id`:2 for open-end generation.\n"
     ]
    },
    {
     "name": "stdout",
     "output_type": "stream",
     "text": [
      "generated response for description 11\n"
     ]
    },
    {
     "name": "stderr",
     "output_type": "stream",
     "text": [
      "The attention mask and the pad token id were not set. As a consequence, you may observe unexpected behavior. Please pass your input's `attention_mask` to obtain reliable results.\n",
      "Setting `pad_token_id` to `eos_token_id`:2 for open-end generation.\n"
     ]
    },
    {
     "name": "stdout",
     "output_type": "stream",
     "text": [
      "generated response for description 12\n",
      "generated response for description 13\n",
      "took 1904.8832330703735s\n",
      "generating for checkpoint checkpoint-50\n"
     ]
    },
    {
     "data": {
      "application/vnd.jupyter.widget-view+json": {
       "model_id": "0ff6c76af44f4552af823b8b30570a7c",
       "version_major": 2,
       "version_minor": 0
      },
      "text/plain": [
       "Loading checkpoint shards:   0%|          | 0/3 [00:00<?, ?it/s]"
      ]
     },
     "metadata": {},
     "output_type": "display_data"
    },
    {
     "name": "stderr",
     "output_type": "stream",
     "text": [
      "The attention mask and the pad token id were not set. As a consequence, you may observe unexpected behavior. Please pass your input's `attention_mask` to obtain reliable results.\n",
      "Setting `pad_token_id` to `eos_token_id`:2 for open-end generation.\n",
      "/opt/conda/lib/python3.10/site-packages/transformers/generation/utils.py:1665: UserWarning: You are calling .generate() with the `input_ids` being on a device type different than your model's device. `input_ids` is on cpu, whereas the model is on cuda. You may experience unexpected behaviors or slower generation. Please make sure that you have put `input_ids` to the correct device by calling for example input_ids = input_ids.to('cuda') before running `.generate()`.\n",
      "  warnings.warn(\n",
      "The attention mask and the pad token id were not set. As a consequence, you may observe unexpected behavior. Please pass your input's `attention_mask` to obtain reliable results.\n",
      "Setting `pad_token_id` to `eos_token_id`:2 for open-end generation.\n"
     ]
    },
    {
     "name": "stdout",
     "output_type": "stream",
     "text": [
      "generated response for description 0\n"
     ]
    },
    {
     "name": "stderr",
     "output_type": "stream",
     "text": [
      "The attention mask and the pad token id were not set. As a consequence, you may observe unexpected behavior. Please pass your input's `attention_mask` to obtain reliable results.\n",
      "Setting `pad_token_id` to `eos_token_id`:2 for open-end generation.\n"
     ]
    },
    {
     "name": "stdout",
     "output_type": "stream",
     "text": [
      "generated response for description 1\n"
     ]
    },
    {
     "name": "stderr",
     "output_type": "stream",
     "text": [
      "The attention mask and the pad token id were not set. As a consequence, you may observe unexpected behavior. Please pass your input's `attention_mask` to obtain reliable results.\n",
      "Setting `pad_token_id` to `eos_token_id`:2 for open-end generation.\n"
     ]
    },
    {
     "name": "stdout",
     "output_type": "stream",
     "text": [
      "generated response for description 2\n"
     ]
    },
    {
     "name": "stderr",
     "output_type": "stream",
     "text": [
      "The attention mask and the pad token id were not set. As a consequence, you may observe unexpected behavior. Please pass your input's `attention_mask` to obtain reliable results.\n",
      "Setting `pad_token_id` to `eos_token_id`:2 for open-end generation.\n"
     ]
    },
    {
     "name": "stdout",
     "output_type": "stream",
     "text": [
      "generated response for description 3\n"
     ]
    },
    {
     "name": "stderr",
     "output_type": "stream",
     "text": [
      "The attention mask and the pad token id were not set. As a consequence, you may observe unexpected behavior. Please pass your input's `attention_mask` to obtain reliable results.\n",
      "Setting `pad_token_id` to `eos_token_id`:2 for open-end generation.\n"
     ]
    },
    {
     "name": "stdout",
     "output_type": "stream",
     "text": [
      "generated response for description 4\n"
     ]
    },
    {
     "name": "stderr",
     "output_type": "stream",
     "text": [
      "The attention mask and the pad token id were not set. As a consequence, you may observe unexpected behavior. Please pass your input's `attention_mask` to obtain reliable results.\n",
      "Setting `pad_token_id` to `eos_token_id`:2 for open-end generation.\n"
     ]
    },
    {
     "name": "stdout",
     "output_type": "stream",
     "text": [
      "generated response for description 5\n"
     ]
    },
    {
     "name": "stderr",
     "output_type": "stream",
     "text": [
      "The attention mask and the pad token id were not set. As a consequence, you may observe unexpected behavior. Please pass your input's `attention_mask` to obtain reliable results.\n",
      "Setting `pad_token_id` to `eos_token_id`:2 for open-end generation.\n"
     ]
    },
    {
     "name": "stdout",
     "output_type": "stream",
     "text": [
      "generated response for description 6\n"
     ]
    },
    {
     "name": "stderr",
     "output_type": "stream",
     "text": [
      "The attention mask and the pad token id were not set. As a consequence, you may observe unexpected behavior. Please pass your input's `attention_mask` to obtain reliable results.\n",
      "Setting `pad_token_id` to `eos_token_id`:2 for open-end generation.\n"
     ]
    },
    {
     "name": "stdout",
     "output_type": "stream",
     "text": [
      "generated response for description 7\n"
     ]
    },
    {
     "name": "stderr",
     "output_type": "stream",
     "text": [
      "The attention mask and the pad token id were not set. As a consequence, you may observe unexpected behavior. Please pass your input's `attention_mask` to obtain reliable results.\n",
      "Setting `pad_token_id` to `eos_token_id`:2 for open-end generation.\n"
     ]
    },
    {
     "name": "stdout",
     "output_type": "stream",
     "text": [
      "generated response for description 8\n"
     ]
    },
    {
     "name": "stderr",
     "output_type": "stream",
     "text": [
      "The attention mask and the pad token id were not set. As a consequence, you may observe unexpected behavior. Please pass your input's `attention_mask` to obtain reliable results.\n",
      "Setting `pad_token_id` to `eos_token_id`:2 for open-end generation.\n"
     ]
    },
    {
     "name": "stdout",
     "output_type": "stream",
     "text": [
      "generated response for description 9\n"
     ]
    },
    {
     "name": "stderr",
     "output_type": "stream",
     "text": [
      "The attention mask and the pad token id were not set. As a consequence, you may observe unexpected behavior. Please pass your input's `attention_mask` to obtain reliable results.\n",
      "Setting `pad_token_id` to `eos_token_id`:2 for open-end generation.\n"
     ]
    },
    {
     "name": "stdout",
     "output_type": "stream",
     "text": [
      "generated response for description 10\n"
     ]
    },
    {
     "name": "stderr",
     "output_type": "stream",
     "text": [
      "The attention mask and the pad token id were not set. As a consequence, you may observe unexpected behavior. Please pass your input's `attention_mask` to obtain reliable results.\n",
      "Setting `pad_token_id` to `eos_token_id`:2 for open-end generation.\n"
     ]
    },
    {
     "name": "stdout",
     "output_type": "stream",
     "text": [
      "generated response for description 11\n"
     ]
    },
    {
     "name": "stderr",
     "output_type": "stream",
     "text": [
      "The attention mask and the pad token id were not set. As a consequence, you may observe unexpected behavior. Please pass your input's `attention_mask` to obtain reliable results.\n",
      "Setting `pad_token_id` to `eos_token_id`:2 for open-end generation.\n"
     ]
    },
    {
     "name": "stdout",
     "output_type": "stream",
     "text": [
      "generated response for description 12\n",
      "generated response for description 13\n",
      "took 1603.6877131462097s\n",
      "generating for checkpoint checkpoint-75\n"
     ]
    },
    {
     "data": {
      "application/vnd.jupyter.widget-view+json": {
       "model_id": "a72ab1fe305a4cadbbee0de75d8a57f4",
       "version_major": 2,
       "version_minor": 0
      },
      "text/plain": [
       "Loading checkpoint shards:   0%|          | 0/3 [00:00<?, ?it/s]"
      ]
     },
     "metadata": {},
     "output_type": "display_data"
    },
    {
     "name": "stderr",
     "output_type": "stream",
     "text": [
      "The attention mask and the pad token id were not set. As a consequence, you may observe unexpected behavior. Please pass your input's `attention_mask` to obtain reliable results.\n",
      "Setting `pad_token_id` to `eos_token_id`:2 for open-end generation.\n",
      "/opt/conda/lib/python3.10/site-packages/transformers/generation/utils.py:1665: UserWarning: You are calling .generate() with the `input_ids` being on a device type different than your model's device. `input_ids` is on cpu, whereas the model is on cuda. You may experience unexpected behaviors or slower generation. Please make sure that you have put `input_ids` to the correct device by calling for example input_ids = input_ids.to('cuda') before running `.generate()`.\n",
      "  warnings.warn(\n",
      "The attention mask and the pad token id were not set. As a consequence, you may observe unexpected behavior. Please pass your input's `attention_mask` to obtain reliable results.\n",
      "Setting `pad_token_id` to `eos_token_id`:2 for open-end generation.\n"
     ]
    },
    {
     "name": "stdout",
     "output_type": "stream",
     "text": [
      "generated response for description 0\n"
     ]
    },
    {
     "name": "stderr",
     "output_type": "stream",
     "text": [
      "The attention mask and the pad token id were not set. As a consequence, you may observe unexpected behavior. Please pass your input's `attention_mask` to obtain reliable results.\n",
      "Setting `pad_token_id` to `eos_token_id`:2 for open-end generation.\n"
     ]
    },
    {
     "name": "stdout",
     "output_type": "stream",
     "text": [
      "generated response for description 1\n"
     ]
    },
    {
     "name": "stderr",
     "output_type": "stream",
     "text": [
      "The attention mask and the pad token id were not set. As a consequence, you may observe unexpected behavior. Please pass your input's `attention_mask` to obtain reliable results.\n",
      "Setting `pad_token_id` to `eos_token_id`:2 for open-end generation.\n"
     ]
    },
    {
     "name": "stdout",
     "output_type": "stream",
     "text": [
      "generated response for description 2\n"
     ]
    },
    {
     "name": "stderr",
     "output_type": "stream",
     "text": [
      "The attention mask and the pad token id were not set. As a consequence, you may observe unexpected behavior. Please pass your input's `attention_mask` to obtain reliable results.\n",
      "Setting `pad_token_id` to `eos_token_id`:2 for open-end generation.\n"
     ]
    },
    {
     "name": "stdout",
     "output_type": "stream",
     "text": [
      "generated response for description 3\n"
     ]
    },
    {
     "name": "stderr",
     "output_type": "stream",
     "text": [
      "The attention mask and the pad token id were not set. As a consequence, you may observe unexpected behavior. Please pass your input's `attention_mask` to obtain reliable results.\n",
      "Setting `pad_token_id` to `eos_token_id`:2 for open-end generation.\n"
     ]
    },
    {
     "name": "stdout",
     "output_type": "stream",
     "text": [
      "generated response for description 4\n"
     ]
    },
    {
     "name": "stderr",
     "output_type": "stream",
     "text": [
      "The attention mask and the pad token id were not set. As a consequence, you may observe unexpected behavior. Please pass your input's `attention_mask` to obtain reliable results.\n",
      "Setting `pad_token_id` to `eos_token_id`:2 for open-end generation.\n"
     ]
    },
    {
     "name": "stdout",
     "output_type": "stream",
     "text": [
      "generated response for description 5\n"
     ]
    },
    {
     "name": "stderr",
     "output_type": "stream",
     "text": [
      "The attention mask and the pad token id were not set. As a consequence, you may observe unexpected behavior. Please pass your input's `attention_mask` to obtain reliable results.\n",
      "Setting `pad_token_id` to `eos_token_id`:2 for open-end generation.\n"
     ]
    },
    {
     "name": "stdout",
     "output_type": "stream",
     "text": [
      "generated response for description 6\n"
     ]
    },
    {
     "name": "stderr",
     "output_type": "stream",
     "text": [
      "The attention mask and the pad token id were not set. As a consequence, you may observe unexpected behavior. Please pass your input's `attention_mask` to obtain reliable results.\n",
      "Setting `pad_token_id` to `eos_token_id`:2 for open-end generation.\n"
     ]
    },
    {
     "name": "stdout",
     "output_type": "stream",
     "text": [
      "generated response for description 7\n"
     ]
    },
    {
     "name": "stderr",
     "output_type": "stream",
     "text": [
      "The attention mask and the pad token id were not set. As a consequence, you may observe unexpected behavior. Please pass your input's `attention_mask` to obtain reliable results.\n",
      "Setting `pad_token_id` to `eos_token_id`:2 for open-end generation.\n"
     ]
    },
    {
     "name": "stdout",
     "output_type": "stream",
     "text": [
      "generated response for description 8\n"
     ]
    },
    {
     "name": "stderr",
     "output_type": "stream",
     "text": [
      "The attention mask and the pad token id were not set. As a consequence, you may observe unexpected behavior. Please pass your input's `attention_mask` to obtain reliable results.\n",
      "Setting `pad_token_id` to `eos_token_id`:2 for open-end generation.\n"
     ]
    },
    {
     "name": "stdout",
     "output_type": "stream",
     "text": [
      "generated response for description 9\n"
     ]
    },
    {
     "name": "stderr",
     "output_type": "stream",
     "text": [
      "The attention mask and the pad token id were not set. As a consequence, you may observe unexpected behavior. Please pass your input's `attention_mask` to obtain reliable results.\n",
      "Setting `pad_token_id` to `eos_token_id`:2 for open-end generation.\n"
     ]
    },
    {
     "name": "stdout",
     "output_type": "stream",
     "text": [
      "generated response for description 10\n"
     ]
    },
    {
     "name": "stderr",
     "output_type": "stream",
     "text": [
      "The attention mask and the pad token id were not set. As a consequence, you may observe unexpected behavior. Please pass your input's `attention_mask` to obtain reliable results.\n",
      "Setting `pad_token_id` to `eos_token_id`:2 for open-end generation.\n"
     ]
    },
    {
     "name": "stdout",
     "output_type": "stream",
     "text": [
      "generated response for description 11\n"
     ]
    },
    {
     "name": "stderr",
     "output_type": "stream",
     "text": [
      "The attention mask and the pad token id were not set. As a consequence, you may observe unexpected behavior. Please pass your input's `attention_mask` to obtain reliable results.\n",
      "Setting `pad_token_id` to `eos_token_id`:2 for open-end generation.\n"
     ]
    },
    {
     "name": "stdout",
     "output_type": "stream",
     "text": [
      "generated response for description 12\n",
      "generated response for description 13\n",
      "took 1614.270292520523s\n",
      "generating for checkpoint checkpoint-100\n"
     ]
    },
    {
     "data": {
      "application/vnd.jupyter.widget-view+json": {
       "model_id": "afd40d35539148ac86fbb743640d7973",
       "version_major": 2,
       "version_minor": 0
      },
      "text/plain": [
       "Loading checkpoint shards:   0%|          | 0/3 [00:00<?, ?it/s]"
      ]
     },
     "metadata": {},
     "output_type": "display_data"
    },
    {
     "name": "stderr",
     "output_type": "stream",
     "text": [
      "The attention mask and the pad token id were not set. As a consequence, you may observe unexpected behavior. Please pass your input's `attention_mask` to obtain reliable results.\n",
      "Setting `pad_token_id` to `eos_token_id`:2 for open-end generation.\n",
      "/opt/conda/lib/python3.10/site-packages/transformers/generation/utils.py:1665: UserWarning: You are calling .generate() with the `input_ids` being on a device type different than your model's device. `input_ids` is on cpu, whereas the model is on cuda. You may experience unexpected behaviors or slower generation. Please make sure that you have put `input_ids` to the correct device by calling for example input_ids = input_ids.to('cuda') before running `.generate()`.\n",
      "  warnings.warn(\n",
      "The attention mask and the pad token id were not set. As a consequence, you may observe unexpected behavior. Please pass your input's `attention_mask` to obtain reliable results.\n",
      "Setting `pad_token_id` to `eos_token_id`:2 for open-end generation.\n"
     ]
    },
    {
     "name": "stdout",
     "output_type": "stream",
     "text": [
      "generated response for description 0\n"
     ]
    },
    {
     "name": "stderr",
     "output_type": "stream",
     "text": [
      "The attention mask and the pad token id were not set. As a consequence, you may observe unexpected behavior. Please pass your input's `attention_mask` to obtain reliable results.\n",
      "Setting `pad_token_id` to `eos_token_id`:2 for open-end generation.\n"
     ]
    },
    {
     "name": "stdout",
     "output_type": "stream",
     "text": [
      "generated response for description 1\n"
     ]
    },
    {
     "name": "stderr",
     "output_type": "stream",
     "text": [
      "The attention mask and the pad token id were not set. As a consequence, you may observe unexpected behavior. Please pass your input's `attention_mask` to obtain reliable results.\n",
      "Setting `pad_token_id` to `eos_token_id`:2 for open-end generation.\n"
     ]
    },
    {
     "name": "stdout",
     "output_type": "stream",
     "text": [
      "generated response for description 2\n"
     ]
    },
    {
     "name": "stderr",
     "output_type": "stream",
     "text": [
      "The attention mask and the pad token id were not set. As a consequence, you may observe unexpected behavior. Please pass your input's `attention_mask` to obtain reliable results.\n",
      "Setting `pad_token_id` to `eos_token_id`:2 for open-end generation.\n"
     ]
    },
    {
     "name": "stdout",
     "output_type": "stream",
     "text": [
      "generated response for description 3\n"
     ]
    },
    {
     "name": "stderr",
     "output_type": "stream",
     "text": [
      "The attention mask and the pad token id were not set. As a consequence, you may observe unexpected behavior. Please pass your input's `attention_mask` to obtain reliable results.\n",
      "Setting `pad_token_id` to `eos_token_id`:2 for open-end generation.\n"
     ]
    },
    {
     "name": "stdout",
     "output_type": "stream",
     "text": [
      "generated response for description 4\n"
     ]
    },
    {
     "name": "stderr",
     "output_type": "stream",
     "text": [
      "The attention mask and the pad token id were not set. As a consequence, you may observe unexpected behavior. Please pass your input's `attention_mask` to obtain reliable results.\n",
      "Setting `pad_token_id` to `eos_token_id`:2 for open-end generation.\n"
     ]
    },
    {
     "name": "stdout",
     "output_type": "stream",
     "text": [
      "generated response for description 5\n"
     ]
    },
    {
     "name": "stderr",
     "output_type": "stream",
     "text": [
      "The attention mask and the pad token id were not set. As a consequence, you may observe unexpected behavior. Please pass your input's `attention_mask` to obtain reliable results.\n",
      "Setting `pad_token_id` to `eos_token_id`:2 for open-end generation.\n"
     ]
    },
    {
     "name": "stdout",
     "output_type": "stream",
     "text": [
      "generated response for description 6\n"
     ]
    },
    {
     "name": "stderr",
     "output_type": "stream",
     "text": [
      "The attention mask and the pad token id were not set. As a consequence, you may observe unexpected behavior. Please pass your input's `attention_mask` to obtain reliable results.\n",
      "Setting `pad_token_id` to `eos_token_id`:2 for open-end generation.\n"
     ]
    },
    {
     "name": "stdout",
     "output_type": "stream",
     "text": [
      "generated response for description 7\n"
     ]
    },
    {
     "name": "stderr",
     "output_type": "stream",
     "text": [
      "The attention mask and the pad token id were not set. As a consequence, you may observe unexpected behavior. Please pass your input's `attention_mask` to obtain reliable results.\n",
      "Setting `pad_token_id` to `eos_token_id`:2 for open-end generation.\n"
     ]
    },
    {
     "name": "stdout",
     "output_type": "stream",
     "text": [
      "generated response for description 8\n"
     ]
    },
    {
     "name": "stderr",
     "output_type": "stream",
     "text": [
      "The attention mask and the pad token id were not set. As a consequence, you may observe unexpected behavior. Please pass your input's `attention_mask` to obtain reliable results.\n",
      "Setting `pad_token_id` to `eos_token_id`:2 for open-end generation.\n"
     ]
    },
    {
     "name": "stdout",
     "output_type": "stream",
     "text": [
      "generated response for description 9\n"
     ]
    },
    {
     "name": "stderr",
     "output_type": "stream",
     "text": [
      "The attention mask and the pad token id were not set. As a consequence, you may observe unexpected behavior. Please pass your input's `attention_mask` to obtain reliable results.\n",
      "Setting `pad_token_id` to `eos_token_id`:2 for open-end generation.\n"
     ]
    },
    {
     "name": "stdout",
     "output_type": "stream",
     "text": [
      "generated response for description 10\n"
     ]
    },
    {
     "name": "stderr",
     "output_type": "stream",
     "text": [
      "The attention mask and the pad token id were not set. As a consequence, you may observe unexpected behavior. Please pass your input's `attention_mask` to obtain reliable results.\n",
      "Setting `pad_token_id` to `eos_token_id`:2 for open-end generation.\n"
     ]
    },
    {
     "name": "stdout",
     "output_type": "stream",
     "text": [
      "generated response for description 11\n"
     ]
    },
    {
     "name": "stderr",
     "output_type": "stream",
     "text": [
      "The attention mask and the pad token id were not set. As a consequence, you may observe unexpected behavior. Please pass your input's `attention_mask` to obtain reliable results.\n",
      "Setting `pad_token_id` to `eos_token_id`:2 for open-end generation.\n"
     ]
    },
    {
     "name": "stdout",
     "output_type": "stream",
     "text": [
      "generated response for description 12\n",
      "generated response for description 13\n",
      "took 1601.7575206756592s\n",
      "generating for checkpoint checkpoint-125\n"
     ]
    },
    {
     "data": {
      "application/vnd.jupyter.widget-view+json": {
       "model_id": "c5fff18f15884e9bae0ecdff59507718",
       "version_major": 2,
       "version_minor": 0
      },
      "text/plain": [
       "Loading checkpoint shards:   0%|          | 0/3 [00:00<?, ?it/s]"
      ]
     },
     "metadata": {},
     "output_type": "display_data"
    },
    {
     "name": "stderr",
     "output_type": "stream",
     "text": [
      "The attention mask and the pad token id were not set. As a consequence, you may observe unexpected behavior. Please pass your input's `attention_mask` to obtain reliable results.\n",
      "Setting `pad_token_id` to `eos_token_id`:2 for open-end generation.\n",
      "/opt/conda/lib/python3.10/site-packages/transformers/generation/utils.py:1665: UserWarning: You are calling .generate() with the `input_ids` being on a device type different than your model's device. `input_ids` is on cpu, whereas the model is on cuda. You may experience unexpected behaviors or slower generation. Please make sure that you have put `input_ids` to the correct device by calling for example input_ids = input_ids.to('cuda') before running `.generate()`.\n",
      "  warnings.warn(\n",
      "The attention mask and the pad token id were not set. As a consequence, you may observe unexpected behavior. Please pass your input's `attention_mask` to obtain reliable results.\n",
      "Setting `pad_token_id` to `eos_token_id`:2 for open-end generation.\n"
     ]
    },
    {
     "name": "stdout",
     "output_type": "stream",
     "text": [
      "generated response for description 0\n"
     ]
    },
    {
     "name": "stderr",
     "output_type": "stream",
     "text": [
      "The attention mask and the pad token id were not set. As a consequence, you may observe unexpected behavior. Please pass your input's `attention_mask` to obtain reliable results.\n",
      "Setting `pad_token_id` to `eos_token_id`:2 for open-end generation.\n"
     ]
    },
    {
     "name": "stdout",
     "output_type": "stream",
     "text": [
      "generated response for description 1\n"
     ]
    },
    {
     "name": "stderr",
     "output_type": "stream",
     "text": [
      "The attention mask and the pad token id were not set. As a consequence, you may observe unexpected behavior. Please pass your input's `attention_mask` to obtain reliable results.\n",
      "Setting `pad_token_id` to `eos_token_id`:2 for open-end generation.\n"
     ]
    },
    {
     "name": "stdout",
     "output_type": "stream",
     "text": [
      "generated response for description 2\n"
     ]
    },
    {
     "name": "stderr",
     "output_type": "stream",
     "text": [
      "The attention mask and the pad token id were not set. As a consequence, you may observe unexpected behavior. Please pass your input's `attention_mask` to obtain reliable results.\n",
      "Setting `pad_token_id` to `eos_token_id`:2 for open-end generation.\n"
     ]
    },
    {
     "name": "stdout",
     "output_type": "stream",
     "text": [
      "generated response for description 3\n"
     ]
    },
    {
     "name": "stderr",
     "output_type": "stream",
     "text": [
      "The attention mask and the pad token id were not set. As a consequence, you may observe unexpected behavior. Please pass your input's `attention_mask` to obtain reliable results.\n",
      "Setting `pad_token_id` to `eos_token_id`:2 for open-end generation.\n"
     ]
    },
    {
     "name": "stdout",
     "output_type": "stream",
     "text": [
      "generated response for description 4\n"
     ]
    },
    {
     "name": "stderr",
     "output_type": "stream",
     "text": [
      "The attention mask and the pad token id were not set. As a consequence, you may observe unexpected behavior. Please pass your input's `attention_mask` to obtain reliable results.\n",
      "Setting `pad_token_id` to `eos_token_id`:2 for open-end generation.\n"
     ]
    },
    {
     "name": "stdout",
     "output_type": "stream",
     "text": [
      "generated response for description 5\n"
     ]
    },
    {
     "name": "stderr",
     "output_type": "stream",
     "text": [
      "The attention mask and the pad token id were not set. As a consequence, you may observe unexpected behavior. Please pass your input's `attention_mask` to obtain reliable results.\n",
      "Setting `pad_token_id` to `eos_token_id`:2 for open-end generation.\n"
     ]
    },
    {
     "name": "stdout",
     "output_type": "stream",
     "text": [
      "generated response for description 6\n"
     ]
    },
    {
     "name": "stderr",
     "output_type": "stream",
     "text": [
      "The attention mask and the pad token id were not set. As a consequence, you may observe unexpected behavior. Please pass your input's `attention_mask` to obtain reliable results.\n",
      "Setting `pad_token_id` to `eos_token_id`:2 for open-end generation.\n"
     ]
    },
    {
     "name": "stdout",
     "output_type": "stream",
     "text": [
      "generated response for description 7\n"
     ]
    },
    {
     "name": "stderr",
     "output_type": "stream",
     "text": [
      "The attention mask and the pad token id were not set. As a consequence, you may observe unexpected behavior. Please pass your input's `attention_mask` to obtain reliable results.\n",
      "Setting `pad_token_id` to `eos_token_id`:2 for open-end generation.\n"
     ]
    },
    {
     "name": "stdout",
     "output_type": "stream",
     "text": [
      "generated response for description 8\n"
     ]
    },
    {
     "name": "stderr",
     "output_type": "stream",
     "text": [
      "The attention mask and the pad token id were not set. As a consequence, you may observe unexpected behavior. Please pass your input's `attention_mask` to obtain reliable results.\n",
      "Setting `pad_token_id` to `eos_token_id`:2 for open-end generation.\n"
     ]
    },
    {
     "name": "stdout",
     "output_type": "stream",
     "text": [
      "generated response for description 9\n"
     ]
    },
    {
     "name": "stderr",
     "output_type": "stream",
     "text": [
      "The attention mask and the pad token id were not set. As a consequence, you may observe unexpected behavior. Please pass your input's `attention_mask` to obtain reliable results.\n",
      "Setting `pad_token_id` to `eos_token_id`:2 for open-end generation.\n"
     ]
    },
    {
     "name": "stdout",
     "output_type": "stream",
     "text": [
      "generated response for description 10\n"
     ]
    },
    {
     "name": "stderr",
     "output_type": "stream",
     "text": [
      "The attention mask and the pad token id were not set. As a consequence, you may observe unexpected behavior. Please pass your input's `attention_mask` to obtain reliable results.\n",
      "Setting `pad_token_id` to `eos_token_id`:2 for open-end generation.\n"
     ]
    },
    {
     "name": "stdout",
     "output_type": "stream",
     "text": [
      "generated response for description 11\n"
     ]
    },
    {
     "name": "stderr",
     "output_type": "stream",
     "text": [
      "The attention mask and the pad token id were not set. As a consequence, you may observe unexpected behavior. Please pass your input's `attention_mask` to obtain reliable results.\n",
      "Setting `pad_token_id` to `eos_token_id`:2 for open-end generation.\n"
     ]
    },
    {
     "name": "stdout",
     "output_type": "stream",
     "text": [
      "generated response for description 12\n",
      "generated response for description 13\n",
      "took 2447.4055469036102s\n",
      "generating for checkpoint checkpoint-150\n"
     ]
    },
    {
     "data": {
      "application/vnd.jupyter.widget-view+json": {
       "model_id": "5fe44d555d5744ec8642186f43687799",
       "version_major": 2,
       "version_minor": 0
      },
      "text/plain": [
       "Loading checkpoint shards:   0%|          | 0/3 [00:00<?, ?it/s]"
      ]
     },
     "metadata": {},
     "output_type": "display_data"
    },
    {
     "name": "stderr",
     "output_type": "stream",
     "text": [
      "The attention mask and the pad token id were not set. As a consequence, you may observe unexpected behavior. Please pass your input's `attention_mask` to obtain reliable results.\n",
      "Setting `pad_token_id` to `eos_token_id`:2 for open-end generation.\n",
      "/opt/conda/lib/python3.10/site-packages/transformers/generation/utils.py:1665: UserWarning: You are calling .generate() with the `input_ids` being on a device type different than your model's device. `input_ids` is on cpu, whereas the model is on cuda. You may experience unexpected behaviors or slower generation. Please make sure that you have put `input_ids` to the correct device by calling for example input_ids = input_ids.to('cuda') before running `.generate()`.\n",
      "  warnings.warn(\n",
      "The attention mask and the pad token id were not set. As a consequence, you may observe unexpected behavior. Please pass your input's `attention_mask` to obtain reliable results.\n",
      "Setting `pad_token_id` to `eos_token_id`:2 for open-end generation.\n"
     ]
    },
    {
     "name": "stdout",
     "output_type": "stream",
     "text": [
      "generated response for description 0\n"
     ]
    },
    {
     "name": "stderr",
     "output_type": "stream",
     "text": [
      "The attention mask and the pad token id were not set. As a consequence, you may observe unexpected behavior. Please pass your input's `attention_mask` to obtain reliable results.\n",
      "Setting `pad_token_id` to `eos_token_id`:2 for open-end generation.\n"
     ]
    },
    {
     "name": "stdout",
     "output_type": "stream",
     "text": [
      "generated response for description 1\n"
     ]
    },
    {
     "name": "stderr",
     "output_type": "stream",
     "text": [
      "The attention mask and the pad token id were not set. As a consequence, you may observe unexpected behavior. Please pass your input's `attention_mask` to obtain reliable results.\n",
      "Setting `pad_token_id` to `eos_token_id`:2 for open-end generation.\n"
     ]
    },
    {
     "name": "stdout",
     "output_type": "stream",
     "text": [
      "generated response for description 2\n"
     ]
    },
    {
     "name": "stderr",
     "output_type": "stream",
     "text": [
      "The attention mask and the pad token id were not set. As a consequence, you may observe unexpected behavior. Please pass your input's `attention_mask` to obtain reliable results.\n",
      "Setting `pad_token_id` to `eos_token_id`:2 for open-end generation.\n"
     ]
    },
    {
     "name": "stdout",
     "output_type": "stream",
     "text": [
      "generated response for description 3\n"
     ]
    },
    {
     "name": "stderr",
     "output_type": "stream",
     "text": [
      "The attention mask and the pad token id were not set. As a consequence, you may observe unexpected behavior. Please pass your input's `attention_mask` to obtain reliable results.\n",
      "Setting `pad_token_id` to `eos_token_id`:2 for open-end generation.\n"
     ]
    },
    {
     "name": "stdout",
     "output_type": "stream",
     "text": [
      "generated response for description 4\n"
     ]
    },
    {
     "name": "stderr",
     "output_type": "stream",
     "text": [
      "The attention mask and the pad token id were not set. As a consequence, you may observe unexpected behavior. Please pass your input's `attention_mask` to obtain reliable results.\n",
      "Setting `pad_token_id` to `eos_token_id`:2 for open-end generation.\n"
     ]
    },
    {
     "name": "stdout",
     "output_type": "stream",
     "text": [
      "generated response for description 5\n"
     ]
    },
    {
     "name": "stderr",
     "output_type": "stream",
     "text": [
      "The attention mask and the pad token id were not set. As a consequence, you may observe unexpected behavior. Please pass your input's `attention_mask` to obtain reliable results.\n",
      "Setting `pad_token_id` to `eos_token_id`:2 for open-end generation.\n"
     ]
    },
    {
     "name": "stdout",
     "output_type": "stream",
     "text": [
      "generated response for description 6\n"
     ]
    },
    {
     "name": "stderr",
     "output_type": "stream",
     "text": [
      "The attention mask and the pad token id were not set. As a consequence, you may observe unexpected behavior. Please pass your input's `attention_mask` to obtain reliable results.\n",
      "Setting `pad_token_id` to `eos_token_id`:2 for open-end generation.\n"
     ]
    },
    {
     "name": "stdout",
     "output_type": "stream",
     "text": [
      "generated response for description 7\n"
     ]
    },
    {
     "name": "stderr",
     "output_type": "stream",
     "text": [
      "The attention mask and the pad token id were not set. As a consequence, you may observe unexpected behavior. Please pass your input's `attention_mask` to obtain reliable results.\n",
      "Setting `pad_token_id` to `eos_token_id`:2 for open-end generation.\n"
     ]
    },
    {
     "name": "stdout",
     "output_type": "stream",
     "text": [
      "generated response for description 8\n"
     ]
    },
    {
     "name": "stderr",
     "output_type": "stream",
     "text": [
      "The attention mask and the pad token id were not set. As a consequence, you may observe unexpected behavior. Please pass your input's `attention_mask` to obtain reliable results.\n",
      "Setting `pad_token_id` to `eos_token_id`:2 for open-end generation.\n"
     ]
    },
    {
     "name": "stdout",
     "output_type": "stream",
     "text": [
      "generated response for description 9\n"
     ]
    },
    {
     "name": "stderr",
     "output_type": "stream",
     "text": [
      "The attention mask and the pad token id were not set. As a consequence, you may observe unexpected behavior. Please pass your input's `attention_mask` to obtain reliable results.\n",
      "Setting `pad_token_id` to `eos_token_id`:2 for open-end generation.\n"
     ]
    },
    {
     "name": "stdout",
     "output_type": "stream",
     "text": [
      "generated response for description 10\n"
     ]
    },
    {
     "name": "stderr",
     "output_type": "stream",
     "text": [
      "The attention mask and the pad token id were not set. As a consequence, you may observe unexpected behavior. Please pass your input's `attention_mask` to obtain reliable results.\n",
      "Setting `pad_token_id` to `eos_token_id`:2 for open-end generation.\n"
     ]
    },
    {
     "name": "stdout",
     "output_type": "stream",
     "text": [
      "generated response for description 11\n"
     ]
    },
    {
     "name": "stderr",
     "output_type": "stream",
     "text": [
      "The attention mask and the pad token id were not set. As a consequence, you may observe unexpected behavior. Please pass your input's `attention_mask` to obtain reliable results.\n",
      "Setting `pad_token_id` to `eos_token_id`:2 for open-end generation.\n"
     ]
    },
    {
     "name": "stdout",
     "output_type": "stream",
     "text": [
      "generated response for description 12\n",
      "generated response for description 13\n",
      "took 1857.955094575882s\n",
      "generating for checkpoint checkpoint-175\n"
     ]
    },
    {
     "data": {
      "application/vnd.jupyter.widget-view+json": {
       "model_id": "8194c34544c14740b776563d4e283b1b",
       "version_major": 2,
       "version_minor": 0
      },
      "text/plain": [
       "Loading checkpoint shards:   0%|          | 0/3 [00:00<?, ?it/s]"
      ]
     },
     "metadata": {},
     "output_type": "display_data"
    },
    {
     "name": "stderr",
     "output_type": "stream",
     "text": [
      "The attention mask and the pad token id were not set. As a consequence, you may observe unexpected behavior. Please pass your input's `attention_mask` to obtain reliable results.\n",
      "Setting `pad_token_id` to `eos_token_id`:2 for open-end generation.\n",
      "/opt/conda/lib/python3.10/site-packages/transformers/generation/utils.py:1665: UserWarning: You are calling .generate() with the `input_ids` being on a device type different than your model's device. `input_ids` is on cpu, whereas the model is on cuda. You may experience unexpected behaviors or slower generation. Please make sure that you have put `input_ids` to the correct device by calling for example input_ids = input_ids.to('cuda') before running `.generate()`.\n",
      "  warnings.warn(\n",
      "The attention mask and the pad token id were not set. As a consequence, you may observe unexpected behavior. Please pass your input's `attention_mask` to obtain reliable results.\n",
      "Setting `pad_token_id` to `eos_token_id`:2 for open-end generation.\n"
     ]
    },
    {
     "name": "stdout",
     "output_type": "stream",
     "text": [
      "generated response for description 0\n"
     ]
    },
    {
     "name": "stderr",
     "output_type": "stream",
     "text": [
      "The attention mask and the pad token id were not set. As a consequence, you may observe unexpected behavior. Please pass your input's `attention_mask` to obtain reliable results.\n",
      "Setting `pad_token_id` to `eos_token_id`:2 for open-end generation.\n"
     ]
    },
    {
     "name": "stdout",
     "output_type": "stream",
     "text": [
      "generated response for description 1\n"
     ]
    },
    {
     "name": "stderr",
     "output_type": "stream",
     "text": [
      "The attention mask and the pad token id were not set. As a consequence, you may observe unexpected behavior. Please pass your input's `attention_mask` to obtain reliable results.\n",
      "Setting `pad_token_id` to `eos_token_id`:2 for open-end generation.\n"
     ]
    },
    {
     "name": "stdout",
     "output_type": "stream",
     "text": [
      "generated response for description 2\n"
     ]
    },
    {
     "name": "stderr",
     "output_type": "stream",
     "text": [
      "The attention mask and the pad token id were not set. As a consequence, you may observe unexpected behavior. Please pass your input's `attention_mask` to obtain reliable results.\n",
      "Setting `pad_token_id` to `eos_token_id`:2 for open-end generation.\n"
     ]
    },
    {
     "name": "stdout",
     "output_type": "stream",
     "text": [
      "generated response for description 3\n"
     ]
    },
    {
     "name": "stderr",
     "output_type": "stream",
     "text": [
      "The attention mask and the pad token id were not set. As a consequence, you may observe unexpected behavior. Please pass your input's `attention_mask` to obtain reliable results.\n",
      "Setting `pad_token_id` to `eos_token_id`:2 for open-end generation.\n"
     ]
    },
    {
     "name": "stdout",
     "output_type": "stream",
     "text": [
      "generated response for description 4\n"
     ]
    },
    {
     "name": "stderr",
     "output_type": "stream",
     "text": [
      "The attention mask and the pad token id were not set. As a consequence, you may observe unexpected behavior. Please pass your input's `attention_mask` to obtain reliable results.\n",
      "Setting `pad_token_id` to `eos_token_id`:2 for open-end generation.\n"
     ]
    },
    {
     "name": "stdout",
     "output_type": "stream",
     "text": [
      "generated response for description 5\n"
     ]
    },
    {
     "name": "stderr",
     "output_type": "stream",
     "text": [
      "The attention mask and the pad token id were not set. As a consequence, you may observe unexpected behavior. Please pass your input's `attention_mask` to obtain reliable results.\n",
      "Setting `pad_token_id` to `eos_token_id`:2 for open-end generation.\n"
     ]
    },
    {
     "name": "stdout",
     "output_type": "stream",
     "text": [
      "generated response for description 6\n"
     ]
    },
    {
     "name": "stderr",
     "output_type": "stream",
     "text": [
      "The attention mask and the pad token id were not set. As a consequence, you may observe unexpected behavior. Please pass your input's `attention_mask` to obtain reliable results.\n",
      "Setting `pad_token_id` to `eos_token_id`:2 for open-end generation.\n"
     ]
    },
    {
     "name": "stdout",
     "output_type": "stream",
     "text": [
      "generated response for description 7\n"
     ]
    },
    {
     "name": "stderr",
     "output_type": "stream",
     "text": [
      "The attention mask and the pad token id were not set. As a consequence, you may observe unexpected behavior. Please pass your input's `attention_mask` to obtain reliable results.\n",
      "Setting `pad_token_id` to `eos_token_id`:2 for open-end generation.\n"
     ]
    },
    {
     "name": "stdout",
     "output_type": "stream",
     "text": [
      "generated response for description 8\n"
     ]
    },
    {
     "name": "stderr",
     "output_type": "stream",
     "text": [
      "The attention mask and the pad token id were not set. As a consequence, you may observe unexpected behavior. Please pass your input's `attention_mask` to obtain reliable results.\n",
      "Setting `pad_token_id` to `eos_token_id`:2 for open-end generation.\n"
     ]
    },
    {
     "name": "stdout",
     "output_type": "stream",
     "text": [
      "generated response for description 9\n"
     ]
    },
    {
     "name": "stderr",
     "output_type": "stream",
     "text": [
      "The attention mask and the pad token id were not set. As a consequence, you may observe unexpected behavior. Please pass your input's `attention_mask` to obtain reliable results.\n",
      "Setting `pad_token_id` to `eos_token_id`:2 for open-end generation.\n"
     ]
    },
    {
     "name": "stdout",
     "output_type": "stream",
     "text": [
      "generated response for description 10\n"
     ]
    },
    {
     "name": "stderr",
     "output_type": "stream",
     "text": [
      "The attention mask and the pad token id were not set. As a consequence, you may observe unexpected behavior. Please pass your input's `attention_mask` to obtain reliable results.\n",
      "Setting `pad_token_id` to `eos_token_id`:2 for open-end generation.\n"
     ]
    },
    {
     "name": "stdout",
     "output_type": "stream",
     "text": [
      "generated response for description 11\n"
     ]
    },
    {
     "name": "stderr",
     "output_type": "stream",
     "text": [
      "The attention mask and the pad token id were not set. As a consequence, you may observe unexpected behavior. Please pass your input's `attention_mask` to obtain reliable results.\n",
      "Setting `pad_token_id` to `eos_token_id`:2 for open-end generation.\n"
     ]
    },
    {
     "name": "stdout",
     "output_type": "stream",
     "text": [
      "generated response for description 12\n",
      "generated response for description 13\n",
      "took 1996.0513169765472s\n",
      "generating for checkpoint checkpoint-200\n"
     ]
    },
    {
     "data": {
      "application/vnd.jupyter.widget-view+json": {
       "model_id": "3a0a88d51a5b4e1e86f3728c2de75d88",
       "version_major": 2,
       "version_minor": 0
      },
      "text/plain": [
       "Loading checkpoint shards:   0%|          | 0/3 [00:00<?, ?it/s]"
      ]
     },
     "metadata": {},
     "output_type": "display_data"
    },
    {
     "name": "stderr",
     "output_type": "stream",
     "text": [
      "The attention mask and the pad token id were not set. As a consequence, you may observe unexpected behavior. Please pass your input's `attention_mask` to obtain reliable results.\n",
      "Setting `pad_token_id` to `eos_token_id`:2 for open-end generation.\n",
      "/opt/conda/lib/python3.10/site-packages/transformers/generation/utils.py:1665: UserWarning: You are calling .generate() with the `input_ids` being on a device type different than your model's device. `input_ids` is on cpu, whereas the model is on cuda. You may experience unexpected behaviors or slower generation. Please make sure that you have put `input_ids` to the correct device by calling for example input_ids = input_ids.to('cuda') before running `.generate()`.\n",
      "  warnings.warn(\n",
      "The attention mask and the pad token id were not set. As a consequence, you may observe unexpected behavior. Please pass your input's `attention_mask` to obtain reliable results.\n",
      "Setting `pad_token_id` to `eos_token_id`:2 for open-end generation.\n"
     ]
    },
    {
     "name": "stdout",
     "output_type": "stream",
     "text": [
      "generated response for description 0\n"
     ]
    },
    {
     "name": "stderr",
     "output_type": "stream",
     "text": [
      "The attention mask and the pad token id were not set. As a consequence, you may observe unexpected behavior. Please pass your input's `attention_mask` to obtain reliable results.\n",
      "Setting `pad_token_id` to `eos_token_id`:2 for open-end generation.\n"
     ]
    },
    {
     "name": "stdout",
     "output_type": "stream",
     "text": [
      "generated response for description 1\n"
     ]
    },
    {
     "name": "stderr",
     "output_type": "stream",
     "text": [
      "The attention mask and the pad token id were not set. As a consequence, you may observe unexpected behavior. Please pass your input's `attention_mask` to obtain reliable results.\n",
      "Setting `pad_token_id` to `eos_token_id`:2 for open-end generation.\n"
     ]
    },
    {
     "name": "stdout",
     "output_type": "stream",
     "text": [
      "generated response for description 2\n"
     ]
    },
    {
     "name": "stderr",
     "output_type": "stream",
     "text": [
      "The attention mask and the pad token id were not set. As a consequence, you may observe unexpected behavior. Please pass your input's `attention_mask` to obtain reliable results.\n",
      "Setting `pad_token_id` to `eos_token_id`:2 for open-end generation.\n"
     ]
    },
    {
     "name": "stdout",
     "output_type": "stream",
     "text": [
      "generated response for description 3\n"
     ]
    },
    {
     "name": "stderr",
     "output_type": "stream",
     "text": [
      "The attention mask and the pad token id were not set. As a consequence, you may observe unexpected behavior. Please pass your input's `attention_mask` to obtain reliable results.\n",
      "Setting `pad_token_id` to `eos_token_id`:2 for open-end generation.\n"
     ]
    },
    {
     "name": "stdout",
     "output_type": "stream",
     "text": [
      "generated response for description 4\n"
     ]
    },
    {
     "name": "stderr",
     "output_type": "stream",
     "text": [
      "The attention mask and the pad token id were not set. As a consequence, you may observe unexpected behavior. Please pass your input's `attention_mask` to obtain reliable results.\n",
      "Setting `pad_token_id` to `eos_token_id`:2 for open-end generation.\n"
     ]
    },
    {
     "name": "stdout",
     "output_type": "stream",
     "text": [
      "generated response for description 5\n"
     ]
    },
    {
     "name": "stderr",
     "output_type": "stream",
     "text": [
      "The attention mask and the pad token id were not set. As a consequence, you may observe unexpected behavior. Please pass your input's `attention_mask` to obtain reliable results.\n",
      "Setting `pad_token_id` to `eos_token_id`:2 for open-end generation.\n"
     ]
    },
    {
     "name": "stdout",
     "output_type": "stream",
     "text": [
      "generated response for description 6\n"
     ]
    },
    {
     "name": "stderr",
     "output_type": "stream",
     "text": [
      "The attention mask and the pad token id were not set. As a consequence, you may observe unexpected behavior. Please pass your input's `attention_mask` to obtain reliable results.\n",
      "Setting `pad_token_id` to `eos_token_id`:2 for open-end generation.\n"
     ]
    },
    {
     "name": "stdout",
     "output_type": "stream",
     "text": [
      "generated response for description 7\n"
     ]
    },
    {
     "name": "stderr",
     "output_type": "stream",
     "text": [
      "The attention mask and the pad token id were not set. As a consequence, you may observe unexpected behavior. Please pass your input's `attention_mask` to obtain reliable results.\n",
      "Setting `pad_token_id` to `eos_token_id`:2 for open-end generation.\n"
     ]
    },
    {
     "name": "stdout",
     "output_type": "stream",
     "text": [
      "generated response for description 8\n"
     ]
    },
    {
     "name": "stderr",
     "output_type": "stream",
     "text": [
      "The attention mask and the pad token id were not set. As a consequence, you may observe unexpected behavior. Please pass your input's `attention_mask` to obtain reliable results.\n",
      "Setting `pad_token_id` to `eos_token_id`:2 for open-end generation.\n"
     ]
    },
    {
     "name": "stdout",
     "output_type": "stream",
     "text": [
      "generated response for description 9\n"
     ]
    },
    {
     "name": "stderr",
     "output_type": "stream",
     "text": [
      "The attention mask and the pad token id were not set. As a consequence, you may observe unexpected behavior. Please pass your input's `attention_mask` to obtain reliable results.\n",
      "Setting `pad_token_id` to `eos_token_id`:2 for open-end generation.\n"
     ]
    },
    {
     "name": "stdout",
     "output_type": "stream",
     "text": [
      "generated response for description 10\n"
     ]
    },
    {
     "name": "stderr",
     "output_type": "stream",
     "text": [
      "The attention mask and the pad token id were not set. As a consequence, you may observe unexpected behavior. Please pass your input's `attention_mask` to obtain reliable results.\n",
      "Setting `pad_token_id` to `eos_token_id`:2 for open-end generation.\n"
     ]
    },
    {
     "name": "stdout",
     "output_type": "stream",
     "text": [
      "generated response for description 11\n"
     ]
    },
    {
     "name": "stderr",
     "output_type": "stream",
     "text": [
      "The attention mask and the pad token id were not set. As a consequence, you may observe unexpected behavior. Please pass your input's `attention_mask` to obtain reliable results.\n",
      "Setting `pad_token_id` to `eos_token_id`:2 for open-end generation.\n"
     ]
    },
    {
     "name": "stdout",
     "output_type": "stream",
     "text": [
      "generated response for description 12\n",
      "generated response for description 13\n",
      "took 1767.928747177124s\n",
      "generating for checkpoint checkpoint-225\n"
     ]
    },
    {
     "data": {
      "application/vnd.jupyter.widget-view+json": {
       "model_id": "a03e509ad7ee46e29a596498eba90d0c",
       "version_major": 2,
       "version_minor": 0
      },
      "text/plain": [
       "Loading checkpoint shards:   0%|          | 0/3 [00:00<?, ?it/s]"
      ]
     },
     "metadata": {},
     "output_type": "display_data"
    },
    {
     "name": "stderr",
     "output_type": "stream",
     "text": [
      "The attention mask and the pad token id were not set. As a consequence, you may observe unexpected behavior. Please pass your input's `attention_mask` to obtain reliable results.\n",
      "Setting `pad_token_id` to `eos_token_id`:2 for open-end generation.\n",
      "/opt/conda/lib/python3.10/site-packages/transformers/generation/utils.py:1665: UserWarning: You are calling .generate() with the `input_ids` being on a device type different than your model's device. `input_ids` is on cpu, whereas the model is on cuda. You may experience unexpected behaviors or slower generation. Please make sure that you have put `input_ids` to the correct device by calling for example input_ids = input_ids.to('cuda') before running `.generate()`.\n",
      "  warnings.warn(\n",
      "The attention mask and the pad token id were not set. As a consequence, you may observe unexpected behavior. Please pass your input's `attention_mask` to obtain reliable results.\n",
      "Setting `pad_token_id` to `eos_token_id`:2 for open-end generation.\n"
     ]
    },
    {
     "name": "stdout",
     "output_type": "stream",
     "text": [
      "generated response for description 0\n"
     ]
    },
    {
     "name": "stderr",
     "output_type": "stream",
     "text": [
      "The attention mask and the pad token id were not set. As a consequence, you may observe unexpected behavior. Please pass your input's `attention_mask` to obtain reliable results.\n",
      "Setting `pad_token_id` to `eos_token_id`:2 for open-end generation.\n"
     ]
    },
    {
     "name": "stdout",
     "output_type": "stream",
     "text": [
      "generated response for description 1\n"
     ]
    },
    {
     "name": "stderr",
     "output_type": "stream",
     "text": [
      "The attention mask and the pad token id were not set. As a consequence, you may observe unexpected behavior. Please pass your input's `attention_mask` to obtain reliable results.\n",
      "Setting `pad_token_id` to `eos_token_id`:2 for open-end generation.\n"
     ]
    },
    {
     "name": "stdout",
     "output_type": "stream",
     "text": [
      "generated response for description 2\n"
     ]
    },
    {
     "name": "stderr",
     "output_type": "stream",
     "text": [
      "The attention mask and the pad token id were not set. As a consequence, you may observe unexpected behavior. Please pass your input's `attention_mask` to obtain reliable results.\n",
      "Setting `pad_token_id` to `eos_token_id`:2 for open-end generation.\n"
     ]
    },
    {
     "name": "stdout",
     "output_type": "stream",
     "text": [
      "generated response for description 3\n"
     ]
    },
    {
     "name": "stderr",
     "output_type": "stream",
     "text": [
      "The attention mask and the pad token id were not set. As a consequence, you may observe unexpected behavior. Please pass your input's `attention_mask` to obtain reliable results.\n",
      "Setting `pad_token_id` to `eos_token_id`:2 for open-end generation.\n"
     ]
    },
    {
     "name": "stdout",
     "output_type": "stream",
     "text": [
      "generated response for description 4\n"
     ]
    },
    {
     "name": "stderr",
     "output_type": "stream",
     "text": [
      "The attention mask and the pad token id were not set. As a consequence, you may observe unexpected behavior. Please pass your input's `attention_mask` to obtain reliable results.\n",
      "Setting `pad_token_id` to `eos_token_id`:2 for open-end generation.\n"
     ]
    },
    {
     "name": "stdout",
     "output_type": "stream",
     "text": [
      "generated response for description 5\n"
     ]
    },
    {
     "name": "stderr",
     "output_type": "stream",
     "text": [
      "The attention mask and the pad token id were not set. As a consequence, you may observe unexpected behavior. Please pass your input's `attention_mask` to obtain reliable results.\n",
      "Setting `pad_token_id` to `eos_token_id`:2 for open-end generation.\n"
     ]
    },
    {
     "name": "stdout",
     "output_type": "stream",
     "text": [
      "generated response for description 6\n"
     ]
    },
    {
     "name": "stderr",
     "output_type": "stream",
     "text": [
      "The attention mask and the pad token id were not set. As a consequence, you may observe unexpected behavior. Please pass your input's `attention_mask` to obtain reliable results.\n",
      "Setting `pad_token_id` to `eos_token_id`:2 for open-end generation.\n"
     ]
    },
    {
     "name": "stdout",
     "output_type": "stream",
     "text": [
      "generated response for description 7\n"
     ]
    },
    {
     "name": "stderr",
     "output_type": "stream",
     "text": [
      "The attention mask and the pad token id were not set. As a consequence, you may observe unexpected behavior. Please pass your input's `attention_mask` to obtain reliable results.\n",
      "Setting `pad_token_id` to `eos_token_id`:2 for open-end generation.\n"
     ]
    },
    {
     "name": "stdout",
     "output_type": "stream",
     "text": [
      "generated response for description 8\n"
     ]
    },
    {
     "name": "stderr",
     "output_type": "stream",
     "text": [
      "The attention mask and the pad token id were not set. As a consequence, you may observe unexpected behavior. Please pass your input's `attention_mask` to obtain reliable results.\n",
      "Setting `pad_token_id` to `eos_token_id`:2 for open-end generation.\n"
     ]
    },
    {
     "name": "stdout",
     "output_type": "stream",
     "text": [
      "generated response for description 9\n"
     ]
    },
    {
     "name": "stderr",
     "output_type": "stream",
     "text": [
      "The attention mask and the pad token id were not set. As a consequence, you may observe unexpected behavior. Please pass your input's `attention_mask` to obtain reliable results.\n",
      "Setting `pad_token_id` to `eos_token_id`:2 for open-end generation.\n"
     ]
    },
    {
     "name": "stdout",
     "output_type": "stream",
     "text": [
      "generated response for description 10\n"
     ]
    },
    {
     "name": "stderr",
     "output_type": "stream",
     "text": [
      "The attention mask and the pad token id were not set. As a consequence, you may observe unexpected behavior. Please pass your input's `attention_mask` to obtain reliable results.\n",
      "Setting `pad_token_id` to `eos_token_id`:2 for open-end generation.\n"
     ]
    },
    {
     "name": "stdout",
     "output_type": "stream",
     "text": [
      "generated response for description 11\n"
     ]
    },
    {
     "name": "stderr",
     "output_type": "stream",
     "text": [
      "The attention mask and the pad token id were not set. As a consequence, you may observe unexpected behavior. Please pass your input's `attention_mask` to obtain reliable results.\n",
      "Setting `pad_token_id` to `eos_token_id`:2 for open-end generation.\n"
     ]
    },
    {
     "name": "stdout",
     "output_type": "stream",
     "text": [
      "generated response for description 12\n",
      "generated response for description 13\n",
      "took 1891.9437773227692s\n",
      "generating for checkpoint checkpoint-250\n"
     ]
    },
    {
     "data": {
      "application/vnd.jupyter.widget-view+json": {
       "model_id": "b067d165f3704919bdeec21ff58b2309",
       "version_major": 2,
       "version_minor": 0
      },
      "text/plain": [
       "Loading checkpoint shards:   0%|          | 0/3 [00:00<?, ?it/s]"
      ]
     },
     "metadata": {},
     "output_type": "display_data"
    },
    {
     "name": "stderr",
     "output_type": "stream",
     "text": [
      "The attention mask and the pad token id were not set. As a consequence, you may observe unexpected behavior. Please pass your input's `attention_mask` to obtain reliable results.\n",
      "Setting `pad_token_id` to `eos_token_id`:2 for open-end generation.\n",
      "/opt/conda/lib/python3.10/site-packages/transformers/generation/utils.py:1665: UserWarning: You are calling .generate() with the `input_ids` being on a device type different than your model's device. `input_ids` is on cpu, whereas the model is on cuda. You may experience unexpected behaviors or slower generation. Please make sure that you have put `input_ids` to the correct device by calling for example input_ids = input_ids.to('cuda') before running `.generate()`.\n",
      "  warnings.warn(\n",
      "The attention mask and the pad token id were not set. As a consequence, you may observe unexpected behavior. Please pass your input's `attention_mask` to obtain reliable results.\n",
      "Setting `pad_token_id` to `eos_token_id`:2 for open-end generation.\n"
     ]
    },
    {
     "name": "stdout",
     "output_type": "stream",
     "text": [
      "generated response for description 0\n"
     ]
    },
    {
     "name": "stderr",
     "output_type": "stream",
     "text": [
      "The attention mask and the pad token id were not set. As a consequence, you may observe unexpected behavior. Please pass your input's `attention_mask` to obtain reliable results.\n",
      "Setting `pad_token_id` to `eos_token_id`:2 for open-end generation.\n"
     ]
    },
    {
     "name": "stdout",
     "output_type": "stream",
     "text": [
      "generated response for description 1\n"
     ]
    },
    {
     "name": "stderr",
     "output_type": "stream",
     "text": [
      "The attention mask and the pad token id were not set. As a consequence, you may observe unexpected behavior. Please pass your input's `attention_mask` to obtain reliable results.\n",
      "Setting `pad_token_id` to `eos_token_id`:2 for open-end generation.\n"
     ]
    },
    {
     "name": "stdout",
     "output_type": "stream",
     "text": [
      "generated response for description 2\n"
     ]
    },
    {
     "name": "stderr",
     "output_type": "stream",
     "text": [
      "The attention mask and the pad token id were not set. As a consequence, you may observe unexpected behavior. Please pass your input's `attention_mask` to obtain reliable results.\n",
      "Setting `pad_token_id` to `eos_token_id`:2 for open-end generation.\n"
     ]
    },
    {
     "name": "stdout",
     "output_type": "stream",
     "text": [
      "generated response for description 3\n"
     ]
    },
    {
     "name": "stderr",
     "output_type": "stream",
     "text": [
      "The attention mask and the pad token id were not set. As a consequence, you may observe unexpected behavior. Please pass your input's `attention_mask` to obtain reliable results.\n",
      "Setting `pad_token_id` to `eos_token_id`:2 for open-end generation.\n"
     ]
    },
    {
     "name": "stdout",
     "output_type": "stream",
     "text": [
      "generated response for description 4\n"
     ]
    },
    {
     "name": "stderr",
     "output_type": "stream",
     "text": [
      "The attention mask and the pad token id were not set. As a consequence, you may observe unexpected behavior. Please pass your input's `attention_mask` to obtain reliable results.\n",
      "Setting `pad_token_id` to `eos_token_id`:2 for open-end generation.\n"
     ]
    },
    {
     "name": "stdout",
     "output_type": "stream",
     "text": [
      "generated response for description 5\n"
     ]
    },
    {
     "name": "stderr",
     "output_type": "stream",
     "text": [
      "The attention mask and the pad token id were not set. As a consequence, you may observe unexpected behavior. Please pass your input's `attention_mask` to obtain reliable results.\n",
      "Setting `pad_token_id` to `eos_token_id`:2 for open-end generation.\n"
     ]
    },
    {
     "name": "stdout",
     "output_type": "stream",
     "text": [
      "generated response for description 6\n"
     ]
    },
    {
     "name": "stderr",
     "output_type": "stream",
     "text": [
      "The attention mask and the pad token id were not set. As a consequence, you may observe unexpected behavior. Please pass your input's `attention_mask` to obtain reliable results.\n",
      "Setting `pad_token_id` to `eos_token_id`:2 for open-end generation.\n"
     ]
    },
    {
     "name": "stdout",
     "output_type": "stream",
     "text": [
      "generated response for description 7\n"
     ]
    },
    {
     "name": "stderr",
     "output_type": "stream",
     "text": [
      "The attention mask and the pad token id were not set. As a consequence, you may observe unexpected behavior. Please pass your input's `attention_mask` to obtain reliable results.\n",
      "Setting `pad_token_id` to `eos_token_id`:2 for open-end generation.\n"
     ]
    },
    {
     "name": "stdout",
     "output_type": "stream",
     "text": [
      "generated response for description 8\n"
     ]
    },
    {
     "name": "stderr",
     "output_type": "stream",
     "text": [
      "The attention mask and the pad token id were not set. As a consequence, you may observe unexpected behavior. Please pass your input's `attention_mask` to obtain reliable results.\n",
      "Setting `pad_token_id` to `eos_token_id`:2 for open-end generation.\n"
     ]
    },
    {
     "name": "stdout",
     "output_type": "stream",
     "text": [
      "generated response for description 9\n"
     ]
    },
    {
     "name": "stderr",
     "output_type": "stream",
     "text": [
      "The attention mask and the pad token id were not set. As a consequence, you may observe unexpected behavior. Please pass your input's `attention_mask` to obtain reliable results.\n",
      "Setting `pad_token_id` to `eos_token_id`:2 for open-end generation.\n"
     ]
    },
    {
     "name": "stdout",
     "output_type": "stream",
     "text": [
      "generated response for description 10\n"
     ]
    },
    {
     "name": "stderr",
     "output_type": "stream",
     "text": [
      "The attention mask and the pad token id were not set. As a consequence, you may observe unexpected behavior. Please pass your input's `attention_mask` to obtain reliable results.\n",
      "Setting `pad_token_id` to `eos_token_id`:2 for open-end generation.\n"
     ]
    },
    {
     "name": "stdout",
     "output_type": "stream",
     "text": [
      "generated response for description 11\n"
     ]
    },
    {
     "name": "stderr",
     "output_type": "stream",
     "text": [
      "The attention mask and the pad token id were not set. As a consequence, you may observe unexpected behavior. Please pass your input's `attention_mask` to obtain reliable results.\n",
      "Setting `pad_token_id` to `eos_token_id`:2 for open-end generation.\n"
     ]
    },
    {
     "name": "stdout",
     "output_type": "stream",
     "text": [
      "generated response for description 12\n",
      "generated response for description 13\n",
      "took 2010.6761317253113s\n",
      "generating for checkpoint checkpoint-275\n"
     ]
    },
    {
     "data": {
      "application/vnd.jupyter.widget-view+json": {
       "model_id": "5af0f295fc1f465d90704bc372a28c75",
       "version_major": 2,
       "version_minor": 0
      },
      "text/plain": [
       "Loading checkpoint shards:   0%|          | 0/3 [00:00<?, ?it/s]"
      ]
     },
     "metadata": {},
     "output_type": "display_data"
    },
    {
     "name": "stderr",
     "output_type": "stream",
     "text": [
      "The attention mask and the pad token id were not set. As a consequence, you may observe unexpected behavior. Please pass your input's `attention_mask` to obtain reliable results.\n",
      "Setting `pad_token_id` to `eos_token_id`:2 for open-end generation.\n",
      "/opt/conda/lib/python3.10/site-packages/transformers/generation/utils.py:1665: UserWarning: You are calling .generate() with the `input_ids` being on a device type different than your model's device. `input_ids` is on cpu, whereas the model is on cuda. You may experience unexpected behaviors or slower generation. Please make sure that you have put `input_ids` to the correct device by calling for example input_ids = input_ids.to('cuda') before running `.generate()`.\n",
      "  warnings.warn(\n",
      "The attention mask and the pad token id were not set. As a consequence, you may observe unexpected behavior. Please pass your input's `attention_mask` to obtain reliable results.\n",
      "Setting `pad_token_id` to `eos_token_id`:2 for open-end generation.\n"
     ]
    },
    {
     "name": "stdout",
     "output_type": "stream",
     "text": [
      "generated response for description 0\n"
     ]
    },
    {
     "name": "stderr",
     "output_type": "stream",
     "text": [
      "The attention mask and the pad token id were not set. As a consequence, you may observe unexpected behavior. Please pass your input's `attention_mask` to obtain reliable results.\n",
      "Setting `pad_token_id` to `eos_token_id`:2 for open-end generation.\n"
     ]
    },
    {
     "name": "stdout",
     "output_type": "stream",
     "text": [
      "generated response for description 1\n"
     ]
    },
    {
     "name": "stderr",
     "output_type": "stream",
     "text": [
      "The attention mask and the pad token id were not set. As a consequence, you may observe unexpected behavior. Please pass your input's `attention_mask` to obtain reliable results.\n",
      "Setting `pad_token_id` to `eos_token_id`:2 for open-end generation.\n"
     ]
    },
    {
     "name": "stdout",
     "output_type": "stream",
     "text": [
      "generated response for description 2\n"
     ]
    },
    {
     "name": "stderr",
     "output_type": "stream",
     "text": [
      "The attention mask and the pad token id were not set. As a consequence, you may observe unexpected behavior. Please pass your input's `attention_mask` to obtain reliable results.\n",
      "Setting `pad_token_id` to `eos_token_id`:2 for open-end generation.\n"
     ]
    },
    {
     "name": "stdout",
     "output_type": "stream",
     "text": [
      "generated response for description 3\n"
     ]
    },
    {
     "name": "stderr",
     "output_type": "stream",
     "text": [
      "The attention mask and the pad token id were not set. As a consequence, you may observe unexpected behavior. Please pass your input's `attention_mask` to obtain reliable results.\n",
      "Setting `pad_token_id` to `eos_token_id`:2 for open-end generation.\n"
     ]
    },
    {
     "name": "stdout",
     "output_type": "stream",
     "text": [
      "generated response for description 4\n"
     ]
    },
    {
     "name": "stderr",
     "output_type": "stream",
     "text": [
      "The attention mask and the pad token id were not set. As a consequence, you may observe unexpected behavior. Please pass your input's `attention_mask` to obtain reliable results.\n",
      "Setting `pad_token_id` to `eos_token_id`:2 for open-end generation.\n"
     ]
    },
    {
     "name": "stdout",
     "output_type": "stream",
     "text": [
      "generated response for description 5\n"
     ]
    },
    {
     "name": "stderr",
     "output_type": "stream",
     "text": [
      "The attention mask and the pad token id were not set. As a consequence, you may observe unexpected behavior. Please pass your input's `attention_mask` to obtain reliable results.\n",
      "Setting `pad_token_id` to `eos_token_id`:2 for open-end generation.\n"
     ]
    },
    {
     "name": "stdout",
     "output_type": "stream",
     "text": [
      "generated response for description 6\n"
     ]
    },
    {
     "name": "stderr",
     "output_type": "stream",
     "text": [
      "The attention mask and the pad token id were not set. As a consequence, you may observe unexpected behavior. Please pass your input's `attention_mask` to obtain reliable results.\n",
      "Setting `pad_token_id` to `eos_token_id`:2 for open-end generation.\n"
     ]
    },
    {
     "name": "stdout",
     "output_type": "stream",
     "text": [
      "generated response for description 7\n"
     ]
    },
    {
     "name": "stderr",
     "output_type": "stream",
     "text": [
      "The attention mask and the pad token id were not set. As a consequence, you may observe unexpected behavior. Please pass your input's `attention_mask` to obtain reliable results.\n",
      "Setting `pad_token_id` to `eos_token_id`:2 for open-end generation.\n"
     ]
    },
    {
     "name": "stdout",
     "output_type": "stream",
     "text": [
      "generated response for description 8\n"
     ]
    },
    {
     "name": "stderr",
     "output_type": "stream",
     "text": [
      "The attention mask and the pad token id were not set. As a consequence, you may observe unexpected behavior. Please pass your input's `attention_mask` to obtain reliable results.\n",
      "Setting `pad_token_id` to `eos_token_id`:2 for open-end generation.\n"
     ]
    },
    {
     "name": "stdout",
     "output_type": "stream",
     "text": [
      "generated response for description 9\n"
     ]
    },
    {
     "name": "stderr",
     "output_type": "stream",
     "text": [
      "The attention mask and the pad token id were not set. As a consequence, you may observe unexpected behavior. Please pass your input's `attention_mask` to obtain reliable results.\n",
      "Setting `pad_token_id` to `eos_token_id`:2 for open-end generation.\n"
     ]
    },
    {
     "name": "stdout",
     "output_type": "stream",
     "text": [
      "generated response for description 10\n"
     ]
    },
    {
     "name": "stderr",
     "output_type": "stream",
     "text": [
      "The attention mask and the pad token id were not set. As a consequence, you may observe unexpected behavior. Please pass your input's `attention_mask` to obtain reliable results.\n",
      "Setting `pad_token_id` to `eos_token_id`:2 for open-end generation.\n"
     ]
    },
    {
     "name": "stdout",
     "output_type": "stream",
     "text": [
      "generated response for description 11\n"
     ]
    },
    {
     "name": "stderr",
     "output_type": "stream",
     "text": [
      "The attention mask and the pad token id were not set. As a consequence, you may observe unexpected behavior. Please pass your input's `attention_mask` to obtain reliable results.\n",
      "Setting `pad_token_id` to `eos_token_id`:2 for open-end generation.\n"
     ]
    },
    {
     "name": "stdout",
     "output_type": "stream",
     "text": [
      "generated response for description 12\n",
      "generated response for description 13\n",
      "took 2049.667085647583s\n",
      "generating for checkpoint checkpoint-300\n"
     ]
    },
    {
     "data": {
      "application/vnd.jupyter.widget-view+json": {
       "model_id": "b8d8848e04dc4312aec4687a3ad70c93",
       "version_major": 2,
       "version_minor": 0
      },
      "text/plain": [
       "Loading checkpoint shards:   0%|          | 0/3 [00:00<?, ?it/s]"
      ]
     },
     "metadata": {},
     "output_type": "display_data"
    },
    {
     "name": "stderr",
     "output_type": "stream",
     "text": [
      "The attention mask and the pad token id were not set. As a consequence, you may observe unexpected behavior. Please pass your input's `attention_mask` to obtain reliable results.\n",
      "Setting `pad_token_id` to `eos_token_id`:2 for open-end generation.\n",
      "/opt/conda/lib/python3.10/site-packages/transformers/generation/utils.py:1665: UserWarning: You are calling .generate() with the `input_ids` being on a device type different than your model's device. `input_ids` is on cpu, whereas the model is on cuda. You may experience unexpected behaviors or slower generation. Please make sure that you have put `input_ids` to the correct device by calling for example input_ids = input_ids.to('cuda') before running `.generate()`.\n",
      "  warnings.warn(\n",
      "The attention mask and the pad token id were not set. As a consequence, you may observe unexpected behavior. Please pass your input's `attention_mask` to obtain reliable results.\n",
      "Setting `pad_token_id` to `eos_token_id`:2 for open-end generation.\n"
     ]
    },
    {
     "name": "stdout",
     "output_type": "stream",
     "text": [
      "generated response for description 0\n"
     ]
    },
    {
     "name": "stderr",
     "output_type": "stream",
     "text": [
      "The attention mask and the pad token id were not set. As a consequence, you may observe unexpected behavior. Please pass your input's `attention_mask` to obtain reliable results.\n",
      "Setting `pad_token_id` to `eos_token_id`:2 for open-end generation.\n"
     ]
    },
    {
     "name": "stdout",
     "output_type": "stream",
     "text": [
      "generated response for description 1\n"
     ]
    },
    {
     "name": "stderr",
     "output_type": "stream",
     "text": [
      "The attention mask and the pad token id were not set. As a consequence, you may observe unexpected behavior. Please pass your input's `attention_mask` to obtain reliable results.\n",
      "Setting `pad_token_id` to `eos_token_id`:2 for open-end generation.\n"
     ]
    },
    {
     "name": "stdout",
     "output_type": "stream",
     "text": [
      "generated response for description 2\n"
     ]
    },
    {
     "name": "stderr",
     "output_type": "stream",
     "text": [
      "The attention mask and the pad token id were not set. As a consequence, you may observe unexpected behavior. Please pass your input's `attention_mask` to obtain reliable results.\n",
      "Setting `pad_token_id` to `eos_token_id`:2 for open-end generation.\n"
     ]
    },
    {
     "name": "stdout",
     "output_type": "stream",
     "text": [
      "generated response for description 3\n"
     ]
    },
    {
     "name": "stderr",
     "output_type": "stream",
     "text": [
      "The attention mask and the pad token id were not set. As a consequence, you may observe unexpected behavior. Please pass your input's `attention_mask` to obtain reliable results.\n",
      "Setting `pad_token_id` to `eos_token_id`:2 for open-end generation.\n"
     ]
    },
    {
     "name": "stdout",
     "output_type": "stream",
     "text": [
      "generated response for description 4\n"
     ]
    },
    {
     "name": "stderr",
     "output_type": "stream",
     "text": [
      "The attention mask and the pad token id were not set. As a consequence, you may observe unexpected behavior. Please pass your input's `attention_mask` to obtain reliable results.\n",
      "Setting `pad_token_id` to `eos_token_id`:2 for open-end generation.\n"
     ]
    },
    {
     "name": "stdout",
     "output_type": "stream",
     "text": [
      "generated response for description 5\n"
     ]
    },
    {
     "name": "stderr",
     "output_type": "stream",
     "text": [
      "The attention mask and the pad token id were not set. As a consequence, you may observe unexpected behavior. Please pass your input's `attention_mask` to obtain reliable results.\n",
      "Setting `pad_token_id` to `eos_token_id`:2 for open-end generation.\n"
     ]
    },
    {
     "name": "stdout",
     "output_type": "stream",
     "text": [
      "generated response for description 6\n"
     ]
    },
    {
     "name": "stderr",
     "output_type": "stream",
     "text": [
      "The attention mask and the pad token id were not set. As a consequence, you may observe unexpected behavior. Please pass your input's `attention_mask` to obtain reliable results.\n",
      "Setting `pad_token_id` to `eos_token_id`:2 for open-end generation.\n"
     ]
    },
    {
     "name": "stdout",
     "output_type": "stream",
     "text": [
      "generated response for description 7\n"
     ]
    },
    {
     "name": "stderr",
     "output_type": "stream",
     "text": [
      "The attention mask and the pad token id were not set. As a consequence, you may observe unexpected behavior. Please pass your input's `attention_mask` to obtain reliable results.\n",
      "Setting `pad_token_id` to `eos_token_id`:2 for open-end generation.\n"
     ]
    },
    {
     "name": "stdout",
     "output_type": "stream",
     "text": [
      "generated response for description 8\n"
     ]
    },
    {
     "name": "stderr",
     "output_type": "stream",
     "text": [
      "The attention mask and the pad token id were not set. As a consequence, you may observe unexpected behavior. Please pass your input's `attention_mask` to obtain reliable results.\n",
      "Setting `pad_token_id` to `eos_token_id`:2 for open-end generation.\n"
     ]
    },
    {
     "name": "stdout",
     "output_type": "stream",
     "text": [
      "generated response for description 9\n"
     ]
    },
    {
     "name": "stderr",
     "output_type": "stream",
     "text": [
      "The attention mask and the pad token id were not set. As a consequence, you may observe unexpected behavior. Please pass your input's `attention_mask` to obtain reliable results.\n",
      "Setting `pad_token_id` to `eos_token_id`:2 for open-end generation.\n"
     ]
    },
    {
     "name": "stdout",
     "output_type": "stream",
     "text": [
      "generated response for description 10\n"
     ]
    },
    {
     "name": "stderr",
     "output_type": "stream",
     "text": [
      "The attention mask and the pad token id were not set. As a consequence, you may observe unexpected behavior. Please pass your input's `attention_mask` to obtain reliable results.\n",
      "Setting `pad_token_id` to `eos_token_id`:2 for open-end generation.\n"
     ]
    },
    {
     "name": "stdout",
     "output_type": "stream",
     "text": [
      "generated response for description 11\n"
     ]
    },
    {
     "name": "stderr",
     "output_type": "stream",
     "text": [
      "The attention mask and the pad token id were not set. As a consequence, you may observe unexpected behavior. Please pass your input's `attention_mask` to obtain reliable results.\n",
      "Setting `pad_token_id` to `eos_token_id`:2 for open-end generation.\n"
     ]
    },
    {
     "name": "stdout",
     "output_type": "stream",
     "text": [
      "generated response for description 12\n",
      "generated response for description 13\n",
      "took 1599.318050146103s\n",
      "generating for checkpoint checkpoint-325\n"
     ]
    },
    {
     "data": {
      "application/vnd.jupyter.widget-view+json": {
       "model_id": "dbc75b15ac4249cba7d4b8c26439c4b7",
       "version_major": 2,
       "version_minor": 0
      },
      "text/plain": [
       "Loading checkpoint shards:   0%|          | 0/3 [00:00<?, ?it/s]"
      ]
     },
     "metadata": {},
     "output_type": "display_data"
    },
    {
     "name": "stderr",
     "output_type": "stream",
     "text": [
      "The attention mask and the pad token id were not set. As a consequence, you may observe unexpected behavior. Please pass your input's `attention_mask` to obtain reliable results.\n",
      "Setting `pad_token_id` to `eos_token_id`:2 for open-end generation.\n",
      "/opt/conda/lib/python3.10/site-packages/transformers/generation/utils.py:1665: UserWarning: You are calling .generate() with the `input_ids` being on a device type different than your model's device. `input_ids` is on cpu, whereas the model is on cuda. You may experience unexpected behaviors or slower generation. Please make sure that you have put `input_ids` to the correct device by calling for example input_ids = input_ids.to('cuda') before running `.generate()`.\n",
      "  warnings.warn(\n",
      "The attention mask and the pad token id were not set. As a consequence, you may observe unexpected behavior. Please pass your input's `attention_mask` to obtain reliable results.\n",
      "Setting `pad_token_id` to `eos_token_id`:2 for open-end generation.\n"
     ]
    },
    {
     "name": "stdout",
     "output_type": "stream",
     "text": [
      "generated response for description 0\n"
     ]
    },
    {
     "name": "stderr",
     "output_type": "stream",
     "text": [
      "The attention mask and the pad token id were not set. As a consequence, you may observe unexpected behavior. Please pass your input's `attention_mask` to obtain reliable results.\n",
      "Setting `pad_token_id` to `eos_token_id`:2 for open-end generation.\n"
     ]
    },
    {
     "name": "stdout",
     "output_type": "stream",
     "text": [
      "generated response for description 1\n"
     ]
    },
    {
     "name": "stderr",
     "output_type": "stream",
     "text": [
      "The attention mask and the pad token id were not set. As a consequence, you may observe unexpected behavior. Please pass your input's `attention_mask` to obtain reliable results.\n",
      "Setting `pad_token_id` to `eos_token_id`:2 for open-end generation.\n"
     ]
    },
    {
     "name": "stdout",
     "output_type": "stream",
     "text": [
      "generated response for description 2\n"
     ]
    },
    {
     "name": "stderr",
     "output_type": "stream",
     "text": [
      "The attention mask and the pad token id were not set. As a consequence, you may observe unexpected behavior. Please pass your input's `attention_mask` to obtain reliable results.\n",
      "Setting `pad_token_id` to `eos_token_id`:2 for open-end generation.\n"
     ]
    },
    {
     "name": "stdout",
     "output_type": "stream",
     "text": [
      "generated response for description 3\n"
     ]
    },
    {
     "name": "stderr",
     "output_type": "stream",
     "text": [
      "The attention mask and the pad token id were not set. As a consequence, you may observe unexpected behavior. Please pass your input's `attention_mask` to obtain reliable results.\n",
      "Setting `pad_token_id` to `eos_token_id`:2 for open-end generation.\n"
     ]
    },
    {
     "name": "stdout",
     "output_type": "stream",
     "text": [
      "generated response for description 4\n"
     ]
    },
    {
     "name": "stderr",
     "output_type": "stream",
     "text": [
      "The attention mask and the pad token id were not set. As a consequence, you may observe unexpected behavior. Please pass your input's `attention_mask` to obtain reliable results.\n",
      "Setting `pad_token_id` to `eos_token_id`:2 for open-end generation.\n"
     ]
    },
    {
     "name": "stdout",
     "output_type": "stream",
     "text": [
      "generated response for description 5\n"
     ]
    },
    {
     "name": "stderr",
     "output_type": "stream",
     "text": [
      "The attention mask and the pad token id were not set. As a consequence, you may observe unexpected behavior. Please pass your input's `attention_mask` to obtain reliable results.\n",
      "Setting `pad_token_id` to `eos_token_id`:2 for open-end generation.\n"
     ]
    },
    {
     "name": "stdout",
     "output_type": "stream",
     "text": [
      "generated response for description 6\n"
     ]
    },
    {
     "name": "stderr",
     "output_type": "stream",
     "text": [
      "The attention mask and the pad token id were not set. As a consequence, you may observe unexpected behavior. Please pass your input's `attention_mask` to obtain reliable results.\n",
      "Setting `pad_token_id` to `eos_token_id`:2 for open-end generation.\n"
     ]
    },
    {
     "name": "stdout",
     "output_type": "stream",
     "text": [
      "generated response for description 7\n"
     ]
    },
    {
     "name": "stderr",
     "output_type": "stream",
     "text": [
      "The attention mask and the pad token id were not set. As a consequence, you may observe unexpected behavior. Please pass your input's `attention_mask` to obtain reliable results.\n",
      "Setting `pad_token_id` to `eos_token_id`:2 for open-end generation.\n"
     ]
    },
    {
     "name": "stdout",
     "output_type": "stream",
     "text": [
      "generated response for description 8\n"
     ]
    },
    {
     "name": "stderr",
     "output_type": "stream",
     "text": [
      "The attention mask and the pad token id were not set. As a consequence, you may observe unexpected behavior. Please pass your input's `attention_mask` to obtain reliable results.\n",
      "Setting `pad_token_id` to `eos_token_id`:2 for open-end generation.\n"
     ]
    },
    {
     "name": "stdout",
     "output_type": "stream",
     "text": [
      "generated response for description 9\n"
     ]
    },
    {
     "name": "stderr",
     "output_type": "stream",
     "text": [
      "The attention mask and the pad token id were not set. As a consequence, you may observe unexpected behavior. Please pass your input's `attention_mask` to obtain reliable results.\n",
      "Setting `pad_token_id` to `eos_token_id`:2 for open-end generation.\n"
     ]
    },
    {
     "name": "stdout",
     "output_type": "stream",
     "text": [
      "generated response for description 10\n"
     ]
    },
    {
     "name": "stderr",
     "output_type": "stream",
     "text": [
      "The attention mask and the pad token id were not set. As a consequence, you may observe unexpected behavior. Please pass your input's `attention_mask` to obtain reliable results.\n",
      "Setting `pad_token_id` to `eos_token_id`:2 for open-end generation.\n"
     ]
    },
    {
     "name": "stdout",
     "output_type": "stream",
     "text": [
      "generated response for description 11\n"
     ]
    },
    {
     "name": "stderr",
     "output_type": "stream",
     "text": [
      "The attention mask and the pad token id were not set. As a consequence, you may observe unexpected behavior. Please pass your input's `attention_mask` to obtain reliable results.\n",
      "Setting `pad_token_id` to `eos_token_id`:2 for open-end generation.\n"
     ]
    },
    {
     "name": "stdout",
     "output_type": "stream",
     "text": [
      "generated response for description 12\n",
      "generated response for description 13\n",
      "took 1861.3288190364838s\n",
      "generating for checkpoint checkpoint-350\n"
     ]
    },
    {
     "data": {
      "application/vnd.jupyter.widget-view+json": {
       "model_id": "ac4d434132b749bead6f581173a8d5f4",
       "version_major": 2,
       "version_minor": 0
      },
      "text/plain": [
       "Loading checkpoint shards:   0%|          | 0/3 [00:00<?, ?it/s]"
      ]
     },
     "metadata": {},
     "output_type": "display_data"
    },
    {
     "name": "stderr",
     "output_type": "stream",
     "text": [
      "The attention mask and the pad token id were not set. As a consequence, you may observe unexpected behavior. Please pass your input's `attention_mask` to obtain reliable results.\n",
      "Setting `pad_token_id` to `eos_token_id`:2 for open-end generation.\n",
      "/opt/conda/lib/python3.10/site-packages/transformers/generation/utils.py:1665: UserWarning: You are calling .generate() with the `input_ids` being on a device type different than your model's device. `input_ids` is on cpu, whereas the model is on cuda. You may experience unexpected behaviors or slower generation. Please make sure that you have put `input_ids` to the correct device by calling for example input_ids = input_ids.to('cuda') before running `.generate()`.\n",
      "  warnings.warn(\n",
      "The attention mask and the pad token id were not set. As a consequence, you may observe unexpected behavior. Please pass your input's `attention_mask` to obtain reliable results.\n",
      "Setting `pad_token_id` to `eos_token_id`:2 for open-end generation.\n"
     ]
    },
    {
     "name": "stdout",
     "output_type": "stream",
     "text": [
      "generated response for description 0\n"
     ]
    },
    {
     "name": "stderr",
     "output_type": "stream",
     "text": [
      "The attention mask and the pad token id were not set. As a consequence, you may observe unexpected behavior. Please pass your input's `attention_mask` to obtain reliable results.\n",
      "Setting `pad_token_id` to `eos_token_id`:2 for open-end generation.\n"
     ]
    },
    {
     "name": "stdout",
     "output_type": "stream",
     "text": [
      "generated response for description 1\n"
     ]
    },
    {
     "name": "stderr",
     "output_type": "stream",
     "text": [
      "The attention mask and the pad token id were not set. As a consequence, you may observe unexpected behavior. Please pass your input's `attention_mask` to obtain reliable results.\n",
      "Setting `pad_token_id` to `eos_token_id`:2 for open-end generation.\n"
     ]
    },
    {
     "name": "stdout",
     "output_type": "stream",
     "text": [
      "generated response for description 2\n"
     ]
    },
    {
     "name": "stderr",
     "output_type": "stream",
     "text": [
      "The attention mask and the pad token id were not set. As a consequence, you may observe unexpected behavior. Please pass your input's `attention_mask` to obtain reliable results.\n",
      "Setting `pad_token_id` to `eos_token_id`:2 for open-end generation.\n"
     ]
    },
    {
     "name": "stdout",
     "output_type": "stream",
     "text": [
      "generated response for description 3\n"
     ]
    },
    {
     "name": "stderr",
     "output_type": "stream",
     "text": [
      "The attention mask and the pad token id were not set. As a consequence, you may observe unexpected behavior. Please pass your input's `attention_mask` to obtain reliable results.\n",
      "Setting `pad_token_id` to `eos_token_id`:2 for open-end generation.\n"
     ]
    },
    {
     "name": "stdout",
     "output_type": "stream",
     "text": [
      "generated response for description 4\n"
     ]
    },
    {
     "name": "stderr",
     "output_type": "stream",
     "text": [
      "The attention mask and the pad token id were not set. As a consequence, you may observe unexpected behavior. Please pass your input's `attention_mask` to obtain reliable results.\n",
      "Setting `pad_token_id` to `eos_token_id`:2 for open-end generation.\n"
     ]
    },
    {
     "name": "stdout",
     "output_type": "stream",
     "text": [
      "generated response for description 5\n"
     ]
    },
    {
     "name": "stderr",
     "output_type": "stream",
     "text": [
      "The attention mask and the pad token id were not set. As a consequence, you may observe unexpected behavior. Please pass your input's `attention_mask` to obtain reliable results.\n",
      "Setting `pad_token_id` to `eos_token_id`:2 for open-end generation.\n"
     ]
    },
    {
     "name": "stdout",
     "output_type": "stream",
     "text": [
      "generated response for description 6\n"
     ]
    },
    {
     "name": "stderr",
     "output_type": "stream",
     "text": [
      "The attention mask and the pad token id were not set. As a consequence, you may observe unexpected behavior. Please pass your input's `attention_mask` to obtain reliable results.\n",
      "Setting `pad_token_id` to `eos_token_id`:2 for open-end generation.\n"
     ]
    },
    {
     "name": "stdout",
     "output_type": "stream",
     "text": [
      "generated response for description 7\n"
     ]
    },
    {
     "name": "stderr",
     "output_type": "stream",
     "text": [
      "The attention mask and the pad token id were not set. As a consequence, you may observe unexpected behavior. Please pass your input's `attention_mask` to obtain reliable results.\n",
      "Setting `pad_token_id` to `eos_token_id`:2 for open-end generation.\n"
     ]
    },
    {
     "name": "stdout",
     "output_type": "stream",
     "text": [
      "generated response for description 8\n"
     ]
    },
    {
     "name": "stderr",
     "output_type": "stream",
     "text": [
      "The attention mask and the pad token id were not set. As a consequence, you may observe unexpected behavior. Please pass your input's `attention_mask` to obtain reliable results.\n",
      "Setting `pad_token_id` to `eos_token_id`:2 for open-end generation.\n"
     ]
    },
    {
     "name": "stdout",
     "output_type": "stream",
     "text": [
      "generated response for description 9\n"
     ]
    },
    {
     "name": "stderr",
     "output_type": "stream",
     "text": [
      "The attention mask and the pad token id were not set. As a consequence, you may observe unexpected behavior. Please pass your input's `attention_mask` to obtain reliable results.\n",
      "Setting `pad_token_id` to `eos_token_id`:2 for open-end generation.\n"
     ]
    },
    {
     "name": "stdout",
     "output_type": "stream",
     "text": [
      "generated response for description 10\n"
     ]
    },
    {
     "name": "stderr",
     "output_type": "stream",
     "text": [
      "The attention mask and the pad token id were not set. As a consequence, you may observe unexpected behavior. Please pass your input's `attention_mask` to obtain reliable results.\n",
      "Setting `pad_token_id` to `eos_token_id`:2 for open-end generation.\n"
     ]
    },
    {
     "name": "stdout",
     "output_type": "stream",
     "text": [
      "generated response for description 11\n"
     ]
    },
    {
     "name": "stderr",
     "output_type": "stream",
     "text": [
      "The attention mask and the pad token id were not set. As a consequence, you may observe unexpected behavior. Please pass your input's `attention_mask` to obtain reliable results.\n",
      "Setting `pad_token_id` to `eos_token_id`:2 for open-end generation.\n"
     ]
    },
    {
     "name": "stdout",
     "output_type": "stream",
     "text": [
      "generated response for description 12\n",
      "generated response for description 13\n",
      "took 1841.849980354309s\n",
      "generating for checkpoint checkpoint-375\n"
     ]
    },
    {
     "data": {
      "application/vnd.jupyter.widget-view+json": {
       "model_id": "18836fbbce184b998af745082023866f",
       "version_major": 2,
       "version_minor": 0
      },
      "text/plain": [
       "Loading checkpoint shards:   0%|          | 0/3 [00:00<?, ?it/s]"
      ]
     },
     "metadata": {},
     "output_type": "display_data"
    },
    {
     "name": "stderr",
     "output_type": "stream",
     "text": [
      "The attention mask and the pad token id were not set. As a consequence, you may observe unexpected behavior. Please pass your input's `attention_mask` to obtain reliable results.\n",
      "Setting `pad_token_id` to `eos_token_id`:2 for open-end generation.\n",
      "/opt/conda/lib/python3.10/site-packages/transformers/generation/utils.py:1665: UserWarning: You are calling .generate() with the `input_ids` being on a device type different than your model's device. `input_ids` is on cpu, whereas the model is on cuda. You may experience unexpected behaviors or slower generation. Please make sure that you have put `input_ids` to the correct device by calling for example input_ids = input_ids.to('cuda') before running `.generate()`.\n",
      "  warnings.warn(\n",
      "The attention mask and the pad token id were not set. As a consequence, you may observe unexpected behavior. Please pass your input's `attention_mask` to obtain reliable results.\n",
      "Setting `pad_token_id` to `eos_token_id`:2 for open-end generation.\n"
     ]
    },
    {
     "name": "stdout",
     "output_type": "stream",
     "text": [
      "generated response for description 0\n"
     ]
    },
    {
     "name": "stderr",
     "output_type": "stream",
     "text": [
      "The attention mask and the pad token id were not set. As a consequence, you may observe unexpected behavior. Please pass your input's `attention_mask` to obtain reliable results.\n",
      "Setting `pad_token_id` to `eos_token_id`:2 for open-end generation.\n"
     ]
    },
    {
     "name": "stdout",
     "output_type": "stream",
     "text": [
      "generated response for description 1\n"
     ]
    },
    {
     "name": "stderr",
     "output_type": "stream",
     "text": [
      "The attention mask and the pad token id were not set. As a consequence, you may observe unexpected behavior. Please pass your input's `attention_mask` to obtain reliable results.\n",
      "Setting `pad_token_id` to `eos_token_id`:2 for open-end generation.\n"
     ]
    },
    {
     "name": "stdout",
     "output_type": "stream",
     "text": [
      "generated response for description 2\n"
     ]
    },
    {
     "name": "stderr",
     "output_type": "stream",
     "text": [
      "The attention mask and the pad token id were not set. As a consequence, you may observe unexpected behavior. Please pass your input's `attention_mask` to obtain reliable results.\n",
      "Setting `pad_token_id` to `eos_token_id`:2 for open-end generation.\n"
     ]
    },
    {
     "name": "stdout",
     "output_type": "stream",
     "text": [
      "generated response for description 3\n"
     ]
    },
    {
     "name": "stderr",
     "output_type": "stream",
     "text": [
      "The attention mask and the pad token id were not set. As a consequence, you may observe unexpected behavior. Please pass your input's `attention_mask` to obtain reliable results.\n",
      "Setting `pad_token_id` to `eos_token_id`:2 for open-end generation.\n"
     ]
    },
    {
     "name": "stdout",
     "output_type": "stream",
     "text": [
      "generated response for description 4\n"
     ]
    },
    {
     "name": "stderr",
     "output_type": "stream",
     "text": [
      "The attention mask and the pad token id were not set. As a consequence, you may observe unexpected behavior. Please pass your input's `attention_mask` to obtain reliable results.\n",
      "Setting `pad_token_id` to `eos_token_id`:2 for open-end generation.\n"
     ]
    },
    {
     "name": "stdout",
     "output_type": "stream",
     "text": [
      "generated response for description 5\n"
     ]
    },
    {
     "name": "stderr",
     "output_type": "stream",
     "text": [
      "The attention mask and the pad token id were not set. As a consequence, you may observe unexpected behavior. Please pass your input's `attention_mask` to obtain reliable results.\n",
      "Setting `pad_token_id` to `eos_token_id`:2 for open-end generation.\n"
     ]
    },
    {
     "name": "stdout",
     "output_type": "stream",
     "text": [
      "generated response for description 6\n"
     ]
    },
    {
     "name": "stderr",
     "output_type": "stream",
     "text": [
      "The attention mask and the pad token id were not set. As a consequence, you may observe unexpected behavior. Please pass your input's `attention_mask` to obtain reliable results.\n",
      "Setting `pad_token_id` to `eos_token_id`:2 for open-end generation.\n"
     ]
    },
    {
     "name": "stdout",
     "output_type": "stream",
     "text": [
      "generated response for description 7\n"
     ]
    },
    {
     "name": "stderr",
     "output_type": "stream",
     "text": [
      "The attention mask and the pad token id were not set. As a consequence, you may observe unexpected behavior. Please pass your input's `attention_mask` to obtain reliable results.\n",
      "Setting `pad_token_id` to `eos_token_id`:2 for open-end generation.\n"
     ]
    },
    {
     "name": "stdout",
     "output_type": "stream",
     "text": [
      "generated response for description 8\n"
     ]
    },
    {
     "name": "stderr",
     "output_type": "stream",
     "text": [
      "The attention mask and the pad token id were not set. As a consequence, you may observe unexpected behavior. Please pass your input's `attention_mask` to obtain reliable results.\n",
      "Setting `pad_token_id` to `eos_token_id`:2 for open-end generation.\n"
     ]
    },
    {
     "name": "stdout",
     "output_type": "stream",
     "text": [
      "generated response for description 9\n"
     ]
    },
    {
     "name": "stderr",
     "output_type": "stream",
     "text": [
      "The attention mask and the pad token id were not set. As a consequence, you may observe unexpected behavior. Please pass your input's `attention_mask` to obtain reliable results.\n",
      "Setting `pad_token_id` to `eos_token_id`:2 for open-end generation.\n"
     ]
    },
    {
     "name": "stdout",
     "output_type": "stream",
     "text": [
      "generated response for description 10\n"
     ]
    },
    {
     "name": "stderr",
     "output_type": "stream",
     "text": [
      "The attention mask and the pad token id were not set. As a consequence, you may observe unexpected behavior. Please pass your input's `attention_mask` to obtain reliable results.\n",
      "Setting `pad_token_id` to `eos_token_id`:2 for open-end generation.\n"
     ]
    },
    {
     "name": "stdout",
     "output_type": "stream",
     "text": [
      "generated response for description 11\n"
     ]
    },
    {
     "name": "stderr",
     "output_type": "stream",
     "text": [
      "The attention mask and the pad token id were not set. As a consequence, you may observe unexpected behavior. Please pass your input's `attention_mask` to obtain reliable results.\n",
      "Setting `pad_token_id` to `eos_token_id`:2 for open-end generation.\n"
     ]
    },
    {
     "name": "stdout",
     "output_type": "stream",
     "text": [
      "generated response for description 12\n",
      "generated response for description 13\n",
      "took 1505.0307884216309s\n",
      "generating for checkpoint checkpoint-400\n"
     ]
    },
    {
     "data": {
      "application/vnd.jupyter.widget-view+json": {
       "model_id": "866a45f682d04cfc8aa2bf6484529d3a",
       "version_major": 2,
       "version_minor": 0
      },
      "text/plain": [
       "Loading checkpoint shards:   0%|          | 0/3 [00:00<?, ?it/s]"
      ]
     },
     "metadata": {},
     "output_type": "display_data"
    },
    {
     "name": "stderr",
     "output_type": "stream",
     "text": [
      "The attention mask and the pad token id were not set. As a consequence, you may observe unexpected behavior. Please pass your input's `attention_mask` to obtain reliable results.\n",
      "Setting `pad_token_id` to `eos_token_id`:2 for open-end generation.\n",
      "/opt/conda/lib/python3.10/site-packages/transformers/generation/utils.py:1665: UserWarning: You are calling .generate() with the `input_ids` being on a device type different than your model's device. `input_ids` is on cpu, whereas the model is on cuda. You may experience unexpected behaviors or slower generation. Please make sure that you have put `input_ids` to the correct device by calling for example input_ids = input_ids.to('cuda') before running `.generate()`.\n",
      "  warnings.warn(\n",
      "The attention mask and the pad token id were not set. As a consequence, you may observe unexpected behavior. Please pass your input's `attention_mask` to obtain reliable results.\n",
      "Setting `pad_token_id` to `eos_token_id`:2 for open-end generation.\n"
     ]
    },
    {
     "name": "stdout",
     "output_type": "stream",
     "text": [
      "generated response for description 0\n"
     ]
    },
    {
     "name": "stderr",
     "output_type": "stream",
     "text": [
      "The attention mask and the pad token id were not set. As a consequence, you may observe unexpected behavior. Please pass your input's `attention_mask` to obtain reliable results.\n",
      "Setting `pad_token_id` to `eos_token_id`:2 for open-end generation.\n"
     ]
    },
    {
     "name": "stdout",
     "output_type": "stream",
     "text": [
      "generated response for description 1\n"
     ]
    },
    {
     "name": "stderr",
     "output_type": "stream",
     "text": [
      "The attention mask and the pad token id were not set. As a consequence, you may observe unexpected behavior. Please pass your input's `attention_mask` to obtain reliable results.\n",
      "Setting `pad_token_id` to `eos_token_id`:2 for open-end generation.\n"
     ]
    },
    {
     "name": "stdout",
     "output_type": "stream",
     "text": [
      "generated response for description 2\n"
     ]
    },
    {
     "name": "stderr",
     "output_type": "stream",
     "text": [
      "The attention mask and the pad token id were not set. As a consequence, you may observe unexpected behavior. Please pass your input's `attention_mask` to obtain reliable results.\n",
      "Setting `pad_token_id` to `eos_token_id`:2 for open-end generation.\n"
     ]
    },
    {
     "name": "stdout",
     "output_type": "stream",
     "text": [
      "generated response for description 3\n"
     ]
    },
    {
     "name": "stderr",
     "output_type": "stream",
     "text": [
      "The attention mask and the pad token id were not set. As a consequence, you may observe unexpected behavior. Please pass your input's `attention_mask` to obtain reliable results.\n",
      "Setting `pad_token_id` to `eos_token_id`:2 for open-end generation.\n"
     ]
    },
    {
     "name": "stdout",
     "output_type": "stream",
     "text": [
      "generated response for description 4\n"
     ]
    },
    {
     "name": "stderr",
     "output_type": "stream",
     "text": [
      "The attention mask and the pad token id were not set. As a consequence, you may observe unexpected behavior. Please pass your input's `attention_mask` to obtain reliable results.\n",
      "Setting `pad_token_id` to `eos_token_id`:2 for open-end generation.\n"
     ]
    },
    {
     "name": "stdout",
     "output_type": "stream",
     "text": [
      "generated response for description 5\n"
     ]
    },
    {
     "name": "stderr",
     "output_type": "stream",
     "text": [
      "The attention mask and the pad token id were not set. As a consequence, you may observe unexpected behavior. Please pass your input's `attention_mask` to obtain reliable results.\n",
      "Setting `pad_token_id` to `eos_token_id`:2 for open-end generation.\n"
     ]
    },
    {
     "name": "stdout",
     "output_type": "stream",
     "text": [
      "generated response for description 6\n"
     ]
    },
    {
     "name": "stderr",
     "output_type": "stream",
     "text": [
      "The attention mask and the pad token id were not set. As a consequence, you may observe unexpected behavior. Please pass your input's `attention_mask` to obtain reliable results.\n",
      "Setting `pad_token_id` to `eos_token_id`:2 for open-end generation.\n"
     ]
    },
    {
     "name": "stdout",
     "output_type": "stream",
     "text": [
      "generated response for description 7\n"
     ]
    },
    {
     "name": "stderr",
     "output_type": "stream",
     "text": [
      "The attention mask and the pad token id were not set. As a consequence, you may observe unexpected behavior. Please pass your input's `attention_mask` to obtain reliable results.\n",
      "Setting `pad_token_id` to `eos_token_id`:2 for open-end generation.\n"
     ]
    },
    {
     "name": "stdout",
     "output_type": "stream",
     "text": [
      "generated response for description 8\n"
     ]
    },
    {
     "name": "stderr",
     "output_type": "stream",
     "text": [
      "The attention mask and the pad token id were not set. As a consequence, you may observe unexpected behavior. Please pass your input's `attention_mask` to obtain reliable results.\n",
      "Setting `pad_token_id` to `eos_token_id`:2 for open-end generation.\n"
     ]
    },
    {
     "name": "stdout",
     "output_type": "stream",
     "text": [
      "generated response for description 9\n"
     ]
    },
    {
     "name": "stderr",
     "output_type": "stream",
     "text": [
      "The attention mask and the pad token id were not set. As a consequence, you may observe unexpected behavior. Please pass your input's `attention_mask` to obtain reliable results.\n",
      "Setting `pad_token_id` to `eos_token_id`:2 for open-end generation.\n"
     ]
    },
    {
     "name": "stdout",
     "output_type": "stream",
     "text": [
      "generated response for description 10\n"
     ]
    },
    {
     "name": "stderr",
     "output_type": "stream",
     "text": [
      "The attention mask and the pad token id were not set. As a consequence, you may observe unexpected behavior. Please pass your input's `attention_mask` to obtain reliable results.\n",
      "Setting `pad_token_id` to `eos_token_id`:2 for open-end generation.\n"
     ]
    },
    {
     "name": "stdout",
     "output_type": "stream",
     "text": [
      "generated response for description 11\n"
     ]
    },
    {
     "name": "stderr",
     "output_type": "stream",
     "text": [
      "The attention mask and the pad token id were not set. As a consequence, you may observe unexpected behavior. Please pass your input's `attention_mask` to obtain reliable results.\n",
      "Setting `pad_token_id` to `eos_token_id`:2 for open-end generation.\n"
     ]
    },
    {
     "name": "stdout",
     "output_type": "stream",
     "text": [
      "generated response for description 12\n",
      "generated response for description 13\n",
      "took 1576.7528460025787s\n"
     ]
    }
   ],
   "source": [
    "datasets = dict()\n",
    "for num in checkpoint_numbers:\n",
    "    del model\n",
    "    model = None\n",
    "    gc.collect()\n",
    "    torch.cuda.empty_cache()\n",
    "    tokenizer, model = release_memory(tokenizer, model)\n",
    "    datasets[f\"checkpoint-{num}\"] = generate_for_checkpoint(f\"checkpoint-{num}\", n_rows=14)\n",
    "    \n",
    "with open('datasets.pickle', 'wb') as handle:\n",
    "    pickle.dump(datasets, handle, protocol=pickle.HIGHEST_PROTOCOL)\n"
   ]
  },
  {
   "cell_type": "code",
   "execution_count": 21,
   "id": "938f0340",
   "metadata": {
    "execution": {
     "iopub.execute_input": "2024-01-08T17:40:24.706217Z",
     "iopub.status.busy": "2024-01-08T17:40:24.705531Z",
     "iopub.status.idle": "2024-01-08T17:40:24.718177Z",
     "shell.execute_reply": "2024-01-08T17:40:24.717207Z"
    },
    "papermill": {
     "duration": 0.108464,
     "end_time": "2024-01-08T17:40:24.720176",
     "exception": false,
     "start_time": "2024-01-08T17:40:24.611712",
     "status": "completed"
    },
    "tags": []
   },
   "outputs": [],
   "source": [
    "with open('datasets.pickle', 'rb') as handle:\n",
    "    test_load = pickle.load(handle)"
   ]
  },
  {
   "cell_type": "code",
   "execution_count": 22,
   "id": "37032085",
   "metadata": {
    "execution": {
     "iopub.execute_input": "2024-01-08T17:40:24.907521Z",
     "iopub.status.busy": "2024-01-08T17:40:24.906694Z",
     "iopub.status.idle": "2024-01-08T17:40:24.976865Z",
     "shell.execute_reply": "2024-01-08T17:40:24.975999Z"
    },
    "papermill": {
     "duration": 0.167735,
     "end_time": "2024-01-08T17:40:24.980754",
     "exception": false,
     "start_time": "2024-01-08T17:40:24.813019",
     "status": "completed"
    },
    "tags": []
   },
   "outputs": [
    {
     "data": {
      "text/plain": [
       "{'checkpoint-25':                                           description  \\\n",
       " 0   The circular arena, constructed with 19 walls,...   \n",
       " 1   The environment is a circle made out of 6 wall...   \n",
       " 2   In this setting, a rectangle is formed with di...   \n",
       " 3   The environment features a rectangle with dime...   \n",
       " 4   The circular arena, having a radius of 2.93 me...   \n",
       " 5   The circular arena, constructed with 12 walls,...   \n",
       " 6   The circular arena, having a radius of 1.73 me...   \n",
       " 7   The circular arena, constructed with 17 walls,...   \n",
       " 8   The rectangular area has dimensions 1.74 m x 3...   \n",
       " 9   A circle with 15 walls forms the structure of ...   \n",
       " 10  The environment is constructed as a rectangula...   \n",
       " 11  The environment is a circular arena with radiu...   \n",
       " 12  With a length of 4.01 meters, width of 6.62 me...   \n",
       " 13  The environment is constructed as a rectangula...   \n",
       " \n",
       "                                         configuration  \\\n",
       " 0   <?xml version=\"1.00\" ?>\\n<config>\\n  <swarm-el...   \n",
       " 1   <?xml version=\"1.00\" ?>\\n<config>\\n  <swarm-el...   \n",
       " 2   <?xml version=\"1.00\" ?>\\n<config>\\n  <swarm-el...   \n",
       " 3   <?xml version=\"1.00\" ?>\\n<config>\\n  <swarm-el...   \n",
       " 4   <?xml version=\"1.00\" ?>\\n<config>\\n  <swarm-el...   \n",
       " 5   <?xml version=\"1.00\" ?>\\n<config>\\n  <swarm-el...   \n",
       " 6   <?xml version=\"1.00\" ?>\\n<config>\\n  <swarm-el...   \n",
       " 7   <?xml version=\"1.00\" ?>\\n<config>\\n  <swarm-el...   \n",
       " 8   <?xml version=\"1.00\" ?>\\n<config>\\n  <swarm-el...   \n",
       " 9   <?xml version=\"1.00\" ?>\\n<config>\\n  <swarm-el...   \n",
       " 10  <?xml version=\"1.00\" ?>\\n<config>\\n  <swarm-el...   \n",
       " 11  <?xml version=\"1.00\" ?>\\n<config>\\n  <swarm-el...   \n",
       " 12  <?xml version=\"1.00\" ?>\\n<config>\\n  <swarm-el...   \n",
       " 13  <?xml version=\"1.00\" ?>\\n<config>\\n  <swarm-el...   \n",
       " \n",
       "                                            parameters  \\\n",
       " 0   MissionParams(arena_params=CircularArena(radiu...   \n",
       " 1   MissionParams(arena_params=CircularArena(radiu...   \n",
       " 2   MissionParams(arena_params=RectangularArena(le...   \n",
       " 3   MissionParams(arena_params=RectangularArena(le...   \n",
       " 4   MissionParams(arena_params=CircularArena(radiu...   \n",
       " 5   MissionParams(arena_params=CircularArena(radiu...   \n",
       " 6   MissionParams(arena_params=CircularArena(radiu...   \n",
       " 7   MissionParams(arena_params=CircularArena(radiu...   \n",
       " 8   MissionParams(arena_params=RectangularArena(le...   \n",
       " 9   MissionParams(arena_params=CircularArena(radiu...   \n",
       " 10  MissionParams(arena_params=RectangularArena(le...   \n",
       " 11  MissionParams(arena_params=CircularArena(radiu...   \n",
       " 12  MissionParams(arena_params=RectangularArena(le...   \n",
       " 13  MissionParams(arena_params=RectangularArena(le...   \n",
       " \n",
       "                                              response  \n",
       " 0   <?xml version=\"1.00\" ?>\\n<config>\\n  <swarm-el...  \n",
       " 1   <?xml version=\"1.00\" ?>\\n<config>\\n  <swarm-el...  \n",
       " 2   <?xml version=\"1.00\" ?>\\n<config>\\n  <swarm-el...  \n",
       " 3   <?xml version=\"1.00\" ?>\\n<config>\\n  <swarm-el...  \n",
       " 4   <?xml version=\"1.00\" ?>\\n<config>\\n  <swarm-el...  \n",
       " 5   <?xml version=\"1.00\" ?>\\n<config>\\n  <swarm-el...  \n",
       " 6   <?xml version=\"1.00\" ?>\\n<config>\\n  <swarm-el...  \n",
       " 7   <?xml version=\"1.00\" ?>\\n<config>\\n  <swarm-el...  \n",
       " 8   <?xml version=\"1.00\" ?>\\n<config>\\n  <swarm-el...  \n",
       " 9   <?xml version=\"1.00\" ?>\\n<config>\\n  <swarm-el...  \n",
       " 10  <?xml version=\"1.00\" ?>\\n<config>\\n  <swarm-el...  \n",
       " 11  <?xml version=\"1.00\" ?>\\n<config>\\n  <swarm-el...  \n",
       " 12  <?xml version=\"1.00\" ?>\\n<config>\\n  <swarm-el...  \n",
       " 13  <?xml version=\"1.00\" ?>\\n<config>\\n  <swarm-el...  ,\n",
       " 'checkpoint-50':                                           description  \\\n",
       " 0   The environment is a circle made out of 10 wal...   \n",
       " 1   The circular arena, constructed with 19 walls,...   \n",
       " 2   The area is a rectangle with dimensions 7.37 x...   \n",
       " 3   The environment is a rectangular area with len...   \n",
       " 4   The environment consists of a rectangular area...   \n",
       " 5   The rectangular space is 4.72 m long, 4.57 m w...   \n",
       " 6   The area is a rectangle with dimensions 4.27 x...   \n",
       " 7   The environment is a rectangular area with len...   \n",
       " 8   The arena has a radius of 4.85 m. 2 lights are...   \n",
       " 9   The rectangular area has dimensions 1.33 m x 3...   \n",
       " 10  The environment is a rectangular area with len...   \n",
       " 11  The area is a rectangle with dimensions 4.33 x...   \n",
       " 12  The environment features a rectangle with dime...   \n",
       " 13  The environment is constructed as a rectangula...   \n",
       " \n",
       "                                         configuration  \\\n",
       " 0   <?xml version=\"1.00\" ?>\\n<config>\\n  <swarm-el...   \n",
       " 1   <?xml version=\"1.00\" ?>\\n<config>\\n  <swarm-el...   \n",
       " 2   <?xml version=\"1.00\" ?>\\n<config>\\n  <swarm-el...   \n",
       " 3   <?xml version=\"1.00\" ?>\\n<config>\\n  <swarm-el...   \n",
       " 4   <?xml version=\"1.00\" ?>\\n<config>\\n  <swarm-el...   \n",
       " 5   <?xml version=\"1.00\" ?>\\n<config>\\n  <swarm-el...   \n",
       " 6   <?xml version=\"1.00\" ?>\\n<config>\\n  <swarm-el...   \n",
       " 7   <?xml version=\"1.00\" ?>\\n<config>\\n  <swarm-el...   \n",
       " 8   <?xml version=\"1.00\" ?>\\n<config>\\n  <swarm-el...   \n",
       " 9   <?xml version=\"1.00\" ?>\\n<config>\\n  <swarm-el...   \n",
       " 10  <?xml version=\"1.00\" ?>\\n<config>\\n  <swarm-el...   \n",
       " 11  <?xml version=\"1.00\" ?>\\n<config>\\n  <swarm-el...   \n",
       " 12  <?xml version=\"1.00\" ?>\\n<config>\\n  <swarm-el...   \n",
       " 13  <?xml version=\"1.00\" ?>\\n<config>\\n  <swarm-el...   \n",
       " \n",
       "                                            parameters  \\\n",
       " 0   MissionParams(arena_params=CircularArena(radiu...   \n",
       " 1   MissionParams(arena_params=CircularArena(radiu...   \n",
       " 2   MissionParams(arena_params=RectangularArena(le...   \n",
       " 3   MissionParams(arena_params=RectangularArena(le...   \n",
       " 4   MissionParams(arena_params=RectangularArena(le...   \n",
       " 5   MissionParams(arena_params=RectangularArena(le...   \n",
       " 6   MissionParams(arena_params=RectangularArena(le...   \n",
       " 7   MissionParams(arena_params=RectangularArena(le...   \n",
       " 8   MissionParams(arena_params=CircularArena(radiu...   \n",
       " 9   MissionParams(arena_params=RectangularArena(le...   \n",
       " 10  MissionParams(arena_params=RectangularArena(le...   \n",
       " 11  MissionParams(arena_params=RectangularArena(le...   \n",
       " 12  MissionParams(arena_params=RectangularArena(le...   \n",
       " 13  MissionParams(arena_params=RectangularArena(le...   \n",
       " \n",
       "                                              response  \n",
       " 0   <?xml version=\"1.00\" ?>\\n<config>\\n  <swarm-el...  \n",
       " 1   <?xml version=\"1.00\" ?>\\n<config>\\n  <swarm-el...  \n",
       " 2   <?xml version=\"1.00\" ?>\\n<config>\\n  <swarm-el...  \n",
       " 3   <?xml version=\"1.00\" ?>\\n<config>\\n  <swarm-el...  \n",
       " 4   <?xml version=\"1.00\" ?>\\n<config>\\n  <swarm-el...  \n",
       " 5   <?xml version=\"1.00\" ?>\\n<config>\\n  <swarm-el...  \n",
       " 6   <?xml version=\"1.00\" ?>\\n<config>\\n  <swarm-el...  \n",
       " 7   <?xml version=\"1.00\" ?>\\n<config>\\n  <swarm-el...  \n",
       " 8   <?xml version=\"1.00\" ?>\\n<config>\\n  <swarm-el...  \n",
       " 9   <?xml version=\"1.00\" ?>\\n<config>\\n  <swarm-el...  \n",
       " 10  <?xml version=\"1.00\" ?>\\n<config>\\n  <swarm-el...  \n",
       " 11  <?xml version=\"1.00\" ?>\\n<config>\\n  <swarm-el...  \n",
       " 12  <?xml version=\"1.00\" ?>\\n<config>\\n  <swarm-el...  \n",
       " 13  <?xml version=\"1.00\" ?>\\n<config>\\n  <swarm-el...  ,\n",
       " 'checkpoint-75':                                           description  \\\n",
       " 0   The environment features a rectangle with dime...   \n",
       " 1   The environment is constructed as a rectangula...   \n",
       " 2   The environment features a circle composed of ...   \n",
       " 3   The circular arena, constructed with 18 walls,...   \n",
       " 4   The area is a rectangle with dimensions 1.98 x...   \n",
       " 5   The circular arena, constructed with 19 walls,...   \n",
       " 6   With a length of 4.72 meters, width of 6.53 me...   \n",
       " 7   The environment is a rectangular area with len...   \n",
       " 8   The environment is constructed as a rectangula...   \n",
       " 9   The environment features a rectangle with dime...   \n",
       " 10  A circle with 4 walls forms the structure of t...   \n",
       " 11  The environment is a circular arena with radiu...   \n",
       " 12  The environment consists of a rectangular area...   \n",
       " 13  The rectangular area has dimensions 3.51 m x 6...   \n",
       " \n",
       "                                         configuration  \\\n",
       " 0   <?xml version=\"1.00\" ?>\\n<config>\\n  <swarm-el...   \n",
       " 1   <?xml version=\"1.00\" ?>\\n<config>\\n  <swarm-el...   \n",
       " 2   <?xml version=\"1.00\" ?>\\n<config>\\n  <swarm-el...   \n",
       " 3   <?xml version=\"1.00\" ?>\\n<config>\\n  <swarm-el...   \n",
       " 4   <?xml version=\"1.00\" ?>\\n<config>\\n  <swarm-el...   \n",
       " 5   <?xml version=\"1.00\" ?>\\n<config>\\n  <swarm-el...   \n",
       " 6   <?xml version=\"1.00\" ?>\\n<config>\\n  <swarm-el...   \n",
       " 7   <?xml version=\"1.00\" ?>\\n<config>\\n  <swarm-el...   \n",
       " 8   <?xml version=\"1.00\" ?>\\n<config>\\n  <swarm-el...   \n",
       " 9   <?xml version=\"1.00\" ?>\\n<config>\\n  <swarm-el...   \n",
       " 10  <?xml version=\"1.00\" ?>\\n<config>\\n  <swarm-el...   \n",
       " 11  <?xml version=\"1.00\" ?>\\n<config>\\n  <swarm-el...   \n",
       " 12  <?xml version=\"1.00\" ?>\\n<config>\\n  <swarm-el...   \n",
       " 13  <?xml version=\"1.00\" ?>\\n<config>\\n  <swarm-el...   \n",
       " \n",
       "                                            parameters  \\\n",
       " 0   MissionParams(arena_params=RectangularArena(le...   \n",
       " 1   MissionParams(arena_params=RectangularArena(le...   \n",
       " 2   MissionParams(arena_params=CircularArena(radiu...   \n",
       " 3   MissionParams(arena_params=CircularArena(radiu...   \n",
       " 4   MissionParams(arena_params=RectangularArena(le...   \n",
       " 5   MissionParams(arena_params=CircularArena(radiu...   \n",
       " 6   MissionParams(arena_params=RectangularArena(le...   \n",
       " 7   MissionParams(arena_params=RectangularArena(le...   \n",
       " 8   MissionParams(arena_params=RectangularArena(le...   \n",
       " 9   MissionParams(arena_params=RectangularArena(le...   \n",
       " 10  MissionParams(arena_params=CircularArena(radiu...   \n",
       " 11  MissionParams(arena_params=CircularArena(radiu...   \n",
       " 12  MissionParams(arena_params=RectangularArena(le...   \n",
       " 13  MissionParams(arena_params=RectangularArena(le...   \n",
       " \n",
       "                                              response  \n",
       " 0   <?xml version=\"1.00\" ?>\\n<config>\\n  <swarm-el...  \n",
       " 1   <?xml version=\"1.00\" ?>\\n<config>\\n  <swarm-el...  \n",
       " 2   <?xml version=\"1.00\" ?>\\n<config>\\n  <swarm-el...  \n",
       " 3   <?xml version=\"1.00\" ?>\\n<config>\\n  <swarm-el...  \n",
       " 4   <?xml version=\"1.00\" ?>\\n<config>\\n  <swarm-el...  \n",
       " 5   <?xml version=\"1.00\" ?>\\n<config>\\n  <swarm-el...  \n",
       " 6   <?xml version=\"1.00\" ?>\\n<config>\\n  <swarm-el...  \n",
       " 7   <?xml version=\"1.00\" ?>\\n<config>\\n  <swarm-el...  \n",
       " 8   <?xml version=\"1.00\" ?>\\n<config>\\n  <swarm-el...  \n",
       " 9   <?xml version=\"1.00\" ?>\\n<config>\\n  <swarm-el...  \n",
       " 10  <?xml version=\"1.00\" ?>\\n<config>\\n  <swarm-el...  \n",
       " 11  <?xml version=\"1.00\" ?>\\n<config>\\n  <swarm-el...  \n",
       " 12  <?xml version=\"1.00\" ?>\\n<config>\\n  <swarm-el...  \n",
       " 13  <?xml version=\"1.00\" ?>\\n<config>\\n  <swarm-el...  ,\n",
       " 'checkpoint-100':                                           description  \\\n",
       " 0   The circular arena, constructed with 19 walls,...   \n",
       " 1   The environment consists of a rectangular area...   \n",
       " 2   The area is a rectangle with dimensions 3.74 x...   \n",
       " 3   In this setting, a circular arena with a radiu...   \n",
       " 4   The environment features a rectangle with dime...   \n",
       " 5   The rectangular space is 6.84 m long, 3.63 m w...   \n",
       " 6   A rectangular area, with a length of 2.25 mete...   \n",
       " 7   The environment is a rectangular area with len...   \n",
       " 8   The environment is a rectangular area with len...   \n",
       " 9   With a radius of 1.34 meters, the circular are...   \n",
       " 10  A circle with 3 walls forms the structure of t...   \n",
       " 11  The environment consists of a rectangular area...   \n",
       " 12  The environment is a circular arena with radiu...   \n",
       " 13  The rectangular area has dimensions 2.47 m x 7...   \n",
       " \n",
       "                                         configuration  \\\n",
       " 0   <?xml version=\"1.00\" ?>\\n<config>\\n  <swarm-el...   \n",
       " 1   <?xml version=\"1.00\" ?>\\n<config>\\n  <swarm-el...   \n",
       " 2   <?xml version=\"1.00\" ?>\\n<config>\\n  <swarm-el...   \n",
       " 3   <?xml version=\"1.00\" ?>\\n<config>\\n  <swarm-el...   \n",
       " 4   <?xml version=\"1.00\" ?>\\n<config>\\n  <swarm-el...   \n",
       " 5   <?xml version=\"1.00\" ?>\\n<config>\\n  <swarm-el...   \n",
       " 6   <?xml version=\"1.00\" ?>\\n<config>\\n  <swarm-el...   \n",
       " 7   <?xml version=\"1.00\" ?>\\n<config>\\n  <swarm-el...   \n",
       " 8   <?xml version=\"1.00\" ?>\\n<config>\\n  <swarm-el...   \n",
       " 9   <?xml version=\"1.00\" ?>\\n<config>\\n  <swarm-el...   \n",
       " 10  <?xml version=\"1.00\" ?>\\n<config>\\n  <swarm-el...   \n",
       " 11  <?xml version=\"1.00\" ?>\\n<config>\\n  <swarm-el...   \n",
       " 12  <?xml version=\"1.00\" ?>\\n<config>\\n  <swarm-el...   \n",
       " 13  <?xml version=\"1.00\" ?>\\n<config>\\n  <swarm-el...   \n",
       " \n",
       "                                            parameters  \\\n",
       " 0   MissionParams(arena_params=CircularArena(radiu...   \n",
       " 1   MissionParams(arena_params=RectangularArena(le...   \n",
       " 2   MissionParams(arena_params=RectangularArena(le...   \n",
       " 3   MissionParams(arena_params=CircularArena(radiu...   \n",
       " 4   MissionParams(arena_params=RectangularArena(le...   \n",
       " 5   MissionParams(arena_params=RectangularArena(le...   \n",
       " 6   MissionParams(arena_params=RectangularArena(le...   \n",
       " 7   MissionParams(arena_params=RectangularArena(le...   \n",
       " 8   MissionParams(arena_params=RectangularArena(le...   \n",
       " 9   MissionParams(arena_params=CircularArena(radiu...   \n",
       " 10  MissionParams(arena_params=CircularArena(radiu...   \n",
       " 11  MissionParams(arena_params=RectangularArena(le...   \n",
       " 12  MissionParams(arena_params=CircularArena(radiu...   \n",
       " 13  MissionParams(arena_params=RectangularArena(le...   \n",
       " \n",
       "                                              response  \n",
       " 0   <?xml version=\"1.00\" ?>\\n<config>\\n  <swarm-el...  \n",
       " 1   <?xml version=\"1.00\" ?>\\n<config>\\n  <swarm-el...  \n",
       " 2   <?xml version=\"1.00\" ?>\\n<config>\\n  <swarm-el...  \n",
       " 3   <?xml version=\"1.00\" ?>\\n<config>\\n  <swarm-el...  \n",
       " 4   <?xml version=\"1.00\" ?>\\n<config>\\n  <swarm-el...  \n",
       " 5   <?xml version=\"1.00\" ?>\\n<config>\\n  <swarm-el...  \n",
       " 6   <?xml version=\"1.00\" ?>\\n<config>\\n  <swarm-el...  \n",
       " 7   <?xml version=\"1.00\" ?>\\n<config>\\n  <swarm-el...  \n",
       " 8   <?xml version=\"1.00\" ?>\\n<config>\\n  <swarm-el...  \n",
       " 9   <?xml version=\"1.00\" ?>\\n<config>\\n  <swarm-el...  \n",
       " 10  <?xml version=\"1.00\" ?>\\n<config>\\n  <swarm-el...  \n",
       " 11  <?xml version=\"1.00\" ?>\\n<config>\\n  <swarm-el...  \n",
       " 12  <?xml version=\"1.00\" ?>\\n<config>\\n  <swarm-el...  \n",
       " 13  <?xml version=\"1.00\" ?>\\n<config>\\n  <swarm-el...  ,\n",
       " 'checkpoint-125':                                           description  \\\n",
       " 0   The environment is constructed as a rectangula...   \n",
       " 1   With a length of 3.99 meters, width of 3.92 me...   \n",
       " 2   The environment features a circle composed of ...   \n",
       " 3   A circle with 21 walls forms the structure of ...   \n",
       " 4   The environment is a circular arena with radiu...   \n",
       " 5   The arena has a radius of 3.70 m. There are th...   \n",
       " 6   In this setting, a rectangle is formed with di...   \n",
       " 7   The environment consists of a rectangular area...   \n",
       " 8   The environment is constructed as a rectangula...   \n",
       " 9   With a length of 3.61 meters, width of 1.59 me...   \n",
       " 10  The environment consists of a circular arena w...   \n",
       " 11  The environment consists of a rectangular area...   \n",
       " 12  With a radius of 3.08 meters, the circular are...   \n",
       " 13  In this setting, a circular arena with a radiu...   \n",
       " \n",
       "                                         configuration  \\\n",
       " 0   <?xml version=\"1.00\" ?>\\n<config>\\n  <swarm-el...   \n",
       " 1   <?xml version=\"1.00\" ?>\\n<config>\\n  <swarm-el...   \n",
       " 2   <?xml version=\"1.00\" ?>\\n<config>\\n  <swarm-el...   \n",
       " 3   <?xml version=\"1.00\" ?>\\n<config>\\n  <swarm-el...   \n",
       " 4   <?xml version=\"1.00\" ?>\\n<config>\\n  <swarm-el...   \n",
       " 5   <?xml version=\"1.00\" ?>\\n<config>\\n  <swarm-el...   \n",
       " 6   <?xml version=\"1.00\" ?>\\n<config>\\n  <swarm-el...   \n",
       " 7   <?xml version=\"1.00\" ?>\\n<config>\\n  <swarm-el...   \n",
       " 8   <?xml version=\"1.00\" ?>\\n<config>\\n  <swarm-el...   \n",
       " 9   <?xml version=\"1.00\" ?>\\n<config>\\n  <swarm-el...   \n",
       " 10  <?xml version=\"1.00\" ?>\\n<config>\\n  <swarm-el...   \n",
       " 11  <?xml version=\"1.00\" ?>\\n<config>\\n  <swarm-el...   \n",
       " 12  <?xml version=\"1.00\" ?>\\n<config>\\n  <swarm-el...   \n",
       " 13  <?xml version=\"1.00\" ?>\\n<config>\\n  <swarm-el...   \n",
       " \n",
       "                                            parameters  \\\n",
       " 0   MissionParams(arena_params=RectangularArena(le...   \n",
       " 1   MissionParams(arena_params=RectangularArena(le...   \n",
       " 2   MissionParams(arena_params=CircularArena(radiu...   \n",
       " 3   MissionParams(arena_params=CircularArena(radiu...   \n",
       " 4   MissionParams(arena_params=CircularArena(radiu...   \n",
       " 5   MissionParams(arena_params=CircularArena(radiu...   \n",
       " 6   MissionParams(arena_params=RectangularArena(le...   \n",
       " 7   MissionParams(arena_params=RectangularArena(le...   \n",
       " 8   MissionParams(arena_params=RectangularArena(le...   \n",
       " 9   MissionParams(arena_params=RectangularArena(le...   \n",
       " 10  MissionParams(arena_params=CircularArena(radiu...   \n",
       " 11  MissionParams(arena_params=RectangularArena(le...   \n",
       " 12  MissionParams(arena_params=CircularArena(radiu...   \n",
       " 13  MissionParams(arena_params=CircularArena(radiu...   \n",
       " \n",
       "                                              response  \n",
       " 0   <?xml version=\"1.00\" ?>\\n<config>\\n  <swarm-el...  \n",
       " 1   <?xml version=\"1.00\" ?>\\n<config>\\n  <swarm-el...  \n",
       " 2   <?xml version=\"1.00\" ?>\\n<config>\\n  <swarm-el...  \n",
       " 3   <?xml version=\"1.00\" ?>\\n<config>\\n  <swarm-el...  \n",
       " 4   <?xml version=\"1.00\" ?>\\n<config>\\n  <swarm-el...  \n",
       " 5   <?xml version=\"1.00\" ?>\\n<config>\\n  <swarm-el...  \n",
       " 6   <?xml version=\"1.00\" ?>\\n<config>\\n  <swarm-el...  \n",
       " 7   <?xml version=\"1.00\" ?>\\n<config>\\n  <swarm-el...  \n",
       " 8   <?xml version=\"1.00\" ?>\\n<config>\\n  <swarm-el...  \n",
       " 9   <?xml version=\"1.00\" ?>\\n<config>\\n  <swarm-el...  \n",
       " 10  <?xml version=\"1.00\" ?>\\n<config>\\n  <swarm-el...  \n",
       " 11  <?xml version=\"1.00\" ?>\\n<config>\\n  <swarm-el...  \n",
       " 12  <?xml version=\"1.00\" ?>\\n<config>\\n  <swarm-el...  \n",
       " 13  <?xml version=\"1.00\" ?>\\n<config>\\n  <swarm-el...  ,\n",
       " 'checkpoint-150':                                           description  \\\n",
       " 0   A circle with 6 walls forms the structure of t...   \n",
       " 1   The environment is constructed as a rectangula...   \n",
       " 2   The rectangular space is 7.17 m long, 3.37 m w...   \n",
       " 3   In this setting, a circular arena with a radiu...   \n",
       " 4   The environment is a circle made out of 9 wall...   \n",
       " 5   The environment is a circular arena with radiu...   \n",
       " 6   The environment is a rectangular area with len...   \n",
       " 7   The environment is constructed as a rectangula...   \n",
       " 8   The circular arena, constructed with 3 walls, ...   \n",
       " 9   The circular arena, constructed with 11 walls,...   \n",
       " 10  The circular arena, constructed with 6 walls, ...   \n",
       " 11  The environment features a circle composed of ...   \n",
       " 12  The environment consists of a rectangular area...   \n",
       " 13  With a length of 2.29 meters, width of 4.93 me...   \n",
       " \n",
       "                                         configuration  \\\n",
       " 0   <?xml version=\"1.00\" ?>\\n<config>\\n  <swarm-el...   \n",
       " 1   <?xml version=\"1.00\" ?>\\n<config>\\n  <swarm-el...   \n",
       " 2   <?xml version=\"1.00\" ?>\\n<config>\\n  <swarm-el...   \n",
       " 3   <?xml version=\"1.00\" ?>\\n<config>\\n  <swarm-el...   \n",
       " 4   <?xml version=\"1.00\" ?>\\n<config>\\n  <swarm-el...   \n",
       " 5   <?xml version=\"1.00\" ?>\\n<config>\\n  <swarm-el...   \n",
       " 6   <?xml version=\"1.00\" ?>\\n<config>\\n  <swarm-el...   \n",
       " 7   <?xml version=\"1.00\" ?>\\n<config>\\n  <swarm-el...   \n",
       " 8   <?xml version=\"1.00\" ?>\\n<config>\\n  <swarm-el...   \n",
       " 9   <?xml version=\"1.00\" ?>\\n<config>\\n  <swarm-el...   \n",
       " 10  <?xml version=\"1.00\" ?>\\n<config>\\n  <swarm-el...   \n",
       " 11  <?xml version=\"1.00\" ?>\\n<config>\\n  <swarm-el...   \n",
       " 12  <?xml version=\"1.00\" ?>\\n<config>\\n  <swarm-el...   \n",
       " 13  <?xml version=\"1.00\" ?>\\n<config>\\n  <swarm-el...   \n",
       " \n",
       "                                            parameters  \\\n",
       " 0   MissionParams(arena_params=CircularArena(radiu...   \n",
       " 1   MissionParams(arena_params=RectangularArena(le...   \n",
       " 2   MissionParams(arena_params=RectangularArena(le...   \n",
       " 3   MissionParams(arena_params=CircularArena(radiu...   \n",
       " 4   MissionParams(arena_params=CircularArena(radiu...   \n",
       " 5   MissionParams(arena_params=CircularArena(radiu...   \n",
       " 6   MissionParams(arena_params=RectangularArena(le...   \n",
       " 7   MissionParams(arena_params=RectangularArena(le...   \n",
       " 8   MissionParams(arena_params=CircularArena(radiu...   \n",
       " 9   MissionParams(arena_params=CircularArena(radiu...   \n",
       " 10  MissionParams(arena_params=CircularArena(radiu...   \n",
       " 11  MissionParams(arena_params=CircularArena(radiu...   \n",
       " 12  MissionParams(arena_params=RectangularArena(le...   \n",
       " 13  MissionParams(arena_params=RectangularArena(le...   \n",
       " \n",
       "                                              response  \n",
       " 0   <?xml version=\"1.00\" ?>\\n<config>\\n  <swarm-el...  \n",
       " 1   <?xml version=\"1.00\" ?>\\n<config>\\n  <swarm-el...  \n",
       " 2   <?xml version=\"1.00\" ?>\\n<config>\\n  <swarm-el...  \n",
       " 3   <?xml version=\"1.00\" ?>\\n<config>\\n  <swarm-el...  \n",
       " 4   <?xml version=\"1.00\" ?>\\n<config>\\n  <swarm-el...  \n",
       " 5   <?xml version=\"1.00\" ?>\\n<config>\\n  <swarm-el...  \n",
       " 6   <?xml version=\"1.00\" ?>\\n<config>\\n  <swarm-el...  \n",
       " 7   <?xml version=\"1.00\" ?>\\n<config>\\n  <swarm-el...  \n",
       " 8   <?xml version=\"1.00\" ?>\\n<config>\\n  <swarm-el...  \n",
       " 9   <?xml version=\"1.00\" ?>\\n<config>\\n  <swarm-el...  \n",
       " 10  <?xml version=\"1.00\" ?>\\n<config>\\n  <swarm-el...  \n",
       " 11  <?xml version=\"1.00\" ?>\\n<config>\\n  <swarm-el...  \n",
       " 12  <?xml version=\"1.00\" ?>\\n<config>\\n  <swarm-el...  \n",
       " 13  <?xml version=\"1.00\" ?>\\n<config>\\n  <swarm-el...  ,\n",
       " 'checkpoint-175':                                           description  \\\n",
       " 0   In this setting, a rectangle is formed with di...   \n",
       " 1   The environment features a rectangle with dime...   \n",
       " 2   The environment is a rectangular area with len...   \n",
       " 3   With a radius of 1.22 meters, the circular are...   \n",
       " 4   In this setting, a circular arena with a radiu...   \n",
       " 5   The area is a rectangle with dimensions 6.34 x...   \n",
       " 6   The area is a rectangle with dimensions 3.32 x...   \n",
       " 7   The arena has a radius of 4.99 m. There are th...   \n",
       " 8   The circular arena, having a radius of 2.94 me...   \n",
       " 9   A rectangular area, with a length of 6.12 mete...   \n",
       " 10  The circular arena, constructed with 7 walls, ...   \n",
       " 11  The arena has a radius of 1.89 m. The arena fe...   \n",
       " 12  A rectangular area, with a length of 1.06 mete...   \n",
       " 13  A rectangular area, with a length of 4.03 mete...   \n",
       " \n",
       "                                         configuration  \\\n",
       " 0   <?xml version=\"1.00\" ?>\\n<config>\\n  <swarm-el...   \n",
       " 1   <?xml version=\"1.00\" ?>\\n<config>\\n  <swarm-el...   \n",
       " 2   <?xml version=\"1.00\" ?>\\n<config>\\n  <swarm-el...   \n",
       " 3   <?xml version=\"1.00\" ?>\\n<config>\\n  <swarm-el...   \n",
       " 4   <?xml version=\"1.00\" ?>\\n<config>\\n  <swarm-el...   \n",
       " 5   <?xml version=\"1.00\" ?>\\n<config>\\n  <swarm-el...   \n",
       " 6   <?xml version=\"1.00\" ?>\\n<config>\\n  <swarm-el...   \n",
       " 7   <?xml version=\"1.00\" ?>\\n<config>\\n  <swarm-el...   \n",
       " 8   <?xml version=\"1.00\" ?>\\n<config>\\n  <swarm-el...   \n",
       " 9   <?xml version=\"1.00\" ?>\\n<config>\\n  <swarm-el...   \n",
       " 10  <?xml version=\"1.00\" ?>\\n<config>\\n  <swarm-el...   \n",
       " 11  <?xml version=\"1.00\" ?>\\n<config>\\n  <swarm-el...   \n",
       " 12  <?xml version=\"1.00\" ?>\\n<config>\\n  <swarm-el...   \n",
       " 13  <?xml version=\"1.00\" ?>\\n<config>\\n  <swarm-el...   \n",
       " \n",
       "                                            parameters  \\\n",
       " 0   MissionParams(arena_params=RectangularArena(le...   \n",
       " 1   MissionParams(arena_params=RectangularArena(le...   \n",
       " 2   MissionParams(arena_params=RectangularArena(le...   \n",
       " 3   MissionParams(arena_params=CircularArena(radiu...   \n",
       " 4   MissionParams(arena_params=CircularArena(radiu...   \n",
       " 5   MissionParams(arena_params=RectangularArena(le...   \n",
       " 6   MissionParams(arena_params=RectangularArena(le...   \n",
       " 7   MissionParams(arena_params=CircularArena(radiu...   \n",
       " 8   MissionParams(arena_params=CircularArena(radiu...   \n",
       " 9   MissionParams(arena_params=RectangularArena(le...   \n",
       " 10  MissionParams(arena_params=CircularArena(radiu...   \n",
       " 11  MissionParams(arena_params=CircularArena(radiu...   \n",
       " 12  MissionParams(arena_params=RectangularArena(le...   \n",
       " 13  MissionParams(arena_params=RectangularArena(le...   \n",
       " \n",
       "                                              response  \n",
       " 0   <?xml version=\"1.00\" ?>\\n<config>\\n  <swarm-el...  \n",
       " 1   <?xml version=\"1.00\" ?>\\n<config>\\n  <swarm-el...  \n",
       " 2   <?xml version=\"1.00\" ?>\\n<config>\\n  <swarm-el...  \n",
       " 3   <?xml version=\"1.00\" ?>\\n<config>\\n  <swarm-el...  \n",
       " 4   <?xml version=\"1.00\" ?>\\n<config>\\n  <swarm-el...  \n",
       " 5   <?xml version=\"1.00\" ?>\\n<config>\\n  <swarm-el...  \n",
       " 6   <?xml version=\"1.00\" ?>\\n<config>\\n  <swarm-el...  \n",
       " 7   <?xml version=\"1.00\" ?>\\n<config>\\n  <swarm-el...  \n",
       " 8   <?xml version=\"1.00\" ?>\\n<config>\\n  <swarm-el...  \n",
       " 9   <?xml version=\"1.00\" ?>\\n<config>\\n  <swarm-el...  \n",
       " 10  <?xml version=\"1.00\" ?>\\n<config>\\n  <swarm-el...  \n",
       " 11  <?xml version=\"1.00\" ?>\\n<config>\\n  <swarm-el...  \n",
       " 12  <?xml version=\"1.00\" ?>\\n<config>\\n  <swarm-el...  \n",
       " 13  <?xml version=\"1.00\" ?>\\n<config>\\n  <swarm-el...  ,\n",
       " 'checkpoint-200':                                           description  \\\n",
       " 0   The rectangular area has dimensions 5.84 m x 6...   \n",
       " 1   The environment is a circular arena with radiu...   \n",
       " 2   The rectangular space is 2.53 m long, 4.15 m w...   \n",
       " 3   The circular arena, constructed with 10 walls,...   \n",
       " 4   The environment is a rectangular area with len...   \n",
       " 5   With a radius of 1.77 meters, the circular are...   \n",
       " 6   The environment is constructed as a rectangula...   \n",
       " 7   In this setting, a rectangle is formed with di...   \n",
       " 8   In this setting, a rectangle is formed with di...   \n",
       " 9   The environment is constructed as a rectangula...   \n",
       " 10  The environment is a rectangular area with len...   \n",
       " 11  The circular arena, constructed with 17 walls,...   \n",
       " 12  A circle with 20 walls forms the structure of ...   \n",
       " 13  The environment is a rectangular area with len...   \n",
       " \n",
       "                                         configuration  \\\n",
       " 0   <?xml version=\"1.00\" ?>\\n<config>\\n  <swarm-el...   \n",
       " 1   <?xml version=\"1.00\" ?>\\n<config>\\n  <swarm-el...   \n",
       " 2   <?xml version=\"1.00\" ?>\\n<config>\\n  <swarm-el...   \n",
       " 3   <?xml version=\"1.00\" ?>\\n<config>\\n  <swarm-el...   \n",
       " 4   <?xml version=\"1.00\" ?>\\n<config>\\n  <swarm-el...   \n",
       " 5   <?xml version=\"1.00\" ?>\\n<config>\\n  <swarm-el...   \n",
       " 6   <?xml version=\"1.00\" ?>\\n<config>\\n  <swarm-el...   \n",
       " 7   <?xml version=\"1.00\" ?>\\n<config>\\n  <swarm-el...   \n",
       " 8   <?xml version=\"1.00\" ?>\\n<config>\\n  <swarm-el...   \n",
       " 9   <?xml version=\"1.00\" ?>\\n<config>\\n  <swarm-el...   \n",
       " 10  <?xml version=\"1.00\" ?>\\n<config>\\n  <swarm-el...   \n",
       " 11  <?xml version=\"1.00\" ?>\\n<config>\\n  <swarm-el...   \n",
       " 12  <?xml version=\"1.00\" ?>\\n<config>\\n  <swarm-el...   \n",
       " 13  <?xml version=\"1.00\" ?>\\n<config>\\n  <swarm-el...   \n",
       " \n",
       "                                            parameters  \\\n",
       " 0   MissionParams(arena_params=RectangularArena(le...   \n",
       " 1   MissionParams(arena_params=CircularArena(radiu...   \n",
       " 2   MissionParams(arena_params=RectangularArena(le...   \n",
       " 3   MissionParams(arena_params=CircularArena(radiu...   \n",
       " 4   MissionParams(arena_params=RectangularArena(le...   \n",
       " 5   MissionParams(arena_params=CircularArena(radiu...   \n",
       " 6   MissionParams(arena_params=RectangularArena(le...   \n",
       " 7   MissionParams(arena_params=RectangularArena(le...   \n",
       " 8   MissionParams(arena_params=RectangularArena(le...   \n",
       " 9   MissionParams(arena_params=RectangularArena(le...   \n",
       " 10  MissionParams(arena_params=RectangularArena(le...   \n",
       " 11  MissionParams(arena_params=CircularArena(radiu...   \n",
       " 12  MissionParams(arena_params=CircularArena(radiu...   \n",
       " 13  MissionParams(arena_params=RectangularArena(le...   \n",
       " \n",
       "                                              response  \n",
       " 0   <?xml version=\"1.00\" ?>\\n<config>\\n  <swarm-el...  \n",
       " 1   <?xml version=\"1.00\" ?>\\n<config>\\n  <swarm-el...  \n",
       " 2   <?xml version=\"1.00\" ?>\\n<config>\\n  <swarm-el...  \n",
       " 3   <?xml version=\"1.00\" ?>\\n<config>\\n  <swarm-el...  \n",
       " 4   <?xml version=\"1.00\" ?>\\n<config>\\n  <swarm-el...  \n",
       " 5   <?xml version=\"1.00\" ?>\\n<config>\\n  <swarm-el...  \n",
       " 6   <?xml version=\"1.00\" ?>\\n<config>\\n  <swarm-el...  \n",
       " 7   <?xml version=\"1.00\" ?>\\n<config>\\n  <swarm-el...  \n",
       " 8   <?xml version=\"1.00\" ?>\\n<config>\\n  <swarm-el...  \n",
       " 9   <?xml version=\"1.00\" ?>\\n<config>\\n  <swarm-el...  \n",
       " 10  <?xml version=\"1.00\" ?>\\n<config>\\n  <swarm-el...  \n",
       " 11  <?xml version=\"1.00\" ?>\\n<config>\\n  <swarm-el...  \n",
       " 12  <?xml version=\"1.00\" ?>\\n<config>\\n  <swarm-el...  \n",
       " 13  <?xml version=\"1.00\" ?>\\n<config>\\n  <swarm-el...  ,\n",
       " 'checkpoint-225':                                           description  \\\n",
       " 0   The rectangular area has dimensions 3.74 m x 1...   \n",
       " 1   The environment is a rectangular area with len...   \n",
       " 2   The environment features a rectangle with dime...   \n",
       " 3   In this setting, a circular arena with a radiu...   \n",
       " 4   The rectangular space is 5.89 m long, 1.39 m w...   \n",
       " 5   In this setting, a rectangle is formed with di...   \n",
       " 6   The circular arena, having a radius of 2.42 me...   \n",
       " 7   The rectangular area has dimensions 2.44 m x 3...   \n",
       " 8   A circle with 19 walls forms the structure of ...   \n",
       " 9   The environment consists of a rectangular area...   \n",
       " 10  With a radius of 3.32 meters, the circular are...   \n",
       " 11  The environment is a circle made out of 9 wall...   \n",
       " 12  In this setting, a rectangle is formed with di...   \n",
       " 13  A rectangular area, with a length of 1.75 mete...   \n",
       " \n",
       "                                         configuration  \\\n",
       " 0   <?xml version=\"1.00\" ?>\\n<config>\\n  <swarm-el...   \n",
       " 1   <?xml version=\"1.00\" ?>\\n<config>\\n  <swarm-el...   \n",
       " 2   <?xml version=\"1.00\" ?>\\n<config>\\n  <swarm-el...   \n",
       " 3   <?xml version=\"1.00\" ?>\\n<config>\\n  <swarm-el...   \n",
       " 4   <?xml version=\"1.00\" ?>\\n<config>\\n  <swarm-el...   \n",
       " 5   <?xml version=\"1.00\" ?>\\n<config>\\n  <swarm-el...   \n",
       " 6   <?xml version=\"1.00\" ?>\\n<config>\\n  <swarm-el...   \n",
       " 7   <?xml version=\"1.00\" ?>\\n<config>\\n  <swarm-el...   \n",
       " 8   <?xml version=\"1.00\" ?>\\n<config>\\n  <swarm-el...   \n",
       " 9   <?xml version=\"1.00\" ?>\\n<config>\\n  <swarm-el...   \n",
       " 10  <?xml version=\"1.00\" ?>\\n<config>\\n  <swarm-el...   \n",
       " 11  <?xml version=\"1.00\" ?>\\n<config>\\n  <swarm-el...   \n",
       " 12  <?xml version=\"1.00\" ?>\\n<config>\\n  <swarm-el...   \n",
       " 13  <?xml version=\"1.00\" ?>\\n<config>\\n  <swarm-el...   \n",
       " \n",
       "                                            parameters  \\\n",
       " 0   MissionParams(arena_params=RectangularArena(le...   \n",
       " 1   MissionParams(arena_params=RectangularArena(le...   \n",
       " 2   MissionParams(arena_params=RectangularArena(le...   \n",
       " 3   MissionParams(arena_params=CircularArena(radiu...   \n",
       " 4   MissionParams(arena_params=RectangularArena(le...   \n",
       " 5   MissionParams(arena_params=RectangularArena(le...   \n",
       " 6   MissionParams(arena_params=CircularArena(radiu...   \n",
       " 7   MissionParams(arena_params=RectangularArena(le...   \n",
       " 8   MissionParams(arena_params=CircularArena(radiu...   \n",
       " 9   MissionParams(arena_params=RectangularArena(le...   \n",
       " 10  MissionParams(arena_params=CircularArena(radiu...   \n",
       " 11  MissionParams(arena_params=CircularArena(radiu...   \n",
       " 12  MissionParams(arena_params=RectangularArena(le...   \n",
       " 13  MissionParams(arena_params=RectangularArena(le...   \n",
       " \n",
       "                                              response  \n",
       " 0   <?xml version=\"1.00\" ?>\\n<config>\\n  <swarm-el...  \n",
       " 1   <?xml version=\"1.00\" ?>\\n<config>\\n  <swarm-el...  \n",
       " 2   <?xml version=\"1.00\" ?>\\n<config>\\n  <swarm-el...  \n",
       " 3   <?xml version=\"1.00\" ?>\\n<config>\\n  <swarm-el...  \n",
       " 4   <?xml version=\"1.00\" ?>\\n<config>\\n  <swarm-el...  \n",
       " 5   <?xml version=\"1.00\" ?>\\n<config>\\n  <swarm-el...  \n",
       " 6   <?xml version=\"1.00\" ?>\\n<config>\\n  <swarm-el...  \n",
       " 7   <?xml version=\"1.00\" ?>\\n<config>\\n  <swarm-el...  \n",
       " 8   <?xml version=\"1.00\" ?>\\n<config>\\n  <swarm-el...  \n",
       " 9   <?xml version=\"1.00\" ?>\\n<config>\\n  <swarm-el...  \n",
       " 10  <?xml version=\"1.00\" ?>\\n<config>\\n  <swarm-el...  \n",
       " 11  <?xml version=\"1.00\" ?>\\n<config>\\n  <swarm-el...  \n",
       " 12  <?xml version=\"1.00\" ?>\\n<config>\\n  <swarm-el...  \n",
       " 13  <?xml version=\"1.00\" ?>\\n<config>\\n  <swarm-el...  ,\n",
       " 'checkpoint-250':                                           description  \\\n",
       " 0   The environment is a circle made out of 11 wal...   \n",
       " 1   The environment is constructed as a rectangula...   \n",
       " 2   A rectangular area, with a length of 1.35 mete...   \n",
       " 3   The environment is a circle made out of 22 wal...   \n",
       " 4   The environment consists of a rectangular area...   \n",
       " 5   In this setting, a rectangle is formed with di...   \n",
       " 6   A circle with 22 walls forms the structure of ...   \n",
       " 7   The environment is constructed as a rectangula...   \n",
       " 8   The circular arena, having a radius of 3.74 me...   \n",
       " 9   The environment features a circle composed of ...   \n",
       " 10  With a radius of 4.94 meters, the circular are...   \n",
       " 11  The environment features a rectangle with dime...   \n",
       " 12  With a radius of 1.94 meters, the circular are...   \n",
       " 13  In this setting, a circular arena with a radiu...   \n",
       " \n",
       "                                         configuration  \\\n",
       " 0   <?xml version=\"1.00\" ?>\\n<config>\\n  <swarm-el...   \n",
       " 1   <?xml version=\"1.00\" ?>\\n<config>\\n  <swarm-el...   \n",
       " 2   <?xml version=\"1.00\" ?>\\n<config>\\n  <swarm-el...   \n",
       " 3   <?xml version=\"1.00\" ?>\\n<config>\\n  <swarm-el...   \n",
       " 4   <?xml version=\"1.00\" ?>\\n<config>\\n  <swarm-el...   \n",
       " 5   <?xml version=\"1.00\" ?>\\n<config>\\n  <swarm-el...   \n",
       " 6   <?xml version=\"1.00\" ?>\\n<config>\\n  <swarm-el...   \n",
       " 7   <?xml version=\"1.00\" ?>\\n<config>\\n  <swarm-el...   \n",
       " 8   <?xml version=\"1.00\" ?>\\n<config>\\n  <swarm-el...   \n",
       " 9   <?xml version=\"1.00\" ?>\\n<config>\\n  <swarm-el...   \n",
       " 10  <?xml version=\"1.00\" ?>\\n<config>\\n  <swarm-el...   \n",
       " 11  <?xml version=\"1.00\" ?>\\n<config>\\n  <swarm-el...   \n",
       " 12  <?xml version=\"1.00\" ?>\\n<config>\\n  <swarm-el...   \n",
       " 13  <?xml version=\"1.00\" ?>\\n<config>\\n  <swarm-el...   \n",
       " \n",
       "                                            parameters  \\\n",
       " 0   MissionParams(arena_params=CircularArena(radiu...   \n",
       " 1   MissionParams(arena_params=RectangularArena(le...   \n",
       " 2   MissionParams(arena_params=RectangularArena(le...   \n",
       " 3   MissionParams(arena_params=CircularArena(radiu...   \n",
       " 4   MissionParams(arena_params=RectangularArena(le...   \n",
       " 5   MissionParams(arena_params=RectangularArena(le...   \n",
       " 6   MissionParams(arena_params=CircularArena(radiu...   \n",
       " 7   MissionParams(arena_params=RectangularArena(le...   \n",
       " 8   MissionParams(arena_params=CircularArena(radiu...   \n",
       " 9   MissionParams(arena_params=CircularArena(radiu...   \n",
       " 10  MissionParams(arena_params=CircularArena(radiu...   \n",
       " 11  MissionParams(arena_params=RectangularArena(le...   \n",
       " 12  MissionParams(arena_params=CircularArena(radiu...   \n",
       " 13  MissionParams(arena_params=CircularArena(radiu...   \n",
       " \n",
       "                                              response  \n",
       " 0   <?xml version=\"1.00\" ?>\\n<config>\\n  <swarm-el...  \n",
       " 1   <?xml version=\"1.00\" ?>\\n<config>\\n  <swarm-el...  \n",
       " 2   <?xml version=\"1.00\" ?>\\n<config>\\n  <swarm-el...  \n",
       " 3   <?xml version=\"1.00\" ?>\\n<config>\\n  <swarm-el...  \n",
       " 4   <?xml version=\"1.00\" ?>\\n<config>\\n  <swarm-el...  \n",
       " 5   <?xml version=\"1.00\" ?>\\n<config>\\n  <swarm-el...  \n",
       " 6   <?xml version=\"1.00\" ?>\\n<config>\\n  <swarm-el...  \n",
       " 7   <?xml version=\"1.00\" ?>\\n<config>\\n  <swarm-el...  \n",
       " 8   <?xml version=\"1.00\" ?>\\n<config>\\n  <swarm-el...  \n",
       " 9   <?xml version=\"1.00\" ?>\\n<config>\\n  <swarm-el...  \n",
       " 10  <?xml version=\"1.00\" ?>\\n<config>\\n  <swarm-el...  \n",
       " 11  <?xml version=\"1.00\" ?>\\n<config>\\n  <swarm-el...  \n",
       " 12  <?xml version=\"1.00\" ?>\\n<config>\\n  <swarm-el...  \n",
       " 13  <?xml version=\"1.00\" ?>\\n<config>\\n  <swarm-el...  ,\n",
       " 'checkpoint-275':                                           description  \\\n",
       " 0   With a length of 3.07 meters, width of 2.32 me...   \n",
       " 1   The area is a rectangle with dimensions 5.45 x...   \n",
       " 2   The circular arena, having a radius of 3.58 me...   \n",
       " 3   With a length of 3.37 meters, width of 7.24 me...   \n",
       " 4   The environment features a circle composed of ...   \n",
       " 5   The circular arena, constructed with 19 walls,...   \n",
       " 6   The circular arena, constructed with 11 walls,...   \n",
       " 7   A rectangular area, with a length of 4.11 mete...   \n",
       " 8   The environment consists of a rectangular area...   \n",
       " 9   The circular arena, having a radius of 3.92 me...   \n",
       " 10  A circle with 14 walls forms the structure of ...   \n",
       " 11  The arena has a radius of 2.35 m. In this sett...   \n",
       " 12  The environment consists of a circular arena w...   \n",
       " 13  The circular arena, constructed with 15 walls,...   \n",
       " \n",
       "                                         configuration  \\\n",
       " 0   <?xml version=\"1.00\" ?>\\n<config>\\n  <swarm-el...   \n",
       " 1   <?xml version=\"1.00\" ?>\\n<config>\\n  <swarm-el...   \n",
       " 2   <?xml version=\"1.00\" ?>\\n<config>\\n  <swarm-el...   \n",
       " 3   <?xml version=\"1.00\" ?>\\n<config>\\n  <swarm-el...   \n",
       " 4   <?xml version=\"1.00\" ?>\\n<config>\\n  <swarm-el...   \n",
       " 5   <?xml version=\"1.00\" ?>\\n<config>\\n  <swarm-el...   \n",
       " 6   <?xml version=\"1.00\" ?>\\n<config>\\n  <swarm-el...   \n",
       " 7   <?xml version=\"1.00\" ?>\\n<config>\\n  <swarm-el...   \n",
       " 8   <?xml version=\"1.00\" ?>\\n<config>\\n  <swarm-el...   \n",
       " 9   <?xml version=\"1.00\" ?>\\n<config>\\n  <swarm-el...   \n",
       " 10  <?xml version=\"1.00\" ?>\\n<config>\\n  <swarm-el...   \n",
       " 11  <?xml version=\"1.00\" ?>\\n<config>\\n  <swarm-el...   \n",
       " 12  <?xml version=\"1.00\" ?>\\n<config>\\n  <swarm-el...   \n",
       " 13  <?xml version=\"1.00\" ?>\\n<config>\\n  <swarm-el...   \n",
       " \n",
       "                                            parameters  \\\n",
       " 0   MissionParams(arena_params=RectangularArena(le...   \n",
       " 1   MissionParams(arena_params=RectangularArena(le...   \n",
       " 2   MissionParams(arena_params=CircularArena(radiu...   \n",
       " 3   MissionParams(arena_params=RectangularArena(le...   \n",
       " 4   MissionParams(arena_params=CircularArena(radiu...   \n",
       " 5   MissionParams(arena_params=CircularArena(radiu...   \n",
       " 6   MissionParams(arena_params=CircularArena(radiu...   \n",
       " 7   MissionParams(arena_params=RectangularArena(le...   \n",
       " 8   MissionParams(arena_params=RectangularArena(le...   \n",
       " 9   MissionParams(arena_params=CircularArena(radiu...   \n",
       " 10  MissionParams(arena_params=CircularArena(radiu...   \n",
       " 11  MissionParams(arena_params=CircularArena(radiu...   \n",
       " 12  MissionParams(arena_params=CircularArena(radiu...   \n",
       " 13  MissionParams(arena_params=CircularArena(radiu...   \n",
       " \n",
       "                                              response  \n",
       " 0   <?xml version=\"1.00\" ?>\\n<config>\\n  <swarm-el...  \n",
       " 1   <?xml version=\"1.00\" ?>\\n<config>\\n  <swarm-el...  \n",
       " 2   <?xml version=\"1.00\" ?>\\n<config>\\n  <swarm-el...  \n",
       " 3   <?xml version=\"1.00\" ?>\\n<config>\\n  <swarm-el...  \n",
       " 4   <?xml version=\"1.00\" ?>\\n<config>\\n  <swarm-el...  \n",
       " 5   <?xml version=\"1.00\" ?>\\n<config>\\n  <swarm-el...  \n",
       " 6   <?xml version=\"1.00\" ?>\\n<config>\\n  <swarm-el...  \n",
       " 7   <?xml version=\"1.00\" ?>\\n<config>\\n  <swarm-el...  \n",
       " 8   <?xml version=\"1.00\" ?>\\n<config>\\n  <swarm-el...  \n",
       " 9   <?xml version=\"1.00\" ?>\\n<config>\\n  <swarm-el...  \n",
       " 10  <?xml version=\"1.00\" ?>\\n<config>\\n  <swarm-el...  \n",
       " 11  <?xml version=\"1.00\" ?>\\n<config>\\n  <swarm-el...  \n",
       " 12  <?xml version=\"1.00\" ?>\\n<config>\\n  <swarm-el...  \n",
       " 13  <?xml version=\"1.00\" ?>\\n<config>\\n  <swarm-el...  ,\n",
       " 'checkpoint-300':                                           description  \\\n",
       " 0   With a radius of 2.32 meters, the circular are...   \n",
       " 1   The area is a rectangle with dimensions 1.42 x...   \n",
       " 2   The area is a rectangle with dimensions 4.62 x...   \n",
       " 3   A circle with 14 walls forms the structure of ...   \n",
       " 4   With a radius of 3.73 meters, the circular are...   \n",
       " 5   The environment is constructed as a rectangula...   \n",
       " 6   The environment consists of a rectangular area...   \n",
       " 7   The environment features a rectangle with dime...   \n",
       " 8   A circle with 11 walls forms the structure of ...   \n",
       " 9   The environment is a circular arena with radiu...   \n",
       " 10  The rectangular area has dimensions 6.00 m x 1...   \n",
       " 11  A rectangular area, with a length of 6.83 mete...   \n",
       " 12  The circular arena, constructed with 10 walls,...   \n",
       " 13  The environment is constructed as a rectangula...   \n",
       " \n",
       "                                         configuration  \\\n",
       " 0   <?xml version=\"1.00\" ?>\\n<config>\\n  <swarm-el...   \n",
       " 1   <?xml version=\"1.00\" ?>\\n<config>\\n  <swarm-el...   \n",
       " 2   <?xml version=\"1.00\" ?>\\n<config>\\n  <swarm-el...   \n",
       " 3   <?xml version=\"1.00\" ?>\\n<config>\\n  <swarm-el...   \n",
       " 4   <?xml version=\"1.00\" ?>\\n<config>\\n  <swarm-el...   \n",
       " 5   <?xml version=\"1.00\" ?>\\n<config>\\n  <swarm-el...   \n",
       " 6   <?xml version=\"1.00\" ?>\\n<config>\\n  <swarm-el...   \n",
       " 7   <?xml version=\"1.00\" ?>\\n<config>\\n  <swarm-el...   \n",
       " 8   <?xml version=\"1.00\" ?>\\n<config>\\n  <swarm-el...   \n",
       " 9   <?xml version=\"1.00\" ?>\\n<config>\\n  <swarm-el...   \n",
       " 10  <?xml version=\"1.00\" ?>\\n<config>\\n  <swarm-el...   \n",
       " 11  <?xml version=\"1.00\" ?>\\n<config>\\n  <swarm-el...   \n",
       " 12  <?xml version=\"1.00\" ?>\\n<config>\\n  <swarm-el...   \n",
       " 13  <?xml version=\"1.00\" ?>\\n<config>\\n  <swarm-el...   \n",
       " \n",
       "                                            parameters  \\\n",
       " 0   MissionParams(arena_params=CircularArena(radiu...   \n",
       " 1   MissionParams(arena_params=RectangularArena(le...   \n",
       " 2   MissionParams(arena_params=RectangularArena(le...   \n",
       " 3   MissionParams(arena_params=CircularArena(radiu...   \n",
       " 4   MissionParams(arena_params=CircularArena(radiu...   \n",
       " 5   MissionParams(arena_params=RectangularArena(le...   \n",
       " 6   MissionParams(arena_params=RectangularArena(le...   \n",
       " 7   MissionParams(arena_params=RectangularArena(le...   \n",
       " 8   MissionParams(arena_params=CircularArena(radiu...   \n",
       " 9   MissionParams(arena_params=CircularArena(radiu...   \n",
       " 10  MissionParams(arena_params=RectangularArena(le...   \n",
       " 11  MissionParams(arena_params=RectangularArena(le...   \n",
       " 12  MissionParams(arena_params=CircularArena(radiu...   \n",
       " 13  MissionParams(arena_params=RectangularArena(le...   \n",
       " \n",
       "                                              response  \n",
       " 0   <?xml version=\"1.00\" ?>\\n<config>\\n  <swarm-el...  \n",
       " 1   <?xml version=\"1.00\" ?>\\n<config>\\n  <swarm-el...  \n",
       " 2   <?xml version=\"1.00\" ?>\\n<config>\\n  <swarm-el...  \n",
       " 3   <?xml version=\"1.00\" ?>\\n<config>\\n  <swarm-el...  \n",
       " 4   <?xml version=\"1.00\" ?>\\n<config>\\n  <swarm-el...  \n",
       " 5   <?xml version=\"1.00\" ?>\\n<config>\\n  <swarm-el...  \n",
       " 6   <?xml version=\"1.00\" ?>\\n<config>\\n  <swarm-el...  \n",
       " 7   <?xml version=\"1.00\" ?>\\n<config>\\n  <swarm-el...  \n",
       " 8   <?xml version=\"1.00\" ?>\\n<config>\\n  <swarm-el...  \n",
       " 9   <?xml version=\"1.00\" ?>\\n<config>\\n  <swarm-el...  \n",
       " 10  <?xml version=\"1.00\" ?>\\n<config>\\n  <swarm-el...  \n",
       " 11  <?xml version=\"1.00\" ?>\\n<config>\\n  <swarm-el...  \n",
       " 12  <?xml version=\"1.00\" ?>\\n<config>\\n  <swarm-el...  \n",
       " 13  <?xml version=\"1.00\" ?>\\n<config>\\n  <swarm-el...  ,\n",
       " 'checkpoint-325':                                           description  \\\n",
       " 0   A rectangular area, with a length of 4.43 mete...   \n",
       " 1   The arena has a radius of 1.87 m. 4 lights are...   \n",
       " 2   The circular arena, constructed with 25 walls,...   \n",
       " 3   The circular arena, constructed with 16 walls,...   \n",
       " 4   The circular arena, constructed with 6 walls, ...   \n",
       " 5   With a radius of 3.78 meters, the circular are...   \n",
       " 6   A circle with 14 walls forms the structure of ...   \n",
       " 7   In this setting, a rectangle is formed with di...   \n",
       " 8   The environment is a circular arena with radiu...   \n",
       " 9   The arena has a radius of 2.44 m. There are 4 ...   \n",
       " 10  The environment features a circle composed of ...   \n",
       " 11  The circular arena, constructed with 17 walls,...   \n",
       " 12  The rectangular space is 4.34 m long, 2.61 m w...   \n",
       " 13  The circular arena, constructed with 5 walls, ...   \n",
       " \n",
       "                                         configuration  \\\n",
       " 0   <?xml version=\"1.00\" ?>\\n<config>\\n  <swarm-el...   \n",
       " 1   <?xml version=\"1.00\" ?>\\n<config>\\n  <swarm-el...   \n",
       " 2   <?xml version=\"1.00\" ?>\\n<config>\\n  <swarm-el...   \n",
       " 3   <?xml version=\"1.00\" ?>\\n<config>\\n  <swarm-el...   \n",
       " 4   <?xml version=\"1.00\" ?>\\n<config>\\n  <swarm-el...   \n",
       " 5   <?xml version=\"1.00\" ?>\\n<config>\\n  <swarm-el...   \n",
       " 6   <?xml version=\"1.00\" ?>\\n<config>\\n  <swarm-el...   \n",
       " 7   <?xml version=\"1.00\" ?>\\n<config>\\n  <swarm-el...   \n",
       " 8   <?xml version=\"1.00\" ?>\\n<config>\\n  <swarm-el...   \n",
       " 9   <?xml version=\"1.00\" ?>\\n<config>\\n  <swarm-el...   \n",
       " 10  <?xml version=\"1.00\" ?>\\n<config>\\n  <swarm-el...   \n",
       " 11  <?xml version=\"1.00\" ?>\\n<config>\\n  <swarm-el...   \n",
       " 12  <?xml version=\"1.00\" ?>\\n<config>\\n  <swarm-el...   \n",
       " 13  <?xml version=\"1.00\" ?>\\n<config>\\n  <swarm-el...   \n",
       " \n",
       "                                            parameters  \\\n",
       " 0   MissionParams(arena_params=RectangularArena(le...   \n",
       " 1   MissionParams(arena_params=CircularArena(radiu...   \n",
       " 2   MissionParams(arena_params=CircularArena(radiu...   \n",
       " 3   MissionParams(arena_params=CircularArena(radiu...   \n",
       " 4   MissionParams(arena_params=CircularArena(radiu...   \n",
       " 5   MissionParams(arena_params=CircularArena(radiu...   \n",
       " 6   MissionParams(arena_params=CircularArena(radiu...   \n",
       " 7   MissionParams(arena_params=RectangularArena(le...   \n",
       " 8   MissionParams(arena_params=CircularArena(radiu...   \n",
       " 9   MissionParams(arena_params=CircularArena(radiu...   \n",
       " 10  MissionParams(arena_params=CircularArena(radiu...   \n",
       " 11  MissionParams(arena_params=CircularArena(radiu...   \n",
       " 12  MissionParams(arena_params=RectangularArena(le...   \n",
       " 13  MissionParams(arena_params=CircularArena(radiu...   \n",
       " \n",
       "                                              response  \n",
       " 0   <?xml version=\"1.00\" ?>\\n<config>\\n  <swarm-el...  \n",
       " 1   <?xml version=\"1.00\" ?>\\n<config>\\n  <swarm-el...  \n",
       " 2   <?xml version=\"1.00\" ?>\\n<config>\\n  <swarm-el...  \n",
       " 3   <?xml version=\"1.00\" ?>\\n<config>\\n  <swarm-el...  \n",
       " 4   <?xml version=\"1.00\" ?>\\n<config>\\n  <swarm-el...  \n",
       " 5   <?xml version=\"1.00\" ?>\\n<config>\\n  <swarm-el...  \n",
       " 6   <?xml version=\"1.00\" ?>\\n<config>\\n  <swarm-el...  \n",
       " 7   <?xml version=\"1.00\" ?>\\n<config>\\n  <swarm-el...  \n",
       " 8   <?xml version=\"1.00\" ?>\\n<config>\\n  <swarm-el...  \n",
       " 9   <?xml version=\"1.00\" ?>\\n<config>\\n  <swarm-el...  \n",
       " 10  <?xml version=\"1.00\" ?>\\n<config>\\n  <swarm-el...  \n",
       " 11  <?xml version=\"1.00\" ?>\\n<config>\\n  <swarm-el...  \n",
       " 12  <?xml version=\"1.00\" ?>\\n<config>\\n  <swarm-el...  \n",
       " 13  <?xml version=\"1.00\" ?>\\n<config>\\n  <swarm-el...  ,\n",
       " 'checkpoint-350':                                           description  \\\n",
       " 0   The circular arena, having a radius of 1.24 me...   \n",
       " 1   In this setting, a circular arena with a radiu...   \n",
       " 2   The circular arena, having a radius of 2.61 me...   \n",
       " 3   The environment is a circle made out of 11 wal...   \n",
       " 4   The rectangular area has dimensions 4.22 m x 5...   \n",
       " 5   The rectangular area has dimensions 5.05 m x 3...   \n",
       " 6   The circular arena, having a radius of 3.21 me...   \n",
       " 7   With a length of 5.89 meters, width of 3.03 me...   \n",
       " 8   The environment is constructed as a rectangula...   \n",
       " 9   The environment is a circle made out of 19 wal...   \n",
       " 10  The environment consists of a circular arena w...   \n",
       " 11  The circular arena, constructed with 16 walls,...   \n",
       " 12  The environment features a circle composed of ...   \n",
       " 13  The circular arena, having a radius of 2.54 me...   \n",
       " \n",
       "                                         configuration  \\\n",
       " 0   <?xml version=\"1.00\" ?>\\n<config>\\n  <swarm-el...   \n",
       " 1   <?xml version=\"1.00\" ?>\\n<config>\\n  <swarm-el...   \n",
       " 2   <?xml version=\"1.00\" ?>\\n<config>\\n  <swarm-el...   \n",
       " 3   <?xml version=\"1.00\" ?>\\n<config>\\n  <swarm-el...   \n",
       " 4   <?xml version=\"1.00\" ?>\\n<config>\\n  <swarm-el...   \n",
       " 5   <?xml version=\"1.00\" ?>\\n<config>\\n  <swarm-el...   \n",
       " 6   <?xml version=\"1.00\" ?>\\n<config>\\n  <swarm-el...   \n",
       " 7   <?xml version=\"1.00\" ?>\\n<config>\\n  <swarm-el...   \n",
       " 8   <?xml version=\"1.00\" ?>\\n<config>\\n  <swarm-el...   \n",
       " 9   <?xml version=\"1.00\" ?>\\n<config>\\n  <swarm-el...   \n",
       " 10  <?xml version=\"1.00\" ?>\\n<config>\\n  <swarm-el...   \n",
       " 11  <?xml version=\"1.00\" ?>\\n<config>\\n  <swarm-el...   \n",
       " 12  <?xml version=\"1.00\" ?>\\n<config>\\n  <swarm-el...   \n",
       " 13  <?xml version=\"1.00\" ?>\\n<config>\\n  <swarm-el...   \n",
       " \n",
       "                                            parameters  \\\n",
       " 0   MissionParams(arena_params=CircularArena(radiu...   \n",
       " 1   MissionParams(arena_params=CircularArena(radiu...   \n",
       " 2   MissionParams(arena_params=CircularArena(radiu...   \n",
       " 3   MissionParams(arena_params=CircularArena(radiu...   \n",
       " 4   MissionParams(arena_params=RectangularArena(le...   \n",
       " 5   MissionParams(arena_params=RectangularArena(le...   \n",
       " 6   MissionParams(arena_params=CircularArena(radiu...   \n",
       " 7   MissionParams(arena_params=RectangularArena(le...   \n",
       " 8   MissionParams(arena_params=RectangularArena(le...   \n",
       " 9   MissionParams(arena_params=CircularArena(radiu...   \n",
       " 10  MissionParams(arena_params=CircularArena(radiu...   \n",
       " 11  MissionParams(arena_params=CircularArena(radiu...   \n",
       " 12  MissionParams(arena_params=CircularArena(radiu...   \n",
       " 13  MissionParams(arena_params=CircularArena(radiu...   \n",
       " \n",
       "                                              response  \n",
       " 0   <?xml version=\"1.00\" ?>\\n<config>\\n  <swarm-el...  \n",
       " 1   <?xml version=\"1.00\" ?>\\n<config>\\n  <swarm-el...  \n",
       " 2   <?xml version=\"1.00\" ?>\\n<config>\\n  <swarm-el...  \n",
       " 3   <?xml version=\"1.00\" ?>\\n<config>\\n  <swarm-el...  \n",
       " 4   <?xml version=\"1.00\" ?>\\n<config>\\n  <swarm-el...  \n",
       " 5   <?xml version=\"1.00\" ?>\\n<config>\\n  <swarm-el...  \n",
       " 6   <?xml version=\"1.00\" ?>\\n<config>\\n  <swarm-el...  \n",
       " 7   <?xml version=\"1.00\" ?>\\n<config>\\n  <swarm-el...  \n",
       " 8   <?xml version=\"1.00\" ?>\\n<config>\\n  <swarm-el...  \n",
       " 9   <?xml version=\"1.00\" ?>\\n<config>\\n  <swarm-el...  \n",
       " 10  <?xml version=\"1.00\" ?>\\n<config>\\n  <swarm-el...  \n",
       " 11  <?xml version=\"1.00\" ?>\\n<config>\\n  <swarm-el...  \n",
       " 12  <?xml version=\"1.00\" ?>\\n<config>\\n  <swarm-el...  \n",
       " 13  <?xml version=\"1.00\" ?>\\n<config>\\n  <swarm-el...  ,\n",
       " 'checkpoint-375':                                           description  \\\n",
       " 0   The rectangular area has dimensions 6.52 m x 1...   \n",
       " 1   The environment features a circle composed of ...   \n",
       " 2   The area is a rectangle with dimensions 7.21 x...   \n",
       " 3   The environment consists of a rectangular area...   \n",
       " 4   In this setting, a rectangle is formed with di...   \n",
       " 5   With a radius of 3.25 meters, the circular are...   \n",
       " 6   A circle with 5 walls forms the structure of t...   \n",
       " 7   The circular arena, constructed with 25 walls,...   \n",
       " 8   With a length of 2.23 meters, width of 4.93 me...   \n",
       " 9   In this setting, a circular arena with a radiu...   \n",
       " 10  The environment consists of a rectangular area...   \n",
       " 11  The environment features a rectangle with dime...   \n",
       " 12  The environment is a rectangular area with len...   \n",
       " 13  The environment features a rectangle with dime...   \n",
       " \n",
       "                                         configuration  \\\n",
       " 0   <?xml version=\"1.00\" ?>\\n<config>\\n  <swarm-el...   \n",
       " 1   <?xml version=\"1.00\" ?>\\n<config>\\n  <swarm-el...   \n",
       " 2   <?xml version=\"1.00\" ?>\\n<config>\\n  <swarm-el...   \n",
       " 3   <?xml version=\"1.00\" ?>\\n<config>\\n  <swarm-el...   \n",
       " 4   <?xml version=\"1.00\" ?>\\n<config>\\n  <swarm-el...   \n",
       " 5   <?xml version=\"1.00\" ?>\\n<config>\\n  <swarm-el...   \n",
       " 6   <?xml version=\"1.00\" ?>\\n<config>\\n  <swarm-el...   \n",
       " 7   <?xml version=\"1.00\" ?>\\n<config>\\n  <swarm-el...   \n",
       " 8   <?xml version=\"1.00\" ?>\\n<config>\\n  <swarm-el...   \n",
       " 9   <?xml version=\"1.00\" ?>\\n<config>\\n  <swarm-el...   \n",
       " 10  <?xml version=\"1.00\" ?>\\n<config>\\n  <swarm-el...   \n",
       " 11  <?xml version=\"1.00\" ?>\\n<config>\\n  <swarm-el...   \n",
       " 12  <?xml version=\"1.00\" ?>\\n<config>\\n  <swarm-el...   \n",
       " 13  <?xml version=\"1.00\" ?>\\n<config>\\n  <swarm-el...   \n",
       " \n",
       "                                            parameters  \\\n",
       " 0   MissionParams(arena_params=RectangularArena(le...   \n",
       " 1   MissionParams(arena_params=CircularArena(radiu...   \n",
       " 2   MissionParams(arena_params=RectangularArena(le...   \n",
       " 3   MissionParams(arena_params=RectangularArena(le...   \n",
       " 4   MissionParams(arena_params=RectangularArena(le...   \n",
       " 5   MissionParams(arena_params=CircularArena(radiu...   \n",
       " 6   MissionParams(arena_params=CircularArena(radiu...   \n",
       " 7   MissionParams(arena_params=CircularArena(radiu...   \n",
       " 8   MissionParams(arena_params=RectangularArena(le...   \n",
       " 9   MissionParams(arena_params=CircularArena(radiu...   \n",
       " 10  MissionParams(arena_params=RectangularArena(le...   \n",
       " 11  MissionParams(arena_params=RectangularArena(le...   \n",
       " 12  MissionParams(arena_params=RectangularArena(le...   \n",
       " 13  MissionParams(arena_params=RectangularArena(le...   \n",
       " \n",
       "                                              response  \n",
       " 0   <?xml version=\"1.00\" ?>\\n<config>\\n  <swarm-el...  \n",
       " 1   <?xml version=\"1.00\" ?>\\n<config>\\n  <swarm-el...  \n",
       " 2   <?xml version=\"1.00\" ?>\\n<config>\\n  <swarm-el...  \n",
       " 3   <?xml version=\"1.00\" ?>\\n<config>\\n  <swarm-el...  \n",
       " 4   <?xml version=\"1.00\" ?>\\n<config>\\n  <swarm-el...  \n",
       " 5   <?xml version=\"1.00\" ?>\\n<config>\\n  <swarm-el...  \n",
       " 6   <?xml version=\"1.00\" ?>\\n<config>\\n  <swarm-el...  \n",
       " 7   <?xml version=\"1.00\" ?>\\n<config>\\n  <swarm-el...  \n",
       " 8   <?xml version=\"1.00\" ?>\\n<config>\\n  <swarm-el...  \n",
       " 9   <?xml version=\"1.00\" ?>\\n<config>\\n  <swarm-el...  \n",
       " 10  <?xml version=\"1.00\" ?>\\n<config>\\n  <swarm-el...  \n",
       " 11  <?xml version=\"1.00\" ?>\\n<config>\\n  <swarm-el...  \n",
       " 12  <?xml version=\"1.00\" ?>\\n<config>\\n  <swarm-el...  \n",
       " 13  <?xml version=\"1.00\" ?>\\n<config>\\n  <swarm-el...  ,\n",
       " 'checkpoint-400':                                           description  \\\n",
       " 0   The circular arena, having a radius of 1.73 me...   \n",
       " 1   The circular arena, constructed with 5 walls, ...   \n",
       " 2   A rectangular area, with a length of 3.02 mete...   \n",
       " 3   The circular arena, constructed with 22 walls,...   \n",
       " 4   With a length of 4.49 meters, width of 4.32 me...   \n",
       " 5   The environment features a circle composed of ...   \n",
       " 6   In this setting, a circular arena with a radiu...   \n",
       " 7   The rectangular area has dimensions 4.75 m x 6...   \n",
       " 8   In this setting, a rectangle is formed with di...   \n",
       " 9   The environment features a rectangle with dime...   \n",
       " 10  The area is a rectangle with dimensions 3.97 x...   \n",
       " 11  In this setting, a rectangle is formed with di...   \n",
       " 12  The environment consists of a circular arena w...   \n",
       " 13  The environment consists of a rectangular area...   \n",
       " \n",
       "                                         configuration  \\\n",
       " 0   <?xml version=\"1.00\" ?>\\n<config>\\n  <swarm-el...   \n",
       " 1   <?xml version=\"1.00\" ?>\\n<config>\\n  <swarm-el...   \n",
       " 2   <?xml version=\"1.00\" ?>\\n<config>\\n  <swarm-el...   \n",
       " 3   <?xml version=\"1.00\" ?>\\n<config>\\n  <swarm-el...   \n",
       " 4   <?xml version=\"1.00\" ?>\\n<config>\\n  <swarm-el...   \n",
       " 5   <?xml version=\"1.00\" ?>\\n<config>\\n  <swarm-el...   \n",
       " 6   <?xml version=\"1.00\" ?>\\n<config>\\n  <swarm-el...   \n",
       " 7   <?xml version=\"1.00\" ?>\\n<config>\\n  <swarm-el...   \n",
       " 8   <?xml version=\"1.00\" ?>\\n<config>\\n  <swarm-el...   \n",
       " 9   <?xml version=\"1.00\" ?>\\n<config>\\n  <swarm-el...   \n",
       " 10  <?xml version=\"1.00\" ?>\\n<config>\\n  <swarm-el...   \n",
       " 11  <?xml version=\"1.00\" ?>\\n<config>\\n  <swarm-el...   \n",
       " 12  <?xml version=\"1.00\" ?>\\n<config>\\n  <swarm-el...   \n",
       " 13  <?xml version=\"1.00\" ?>\\n<config>\\n  <swarm-el...   \n",
       " \n",
       "                                            parameters  \\\n",
       " 0   MissionParams(arena_params=CircularArena(radiu...   \n",
       " 1   MissionParams(arena_params=CircularArena(radiu...   \n",
       " 2   MissionParams(arena_params=RectangularArena(le...   \n",
       " 3   MissionParams(arena_params=CircularArena(radiu...   \n",
       " 4   MissionParams(arena_params=RectangularArena(le...   \n",
       " 5   MissionParams(arena_params=CircularArena(radiu...   \n",
       " 6   MissionParams(arena_params=CircularArena(radiu...   \n",
       " 7   MissionParams(arena_params=RectangularArena(le...   \n",
       " 8   MissionParams(arena_params=RectangularArena(le...   \n",
       " 9   MissionParams(arena_params=RectangularArena(le...   \n",
       " 10  MissionParams(arena_params=RectangularArena(le...   \n",
       " 11  MissionParams(arena_params=RectangularArena(le...   \n",
       " 12  MissionParams(arena_params=CircularArena(radiu...   \n",
       " 13  MissionParams(arena_params=RectangularArena(le...   \n",
       " \n",
       "                                              response  \n",
       " 0   <?xml version=\"1.00\" ?>\\n<config>\\n  <swarm-el...  \n",
       " 1   <?xml version=\"1.00\" ?>\\n<config>\\n  <swarm-el...  \n",
       " 2   <?xml version=\"1.00\" ?>\\n<config>\\n  <swarm-el...  \n",
       " 3   <?xml version=\"1.00\" ?>\\n<config>\\n  <swarm-el...  \n",
       " 4   <?xml version=\"1.00\" ?>\\n<config>\\n  <swarm-el...  \n",
       " 5   <?xml version=\"1.00\" ?>\\n<config>\\n  <swarm-el...  \n",
       " 6   <?xml version=\"1.00\" ?>\\n<config>\\n  <swarm-el...  \n",
       " 7   <?xml version=\"1.00\" ?>\\n<config>\\n  <swarm-el...  \n",
       " 8   <?xml version=\"1.00\" ?>\\n<config>\\n  <swarm-el...  \n",
       " 9   <?xml version=\"1.00\" ?>\\n<config>\\n  <swarm-el...  \n",
       " 10  <?xml version=\"1.00\" ?>\\n<config>\\n  <swarm-el...  \n",
       " 11  <?xml version=\"1.00\" ?>\\n<config>\\n  <swarm-el...  \n",
       " 12  <?xml version=\"1.00\" ?>\\n<config>\\n  <swarm-el...  \n",
       " 13  <?xml version=\"1.00\" ?>\\n<config>\\n  <swarm-el...  }"
      ]
     },
     "execution_count": 22,
     "metadata": {},
     "output_type": "execute_result"
    }
   ],
   "source": [
    "test_load"
   ]
  }
 ],
 "metadata": {
  "accelerator": "GPU",
  "colab": {
   "gpuType": "T4",
   "provenance": []
  },
  "kaggle": {
   "accelerator": "gpu",
   "dataSources": [
    {
     "datasetId": 4171875,
     "isSourceIdPinned": true,
     "sourceId": 7357572,
     "sourceType": "datasetVersion"
    }
   ],
   "isGpuEnabled": true,
   "isInternetEnabled": true,
   "language": "python",
   "sourceType": "notebook"
  },
  "kernelspec": {
   "display_name": "Python 3",
   "language": "python",
   "name": "python3"
  },
  "language_info": {
   "codemirror_mode": {
    "name": "ipython",
    "version": 3
   },
   "file_extension": ".py",
   "mimetype": "text/x-python",
   "name": "python",
   "nbconvert_exporter": "python",
   "pygments_lexer": "ipython3",
   "version": "3.10.12"
  },
  "papermill": {
   "default_parameters": {},
   "duration": 30048.998972,
   "end_time": "2024-01-08T17:40:28.861347",
   "environment_variables": {},
   "exception": null,
   "input_path": "__notebook__.ipynb",
   "output_path": "__notebook__.ipynb",
   "parameters": {},
   "start_time": "2024-01-08T09:19:39.862375",
   "version": "2.4.0"
  },
  "widgets": {
   "application/vnd.jupyter.widget-state+json": {
    "state": {
     "00835aec824e40c29c459df61641969a": {
      "model_module": "@jupyter-widgets/controls",
      "model_module_version": "1.5.0",
      "model_name": "HTMLModel",
      "state": {
       "_dom_classes": [],
       "_model_module": "@jupyter-widgets/controls",
       "_model_module_version": "1.5.0",
       "_model_name": "HTMLModel",
       "_view_count": null,
       "_view_module": "@jupyter-widgets/controls",
       "_view_module_version": "1.5.0",
       "_view_name": "HTMLView",
       "description": "",
       "description_tooltip": null,
       "layout": "IPY_MODEL_a89529979ad34e52a37579bc43558eb7",
       "placeholder": "​",
       "style": "IPY_MODEL_2bc71a0f3fda49c7af97e16c0b9117fc",
       "value": " 3/3 [01:07&lt;00:00, 21.91s/it]"
      }
     },
     "01b477e013344ca79400c646aa953e77": {
      "model_module": "@jupyter-widgets/controls",
      "model_module_version": "1.5.0",
      "model_name": "DescriptionStyleModel",
      "state": {
       "_model_module": "@jupyter-widgets/controls",
       "_model_module_version": "1.5.0",
       "_model_name": "DescriptionStyleModel",
       "_view_count": null,
       "_view_module": "@jupyter-widgets/base",
       "_view_module_version": "1.2.0",
       "_view_name": "StyleView",
       "description_width": ""
      }
     },
     "01f80216e3304022acc62712391ec544": {
      "model_module": "@jupyter-widgets/base",
      "model_module_version": "1.2.0",
      "model_name": "LayoutModel",
      "state": {
       "_model_module": "@jupyter-widgets/base",
       "_model_module_version": "1.2.0",
       "_model_name": "LayoutModel",
       "_view_count": null,
       "_view_module": "@jupyter-widgets/base",
       "_view_module_version": "1.2.0",
       "_view_name": "LayoutView",
       "align_content": null,
       "align_items": null,
       "align_self": null,
       "border": null,
       "bottom": null,
       "display": null,
       "flex": null,
       "flex_flow": null,
       "grid_area": null,
       "grid_auto_columns": null,
       "grid_auto_flow": null,
       "grid_auto_rows": null,
       "grid_column": null,
       "grid_gap": null,
       "grid_row": null,
       "grid_template_areas": null,
       "grid_template_columns": null,
       "grid_template_rows": null,
       "height": null,
       "justify_content": null,
       "justify_items": null,
       "left": null,
       "margin": null,
       "max_height": null,
       "max_width": null,
       "min_height": null,
       "min_width": null,
       "object_fit": null,
       "object_position": null,
       "order": null,
       "overflow": null,
       "overflow_x": null,
       "overflow_y": null,
       "padding": null,
       "right": null,
       "top": null,
       "visibility": null,
       "width": null
      }
     },
     "0202016a1d974c479a8995f04f679b69": {
      "model_module": "@jupyter-widgets/base",
      "model_module_version": "1.2.0",
      "model_name": "LayoutModel",
      "state": {
       "_model_module": "@jupyter-widgets/base",
       "_model_module_version": "1.2.0",
       "_model_name": "LayoutModel",
       "_view_count": null,
       "_view_module": "@jupyter-widgets/base",
       "_view_module_version": "1.2.0",
       "_view_name": "LayoutView",
       "align_content": null,
       "align_items": null,
       "align_self": null,
       "border": null,
       "bottom": null,
       "display": null,
       "flex": null,
       "flex_flow": null,
       "grid_area": null,
       "grid_auto_columns": null,
       "grid_auto_flow": null,
       "grid_auto_rows": null,
       "grid_column": null,
       "grid_gap": null,
       "grid_row": null,
       "grid_template_areas": null,
       "grid_template_columns": null,
       "grid_template_rows": null,
       "height": null,
       "justify_content": null,
       "justify_items": null,
       "left": null,
       "margin": null,
       "max_height": null,
       "max_width": null,
       "min_height": null,
       "min_width": null,
       "object_fit": null,
       "object_position": null,
       "order": null,
       "overflow": null,
       "overflow_x": null,
       "overflow_y": null,
       "padding": null,
       "right": null,
       "top": null,
       "visibility": null,
       "width": null
      }
     },
     "0242bd16415d44198100fe0585a0273f": {
      "model_module": "@jupyter-widgets/base",
      "model_module_version": "1.2.0",
      "model_name": "LayoutModel",
      "state": {
       "_model_module": "@jupyter-widgets/base",
       "_model_module_version": "1.2.0",
       "_model_name": "LayoutModel",
       "_view_count": null,
       "_view_module": "@jupyter-widgets/base",
       "_view_module_version": "1.2.0",
       "_view_name": "LayoutView",
       "align_content": null,
       "align_items": null,
       "align_self": null,
       "border": null,
       "bottom": null,
       "display": null,
       "flex": null,
       "flex_flow": null,
       "grid_area": null,
       "grid_auto_columns": null,
       "grid_auto_flow": null,
       "grid_auto_rows": null,
       "grid_column": null,
       "grid_gap": null,
       "grid_row": null,
       "grid_template_areas": null,
       "grid_template_columns": null,
       "grid_template_rows": null,
       "height": null,
       "justify_content": null,
       "justify_items": null,
       "left": null,
       "margin": null,
       "max_height": null,
       "max_width": null,
       "min_height": null,
       "min_width": null,
       "object_fit": null,
       "object_position": null,
       "order": null,
       "overflow": null,
       "overflow_x": null,
       "overflow_y": null,
       "padding": null,
       "right": null,
       "top": null,
       "visibility": null,
       "width": null
      }
     },
     "02843e31a66c4c4ca3351ba30c41133e": {
      "model_module": "@jupyter-widgets/controls",
      "model_module_version": "1.5.0",
      "model_name": "ProgressStyleModel",
      "state": {
       "_model_module": "@jupyter-widgets/controls",
       "_model_module_version": "1.5.0",
       "_model_name": "ProgressStyleModel",
       "_view_count": null,
       "_view_module": "@jupyter-widgets/base",
       "_view_module_version": "1.2.0",
       "_view_name": "StyleView",
       "bar_color": null,
       "description_width": ""
      }
     },
     "02cd9868f26d4a179207ba0842e1353b": {
      "model_module": "@jupyter-widgets/controls",
      "model_module_version": "1.5.0",
      "model_name": "FloatProgressModel",
      "state": {
       "_dom_classes": [],
       "_model_module": "@jupyter-widgets/controls",
       "_model_module_version": "1.5.0",
       "_model_name": "FloatProgressModel",
       "_view_count": null,
       "_view_module": "@jupyter-widgets/controls",
       "_view_module_version": "1.5.0",
       "_view_name": "ProgressView",
       "bar_style": "success",
       "description": "",
       "description_tooltip": null,
       "layout": "IPY_MODEL_6396050f3e2643838c42ab0e089795f5",
       "max": 4999819336.0,
       "min": 0.0,
       "orientation": "horizontal",
       "style": "IPY_MODEL_b5ef85fe0117459c8f73ead5b91ccd5c",
       "value": 4999819336.0
      }
     },
     "02f1726ca68d4a4fa4f21c8956774b49": {
      "model_module": "@jupyter-widgets/base",
      "model_module_version": "1.2.0",
      "model_name": "LayoutModel",
      "state": {
       "_model_module": "@jupyter-widgets/base",
       "_model_module_version": "1.2.0",
       "_model_name": "LayoutModel",
       "_view_count": null,
       "_view_module": "@jupyter-widgets/base",
       "_view_module_version": "1.2.0",
       "_view_name": "LayoutView",
       "align_content": null,
       "align_items": null,
       "align_self": null,
       "border": null,
       "bottom": null,
       "display": null,
       "flex": null,
       "flex_flow": null,
       "grid_area": null,
       "grid_auto_columns": null,
       "grid_auto_flow": null,
       "grid_auto_rows": null,
       "grid_column": null,
       "grid_gap": null,
       "grid_row": null,
       "grid_template_areas": null,
       "grid_template_columns": null,
       "grid_template_rows": null,
       "height": null,
       "justify_content": null,
       "justify_items": null,
       "left": null,
       "margin": null,
       "max_height": null,
       "max_width": null,
       "min_height": null,
       "min_width": null,
       "object_fit": null,
       "object_position": null,
       "order": null,
       "overflow": null,
       "overflow_x": null,
       "overflow_y": null,
       "padding": null,
       "right": null,
       "top": null,
       "visibility": null,
       "width": null
      }
     },
     "04fe7fe3f4984cffada70c071fc93fef": {
      "model_module": "@jupyter-widgets/controls",
      "model_module_version": "1.5.0",
      "model_name": "DescriptionStyleModel",
      "state": {
       "_model_module": "@jupyter-widgets/controls",
       "_model_module_version": "1.5.0",
       "_model_name": "DescriptionStyleModel",
       "_view_count": null,
       "_view_module": "@jupyter-widgets/base",
       "_view_module_version": "1.2.0",
       "_view_name": "StyleView",
       "description_width": ""
      }
     },
     "09d3cfdca8f5450caed86d1dff34e489": {
      "model_module": "@jupyter-widgets/controls",
      "model_module_version": "1.5.0",
      "model_name": "HTMLModel",
      "state": {
       "_dom_classes": [],
       "_model_module": "@jupyter-widgets/controls",
       "_model_module_version": "1.5.0",
       "_model_name": "HTMLModel",
       "_view_count": null,
       "_view_module": "@jupyter-widgets/controls",
       "_view_module_version": "1.5.0",
       "_view_name": "HTMLView",
       "description": "",
       "description_tooltip": null,
       "layout": "IPY_MODEL_02f1726ca68d4a4fa4f21c8956774b49",
       "placeholder": "​",
       "style": "IPY_MODEL_d94fb3b74bb244a5b757281ebb5a47d1",
       "value": " 5.00G/5.00G [01:01&lt;00:00, 76.3MB/s]"
      }
     },
     "0c82c8c60d13465f91e7d3e14da12a23": {
      "model_module": "@jupyter-widgets/controls",
      "model_module_version": "1.5.0",
      "model_name": "HTMLModel",
      "state": {
       "_dom_classes": [],
       "_model_module": "@jupyter-widgets/controls",
       "_model_module_version": "1.5.0",
       "_model_name": "HTMLModel",
       "_view_count": null,
       "_view_module": "@jupyter-widgets/controls",
       "_view_module_version": "1.5.0",
       "_view_name": "HTMLView",
       "description": "",
       "description_tooltip": null,
       "layout": "IPY_MODEL_3790be80c4ab4f9baa1b1a9734ce6254",
       "placeholder": "​",
       "style": "IPY_MODEL_496338c28a4f4e128623f433b9a9a5be",
       "value": "Loading checkpoint shards: 100%"
      }
     },
     "0d4c02c47fdd4032bc0b14ec827ecb8f": {
      "model_module": "@jupyter-widgets/base",
      "model_module_version": "1.2.0",
      "model_name": "LayoutModel",
      "state": {
       "_model_module": "@jupyter-widgets/base",
       "_model_module_version": "1.2.0",
       "_model_name": "LayoutModel",
       "_view_count": null,
       "_view_module": "@jupyter-widgets/base",
       "_view_module_version": "1.2.0",
       "_view_name": "LayoutView",
       "align_content": null,
       "align_items": null,
       "align_self": null,
       "border": null,
       "bottom": null,
       "display": null,
       "flex": null,
       "flex_flow": null,
       "grid_area": null,
       "grid_auto_columns": null,
       "grid_auto_flow": null,
       "grid_auto_rows": null,
       "grid_column": null,
       "grid_gap": null,
       "grid_row": null,
       "grid_template_areas": null,
       "grid_template_columns": null,
       "grid_template_rows": null,
       "height": null,
       "justify_content": null,
       "justify_items": null,
       "left": null,
       "margin": null,
       "max_height": null,
       "max_width": null,
       "min_height": null,
       "min_width": null,
       "object_fit": null,
       "object_position": null,
       "order": null,
       "overflow": null,
       "overflow_x": null,
       "overflow_y": null,
       "padding": null,
       "right": null,
       "top": null,
       "visibility": null,
       "width": null
      }
     },
     "0dc604bece6c4bc4b6bff97231c71512": {
      "model_module": "@jupyter-widgets/controls",
      "model_module_version": "1.5.0",
      "model_name": "HBoxModel",
      "state": {
       "_dom_classes": [],
       "_model_module": "@jupyter-widgets/controls",
       "_model_module_version": "1.5.0",
       "_model_name": "HBoxModel",
       "_view_count": null,
       "_view_module": "@jupyter-widgets/controls",
       "_view_module_version": "1.5.0",
       "_view_name": "HBoxView",
       "box_style": "",
       "children": [
        "IPY_MODEL_706e033c23cc41d7bd6ac2d0cffa727d",
        "IPY_MODEL_02cd9868f26d4a179207ba0842e1353b",
        "IPY_MODEL_09d3cfdca8f5450caed86d1dff34e489"
       ],
       "layout": "IPY_MODEL_6d39ec04346b4274bade94886bb372d2"
      }
     },
     "0e5be29d3e9f4f0fa41c9909f32c588e": {
      "model_module": "@jupyter-widgets/base",
      "model_module_version": "1.2.0",
      "model_name": "LayoutModel",
      "state": {
       "_model_module": "@jupyter-widgets/base",
       "_model_module_version": "1.2.0",
       "_model_name": "LayoutModel",
       "_view_count": null,
       "_view_module": "@jupyter-widgets/base",
       "_view_module_version": "1.2.0",
       "_view_name": "LayoutView",
       "align_content": null,
       "align_items": null,
       "align_self": null,
       "border": null,
       "bottom": null,
       "display": null,
       "flex": null,
       "flex_flow": null,
       "grid_area": null,
       "grid_auto_columns": null,
       "grid_auto_flow": null,
       "grid_auto_rows": null,
       "grid_column": null,
       "grid_gap": null,
       "grid_row": null,
       "grid_template_areas": null,
       "grid_template_columns": null,
       "grid_template_rows": null,
       "height": null,
       "justify_content": null,
       "justify_items": null,
       "left": null,
       "margin": null,
       "max_height": null,
       "max_width": null,
       "min_height": null,
       "min_width": null,
       "object_fit": null,
       "object_position": null,
       "order": null,
       "overflow": null,
       "overflow_x": null,
       "overflow_y": null,
       "padding": null,
       "right": null,
       "top": null,
       "visibility": null,
       "width": null
      }
     },
     "0e88a03442944c45ad35761a51c2f8d9": {
      "model_module": "@jupyter-widgets/controls",
      "model_module_version": "1.5.0",
      "model_name": "ProgressStyleModel",
      "state": {
       "_model_module": "@jupyter-widgets/controls",
       "_model_module_version": "1.5.0",
       "_model_name": "ProgressStyleModel",
       "_view_count": null,
       "_view_module": "@jupyter-widgets/base",
       "_view_module_version": "1.2.0",
       "_view_name": "StyleView",
       "bar_color": null,
       "description_width": ""
      }
     },
     "0ff6c76af44f4552af823b8b30570a7c": {
      "model_module": "@jupyter-widgets/controls",
      "model_module_version": "1.5.0",
      "model_name": "HBoxModel",
      "state": {
       "_dom_classes": [],
       "_model_module": "@jupyter-widgets/controls",
       "_model_module_version": "1.5.0",
       "_model_name": "HBoxModel",
       "_view_count": null,
       "_view_module": "@jupyter-widgets/controls",
       "_view_module_version": "1.5.0",
       "_view_name": "HBoxView",
       "box_style": "",
       "children": [
        "IPY_MODEL_2ff421163e734060ad7c29ae69b5ecd1",
        "IPY_MODEL_ff040db3539f46e6b0b44754a070cd5a",
        "IPY_MODEL_8a519caabc004353b3ed93f07d0b0039"
       ],
       "layout": "IPY_MODEL_73e32b8406be4d2f89c33a6c0e851c40"
      }
     },
     "10388e6671be4a9484e3548b0e2ba310": {
      "model_module": "@jupyter-widgets/controls",
      "model_module_version": "1.5.0",
      "model_name": "HTMLModel",
      "state": {
       "_dom_classes": [],
       "_model_module": "@jupyter-widgets/controls",
       "_model_module_version": "1.5.0",
       "_model_name": "HTMLModel",
       "_view_count": null,
       "_view_module": "@jupyter-widgets/controls",
       "_view_module_version": "1.5.0",
       "_view_name": "HTMLView",
       "description": "",
       "description_tooltip": null,
       "layout": "IPY_MODEL_e3d3bbd18fc945cb87d6ce7f23ede51a",
       "placeholder": "​",
       "style": "IPY_MODEL_16132b5741fa4eb882d524d6cefc4eaa",
       "value": " 3/3 [00:12&lt;00:00,  4.06s/it]"
      }
     },
     "132e5a06fc14434c89c94405e649621a": {
      "model_module": "@jupyter-widgets/base",
      "model_module_version": "1.2.0",
      "model_name": "LayoutModel",
      "state": {
       "_model_module": "@jupyter-widgets/base",
       "_model_module_version": "1.2.0",
       "_model_name": "LayoutModel",
       "_view_count": null,
       "_view_module": "@jupyter-widgets/base",
       "_view_module_version": "1.2.0",
       "_view_name": "LayoutView",
       "align_content": null,
       "align_items": null,
       "align_self": null,
       "border": null,
       "bottom": null,
       "display": null,
       "flex": null,
       "flex_flow": null,
       "grid_area": null,
       "grid_auto_columns": null,
       "grid_auto_flow": null,
       "grid_auto_rows": null,
       "grid_column": null,
       "grid_gap": null,
       "grid_row": null,
       "grid_template_areas": null,
       "grid_template_columns": null,
       "grid_template_rows": null,
       "height": null,
       "justify_content": null,
       "justify_items": null,
       "left": null,
       "margin": null,
       "max_height": null,
       "max_width": null,
       "min_height": null,
       "min_width": null,
       "object_fit": null,
       "object_position": null,
       "order": null,
       "overflow": null,
       "overflow_x": null,
       "overflow_y": null,
       "padding": null,
       "right": null,
       "top": null,
       "visibility": null,
       "width": null
      }
     },
     "1589d2e94de34817a1841d9782b182fe": {
      "model_module": "@jupyter-widgets/controls",
      "model_module_version": "1.5.0",
      "model_name": "FloatProgressModel",
      "state": {
       "_dom_classes": [],
       "_model_module": "@jupyter-widgets/controls",
       "_model_module_version": "1.5.0",
       "_model_name": "FloatProgressModel",
       "_view_count": null,
       "_view_module": "@jupyter-widgets/controls",
       "_view_module_version": "1.5.0",
       "_view_name": "ProgressView",
       "bar_style": "success",
       "description": "",
       "description_tooltip": null,
       "layout": "IPY_MODEL_0242bd16415d44198100fe0585a0273f",
       "max": 3.0,
       "min": 0.0,
       "orientation": "horizontal",
       "style": "IPY_MODEL_02843e31a66c4c4ca3351ba30c41133e",
       "value": 3.0
      }
     },
     "159ac36a34344438a0bf5e2e8f5b1363": {
      "model_module": "@jupyter-widgets/base",
      "model_module_version": "1.2.0",
      "model_name": "LayoutModel",
      "state": {
       "_model_module": "@jupyter-widgets/base",
       "_model_module_version": "1.2.0",
       "_model_name": "LayoutModel",
       "_view_count": null,
       "_view_module": "@jupyter-widgets/base",
       "_view_module_version": "1.2.0",
       "_view_name": "LayoutView",
       "align_content": null,
       "align_items": null,
       "align_self": null,
       "border": null,
       "bottom": null,
       "display": null,
       "flex": null,
       "flex_flow": null,
       "grid_area": null,
       "grid_auto_columns": null,
       "grid_auto_flow": null,
       "grid_auto_rows": null,
       "grid_column": null,
       "grid_gap": null,
       "grid_row": null,
       "grid_template_areas": null,
       "grid_template_columns": null,
       "grid_template_rows": null,
       "height": null,
       "justify_content": null,
       "justify_items": null,
       "left": null,
       "margin": null,
       "max_height": null,
       "max_width": null,
       "min_height": null,
       "min_width": null,
       "object_fit": null,
       "object_position": null,
       "order": null,
       "overflow": null,
       "overflow_x": null,
       "overflow_y": null,
       "padding": null,
       "right": null,
       "top": null,
       "visibility": null,
       "width": null
      }
     },
     "15ff12a37633446b9ac7cb5c7f1db13b": {
      "model_module": "@jupyter-widgets/controls",
      "model_module_version": "1.5.0",
      "model_name": "HTMLModel",
      "state": {
       "_dom_classes": [],
       "_model_module": "@jupyter-widgets/controls",
       "_model_module_version": "1.5.0",
       "_model_name": "HTMLModel",
       "_view_count": null,
       "_view_module": "@jupyter-widgets/controls",
       "_view_module_version": "1.5.0",
       "_view_name": "HTMLView",
       "description": "",
       "description_tooltip": null,
       "layout": "IPY_MODEL_fca692522c2d43f48b8f94a759f514f9",
       "placeholder": "​",
       "style": "IPY_MODEL_7c1fb4f582ff460cbbd0345f8e7a1f38",
       "value": " 3/3 [00:12&lt;00:00,  4.03s/it]"
      }
     },
     "16132b5741fa4eb882d524d6cefc4eaa": {
      "model_module": "@jupyter-widgets/controls",
      "model_module_version": "1.5.0",
      "model_name": "DescriptionStyleModel",
      "state": {
       "_model_module": "@jupyter-widgets/controls",
       "_model_module_version": "1.5.0",
       "_model_name": "DescriptionStyleModel",
       "_view_count": null,
       "_view_module": "@jupyter-widgets/base",
       "_view_module_version": "1.2.0",
       "_view_name": "StyleView",
       "description_width": ""
      }
     },
     "170de7bc335d4703829dca311ba92b1c": {
      "model_module": "@jupyter-widgets/controls",
      "model_module_version": "1.5.0",
      "model_name": "ProgressStyleModel",
      "state": {
       "_model_module": "@jupyter-widgets/controls",
       "_model_module_version": "1.5.0",
       "_model_name": "ProgressStyleModel",
       "_view_count": null,
       "_view_module": "@jupyter-widgets/base",
       "_view_module_version": "1.2.0",
       "_view_name": "StyleView",
       "bar_color": null,
       "description_width": ""
      }
     },
     "171a98ab07294e5c9cc33dd8354aac8e": {
      "model_module": "@jupyter-widgets/base",
      "model_module_version": "1.2.0",
      "model_name": "LayoutModel",
      "state": {
       "_model_module": "@jupyter-widgets/base",
       "_model_module_version": "1.2.0",
       "_model_name": "LayoutModel",
       "_view_count": null,
       "_view_module": "@jupyter-widgets/base",
       "_view_module_version": "1.2.0",
       "_view_name": "LayoutView",
       "align_content": null,
       "align_items": null,
       "align_self": null,
       "border": null,
       "bottom": null,
       "display": null,
       "flex": null,
       "flex_flow": null,
       "grid_area": null,
       "grid_auto_columns": null,
       "grid_auto_flow": null,
       "grid_auto_rows": null,
       "grid_column": null,
       "grid_gap": null,
       "grid_row": null,
       "grid_template_areas": null,
       "grid_template_columns": null,
       "grid_template_rows": null,
       "height": null,
       "justify_content": null,
       "justify_items": null,
       "left": null,
       "margin": null,
       "max_height": null,
       "max_width": null,
       "min_height": null,
       "min_width": null,
       "object_fit": null,
       "object_position": null,
       "order": null,
       "overflow": null,
       "overflow_x": null,
       "overflow_y": null,
       "padding": null,
       "right": null,
       "top": null,
       "visibility": null,
       "width": null
      }
     },
     "178b581913e9412babeba2a9cf78af9e": {
      "model_module": "@jupyter-widgets/controls",
      "model_module_version": "1.5.0",
      "model_name": "HBoxModel",
      "state": {
       "_dom_classes": [],
       "_model_module": "@jupyter-widgets/controls",
       "_model_module_version": "1.5.0",
       "_model_name": "HBoxModel",
       "_view_count": null,
       "_view_module": "@jupyter-widgets/controls",
       "_view_module_version": "1.5.0",
       "_view_name": "HBoxView",
       "box_style": "",
       "children": [
        "IPY_MODEL_ac2c0b70764b44a583829cf16e62209e",
        "IPY_MODEL_2c669b7ee50f44a9ac271237e3a620c1",
        "IPY_MODEL_b8042e83bd0f4e2386d90103b9bd536f"
       ],
       "layout": "IPY_MODEL_70508c57b169473e995998f85c7cbbc0"
      }
     },
     "18836fbbce184b998af745082023866f": {
      "model_module": "@jupyter-widgets/controls",
      "model_module_version": "1.5.0",
      "model_name": "HBoxModel",
      "state": {
       "_dom_classes": [],
       "_model_module": "@jupyter-widgets/controls",
       "_model_module_version": "1.5.0",
       "_model_name": "HBoxModel",
       "_view_count": null,
       "_view_module": "@jupyter-widgets/controls",
       "_view_module_version": "1.5.0",
       "_view_name": "HBoxView",
       "box_style": "",
       "children": [
        "IPY_MODEL_77cc6a82e7cb4576bad4c10d06af2ae4",
        "IPY_MODEL_41b5095675674ed29d497bc0488e159b",
        "IPY_MODEL_cdfdf0cd95a04b87937c881c8b29f75a"
       ],
       "layout": "IPY_MODEL_2bac886b2c2646dd9611b9e7c64888b6"
      }
     },
     "1d4c974f165d4b8fbe7581cbdb529901": {
      "model_module": "@jupyter-widgets/controls",
      "model_module_version": "1.5.0",
      "model_name": "FloatProgressModel",
      "state": {
       "_dom_classes": [],
       "_model_module": "@jupyter-widgets/controls",
       "_model_module_version": "1.5.0",
       "_model_name": "FloatProgressModel",
       "_view_count": null,
       "_view_module": "@jupyter-widgets/controls",
       "_view_module_version": "1.5.0",
       "_view_name": "ProgressView",
       "bar_style": "success",
       "description": "",
       "description_tooltip": null,
       "layout": "IPY_MODEL_e3fecbc35b92455992539d2615eb915d",
       "max": 3.0,
       "min": 0.0,
       "orientation": "horizontal",
       "style": "IPY_MODEL_b41b65318749407daeabc47814122a19",
       "value": 3.0
      }
     },
     "1daa961b12b74c5fba6738e2160f1eec": {
      "model_module": "@jupyter-widgets/base",
      "model_module_version": "1.2.0",
      "model_name": "LayoutModel",
      "state": {
       "_model_module": "@jupyter-widgets/base",
       "_model_module_version": "1.2.0",
       "_model_name": "LayoutModel",
       "_view_count": null,
       "_view_module": "@jupyter-widgets/base",
       "_view_module_version": "1.2.0",
       "_view_name": "LayoutView",
       "align_content": null,
       "align_items": null,
       "align_self": null,
       "border": null,
       "bottom": null,
       "display": null,
       "flex": null,
       "flex_flow": null,
       "grid_area": null,
       "grid_auto_columns": null,
       "grid_auto_flow": null,
       "grid_auto_rows": null,
       "grid_column": null,
       "grid_gap": null,
       "grid_row": null,
       "grid_template_areas": null,
       "grid_template_columns": null,
       "grid_template_rows": null,
       "height": null,
       "justify_content": null,
       "justify_items": null,
       "left": null,
       "margin": null,
       "max_height": null,
       "max_width": null,
       "min_height": null,
       "min_width": null,
       "object_fit": null,
       "object_position": null,
       "order": null,
       "overflow": null,
       "overflow_x": null,
       "overflow_y": null,
       "padding": null,
       "right": null,
       "top": null,
       "visibility": null,
       "width": null
      }
     },
     "1e05fc3b6989472b8a2c341632ad9d11": {
      "model_module": "@jupyter-widgets/base",
      "model_module_version": "1.2.0",
      "model_name": "LayoutModel",
      "state": {
       "_model_module": "@jupyter-widgets/base",
       "_model_module_version": "1.2.0",
       "_model_name": "LayoutModel",
       "_view_count": null,
       "_view_module": "@jupyter-widgets/base",
       "_view_module_version": "1.2.0",
       "_view_name": "LayoutView",
       "align_content": null,
       "align_items": null,
       "align_self": null,
       "border": null,
       "bottom": null,
       "display": null,
       "flex": null,
       "flex_flow": null,
       "grid_area": null,
       "grid_auto_columns": null,
       "grid_auto_flow": null,
       "grid_auto_rows": null,
       "grid_column": null,
       "grid_gap": null,
       "grid_row": null,
       "grid_template_areas": null,
       "grid_template_columns": null,
       "grid_template_rows": null,
       "height": null,
       "justify_content": null,
       "justify_items": null,
       "left": null,
       "margin": null,
       "max_height": null,
       "max_width": null,
       "min_height": null,
       "min_width": null,
       "object_fit": null,
       "object_position": null,
       "order": null,
       "overflow": null,
       "overflow_x": null,
       "overflow_y": null,
       "padding": null,
       "right": null,
       "top": null,
       "visibility": null,
       "width": null
      }
     },
     "1f7996d7303d4a5f8e780882d5d4b783": {
      "model_module": "@jupyter-widgets/controls",
      "model_module_version": "1.5.0",
      "model_name": "DescriptionStyleModel",
      "state": {
       "_model_module": "@jupyter-widgets/controls",
       "_model_module_version": "1.5.0",
       "_model_name": "DescriptionStyleModel",
       "_view_count": null,
       "_view_module": "@jupyter-widgets/base",
       "_view_module_version": "1.2.0",
       "_view_name": "StyleView",
       "description_width": ""
      }
     },
     "21ecb74bb9154ac1bbdffee40d394d6c": {
      "model_module": "@jupyter-widgets/controls",
      "model_module_version": "1.5.0",
      "model_name": "ProgressStyleModel",
      "state": {
       "_model_module": "@jupyter-widgets/controls",
       "_model_module_version": "1.5.0",
       "_model_name": "ProgressStyleModel",
       "_view_count": null,
       "_view_module": "@jupyter-widgets/base",
       "_view_module_version": "1.2.0",
       "_view_name": "StyleView",
       "bar_color": null,
       "description_width": ""
      }
     },
     "222c9da4d934429583914ee45ab9d41c": {
      "model_module": "@jupyter-widgets/controls",
      "model_module_version": "1.5.0",
      "model_name": "FloatProgressModel",
      "state": {
       "_dom_classes": [],
       "_model_module": "@jupyter-widgets/controls",
       "_model_module_version": "1.5.0",
       "_model_name": "FloatProgressModel",
       "_view_count": null,
       "_view_module": "@jupyter-widgets/controls",
       "_view_module_version": "1.5.0",
       "_view_name": "ProgressView",
       "bar_style": "success",
       "description": "",
       "description_tooltip": null,
       "layout": "IPY_MODEL_4c70a5718c05462f8aa4eeb76bbd93d6",
       "max": 3.0,
       "min": 0.0,
       "orientation": "horizontal",
       "style": "IPY_MODEL_353b67202f304bbab53dead13557ae0e",
       "value": 3.0
      }
     },
     "235521bf5d564392a1ff43689542a211": {
      "model_module": "@jupyter-widgets/base",
      "model_module_version": "1.2.0",
      "model_name": "LayoutModel",
      "state": {
       "_model_module": "@jupyter-widgets/base",
       "_model_module_version": "1.2.0",
       "_model_name": "LayoutModel",
       "_view_count": null,
       "_view_module": "@jupyter-widgets/base",
       "_view_module_version": "1.2.0",
       "_view_name": "LayoutView",
       "align_content": null,
       "align_items": null,
       "align_self": null,
       "border": null,
       "bottom": null,
       "display": null,
       "flex": null,
       "flex_flow": null,
       "grid_area": null,
       "grid_auto_columns": null,
       "grid_auto_flow": null,
       "grid_auto_rows": null,
       "grid_column": null,
       "grid_gap": null,
       "grid_row": null,
       "grid_template_areas": null,
       "grid_template_columns": null,
       "grid_template_rows": null,
       "height": null,
       "justify_content": null,
       "justify_items": null,
       "left": null,
       "margin": null,
       "max_height": null,
       "max_width": null,
       "min_height": null,
       "min_width": null,
       "object_fit": null,
       "object_position": null,
       "order": null,
       "overflow": null,
       "overflow_x": null,
       "overflow_y": null,
       "padding": null,
       "right": null,
       "top": null,
       "visibility": null,
       "width": null
      }
     },
     "257d77eb0cac4a26814867f6f2c7491e": {
      "model_module": "@jupyter-widgets/controls",
      "model_module_version": "1.5.0",
      "model_name": "DescriptionStyleModel",
      "state": {
       "_model_module": "@jupyter-widgets/controls",
       "_model_module_version": "1.5.0",
       "_model_name": "DescriptionStyleModel",
       "_view_count": null,
       "_view_module": "@jupyter-widgets/base",
       "_view_module_version": "1.2.0",
       "_view_name": "StyleView",
       "description_width": ""
      }
     },
     "257e9423bd964150a991976be5378c87": {
      "model_module": "@jupyter-widgets/base",
      "model_module_version": "1.2.0",
      "model_name": "LayoutModel",
      "state": {
       "_model_module": "@jupyter-widgets/base",
       "_model_module_version": "1.2.0",
       "_model_name": "LayoutModel",
       "_view_count": null,
       "_view_module": "@jupyter-widgets/base",
       "_view_module_version": "1.2.0",
       "_view_name": "LayoutView",
       "align_content": null,
       "align_items": null,
       "align_self": null,
       "border": null,
       "bottom": null,
       "display": null,
       "flex": null,
       "flex_flow": null,
       "grid_area": null,
       "grid_auto_columns": null,
       "grid_auto_flow": null,
       "grid_auto_rows": null,
       "grid_column": null,
       "grid_gap": null,
       "grid_row": null,
       "grid_template_areas": null,
       "grid_template_columns": null,
       "grid_template_rows": null,
       "height": null,
       "justify_content": null,
       "justify_items": null,
       "left": null,
       "margin": null,
       "max_height": null,
       "max_width": null,
       "min_height": null,
       "min_width": null,
       "object_fit": null,
       "object_position": null,
       "order": null,
       "overflow": null,
       "overflow_x": null,
       "overflow_y": null,
       "padding": null,
       "right": null,
       "top": null,
       "visibility": null,
       "width": null
      }
     },
     "2666ea98c27a46b59afe530dc2116a86": {
      "model_module": "@jupyter-widgets/controls",
      "model_module_version": "1.5.0",
      "model_name": "HBoxModel",
      "state": {
       "_dom_classes": [],
       "_model_module": "@jupyter-widgets/controls",
       "_model_module_version": "1.5.0",
       "_model_name": "HBoxModel",
       "_view_count": null,
       "_view_module": "@jupyter-widgets/controls",
       "_view_module_version": "1.5.0",
       "_view_name": "HBoxView",
       "box_style": "",
       "children": [
        "IPY_MODEL_8b6b07bcec4e4b36bfae2a6b6f86099a",
        "IPY_MODEL_48998550d35f44338006bb38e5bee8e9",
        "IPY_MODEL_6caa00d6899d4521b6184cda4d5b32b2"
       ],
       "layout": "IPY_MODEL_257e9423bd964150a991976be5378c87"
      }
     },
     "2979e9aacdd849cb9028b013e7f225b7": {
      "model_module": "@jupyter-widgets/controls",
      "model_module_version": "1.5.0",
      "model_name": "ProgressStyleModel",
      "state": {
       "_model_module": "@jupyter-widgets/controls",
       "_model_module_version": "1.5.0",
       "_model_name": "ProgressStyleModel",
       "_view_count": null,
       "_view_module": "@jupyter-widgets/base",
       "_view_module_version": "1.2.0",
       "_view_name": "StyleView",
       "bar_color": null,
       "description_width": ""
      }
     },
     "2a76317730a240fb9a5c6c87914f8659": {
      "model_module": "@jupyter-widgets/base",
      "model_module_version": "1.2.0",
      "model_name": "LayoutModel",
      "state": {
       "_model_module": "@jupyter-widgets/base",
       "_model_module_version": "1.2.0",
       "_model_name": "LayoutModel",
       "_view_count": null,
       "_view_module": "@jupyter-widgets/base",
       "_view_module_version": "1.2.0",
       "_view_name": "LayoutView",
       "align_content": null,
       "align_items": null,
       "align_self": null,
       "border": null,
       "bottom": null,
       "display": null,
       "flex": null,
       "flex_flow": null,
       "grid_area": null,
       "grid_auto_columns": null,
       "grid_auto_flow": null,
       "grid_auto_rows": null,
       "grid_column": null,
       "grid_gap": null,
       "grid_row": null,
       "grid_template_areas": null,
       "grid_template_columns": null,
       "grid_template_rows": null,
       "height": null,
       "justify_content": null,
       "justify_items": null,
       "left": null,
       "margin": null,
       "max_height": null,
       "max_width": null,
       "min_height": null,
       "min_width": null,
       "object_fit": null,
       "object_position": null,
       "order": null,
       "overflow": null,
       "overflow_x": null,
       "overflow_y": null,
       "padding": null,
       "right": null,
       "top": null,
       "visibility": null,
       "width": null
      }
     },
     "2bac886b2c2646dd9611b9e7c64888b6": {
      "model_module": "@jupyter-widgets/base",
      "model_module_version": "1.2.0",
      "model_name": "LayoutModel",
      "state": {
       "_model_module": "@jupyter-widgets/base",
       "_model_module_version": "1.2.0",
       "_model_name": "LayoutModel",
       "_view_count": null,
       "_view_module": "@jupyter-widgets/base",
       "_view_module_version": "1.2.0",
       "_view_name": "LayoutView",
       "align_content": null,
       "align_items": null,
       "align_self": null,
       "border": null,
       "bottom": null,
       "display": null,
       "flex": null,
       "flex_flow": null,
       "grid_area": null,
       "grid_auto_columns": null,
       "grid_auto_flow": null,
       "grid_auto_rows": null,
       "grid_column": null,
       "grid_gap": null,
       "grid_row": null,
       "grid_template_areas": null,
       "grid_template_columns": null,
       "grid_template_rows": null,
       "height": null,
       "justify_content": null,
       "justify_items": null,
       "left": null,
       "margin": null,
       "max_height": null,
       "max_width": null,
       "min_height": null,
       "min_width": null,
       "object_fit": null,
       "object_position": null,
       "order": null,
       "overflow": null,
       "overflow_x": null,
       "overflow_y": null,
       "padding": null,
       "right": null,
       "top": null,
       "visibility": null,
       "width": null
      }
     },
     "2bc71a0f3fda49c7af97e16c0b9117fc": {
      "model_module": "@jupyter-widgets/controls",
      "model_module_version": "1.5.0",
      "model_name": "DescriptionStyleModel",
      "state": {
       "_model_module": "@jupyter-widgets/controls",
       "_model_module_version": "1.5.0",
       "_model_name": "DescriptionStyleModel",
       "_view_count": null,
       "_view_module": "@jupyter-widgets/base",
       "_view_module_version": "1.2.0",
       "_view_name": "StyleView",
       "description_width": ""
      }
     },
     "2c669b7ee50f44a9ac271237e3a620c1": {
      "model_module": "@jupyter-widgets/controls",
      "model_module_version": "1.5.0",
      "model_name": "FloatProgressModel",
      "state": {
       "_dom_classes": [],
       "_model_module": "@jupyter-widgets/controls",
       "_model_module_version": "1.5.0",
       "_model_name": "FloatProgressModel",
       "_view_count": null,
       "_view_module": "@jupyter-widgets/controls",
       "_view_module_version": "1.5.0",
       "_view_name": "ProgressView",
       "bar_style": "success",
       "description": "",
       "description_tooltip": null,
       "layout": "IPY_MODEL_85aab98c27c740cb81e8f6bd0100e26a",
       "max": 596.0,
       "min": 0.0,
       "orientation": "horizontal",
       "style": "IPY_MODEL_170de7bc335d4703829dca311ba92b1c",
       "value": 596.0
      }
     },
     "2c737e99adce4720b9c44846c9e23f83": {
      "model_module": "@jupyter-widgets/base",
      "model_module_version": "1.2.0",
      "model_name": "LayoutModel",
      "state": {
       "_model_module": "@jupyter-widgets/base",
       "_model_module_version": "1.2.0",
       "_model_name": "LayoutModel",
       "_view_count": null,
       "_view_module": "@jupyter-widgets/base",
       "_view_module_version": "1.2.0",
       "_view_name": "LayoutView",
       "align_content": null,
       "align_items": null,
       "align_self": null,
       "border": null,
       "bottom": null,
       "display": null,
       "flex": null,
       "flex_flow": null,
       "grid_area": null,
       "grid_auto_columns": null,
       "grid_auto_flow": null,
       "grid_auto_rows": null,
       "grid_column": null,
       "grid_gap": null,
       "grid_row": null,
       "grid_template_areas": null,
       "grid_template_columns": null,
       "grid_template_rows": null,
       "height": null,
       "justify_content": null,
       "justify_items": null,
       "left": null,
       "margin": null,
       "max_height": null,
       "max_width": null,
       "min_height": null,
       "min_width": null,
       "object_fit": null,
       "object_position": null,
       "order": null,
       "overflow": null,
       "overflow_x": null,
       "overflow_y": null,
       "padding": null,
       "right": null,
       "top": null,
       "visibility": null,
       "width": null
      }
     },
     "2ff421163e734060ad7c29ae69b5ecd1": {
      "model_module": "@jupyter-widgets/controls",
      "model_module_version": "1.5.0",
      "model_name": "HTMLModel",
      "state": {
       "_dom_classes": [],
       "_model_module": "@jupyter-widgets/controls",
       "_model_module_version": "1.5.0",
       "_model_name": "HTMLModel",
       "_view_count": null,
       "_view_module": "@jupyter-widgets/controls",
       "_view_module_version": "1.5.0",
       "_view_name": "HTMLView",
       "description": "",
       "description_tooltip": null,
       "layout": "IPY_MODEL_328242ba04f84351b7831d9977cfeb59",
       "placeholder": "​",
       "style": "IPY_MODEL_04fe7fe3f4984cffada70c071fc93fef",
       "value": "Loading checkpoint shards: 100%"
      }
     },
     "31ba8fb6b26048dfb71d3be42b1d314d": {
      "model_module": "@jupyter-widgets/controls",
      "model_module_version": "1.5.0",
      "model_name": "DescriptionStyleModel",
      "state": {
       "_model_module": "@jupyter-widgets/controls",
       "_model_module_version": "1.5.0",
       "_model_name": "DescriptionStyleModel",
       "_view_count": null,
       "_view_module": "@jupyter-widgets/base",
       "_view_module_version": "1.2.0",
       "_view_name": "StyleView",
       "description_width": ""
      }
     },
     "31d90d1ec76d4cec95518c27e8ab6d64": {
      "model_module": "@jupyter-widgets/base",
      "model_module_version": "1.2.0",
      "model_name": "LayoutModel",
      "state": {
       "_model_module": "@jupyter-widgets/base",
       "_model_module_version": "1.2.0",
       "_model_name": "LayoutModel",
       "_view_count": null,
       "_view_module": "@jupyter-widgets/base",
       "_view_module_version": "1.2.0",
       "_view_name": "LayoutView",
       "align_content": null,
       "align_items": null,
       "align_self": null,
       "border": null,
       "bottom": null,
       "display": null,
       "flex": null,
       "flex_flow": null,
       "grid_area": null,
       "grid_auto_columns": null,
       "grid_auto_flow": null,
       "grid_auto_rows": null,
       "grid_column": null,
       "grid_gap": null,
       "grid_row": null,
       "grid_template_areas": null,
       "grid_template_columns": null,
       "grid_template_rows": null,
       "height": null,
       "justify_content": null,
       "justify_items": null,
       "left": null,
       "margin": null,
       "max_height": null,
       "max_width": null,
       "min_height": null,
       "min_width": null,
       "object_fit": null,
       "object_position": null,
       "order": null,
       "overflow": null,
       "overflow_x": null,
       "overflow_y": null,
       "padding": null,
       "right": null,
       "top": null,
       "visibility": null,
       "width": null
      }
     },
     "323e9e0f45c24f41ba32a9db75d536a4": {
      "model_module": "@jupyter-widgets/controls",
      "model_module_version": "1.5.0",
      "model_name": "HTMLModel",
      "state": {
       "_dom_classes": [],
       "_model_module": "@jupyter-widgets/controls",
       "_model_module_version": "1.5.0",
       "_model_name": "HTMLModel",
       "_view_count": null,
       "_view_module": "@jupyter-widgets/controls",
       "_view_module_version": "1.5.0",
       "_view_name": "HTMLView",
       "description": "",
       "description_tooltip": null,
       "layout": "IPY_MODEL_cf9b62403b7f46128303feb40d34e785",
       "placeholder": "​",
       "style": "IPY_MODEL_70d640a6369a484c8d7929a638f80c37",
       "value": "Downloading shards: 100%"
      }
     },
     "325614de539346fbaa011ab791653e66": {
      "model_module": "@jupyter-widgets/controls",
      "model_module_version": "1.5.0",
      "model_name": "DescriptionStyleModel",
      "state": {
       "_model_module": "@jupyter-widgets/controls",
       "_model_module_version": "1.5.0",
       "_model_name": "DescriptionStyleModel",
       "_view_count": null,
       "_view_module": "@jupyter-widgets/base",
       "_view_module_version": "1.2.0",
       "_view_name": "StyleView",
       "description_width": ""
      }
     },
     "328242ba04f84351b7831d9977cfeb59": {
      "model_module": "@jupyter-widgets/base",
      "model_module_version": "1.2.0",
      "model_name": "LayoutModel",
      "state": {
       "_model_module": "@jupyter-widgets/base",
       "_model_module_version": "1.2.0",
       "_model_name": "LayoutModel",
       "_view_count": null,
       "_view_module": "@jupyter-widgets/base",
       "_view_module_version": "1.2.0",
       "_view_name": "LayoutView",
       "align_content": null,
       "align_items": null,
       "align_self": null,
       "border": null,
       "bottom": null,
       "display": null,
       "flex": null,
       "flex_flow": null,
       "grid_area": null,
       "grid_auto_columns": null,
       "grid_auto_flow": null,
       "grid_auto_rows": null,
       "grid_column": null,
       "grid_gap": null,
       "grid_row": null,
       "grid_template_areas": null,
       "grid_template_columns": null,
       "grid_template_rows": null,
       "height": null,
       "justify_content": null,
       "justify_items": null,
       "left": null,
       "margin": null,
       "max_height": null,
       "max_width": null,
       "min_height": null,
       "min_width": null,
       "object_fit": null,
       "object_position": null,
       "order": null,
       "overflow": null,
       "overflow_x": null,
       "overflow_y": null,
       "padding": null,
       "right": null,
       "top": null,
       "visibility": null,
       "width": null
      }
     },
     "332fba89e31e4cd88ccb6802db709f26": {
      "model_module": "@jupyter-widgets/base",
      "model_module_version": "1.2.0",
      "model_name": "LayoutModel",
      "state": {
       "_model_module": "@jupyter-widgets/base",
       "_model_module_version": "1.2.0",
       "_model_name": "LayoutModel",
       "_view_count": null,
       "_view_module": "@jupyter-widgets/base",
       "_view_module_version": "1.2.0",
       "_view_name": "LayoutView",
       "align_content": null,
       "align_items": null,
       "align_self": null,
       "border": null,
       "bottom": null,
       "display": null,
       "flex": null,
       "flex_flow": null,
       "grid_area": null,
       "grid_auto_columns": null,
       "grid_auto_flow": null,
       "grid_auto_rows": null,
       "grid_column": null,
       "grid_gap": null,
       "grid_row": null,
       "grid_template_areas": null,
       "grid_template_columns": null,
       "grid_template_rows": null,
       "height": null,
       "justify_content": null,
       "justify_items": null,
       "left": null,
       "margin": null,
       "max_height": null,
       "max_width": null,
       "min_height": null,
       "min_width": null,
       "object_fit": null,
       "object_position": null,
       "order": null,
       "overflow": null,
       "overflow_x": null,
       "overflow_y": null,
       "padding": null,
       "right": null,
       "top": null,
       "visibility": null,
       "width": null
      }
     },
     "353b67202f304bbab53dead13557ae0e": {
      "model_module": "@jupyter-widgets/controls",
      "model_module_version": "1.5.0",
      "model_name": "ProgressStyleModel",
      "state": {
       "_model_module": "@jupyter-widgets/controls",
       "_model_module_version": "1.5.0",
       "_model_name": "ProgressStyleModel",
       "_view_count": null,
       "_view_module": "@jupyter-widgets/base",
       "_view_module_version": "1.2.0",
       "_view_name": "StyleView",
       "bar_color": null,
       "description_width": ""
      }
     },
     "359af4fee0fd4764a075e683eea0b1ef": {
      "model_module": "@jupyter-widgets/controls",
      "model_module_version": "1.5.0",
      "model_name": "DescriptionStyleModel",
      "state": {
       "_model_module": "@jupyter-widgets/controls",
       "_model_module_version": "1.5.0",
       "_model_name": "DescriptionStyleModel",
       "_view_count": null,
       "_view_module": "@jupyter-widgets/base",
       "_view_module_version": "1.2.0",
       "_view_name": "StyleView",
       "description_width": ""
      }
     },
     "35a6b8e6a2cf4c608eb32c90deff8469": {
      "model_module": "@jupyter-widgets/controls",
      "model_module_version": "1.5.0",
      "model_name": "DescriptionStyleModel",
      "state": {
       "_model_module": "@jupyter-widgets/controls",
       "_model_module_version": "1.5.0",
       "_model_name": "DescriptionStyleModel",
       "_view_count": null,
       "_view_module": "@jupyter-widgets/base",
       "_view_module_version": "1.2.0",
       "_view_name": "StyleView",
       "description_width": ""
      }
     },
     "3790be80c4ab4f9baa1b1a9734ce6254": {
      "model_module": "@jupyter-widgets/base",
      "model_module_version": "1.2.0",
      "model_name": "LayoutModel",
      "state": {
       "_model_module": "@jupyter-widgets/base",
       "_model_module_version": "1.2.0",
       "_model_name": "LayoutModel",
       "_view_count": null,
       "_view_module": "@jupyter-widgets/base",
       "_view_module_version": "1.2.0",
       "_view_name": "LayoutView",
       "align_content": null,
       "align_items": null,
       "align_self": null,
       "border": null,
       "bottom": null,
       "display": null,
       "flex": null,
       "flex_flow": null,
       "grid_area": null,
       "grid_auto_columns": null,
       "grid_auto_flow": null,
       "grid_auto_rows": null,
       "grid_column": null,
       "grid_gap": null,
       "grid_row": null,
       "grid_template_areas": null,
       "grid_template_columns": null,
       "grid_template_rows": null,
       "height": null,
       "justify_content": null,
       "justify_items": null,
       "left": null,
       "margin": null,
       "max_height": null,
       "max_width": null,
       "min_height": null,
       "min_width": null,
       "object_fit": null,
       "object_position": null,
       "order": null,
       "overflow": null,
       "overflow_x": null,
       "overflow_y": null,
       "padding": null,
       "right": null,
       "top": null,
       "visibility": null,
       "width": null
      }
     },
     "3846b41fe9d04412b5d8e4bfa00cd1c6": {
      "model_module": "@jupyter-widgets/controls",
      "model_module_version": "1.5.0",
      "model_name": "HTMLModel",
      "state": {
       "_dom_classes": [],
       "_model_module": "@jupyter-widgets/controls",
       "_model_module_version": "1.5.0",
       "_model_name": "HTMLModel",
       "_view_count": null,
       "_view_module": "@jupyter-widgets/controls",
       "_view_module_version": "1.5.0",
       "_view_name": "HTMLView",
       "description": "",
       "description_tooltip": null,
       "layout": "IPY_MODEL_3ae0168441854438a7516010442cbf42",
       "placeholder": "​",
       "style": "IPY_MODEL_01b477e013344ca79400c646aa953e77",
       "value": "Loading checkpoint shards: 100%"
      }
     },
     "38c5bc0a691542fc96fed50a73093a93": {
      "model_module": "@jupyter-widgets/base",
      "model_module_version": "1.2.0",
      "model_name": "LayoutModel",
      "state": {
       "_model_module": "@jupyter-widgets/base",
       "_model_module_version": "1.2.0",
       "_model_name": "LayoutModel",
       "_view_count": null,
       "_view_module": "@jupyter-widgets/base",
       "_view_module_version": "1.2.0",
       "_view_name": "LayoutView",
       "align_content": null,
       "align_items": null,
       "align_self": null,
       "border": null,
       "bottom": null,
       "display": null,
       "flex": null,
       "flex_flow": null,
       "grid_area": null,
       "grid_auto_columns": null,
       "grid_auto_flow": null,
       "grid_auto_rows": null,
       "grid_column": null,
       "grid_gap": null,
       "grid_row": null,
       "grid_template_areas": null,
       "grid_template_columns": null,
       "grid_template_rows": null,
       "height": null,
       "justify_content": null,
       "justify_items": null,
       "left": null,
       "margin": null,
       "max_height": null,
       "max_width": null,
       "min_height": null,
       "min_width": null,
       "object_fit": null,
       "object_position": null,
       "order": null,
       "overflow": null,
       "overflow_x": null,
       "overflow_y": null,
       "padding": null,
       "right": null,
       "top": null,
       "visibility": null,
       "width": null
      }
     },
     "3a0a88d51a5b4e1e86f3728c2de75d88": {
      "model_module": "@jupyter-widgets/controls",
      "model_module_version": "1.5.0",
      "model_name": "HBoxModel",
      "state": {
       "_dom_classes": [],
       "_model_module": "@jupyter-widgets/controls",
       "_model_module_version": "1.5.0",
       "_model_name": "HBoxModel",
       "_view_count": null,
       "_view_module": "@jupyter-widgets/controls",
       "_view_module_version": "1.5.0",
       "_view_name": "HBoxView",
       "box_style": "",
       "children": [
        "IPY_MODEL_e3b00b6efe3b4629953125ac8ae09072",
        "IPY_MODEL_1d4c974f165d4b8fbe7581cbdb529901",
        "IPY_MODEL_4ae7e164c3f24f05b4e858853102af91"
       ],
       "layout": "IPY_MODEL_88a2dbd7ab464aa49915aa792fdb50a3"
      }
     },
     "3ae0168441854438a7516010442cbf42": {
      "model_module": "@jupyter-widgets/base",
      "model_module_version": "1.2.0",
      "model_name": "LayoutModel",
      "state": {
       "_model_module": "@jupyter-widgets/base",
       "_model_module_version": "1.2.0",
       "_model_name": "LayoutModel",
       "_view_count": null,
       "_view_module": "@jupyter-widgets/base",
       "_view_module_version": "1.2.0",
       "_view_name": "LayoutView",
       "align_content": null,
       "align_items": null,
       "align_self": null,
       "border": null,
       "bottom": null,
       "display": null,
       "flex": null,
       "flex_flow": null,
       "grid_area": null,
       "grid_auto_columns": null,
       "grid_auto_flow": null,
       "grid_auto_rows": null,
       "grid_column": null,
       "grid_gap": null,
       "grid_row": null,
       "grid_template_areas": null,
       "grid_template_columns": null,
       "grid_template_rows": null,
       "height": null,
       "justify_content": null,
       "justify_items": null,
       "left": null,
       "margin": null,
       "max_height": null,
       "max_width": null,
       "min_height": null,
       "min_width": null,
       "object_fit": null,
       "object_position": null,
       "order": null,
       "overflow": null,
       "overflow_x": null,
       "overflow_y": null,
       "padding": null,
       "right": null,
       "top": null,
       "visibility": null,
       "width": null
      }
     },
     "3b6046e1f9974e6296623b3a7e362899": {
      "model_module": "@jupyter-widgets/controls",
      "model_module_version": "1.5.0",
      "model_name": "ProgressStyleModel",
      "state": {
       "_model_module": "@jupyter-widgets/controls",
       "_model_module_version": "1.5.0",
       "_model_name": "ProgressStyleModel",
       "_view_count": null,
       "_view_module": "@jupyter-widgets/base",
       "_view_module_version": "1.2.0",
       "_view_name": "StyleView",
       "bar_color": null,
       "description_width": ""
      }
     },
     "3e5898df49a843499e8709228da75093": {
      "model_module": "@jupyter-widgets/controls",
      "model_module_version": "1.5.0",
      "model_name": "DescriptionStyleModel",
      "state": {
       "_model_module": "@jupyter-widgets/controls",
       "_model_module_version": "1.5.0",
       "_model_name": "DescriptionStyleModel",
       "_view_count": null,
       "_view_module": "@jupyter-widgets/base",
       "_view_module_version": "1.2.0",
       "_view_name": "StyleView",
       "description_width": ""
      }
     },
     "3ee463a07b3742dda623bd78f5e42f6f": {
      "model_module": "@jupyter-widgets/controls",
      "model_module_version": "1.5.0",
      "model_name": "DescriptionStyleModel",
      "state": {
       "_model_module": "@jupyter-widgets/controls",
       "_model_module_version": "1.5.0",
       "_model_name": "DescriptionStyleModel",
       "_view_count": null,
       "_view_module": "@jupyter-widgets/base",
       "_view_module_version": "1.2.0",
       "_view_name": "StyleView",
       "description_width": ""
      }
     },
     "3f25cdb69a5a4a698f7c46841f5761d6": {
      "model_module": "@jupyter-widgets/controls",
      "model_module_version": "1.5.0",
      "model_name": "FloatProgressModel",
      "state": {
       "_dom_classes": [],
       "_model_module": "@jupyter-widgets/controls",
       "_model_module_version": "1.5.0",
       "_model_name": "FloatProgressModel",
       "_view_count": null,
       "_view_module": "@jupyter-widgets/controls",
       "_view_module_version": "1.5.0",
       "_view_name": "ProgressView",
       "bar_style": "success",
       "description": "",
       "description_tooltip": null,
       "layout": "IPY_MODEL_f71307d795e24e528528bd45da57b073",
       "max": 25125.0,
       "min": 0.0,
       "orientation": "horizontal",
       "style": "IPY_MODEL_c2182be3d27146a5b88203a98f1c63af",
       "value": 25125.0
      }
     },
     "4139121a97704f2aab1e426900058582": {
      "model_module": "@jupyter-widgets/controls",
      "model_module_version": "1.5.0",
      "model_name": "HTMLModel",
      "state": {
       "_dom_classes": [],
       "_model_module": "@jupyter-widgets/controls",
       "_model_module_version": "1.5.0",
       "_model_name": "HTMLModel",
       "_view_count": null,
       "_view_module": "@jupyter-widgets/controls",
       "_view_module_version": "1.5.0",
       "_view_name": "HTMLView",
       "description": "",
       "description_tooltip": null,
       "layout": "IPY_MODEL_a62b90e7a64c4ab39a431507cba8f9af",
       "placeholder": "​",
       "style": "IPY_MODEL_9a0271995b15482d89d30a56aad432a5",
       "value": "Loading checkpoint shards: 100%"
      }
     },
     "417540144e6e42bc94b4edebb0f54f2d": {
      "model_module": "@jupyter-widgets/base",
      "model_module_version": "1.2.0",
      "model_name": "LayoutModel",
      "state": {
       "_model_module": "@jupyter-widgets/base",
       "_model_module_version": "1.2.0",
       "_model_name": "LayoutModel",
       "_view_count": null,
       "_view_module": "@jupyter-widgets/base",
       "_view_module_version": "1.2.0",
       "_view_name": "LayoutView",
       "align_content": null,
       "align_items": null,
       "align_self": null,
       "border": null,
       "bottom": null,
       "display": null,
       "flex": null,
       "flex_flow": null,
       "grid_area": null,
       "grid_auto_columns": null,
       "grid_auto_flow": null,
       "grid_auto_rows": null,
       "grid_column": null,
       "grid_gap": null,
       "grid_row": null,
       "grid_template_areas": null,
       "grid_template_columns": null,
       "grid_template_rows": null,
       "height": null,
       "justify_content": null,
       "justify_items": null,
       "left": null,
       "margin": null,
       "max_height": null,
       "max_width": null,
       "min_height": null,
       "min_width": null,
       "object_fit": null,
       "object_position": null,
       "order": null,
       "overflow": null,
       "overflow_x": null,
       "overflow_y": null,
       "padding": null,
       "right": null,
       "top": null,
       "visibility": null,
       "width": null
      }
     },
     "41b5095675674ed29d497bc0488e159b": {
      "model_module": "@jupyter-widgets/controls",
      "model_module_version": "1.5.0",
      "model_name": "FloatProgressModel",
      "state": {
       "_dom_classes": [],
       "_model_module": "@jupyter-widgets/controls",
       "_model_module_version": "1.5.0",
       "_model_name": "FloatProgressModel",
       "_view_count": null,
       "_view_module": "@jupyter-widgets/controls",
       "_view_module_version": "1.5.0",
       "_view_name": "ProgressView",
       "bar_style": "success",
       "description": "",
       "description_tooltip": null,
       "layout": "IPY_MODEL_d2c7a71e46f74daa80820f527f1686e7",
       "max": 3.0,
       "min": 0.0,
       "orientation": "horizontal",
       "style": "IPY_MODEL_b305171cbf5a4f0e8f6bc0fd9c1ff5a0",
       "value": 3.0
      }
     },
     "41dcdb1a0dc3456393ef9cb5ecf5a1c2": {
      "model_module": "@jupyter-widgets/controls",
      "model_module_version": "1.5.0",
      "model_name": "HTMLModel",
      "state": {
       "_dom_classes": [],
       "_model_module": "@jupyter-widgets/controls",
       "_model_module_version": "1.5.0",
       "_model_name": "HTMLModel",
       "_view_count": null,
       "_view_module": "@jupyter-widgets/controls",
       "_view_module_version": "1.5.0",
       "_view_name": "HTMLView",
       "description": "",
       "description_tooltip": null,
       "layout": "IPY_MODEL_543a1d06b25640b282b4bd8ad6c33cf3",
       "placeholder": "​",
       "style": "IPY_MODEL_f93a86f476de45899644b3e9f2f2b4f7",
       "value": " 3/3 [00:10&lt;00:00,  3.67s/it]"
      }
     },
     "444962bfc9404b56bd895f43cdb7d637": {
      "model_module": "@jupyter-widgets/controls",
      "model_module_version": "1.5.0",
      "model_name": "DescriptionStyleModel",
      "state": {
       "_model_module": "@jupyter-widgets/controls",
       "_model_module_version": "1.5.0",
       "_model_name": "DescriptionStyleModel",
       "_view_count": null,
       "_view_module": "@jupyter-widgets/base",
       "_view_module_version": "1.2.0",
       "_view_name": "StyleView",
       "description_width": ""
      }
     },
     "44d32367269440a6ba0ee1fef8410232": {
      "model_module": "@jupyter-widgets/controls",
      "model_module_version": "1.5.0",
      "model_name": "HTMLModel",
      "state": {
       "_dom_classes": [],
       "_model_module": "@jupyter-widgets/controls",
       "_model_module_version": "1.5.0",
       "_model_name": "HTMLModel",
       "_view_count": null,
       "_view_module": "@jupyter-widgets/controls",
       "_view_module_version": "1.5.0",
       "_view_name": "HTMLView",
       "description": "",
       "description_tooltip": null,
       "layout": "IPY_MODEL_b488eecc016149a1b8e6d5a5f7063ff0",
       "placeholder": "​",
       "style": "IPY_MODEL_7f19179d430f466895b4b7643e09b59b",
       "value": " 3/3 [00:11&lt;00:00,  3.91s/it]"
      }
     },
     "47135fe6d2eb402e97cd7bae503017ff": {
      "model_module": "@jupyter-widgets/controls",
      "model_module_version": "1.5.0",
      "model_name": "ProgressStyleModel",
      "state": {
       "_model_module": "@jupyter-widgets/controls",
       "_model_module_version": "1.5.0",
       "_model_name": "ProgressStyleModel",
       "_view_count": null,
       "_view_module": "@jupyter-widgets/base",
       "_view_module_version": "1.2.0",
       "_view_name": "StyleView",
       "bar_color": null,
       "description_width": ""
      }
     },
     "47cae5c599d34fb993efae4651af7778": {
      "model_module": "@jupyter-widgets/base",
      "model_module_version": "1.2.0",
      "model_name": "LayoutModel",
      "state": {
       "_model_module": "@jupyter-widgets/base",
       "_model_module_version": "1.2.0",
       "_model_name": "LayoutModel",
       "_view_count": null,
       "_view_module": "@jupyter-widgets/base",
       "_view_module_version": "1.2.0",
       "_view_name": "LayoutView",
       "align_content": null,
       "align_items": null,
       "align_self": null,
       "border": null,
       "bottom": null,
       "display": null,
       "flex": null,
       "flex_flow": null,
       "grid_area": null,
       "grid_auto_columns": null,
       "grid_auto_flow": null,
       "grid_auto_rows": null,
       "grid_column": null,
       "grid_gap": null,
       "grid_row": null,
       "grid_template_areas": null,
       "grid_template_columns": null,
       "grid_template_rows": null,
       "height": null,
       "justify_content": null,
       "justify_items": null,
       "left": null,
       "margin": null,
       "max_height": null,
       "max_width": null,
       "min_height": null,
       "min_width": null,
       "object_fit": null,
       "object_position": null,
       "order": null,
       "overflow": null,
       "overflow_x": null,
       "overflow_y": null,
       "padding": null,
       "right": null,
       "top": null,
       "visibility": null,
       "width": null
      }
     },
     "4879abf6733f4b058cc95a232a03b2df": {
      "model_module": "@jupyter-widgets/controls",
      "model_module_version": "1.5.0",
      "model_name": "HTMLModel",
      "state": {
       "_dom_classes": [],
       "_model_module": "@jupyter-widgets/controls",
       "_model_module_version": "1.5.0",
       "_model_name": "HTMLModel",
       "_view_count": null,
       "_view_module": "@jupyter-widgets/controls",
       "_view_module_version": "1.5.0",
       "_view_name": "HTMLView",
       "description": "",
       "description_tooltip": null,
       "layout": "IPY_MODEL_85b8cf2751bb4878b5c6dc24e8383a21",
       "placeholder": "​",
       "style": "IPY_MODEL_f51ab589365540c89d36f49232e5857d",
       "value": "Loading checkpoint shards: 100%"
      }
     },
     "48998550d35f44338006bb38e5bee8e9": {
      "model_module": "@jupyter-widgets/controls",
      "model_module_version": "1.5.0",
      "model_name": "FloatProgressModel",
      "state": {
       "_dom_classes": [],
       "_model_module": "@jupyter-widgets/controls",
       "_model_module_version": "1.5.0",
       "_model_name": "FloatProgressModel",
       "_view_count": null,
       "_view_module": "@jupyter-widgets/controls",
       "_view_module_version": "1.5.0",
       "_view_name": "ProgressView",
       "bar_style": "success",
       "description": "",
       "description_tooltip": null,
       "layout": "IPY_MODEL_521c634650714ced8e327e9c90fb8ef3",
       "max": 3.0,
       "min": 0.0,
       "orientation": "horizontal",
       "style": "IPY_MODEL_0e88a03442944c45ad35761a51c2f8d9",
       "value": 3.0
      }
     },
     "496338c28a4f4e128623f433b9a9a5be": {
      "model_module": "@jupyter-widgets/controls",
      "model_module_version": "1.5.0",
      "model_name": "DescriptionStyleModel",
      "state": {
       "_model_module": "@jupyter-widgets/controls",
       "_model_module_version": "1.5.0",
       "_model_name": "DescriptionStyleModel",
       "_view_count": null,
       "_view_module": "@jupyter-widgets/base",
       "_view_module_version": "1.2.0",
       "_view_name": "StyleView",
       "description_width": ""
      }
     },
     "4a8d79f418994cedafd2a834660a1e14": {
      "model_module": "@jupyter-widgets/controls",
      "model_module_version": "1.5.0",
      "model_name": "HBoxModel",
      "state": {
       "_dom_classes": [],
       "_model_module": "@jupyter-widgets/controls",
       "_model_module_version": "1.5.0",
       "_model_name": "HBoxModel",
       "_view_count": null,
       "_view_module": "@jupyter-widgets/controls",
       "_view_module_version": "1.5.0",
       "_view_name": "HBoxView",
       "box_style": "",
       "children": [
        "IPY_MODEL_d04f92e1a169446da43cc08a26450894",
        "IPY_MODEL_63a7af9bd8cc402099aa240b1e55e1ae",
        "IPY_MODEL_7d941675ae084fae892f458494cb8eec"
       ],
       "layout": "IPY_MODEL_ace92839ece6491fb4eba1f22b80e14e"
      }
     },
     "4ae7e164c3f24f05b4e858853102af91": {
      "model_module": "@jupyter-widgets/controls",
      "model_module_version": "1.5.0",
      "model_name": "HTMLModel",
      "state": {
       "_dom_classes": [],
       "_model_module": "@jupyter-widgets/controls",
       "_model_module_version": "1.5.0",
       "_model_name": "HTMLModel",
       "_view_count": null,
       "_view_module": "@jupyter-widgets/controls",
       "_view_module_version": "1.5.0",
       "_view_name": "HTMLView",
       "description": "",
       "description_tooltip": null,
       "layout": "IPY_MODEL_a626828de0df486e9306e7bd6e2431ed",
       "placeholder": "​",
       "style": "IPY_MODEL_f67e584cb4cf42f69029b70d84113001",
       "value": " 3/3 [00:11&lt;00:00,  3.93s/it]"
      }
     },
     "4b5f701728a84d31bfe7e5bf9f3c49c3": {
      "model_module": "@jupyter-widgets/base",
      "model_module_version": "1.2.0",
      "model_name": "LayoutModel",
      "state": {
       "_model_module": "@jupyter-widgets/base",
       "_model_module_version": "1.2.0",
       "_model_name": "LayoutModel",
       "_view_count": null,
       "_view_module": "@jupyter-widgets/base",
       "_view_module_version": "1.2.0",
       "_view_name": "LayoutView",
       "align_content": null,
       "align_items": null,
       "align_self": null,
       "border": null,
       "bottom": null,
       "display": null,
       "flex": null,
       "flex_flow": null,
       "grid_area": null,
       "grid_auto_columns": null,
       "grid_auto_flow": null,
       "grid_auto_rows": null,
       "grid_column": null,
       "grid_gap": null,
       "grid_row": null,
       "grid_template_areas": null,
       "grid_template_columns": null,
       "grid_template_rows": null,
       "height": null,
       "justify_content": null,
       "justify_items": null,
       "left": null,
       "margin": null,
       "max_height": null,
       "max_width": null,
       "min_height": null,
       "min_width": null,
       "object_fit": null,
       "object_position": null,
       "order": null,
       "overflow": null,
       "overflow_x": null,
       "overflow_y": null,
       "padding": null,
       "right": null,
       "top": null,
       "visibility": null,
       "width": null
      }
     },
     "4c70a5718c05462f8aa4eeb76bbd93d6": {
      "model_module": "@jupyter-widgets/base",
      "model_module_version": "1.2.0",
      "model_name": "LayoutModel",
      "state": {
       "_model_module": "@jupyter-widgets/base",
       "_model_module_version": "1.2.0",
       "_model_name": "LayoutModel",
       "_view_count": null,
       "_view_module": "@jupyter-widgets/base",
       "_view_module_version": "1.2.0",
       "_view_name": "LayoutView",
       "align_content": null,
       "align_items": null,
       "align_self": null,
       "border": null,
       "bottom": null,
       "display": null,
       "flex": null,
       "flex_flow": null,
       "grid_area": null,
       "grid_auto_columns": null,
       "grid_auto_flow": null,
       "grid_auto_rows": null,
       "grid_column": null,
       "grid_gap": null,
       "grid_row": null,
       "grid_template_areas": null,
       "grid_template_columns": null,
       "grid_template_rows": null,
       "height": null,
       "justify_content": null,
       "justify_items": null,
       "left": null,
       "margin": null,
       "max_height": null,
       "max_width": null,
       "min_height": null,
       "min_width": null,
       "object_fit": null,
       "object_position": null,
       "order": null,
       "overflow": null,
       "overflow_x": null,
       "overflow_y": null,
       "padding": null,
       "right": null,
       "top": null,
       "visibility": null,
       "width": null
      }
     },
     "4d963af9390a4d0390f61d4c01975c42": {
      "model_module": "@jupyter-widgets/controls",
      "model_module_version": "1.5.0",
      "model_name": "HTMLModel",
      "state": {
       "_dom_classes": [],
       "_model_module": "@jupyter-widgets/controls",
       "_model_module_version": "1.5.0",
       "_model_name": "HTMLModel",
       "_view_count": null,
       "_view_module": "@jupyter-widgets/controls",
       "_view_module_version": "1.5.0",
       "_view_name": "HTMLView",
       "description": "",
       "description_tooltip": null,
       "layout": "IPY_MODEL_7c7fdee8e0dd4fd499d8abcd03e037cf",
       "placeholder": "​",
       "style": "IPY_MODEL_257d77eb0cac4a26814867f6f2c7491e",
       "value": "Loading checkpoint shards: 100%"
      }
     },
     "4e3a0727386a45829122bdde2df96bd5": {
      "model_module": "@jupyter-widgets/base",
      "model_module_version": "1.2.0",
      "model_name": "LayoutModel",
      "state": {
       "_model_module": "@jupyter-widgets/base",
       "_model_module_version": "1.2.0",
       "_model_name": "LayoutModel",
       "_view_count": null,
       "_view_module": "@jupyter-widgets/base",
       "_view_module_version": "1.2.0",
       "_view_name": "LayoutView",
       "align_content": null,
       "align_items": null,
       "align_self": null,
       "border": null,
       "bottom": null,
       "display": null,
       "flex": null,
       "flex_flow": null,
       "grid_area": null,
       "grid_auto_columns": null,
       "grid_auto_flow": null,
       "grid_auto_rows": null,
       "grid_column": null,
       "grid_gap": null,
       "grid_row": null,
       "grid_template_areas": null,
       "grid_template_columns": null,
       "grid_template_rows": null,
       "height": null,
       "justify_content": null,
       "justify_items": null,
       "left": null,
       "margin": null,
       "max_height": null,
       "max_width": null,
       "min_height": null,
       "min_width": null,
       "object_fit": null,
       "object_position": null,
       "order": null,
       "overflow": null,
       "overflow_x": null,
       "overflow_y": null,
       "padding": null,
       "right": null,
       "top": null,
       "visibility": null,
       "width": null
      }
     },
     "4e9ad83cd75d44f8975a5795b9e312b1": {
      "model_module": "@jupyter-widgets/controls",
      "model_module_version": "1.5.0",
      "model_name": "DescriptionStyleModel",
      "state": {
       "_model_module": "@jupyter-widgets/controls",
       "_model_module_version": "1.5.0",
       "_model_name": "DescriptionStyleModel",
       "_view_count": null,
       "_view_module": "@jupyter-widgets/base",
       "_view_module_version": "1.2.0",
       "_view_name": "StyleView",
       "description_width": ""
      }
     },
     "4fb76a689fe64d95aa2ede0f291153bb": {
      "model_module": "@jupyter-widgets/controls",
      "model_module_version": "1.5.0",
      "model_name": "HTMLModel",
      "state": {
       "_dom_classes": [],
       "_model_module": "@jupyter-widgets/controls",
       "_model_module_version": "1.5.0",
       "_model_name": "HTMLModel",
       "_view_count": null,
       "_view_module": "@jupyter-widgets/controls",
       "_view_module_version": "1.5.0",
       "_view_name": "HTMLView",
       "description": "",
       "description_tooltip": null,
       "layout": "IPY_MODEL_8f952eae11f24649a9c90fa1e9764a20",
       "placeholder": "​",
       "style": "IPY_MODEL_b072fb23e76e452ba979b85a11af319f",
       "value": "Loading checkpoint shards: 100%"
      }
     },
     "50cac9c92d234c6aa7adfd6c42e7a391": {
      "model_module": "@jupyter-widgets/controls",
      "model_module_version": "1.5.0",
      "model_name": "ProgressStyleModel",
      "state": {
       "_model_module": "@jupyter-widgets/controls",
       "_model_module_version": "1.5.0",
       "_model_name": "ProgressStyleModel",
       "_view_count": null,
       "_view_module": "@jupyter-widgets/base",
       "_view_module_version": "1.2.0",
       "_view_name": "StyleView",
       "bar_color": null,
       "description_width": ""
      }
     },
     "50fda7b3bd2f457cb7263e896bd78e31": {
      "model_module": "@jupyter-widgets/controls",
      "model_module_version": "1.5.0",
      "model_name": "DescriptionStyleModel",
      "state": {
       "_model_module": "@jupyter-widgets/controls",
       "_model_module_version": "1.5.0",
       "_model_name": "DescriptionStyleModel",
       "_view_count": null,
       "_view_module": "@jupyter-widgets/base",
       "_view_module_version": "1.2.0",
       "_view_name": "StyleView",
       "description_width": ""
      }
     },
     "52060298752a4808bed4817a26b1d473": {
      "model_module": "@jupyter-widgets/base",
      "model_module_version": "1.2.0",
      "model_name": "LayoutModel",
      "state": {
       "_model_module": "@jupyter-widgets/base",
       "_model_module_version": "1.2.0",
       "_model_name": "LayoutModel",
       "_view_count": null,
       "_view_module": "@jupyter-widgets/base",
       "_view_module_version": "1.2.0",
       "_view_name": "LayoutView",
       "align_content": null,
       "align_items": null,
       "align_self": null,
       "border": null,
       "bottom": null,
       "display": null,
       "flex": null,
       "flex_flow": null,
       "grid_area": null,
       "grid_auto_columns": null,
       "grid_auto_flow": null,
       "grid_auto_rows": null,
       "grid_column": null,
       "grid_gap": null,
       "grid_row": null,
       "grid_template_areas": null,
       "grid_template_columns": null,
       "grid_template_rows": null,
       "height": null,
       "justify_content": null,
       "justify_items": null,
       "left": null,
       "margin": null,
       "max_height": null,
       "max_width": null,
       "min_height": null,
       "min_width": null,
       "object_fit": null,
       "object_position": null,
       "order": null,
       "overflow": null,
       "overflow_x": null,
       "overflow_y": null,
       "padding": null,
       "right": null,
       "top": null,
       "visibility": null,
       "width": null
      }
     },
     "521c634650714ced8e327e9c90fb8ef3": {
      "model_module": "@jupyter-widgets/base",
      "model_module_version": "1.2.0",
      "model_name": "LayoutModel",
      "state": {
       "_model_module": "@jupyter-widgets/base",
       "_model_module_version": "1.2.0",
       "_model_name": "LayoutModel",
       "_view_count": null,
       "_view_module": "@jupyter-widgets/base",
       "_view_module_version": "1.2.0",
       "_view_name": "LayoutView",
       "align_content": null,
       "align_items": null,
       "align_self": null,
       "border": null,
       "bottom": null,
       "display": null,
       "flex": null,
       "flex_flow": null,
       "grid_area": null,
       "grid_auto_columns": null,
       "grid_auto_flow": null,
       "grid_auto_rows": null,
       "grid_column": null,
       "grid_gap": null,
       "grid_row": null,
       "grid_template_areas": null,
       "grid_template_columns": null,
       "grid_template_rows": null,
       "height": null,
       "justify_content": null,
       "justify_items": null,
       "left": null,
       "margin": null,
       "max_height": null,
       "max_width": null,
       "min_height": null,
       "min_width": null,
       "object_fit": null,
       "object_position": null,
       "order": null,
       "overflow": null,
       "overflow_x": null,
       "overflow_y": null,
       "padding": null,
       "right": null,
       "top": null,
       "visibility": null,
       "width": null
      }
     },
     "5386a612d55043aa800e1939c4142a37": {
      "model_module": "@jupyter-widgets/controls",
      "model_module_version": "1.5.0",
      "model_name": "ProgressStyleModel",
      "state": {
       "_model_module": "@jupyter-widgets/controls",
       "_model_module_version": "1.5.0",
       "_model_name": "ProgressStyleModel",
       "_view_count": null,
       "_view_module": "@jupyter-widgets/base",
       "_view_module_version": "1.2.0",
       "_view_name": "StyleView",
       "bar_color": null,
       "description_width": ""
      }
     },
     "543a1d06b25640b282b4bd8ad6c33cf3": {
      "model_module": "@jupyter-widgets/base",
      "model_module_version": "1.2.0",
      "model_name": "LayoutModel",
      "state": {
       "_model_module": "@jupyter-widgets/base",
       "_model_module_version": "1.2.0",
       "_model_name": "LayoutModel",
       "_view_count": null,
       "_view_module": "@jupyter-widgets/base",
       "_view_module_version": "1.2.0",
       "_view_name": "LayoutView",
       "align_content": null,
       "align_items": null,
       "align_self": null,
       "border": null,
       "bottom": null,
       "display": null,
       "flex": null,
       "flex_flow": null,
       "grid_area": null,
       "grid_auto_columns": null,
       "grid_auto_flow": null,
       "grid_auto_rows": null,
       "grid_column": null,
       "grid_gap": null,
       "grid_row": null,
       "grid_template_areas": null,
       "grid_template_columns": null,
       "grid_template_rows": null,
       "height": null,
       "justify_content": null,
       "justify_items": null,
       "left": null,
       "margin": null,
       "max_height": null,
       "max_width": null,
       "min_height": null,
       "min_width": null,
       "object_fit": null,
       "object_position": null,
       "order": null,
       "overflow": null,
       "overflow_x": null,
       "overflow_y": null,
       "padding": null,
       "right": null,
       "top": null,
       "visibility": null,
       "width": null
      }
     },
     "564026eed6bb43f19339263e90f92ac9": {
      "model_module": "@jupyter-widgets/controls",
      "model_module_version": "1.5.0",
      "model_name": "FloatProgressModel",
      "state": {
       "_dom_classes": [],
       "_model_module": "@jupyter-widgets/controls",
       "_model_module_version": "1.5.0",
       "_model_name": "FloatProgressModel",
       "_view_count": null,
       "_view_module": "@jupyter-widgets/controls",
       "_view_module_version": "1.5.0",
       "_view_name": "ProgressView",
       "bar_style": "success",
       "description": "",
       "description_tooltip": null,
       "layout": "IPY_MODEL_a03205a885af467db68172e01a7c1714",
       "max": 3.0,
       "min": 0.0,
       "orientation": "horizontal",
       "style": "IPY_MODEL_5f7f7d55f7d64a07883fcfdda13adf4f",
       "value": 3.0
      }
     },
     "567e72c830eb4b92b6ba56646c9b939c": {
      "model_module": "@jupyter-widgets/base",
      "model_module_version": "1.2.0",
      "model_name": "LayoutModel",
      "state": {
       "_model_module": "@jupyter-widgets/base",
       "_model_module_version": "1.2.0",
       "_model_name": "LayoutModel",
       "_view_count": null,
       "_view_module": "@jupyter-widgets/base",
       "_view_module_version": "1.2.0",
       "_view_name": "LayoutView",
       "align_content": null,
       "align_items": null,
       "align_self": null,
       "border": null,
       "bottom": null,
       "display": null,
       "flex": null,
       "flex_flow": null,
       "grid_area": null,
       "grid_auto_columns": null,
       "grid_auto_flow": null,
       "grid_auto_rows": null,
       "grid_column": null,
       "grid_gap": null,
       "grid_row": null,
       "grid_template_areas": null,
       "grid_template_columns": null,
       "grid_template_rows": null,
       "height": null,
       "justify_content": null,
       "justify_items": null,
       "left": null,
       "margin": null,
       "max_height": null,
       "max_width": null,
       "min_height": null,
       "min_width": null,
       "object_fit": null,
       "object_position": null,
       "order": null,
       "overflow": null,
       "overflow_x": null,
       "overflow_y": null,
       "padding": null,
       "right": null,
       "top": null,
       "visibility": null,
       "width": null
      }
     },
     "573dd80e2f2b4726b8c39d0294538ced": {
      "model_module": "@jupyter-widgets/base",
      "model_module_version": "1.2.0",
      "model_name": "LayoutModel",
      "state": {
       "_model_module": "@jupyter-widgets/base",
       "_model_module_version": "1.2.0",
       "_model_name": "LayoutModel",
       "_view_count": null,
       "_view_module": "@jupyter-widgets/base",
       "_view_module_version": "1.2.0",
       "_view_name": "LayoutView",
       "align_content": null,
       "align_items": null,
       "align_self": null,
       "border": null,
       "bottom": null,
       "display": null,
       "flex": null,
       "flex_flow": null,
       "grid_area": null,
       "grid_auto_columns": null,
       "grid_auto_flow": null,
       "grid_auto_rows": null,
       "grid_column": null,
       "grid_gap": null,
       "grid_row": null,
       "grid_template_areas": null,
       "grid_template_columns": null,
       "grid_template_rows": null,
       "height": null,
       "justify_content": null,
       "justify_items": null,
       "left": null,
       "margin": null,
       "max_height": null,
       "max_width": null,
       "min_height": null,
       "min_width": null,
       "object_fit": null,
       "object_position": null,
       "order": null,
       "overflow": null,
       "overflow_x": null,
       "overflow_y": null,
       "padding": null,
       "right": null,
       "top": null,
       "visibility": null,
       "width": null
      }
     },
     "5ab2637379d74692bfce93d5014ae588": {
      "model_module": "@jupyter-widgets/base",
      "model_module_version": "1.2.0",
      "model_name": "LayoutModel",
      "state": {
       "_model_module": "@jupyter-widgets/base",
       "_model_module_version": "1.2.0",
       "_model_name": "LayoutModel",
       "_view_count": null,
       "_view_module": "@jupyter-widgets/base",
       "_view_module_version": "1.2.0",
       "_view_name": "LayoutView",
       "align_content": null,
       "align_items": null,
       "align_self": null,
       "border": null,
       "bottom": null,
       "display": null,
       "flex": null,
       "flex_flow": null,
       "grid_area": null,
       "grid_auto_columns": null,
       "grid_auto_flow": null,
       "grid_auto_rows": null,
       "grid_column": null,
       "grid_gap": null,
       "grid_row": null,
       "grid_template_areas": null,
       "grid_template_columns": null,
       "grid_template_rows": null,
       "height": null,
       "justify_content": null,
       "justify_items": null,
       "left": null,
       "margin": null,
       "max_height": null,
       "max_width": null,
       "min_height": null,
       "min_width": null,
       "object_fit": null,
       "object_position": null,
       "order": null,
       "overflow": null,
       "overflow_x": null,
       "overflow_y": null,
       "padding": null,
       "right": null,
       "top": null,
       "visibility": null,
       "width": null
      }
     },
     "5af0f295fc1f465d90704bc372a28c75": {
      "model_module": "@jupyter-widgets/controls",
      "model_module_version": "1.5.0",
      "model_name": "HBoxModel",
      "state": {
       "_dom_classes": [],
       "_model_module": "@jupyter-widgets/controls",
       "_model_module_version": "1.5.0",
       "_model_name": "HBoxModel",
       "_view_count": null,
       "_view_module": "@jupyter-widgets/controls",
       "_view_module_version": "1.5.0",
       "_view_name": "HBoxView",
       "box_style": "",
       "children": [
        "IPY_MODEL_4139121a97704f2aab1e426900058582",
        "IPY_MODEL_6dc2185a353a420aa7242ce7e0e6de83",
        "IPY_MODEL_44d32367269440a6ba0ee1fef8410232"
       ],
       "layout": "IPY_MODEL_7fb660c7ce65404fbef08930d61523c8"
      }
     },
     "5b764725f43945658494b6455c5e9d38": {
      "model_module": "@jupyter-widgets/controls",
      "model_module_version": "1.5.0",
      "model_name": "FloatProgressModel",
      "state": {
       "_dom_classes": [],
       "_model_module": "@jupyter-widgets/controls",
       "_model_module_version": "1.5.0",
       "_model_name": "FloatProgressModel",
       "_view_count": null,
       "_view_module": "@jupyter-widgets/controls",
       "_view_module_version": "1.5.0",
       "_view_name": "ProgressView",
       "bar_style": "success",
       "description": "",
       "description_tooltip": null,
       "layout": "IPY_MODEL_d42168ed7dc943ee8e49823d1a0fb2c7",
       "max": 111.0,
       "min": 0.0,
       "orientation": "horizontal",
       "style": "IPY_MODEL_f34457d02a10413abc9dcfa358d1cbba",
       "value": 111.0
      }
     },
     "5bf8900043f54b2480f045aba41a9526": {
      "model_module": "@jupyter-widgets/controls",
      "model_module_version": "1.5.0",
      "model_name": "HTMLModel",
      "state": {
       "_dom_classes": [],
       "_model_module": "@jupyter-widgets/controls",
       "_model_module_version": "1.5.0",
       "_model_name": "HTMLModel",
       "_view_count": null,
       "_view_module": "@jupyter-widgets/controls",
       "_view_module_version": "1.5.0",
       "_view_name": "HTMLView",
       "description": "",
       "description_tooltip": null,
       "layout": "IPY_MODEL_f0234e7241634012983f2a1f7f9bc171",
       "placeholder": "​",
       "style": "IPY_MODEL_444962bfc9404b56bd895f43cdb7d637",
       "value": "Loading checkpoint shards: 100%"
      }
     },
     "5dbec148cf274875ab00bc7302bf8f17": {
      "model_module": "@jupyter-widgets/base",
      "model_module_version": "1.2.0",
      "model_name": "LayoutModel",
      "state": {
       "_model_module": "@jupyter-widgets/base",
       "_model_module_version": "1.2.0",
       "_model_name": "LayoutModel",
       "_view_count": null,
       "_view_module": "@jupyter-widgets/base",
       "_view_module_version": "1.2.0",
       "_view_name": "LayoutView",
       "align_content": null,
       "align_items": null,
       "align_self": null,
       "border": null,
       "bottom": null,
       "display": null,
       "flex": null,
       "flex_flow": null,
       "grid_area": null,
       "grid_auto_columns": null,
       "grid_auto_flow": null,
       "grid_auto_rows": null,
       "grid_column": null,
       "grid_gap": null,
       "grid_row": null,
       "grid_template_areas": null,
       "grid_template_columns": null,
       "grid_template_rows": null,
       "height": null,
       "justify_content": null,
       "justify_items": null,
       "left": null,
       "margin": null,
       "max_height": null,
       "max_width": null,
       "min_height": null,
       "min_width": null,
       "object_fit": null,
       "object_position": null,
       "order": null,
       "overflow": null,
       "overflow_x": null,
       "overflow_y": null,
       "padding": null,
       "right": null,
       "top": null,
       "visibility": null,
       "width": null
      }
     },
     "5f684943dddc4544954c683a6fdca8af": {
      "model_module": "@jupyter-widgets/controls",
      "model_module_version": "1.5.0",
      "model_name": "HTMLModel",
      "state": {
       "_dom_classes": [],
       "_model_module": "@jupyter-widgets/controls",
       "_model_module_version": "1.5.0",
       "_model_name": "HTMLModel",
       "_view_count": null,
       "_view_module": "@jupyter-widgets/controls",
       "_view_module_version": "1.5.0",
       "_view_name": "HTMLView",
       "description": "",
       "description_tooltip": null,
       "layout": "IPY_MODEL_2c737e99adce4720b9c44846c9e23f83",
       "placeholder": "​",
       "style": "IPY_MODEL_cd3f92e25c6447c4b9140f7079e81a3d",
       "value": " 3/3 [00:12&lt;00:00,  3.99s/it]"
      }
     },
     "5f7f7d55f7d64a07883fcfdda13adf4f": {
      "model_module": "@jupyter-widgets/controls",
      "model_module_version": "1.5.0",
      "model_name": "ProgressStyleModel",
      "state": {
       "_model_module": "@jupyter-widgets/controls",
       "_model_module_version": "1.5.0",
       "_model_name": "ProgressStyleModel",
       "_view_count": null,
       "_view_module": "@jupyter-widgets/base",
       "_view_module_version": "1.2.0",
       "_view_name": "StyleView",
       "bar_color": null,
       "description_width": ""
      }
     },
     "5fb02d50274b474cb35fe1ce11d66a7d": {
      "model_module": "@jupyter-widgets/base",
      "model_module_version": "1.2.0",
      "model_name": "LayoutModel",
      "state": {
       "_model_module": "@jupyter-widgets/base",
       "_model_module_version": "1.2.0",
       "_model_name": "LayoutModel",
       "_view_count": null,
       "_view_module": "@jupyter-widgets/base",
       "_view_module_version": "1.2.0",
       "_view_name": "LayoutView",
       "align_content": null,
       "align_items": null,
       "align_self": null,
       "border": null,
       "bottom": null,
       "display": null,
       "flex": null,
       "flex_flow": null,
       "grid_area": null,
       "grid_auto_columns": null,
       "grid_auto_flow": null,
       "grid_auto_rows": null,
       "grid_column": null,
       "grid_gap": null,
       "grid_row": null,
       "grid_template_areas": null,
       "grid_template_columns": null,
       "grid_template_rows": null,
       "height": null,
       "justify_content": null,
       "justify_items": null,
       "left": null,
       "margin": null,
       "max_height": null,
       "max_width": null,
       "min_height": null,
       "min_width": null,
       "object_fit": null,
       "object_position": null,
       "order": null,
       "overflow": null,
       "overflow_x": null,
       "overflow_y": null,
       "padding": null,
       "right": null,
       "top": null,
       "visibility": null,
       "width": null
      }
     },
     "5fe44d555d5744ec8642186f43687799": {
      "model_module": "@jupyter-widgets/controls",
      "model_module_version": "1.5.0",
      "model_name": "HBoxModel",
      "state": {
       "_dom_classes": [],
       "_model_module": "@jupyter-widgets/controls",
       "_model_module_version": "1.5.0",
       "_model_name": "HBoxModel",
       "_view_count": null,
       "_view_module": "@jupyter-widgets/controls",
       "_view_module_version": "1.5.0",
       "_view_name": "HBoxView",
       "box_style": "",
       "children": [
        "IPY_MODEL_4d963af9390a4d0390f61d4c01975c42",
        "IPY_MODEL_a0159724e1c641d183edc318837cec97",
        "IPY_MODEL_d242073ce76c4435837be1847d7df519"
       ],
       "layout": "IPY_MODEL_da2481abc3a644a383f704688e1931df"
      }
     },
     "611a262fe5cf43cb9d6eab1028d079d1": {
      "model_module": "@jupyter-widgets/controls",
      "model_module_version": "1.5.0",
      "model_name": "DescriptionStyleModel",
      "state": {
       "_model_module": "@jupyter-widgets/controls",
       "_model_module_version": "1.5.0",
       "_model_name": "DescriptionStyleModel",
       "_view_count": null,
       "_view_module": "@jupyter-widgets/base",
       "_view_module_version": "1.2.0",
       "_view_name": "StyleView",
       "description_width": ""
      }
     },
     "626c492b6a934a5bbd2dcbf3161b28be": {
      "model_module": "@jupyter-widgets/controls",
      "model_module_version": "1.5.0",
      "model_name": "FloatProgressModel",
      "state": {
       "_dom_classes": [],
       "_model_module": "@jupyter-widgets/controls",
       "_model_module_version": "1.5.0",
       "_model_name": "FloatProgressModel",
       "_view_count": null,
       "_view_module": "@jupyter-widgets/controls",
       "_view_module_version": "1.5.0",
       "_view_name": "ProgressView",
       "bar_style": "success",
       "description": "",
       "description_tooltip": null,
       "layout": "IPY_MODEL_332fba89e31e4cd88ccb6802db709f26",
       "max": 3.0,
       "min": 0.0,
       "orientation": "horizontal",
       "style": "IPY_MODEL_70cda5c792e94808b86899d2d83157de",
       "value": 3.0
      }
     },
     "62c0646b9d984495b2f43565d020ec9b": {
      "model_module": "@jupyter-widgets/controls",
      "model_module_version": "1.5.0",
      "model_name": "HTMLModel",
      "state": {
       "_dom_classes": [],
       "_model_module": "@jupyter-widgets/controls",
       "_model_module_version": "1.5.0",
       "_model_name": "HTMLModel",
       "_view_count": null,
       "_view_module": "@jupyter-widgets/controls",
       "_view_module_version": "1.5.0",
       "_view_name": "HTMLView",
       "description": "",
       "description_tooltip": null,
       "layout": "IPY_MODEL_f9a797ef92f0437789dc240d81e3fabe",
       "placeholder": "​",
       "style": "IPY_MODEL_3ee463a07b3742dda623bd78f5e42f6f",
       "value": "generation_config.json: 100%"
      }
     },
     "6396050f3e2643838c42ab0e089795f5": {
      "model_module": "@jupyter-widgets/base",
      "model_module_version": "1.2.0",
      "model_name": "LayoutModel",
      "state": {
       "_model_module": "@jupyter-widgets/base",
       "_model_module_version": "1.2.0",
       "_model_name": "LayoutModel",
       "_view_count": null,
       "_view_module": "@jupyter-widgets/base",
       "_view_module_version": "1.2.0",
       "_view_name": "LayoutView",
       "align_content": null,
       "align_items": null,
       "align_self": null,
       "border": null,
       "bottom": null,
       "display": null,
       "flex": null,
       "flex_flow": null,
       "grid_area": null,
       "grid_auto_columns": null,
       "grid_auto_flow": null,
       "grid_auto_rows": null,
       "grid_column": null,
       "grid_gap": null,
       "grid_row": null,
       "grid_template_areas": null,
       "grid_template_columns": null,
       "grid_template_rows": null,
       "height": null,
       "justify_content": null,
       "justify_items": null,
       "left": null,
       "margin": null,
       "max_height": null,
       "max_width": null,
       "min_height": null,
       "min_width": null,
       "object_fit": null,
       "object_position": null,
       "order": null,
       "overflow": null,
       "overflow_x": null,
       "overflow_y": null,
       "padding": null,
       "right": null,
       "top": null,
       "visibility": null,
       "width": null
      }
     },
     "63a7af9bd8cc402099aa240b1e55e1ae": {
      "model_module": "@jupyter-widgets/controls",
      "model_module_version": "1.5.0",
      "model_name": "FloatProgressModel",
      "state": {
       "_dom_classes": [],
       "_model_module": "@jupyter-widgets/controls",
       "_model_module_version": "1.5.0",
       "_model_name": "FloatProgressModel",
       "_view_count": null,
       "_view_module": "@jupyter-widgets/controls",
       "_view_module_version": "1.5.0",
       "_view_name": "ProgressView",
       "bar_style": "success",
       "description": "",
       "description_tooltip": null,
       "layout": "IPY_MODEL_47cae5c599d34fb993efae4651af7778",
       "max": 4540516344.0,
       "min": 0.0,
       "orientation": "horizontal",
       "style": "IPY_MODEL_cec0fd13b7214a96abf2059cdaad696b",
       "value": 4540516344.0
      }
     },
     "6664d7437ebb41df80eca77e09b3eec3": {
      "model_module": "@jupyter-widgets/base",
      "model_module_version": "1.2.0",
      "model_name": "LayoutModel",
      "state": {
       "_model_module": "@jupyter-widgets/base",
       "_model_module_version": "1.2.0",
       "_model_name": "LayoutModel",
       "_view_count": null,
       "_view_module": "@jupyter-widgets/base",
       "_view_module_version": "1.2.0",
       "_view_name": "LayoutView",
       "align_content": null,
       "align_items": null,
       "align_self": null,
       "border": null,
       "bottom": null,
       "display": null,
       "flex": null,
       "flex_flow": null,
       "grid_area": null,
       "grid_auto_columns": null,
       "grid_auto_flow": null,
       "grid_auto_rows": null,
       "grid_column": null,
       "grid_gap": null,
       "grid_row": null,
       "grid_template_areas": null,
       "grid_template_columns": null,
       "grid_template_rows": null,
       "height": null,
       "justify_content": null,
       "justify_items": null,
       "left": null,
       "margin": null,
       "max_height": null,
       "max_width": null,
       "min_height": null,
       "min_width": null,
       "object_fit": null,
       "object_position": null,
       "order": null,
       "overflow": null,
       "overflow_x": null,
       "overflow_y": null,
       "padding": null,
       "right": null,
       "top": null,
       "visibility": null,
       "width": null
      }
     },
     "66f053599c7743da98e64ccbb02efe1d": {
      "model_module": "@jupyter-widgets/base",
      "model_module_version": "1.2.0",
      "model_name": "LayoutModel",
      "state": {
       "_model_module": "@jupyter-widgets/base",
       "_model_module_version": "1.2.0",
       "_model_name": "LayoutModel",
       "_view_count": null,
       "_view_module": "@jupyter-widgets/base",
       "_view_module_version": "1.2.0",
       "_view_name": "LayoutView",
       "align_content": null,
       "align_items": null,
       "align_self": null,
       "border": null,
       "bottom": null,
       "display": null,
       "flex": null,
       "flex_flow": null,
       "grid_area": null,
       "grid_auto_columns": null,
       "grid_auto_flow": null,
       "grid_auto_rows": null,
       "grid_column": null,
       "grid_gap": null,
       "grid_row": null,
       "grid_template_areas": null,
       "grid_template_columns": null,
       "grid_template_rows": null,
       "height": null,
       "justify_content": null,
       "justify_items": null,
       "left": null,
       "margin": null,
       "max_height": null,
       "max_width": null,
       "min_height": null,
       "min_width": null,
       "object_fit": null,
       "object_position": null,
       "order": null,
       "overflow": null,
       "overflow_x": null,
       "overflow_y": null,
       "padding": null,
       "right": null,
       "top": null,
       "visibility": null,
       "width": null
      }
     },
     "6889b565581843529ffa24aab5ff403b": {
      "model_module": "@jupyter-widgets/base",
      "model_module_version": "1.2.0",
      "model_name": "LayoutModel",
      "state": {
       "_model_module": "@jupyter-widgets/base",
       "_model_module_version": "1.2.0",
       "_model_name": "LayoutModel",
       "_view_count": null,
       "_view_module": "@jupyter-widgets/base",
       "_view_module_version": "1.2.0",
       "_view_name": "LayoutView",
       "align_content": null,
       "align_items": null,
       "align_self": null,
       "border": null,
       "bottom": null,
       "display": null,
       "flex": null,
       "flex_flow": null,
       "grid_area": null,
       "grid_auto_columns": null,
       "grid_auto_flow": null,
       "grid_auto_rows": null,
       "grid_column": null,
       "grid_gap": null,
       "grid_row": null,
       "grid_template_areas": null,
       "grid_template_columns": null,
       "grid_template_rows": null,
       "height": null,
       "justify_content": null,
       "justify_items": null,
       "left": null,
       "margin": null,
       "max_height": null,
       "max_width": null,
       "min_height": null,
       "min_width": null,
       "object_fit": null,
       "object_position": null,
       "order": null,
       "overflow": null,
       "overflow_x": null,
       "overflow_y": null,
       "padding": null,
       "right": null,
       "top": null,
       "visibility": null,
       "width": null
      }
     },
     "6a16aaf80cb54e98b037b357b5c4d116": {
      "model_module": "@jupyter-widgets/base",
      "model_module_version": "1.2.0",
      "model_name": "LayoutModel",
      "state": {
       "_model_module": "@jupyter-widgets/base",
       "_model_module_version": "1.2.0",
       "_model_name": "LayoutModel",
       "_view_count": null,
       "_view_module": "@jupyter-widgets/base",
       "_view_module_version": "1.2.0",
       "_view_name": "LayoutView",
       "align_content": null,
       "align_items": null,
       "align_self": null,
       "border": null,
       "bottom": null,
       "display": null,
       "flex": null,
       "flex_flow": null,
       "grid_area": null,
       "grid_auto_columns": null,
       "grid_auto_flow": null,
       "grid_auto_rows": null,
       "grid_column": null,
       "grid_gap": null,
       "grid_row": null,
       "grid_template_areas": null,
       "grid_template_columns": null,
       "grid_template_rows": null,
       "height": null,
       "justify_content": null,
       "justify_items": null,
       "left": null,
       "margin": null,
       "max_height": null,
       "max_width": null,
       "min_height": null,
       "min_width": null,
       "object_fit": null,
       "object_position": null,
       "order": null,
       "overflow": null,
       "overflow_x": null,
       "overflow_y": null,
       "padding": null,
       "right": null,
       "top": null,
       "visibility": null,
       "width": null
      }
     },
     "6b7fe38d5587477c984c3f7ab0a9a2b3": {
      "model_module": "@jupyter-widgets/controls",
      "model_module_version": "1.5.0",
      "model_name": "DescriptionStyleModel",
      "state": {
       "_model_module": "@jupyter-widgets/controls",
       "_model_module_version": "1.5.0",
       "_model_name": "DescriptionStyleModel",
       "_view_count": null,
       "_view_module": "@jupyter-widgets/base",
       "_view_module_version": "1.2.0",
       "_view_name": "StyleView",
       "description_width": ""
      }
     },
     "6bc319197ef9471ca529630933a24935": {
      "model_module": "@jupyter-widgets/controls",
      "model_module_version": "1.5.0",
      "model_name": "HTMLModel",
      "state": {
       "_dom_classes": [],
       "_model_module": "@jupyter-widgets/controls",
       "_model_module_version": "1.5.0",
       "_model_name": "HTMLModel",
       "_view_count": null,
       "_view_module": "@jupyter-widgets/controls",
       "_view_module_version": "1.5.0",
       "_view_name": "HTMLView",
       "description": "",
       "description_tooltip": null,
       "layout": "IPY_MODEL_1e05fc3b6989472b8a2c341632ad9d11",
       "placeholder": "​",
       "style": "IPY_MODEL_f8b5ead10ed24930b29a3481cb01673b",
       "value": " 3/3 [00:11&lt;00:00,  3.91s/it]"
      }
     },
     "6c9ec2671366436fade2681bc3850a0c": {
      "model_module": "@jupyter-widgets/controls",
      "model_module_version": "1.5.0",
      "model_name": "HTMLModel",
      "state": {
       "_dom_classes": [],
       "_model_module": "@jupyter-widgets/controls",
       "_model_module_version": "1.5.0",
       "_model_name": "HTMLModel",
       "_view_count": null,
       "_view_module": "@jupyter-widgets/controls",
       "_view_module_version": "1.5.0",
       "_view_name": "HTMLView",
       "description": "",
       "description_tooltip": null,
       "layout": "IPY_MODEL_b918e253ecc44e2ba7e87119cf68eb05",
       "placeholder": "​",
       "style": "IPY_MODEL_1f7996d7303d4a5f8e780882d5d4b783",
       "value": "model-00001-of-00003.safetensors: 100%"
      }
     },
     "6caa00d6899d4521b6184cda4d5b32b2": {
      "model_module": "@jupyter-widgets/controls",
      "model_module_version": "1.5.0",
      "model_name": "HTMLModel",
      "state": {
       "_dom_classes": [],
       "_model_module": "@jupyter-widgets/controls",
       "_model_module_version": "1.5.0",
       "_model_name": "HTMLModel",
       "_view_count": null,
       "_view_module": "@jupyter-widgets/controls",
       "_view_module_version": "1.5.0",
       "_view_name": "HTMLView",
       "description": "",
       "description_tooltip": null,
       "layout": "IPY_MODEL_a81ff2fd865241d2b1ec31edb6e5602a",
       "placeholder": "​",
       "style": "IPY_MODEL_e23ae3f2f9a8421e98f23ea1defbefcc",
       "value": " 3/3 [00:47&lt;00:00, 13.52s/it]"
      }
     },
     "6d39ec04346b4274bade94886bb372d2": {
      "model_module": "@jupyter-widgets/base",
      "model_module_version": "1.2.0",
      "model_name": "LayoutModel",
      "state": {
       "_model_module": "@jupyter-widgets/base",
       "_model_module_version": "1.2.0",
       "_model_name": "LayoutModel",
       "_view_count": null,
       "_view_module": "@jupyter-widgets/base",
       "_view_module_version": "1.2.0",
       "_view_name": "LayoutView",
       "align_content": null,
       "align_items": null,
       "align_self": null,
       "border": null,
       "bottom": null,
       "display": null,
       "flex": null,
       "flex_flow": null,
       "grid_area": null,
       "grid_auto_columns": null,
       "grid_auto_flow": null,
       "grid_auto_rows": null,
       "grid_column": null,
       "grid_gap": null,
       "grid_row": null,
       "grid_template_areas": null,
       "grid_template_columns": null,
       "grid_template_rows": null,
       "height": null,
       "justify_content": null,
       "justify_items": null,
       "left": null,
       "margin": null,
       "max_height": null,
       "max_width": null,
       "min_height": null,
       "min_width": null,
       "object_fit": null,
       "object_position": null,
       "order": null,
       "overflow": null,
       "overflow_x": null,
       "overflow_y": null,
       "padding": null,
       "right": null,
       "top": null,
       "visibility": null,
       "width": null
      }
     },
     "6dc2185a353a420aa7242ce7e0e6de83": {
      "model_module": "@jupyter-widgets/controls",
      "model_module_version": "1.5.0",
      "model_name": "FloatProgressModel",
      "state": {
       "_dom_classes": [],
       "_model_module": "@jupyter-widgets/controls",
       "_model_module_version": "1.5.0",
       "_model_name": "FloatProgressModel",
       "_view_count": null,
       "_view_module": "@jupyter-widgets/controls",
       "_view_module_version": "1.5.0",
       "_view_name": "ProgressView",
       "bar_style": "success",
       "description": "",
       "description_tooltip": null,
       "layout": "IPY_MODEL_ca7521a5f4bc4006afd90852fdc3a731",
       "max": 3.0,
       "min": 0.0,
       "orientation": "horizontal",
       "style": "IPY_MODEL_8778e07f7cbe4d03b47e7eef34259188",
       "value": 3.0
      }
     },
     "6f717883cc1f4bff99600cafac859e1c": {
      "model_module": "@jupyter-widgets/controls",
      "model_module_version": "1.5.0",
      "model_name": "DescriptionStyleModel",
      "state": {
       "_model_module": "@jupyter-widgets/controls",
       "_model_module_version": "1.5.0",
       "_model_name": "DescriptionStyleModel",
       "_view_count": null,
       "_view_module": "@jupyter-widgets/base",
       "_view_module_version": "1.2.0",
       "_view_name": "StyleView",
       "description_width": ""
      }
     },
     "6f85a2b3fd4d4f6f9ff53c6f117d3637": {
      "model_module": "@jupyter-widgets/controls",
      "model_module_version": "1.5.0",
      "model_name": "FloatProgressModel",
      "state": {
       "_dom_classes": [],
       "_model_module": "@jupyter-widgets/controls",
       "_model_module_version": "1.5.0",
       "_model_name": "FloatProgressModel",
       "_view_count": null,
       "_view_module": "@jupyter-widgets/controls",
       "_view_module_version": "1.5.0",
       "_view_name": "ProgressView",
       "bar_style": "success",
       "description": "",
       "description_tooltip": null,
       "layout": "IPY_MODEL_722e06823492422c8e980888ab69b7b1",
       "max": 3.0,
       "min": 0.0,
       "orientation": "horizontal",
       "style": "IPY_MODEL_792cf95228b0421c9d405e9a4c9d9a77",
       "value": 3.0
      }
     },
     "6fa51e314f5c41a8b981f31bcf922516": {
      "model_module": "@jupyter-widgets/controls",
      "model_module_version": "1.5.0",
      "model_name": "FloatProgressModel",
      "state": {
       "_dom_classes": [],
       "_model_module": "@jupyter-widgets/controls",
       "_model_module_version": "1.5.0",
       "_model_name": "FloatProgressModel",
       "_view_count": null,
       "_view_module": "@jupyter-widgets/controls",
       "_view_module_version": "1.5.0",
       "_view_name": "ProgressView",
       "bar_style": "success",
       "description": "",
       "description_tooltip": null,
       "layout": "IPY_MODEL_7ddd1fc9bedf47b8b482c51626922957",
       "max": 3.0,
       "min": 0.0,
       "orientation": "horizontal",
       "style": "IPY_MODEL_b46215d39b6d426d94d23f835ceeb59d",
       "value": 3.0
      }
     },
     "6fa6e382935c4716a2a6c2c7d9b3b599": {
      "model_module": "@jupyter-widgets/controls",
      "model_module_version": "1.5.0",
      "model_name": "DescriptionStyleModel",
      "state": {
       "_model_module": "@jupyter-widgets/controls",
       "_model_module_version": "1.5.0",
       "_model_name": "DescriptionStyleModel",
       "_view_count": null,
       "_view_module": "@jupyter-widgets/base",
       "_view_module_version": "1.2.0",
       "_view_name": "StyleView",
       "description_width": ""
      }
     },
     "70508c57b169473e995998f85c7cbbc0": {
      "model_module": "@jupyter-widgets/base",
      "model_module_version": "1.2.0",
      "model_name": "LayoutModel",
      "state": {
       "_model_module": "@jupyter-widgets/base",
       "_model_module_version": "1.2.0",
       "_model_name": "LayoutModel",
       "_view_count": null,
       "_view_module": "@jupyter-widgets/base",
       "_view_module_version": "1.2.0",
       "_view_name": "LayoutView",
       "align_content": null,
       "align_items": null,
       "align_self": null,
       "border": null,
       "bottom": null,
       "display": null,
       "flex": null,
       "flex_flow": null,
       "grid_area": null,
       "grid_auto_columns": null,
       "grid_auto_flow": null,
       "grid_auto_rows": null,
       "grid_column": null,
       "grid_gap": null,
       "grid_row": null,
       "grid_template_areas": null,
       "grid_template_columns": null,
       "grid_template_rows": null,
       "height": null,
       "justify_content": null,
       "justify_items": null,
       "left": null,
       "margin": null,
       "max_height": null,
       "max_width": null,
       "min_height": null,
       "min_width": null,
       "object_fit": null,
       "object_position": null,
       "order": null,
       "overflow": null,
       "overflow_x": null,
       "overflow_y": null,
       "padding": null,
       "right": null,
       "top": null,
       "visibility": null,
       "width": null
      }
     },
     "70528a79722e4a20b183107c0261c1a3": {
      "model_module": "@jupyter-widgets/base",
      "model_module_version": "1.2.0",
      "model_name": "LayoutModel",
      "state": {
       "_model_module": "@jupyter-widgets/base",
       "_model_module_version": "1.2.0",
       "_model_name": "LayoutModel",
       "_view_count": null,
       "_view_module": "@jupyter-widgets/base",
       "_view_module_version": "1.2.0",
       "_view_name": "LayoutView",
       "align_content": null,
       "align_items": null,
       "align_self": null,
       "border": null,
       "bottom": null,
       "display": null,
       "flex": null,
       "flex_flow": null,
       "grid_area": null,
       "grid_auto_columns": null,
       "grid_auto_flow": null,
       "grid_auto_rows": null,
       "grid_column": null,
       "grid_gap": null,
       "grid_row": null,
       "grid_template_areas": null,
       "grid_template_columns": null,
       "grid_template_rows": null,
       "height": null,
       "justify_content": null,
       "justify_items": null,
       "left": null,
       "margin": null,
       "max_height": null,
       "max_width": null,
       "min_height": null,
       "min_width": null,
       "object_fit": null,
       "object_position": null,
       "order": null,
       "overflow": null,
       "overflow_x": null,
       "overflow_y": null,
       "padding": null,
       "right": null,
       "top": null,
       "visibility": null,
       "width": null
      }
     },
     "706e033c23cc41d7bd6ac2d0cffa727d": {
      "model_module": "@jupyter-widgets/controls",
      "model_module_version": "1.5.0",
      "model_name": "HTMLModel",
      "state": {
       "_dom_classes": [],
       "_model_module": "@jupyter-widgets/controls",
       "_model_module_version": "1.5.0",
       "_model_name": "HTMLModel",
       "_view_count": null,
       "_view_module": "@jupyter-widgets/controls",
       "_view_module_version": "1.5.0",
       "_view_name": "HTMLView",
       "description": "",
       "description_tooltip": null,
       "layout": "IPY_MODEL_bfe6e68589994b10af5aa8847c79c73f",
       "placeholder": "​",
       "style": "IPY_MODEL_e2b17b40e70b402c874cf1538e53b019",
       "value": "model-00002-of-00003.safetensors: 100%"
      }
     },
     "70cda5c792e94808b86899d2d83157de": {
      "model_module": "@jupyter-widgets/controls",
      "model_module_version": "1.5.0",
      "model_name": "ProgressStyleModel",
      "state": {
       "_model_module": "@jupyter-widgets/controls",
       "_model_module_version": "1.5.0",
       "_model_name": "ProgressStyleModel",
       "_view_count": null,
       "_view_module": "@jupyter-widgets/base",
       "_view_module_version": "1.2.0",
       "_view_name": "StyleView",
       "bar_color": null,
       "description_width": ""
      }
     },
     "70d640a6369a484c8d7929a638f80c37": {
      "model_module": "@jupyter-widgets/controls",
      "model_module_version": "1.5.0",
      "model_name": "DescriptionStyleModel",
      "state": {
       "_model_module": "@jupyter-widgets/controls",
       "_model_module_version": "1.5.0",
       "_model_name": "DescriptionStyleModel",
       "_view_count": null,
       "_view_module": "@jupyter-widgets/base",
       "_view_module_version": "1.2.0",
       "_view_name": "StyleView",
       "description_width": ""
      }
     },
     "70fd51715d374084a860d92f370ec80a": {
      "model_module": "@jupyter-widgets/controls",
      "model_module_version": "1.5.0",
      "model_name": "DescriptionStyleModel",
      "state": {
       "_model_module": "@jupyter-widgets/controls",
       "_model_module_version": "1.5.0",
       "_model_name": "DescriptionStyleModel",
       "_view_count": null,
       "_view_module": "@jupyter-widgets/base",
       "_view_module_version": "1.2.0",
       "_view_name": "StyleView",
       "description_width": ""
      }
     },
     "722e06823492422c8e980888ab69b7b1": {
      "model_module": "@jupyter-widgets/base",
      "model_module_version": "1.2.0",
      "model_name": "LayoutModel",
      "state": {
       "_model_module": "@jupyter-widgets/base",
       "_model_module_version": "1.2.0",
       "_model_name": "LayoutModel",
       "_view_count": null,
       "_view_module": "@jupyter-widgets/base",
       "_view_module_version": "1.2.0",
       "_view_name": "LayoutView",
       "align_content": null,
       "align_items": null,
       "align_self": null,
       "border": null,
       "bottom": null,
       "display": null,
       "flex": null,
       "flex_flow": null,
       "grid_area": null,
       "grid_auto_columns": null,
       "grid_auto_flow": null,
       "grid_auto_rows": null,
       "grid_column": null,
       "grid_gap": null,
       "grid_row": null,
       "grid_template_areas": null,
       "grid_template_columns": null,
       "grid_template_rows": null,
       "height": null,
       "justify_content": null,
       "justify_items": null,
       "left": null,
       "margin": null,
       "max_height": null,
       "max_width": null,
       "min_height": null,
       "min_width": null,
       "object_fit": null,
       "object_position": null,
       "order": null,
       "overflow": null,
       "overflow_x": null,
       "overflow_y": null,
       "padding": null,
       "right": null,
       "top": null,
       "visibility": null,
       "width": null
      }
     },
     "73e32b8406be4d2f89c33a6c0e851c40": {
      "model_module": "@jupyter-widgets/base",
      "model_module_version": "1.2.0",
      "model_name": "LayoutModel",
      "state": {
       "_model_module": "@jupyter-widgets/base",
       "_model_module_version": "1.2.0",
       "_model_name": "LayoutModel",
       "_view_count": null,
       "_view_module": "@jupyter-widgets/base",
       "_view_module_version": "1.2.0",
       "_view_name": "LayoutView",
       "align_content": null,
       "align_items": null,
       "align_self": null,
       "border": null,
       "bottom": null,
       "display": null,
       "flex": null,
       "flex_flow": null,
       "grid_area": null,
       "grid_auto_columns": null,
       "grid_auto_flow": null,
       "grid_auto_rows": null,
       "grid_column": null,
       "grid_gap": null,
       "grid_row": null,
       "grid_template_areas": null,
       "grid_template_columns": null,
       "grid_template_rows": null,
       "height": null,
       "justify_content": null,
       "justify_items": null,
       "left": null,
       "margin": null,
       "max_height": null,
       "max_width": null,
       "min_height": null,
       "min_width": null,
       "object_fit": null,
       "object_position": null,
       "order": null,
       "overflow": null,
       "overflow_x": null,
       "overflow_y": null,
       "padding": null,
       "right": null,
       "top": null,
       "visibility": null,
       "width": null
      }
     },
     "741f472dffe042fc851b4f49594b15c3": {
      "model_module": "@jupyter-widgets/base",
      "model_module_version": "1.2.0",
      "model_name": "LayoutModel",
      "state": {
       "_model_module": "@jupyter-widgets/base",
       "_model_module_version": "1.2.0",
       "_model_name": "LayoutModel",
       "_view_count": null,
       "_view_module": "@jupyter-widgets/base",
       "_view_module_version": "1.2.0",
       "_view_name": "LayoutView",
       "align_content": null,
       "align_items": null,
       "align_self": null,
       "border": null,
       "bottom": null,
       "display": null,
       "flex": null,
       "flex_flow": null,
       "grid_area": null,
       "grid_auto_columns": null,
       "grid_auto_flow": null,
       "grid_auto_rows": null,
       "grid_column": null,
       "grid_gap": null,
       "grid_row": null,
       "grid_template_areas": null,
       "grid_template_columns": null,
       "grid_template_rows": null,
       "height": null,
       "justify_content": null,
       "justify_items": null,
       "left": null,
       "margin": null,
       "max_height": null,
       "max_width": null,
       "min_height": null,
       "min_width": null,
       "object_fit": null,
       "object_position": null,
       "order": null,
       "overflow": null,
       "overflow_x": null,
       "overflow_y": null,
       "padding": null,
       "right": null,
       "top": null,
       "visibility": null,
       "width": null
      }
     },
     "77cc6a82e7cb4576bad4c10d06af2ae4": {
      "model_module": "@jupyter-widgets/controls",
      "model_module_version": "1.5.0",
      "model_name": "HTMLModel",
      "state": {
       "_dom_classes": [],
       "_model_module": "@jupyter-widgets/controls",
       "_model_module_version": "1.5.0",
       "_model_name": "HTMLModel",
       "_view_count": null,
       "_view_module": "@jupyter-widgets/controls",
       "_view_module_version": "1.5.0",
       "_view_name": "HTMLView",
       "description": "",
       "description_tooltip": null,
       "layout": "IPY_MODEL_f7bcc5ca4dfa4490b291c8151db22096",
       "placeholder": "​",
       "style": "IPY_MODEL_84fa1cbc74c840a29628b4a76a137674",
       "value": "Loading checkpoint shards: 100%"
      }
     },
     "792cf95228b0421c9d405e9a4c9d9a77": {
      "model_module": "@jupyter-widgets/controls",
      "model_module_version": "1.5.0",
      "model_name": "ProgressStyleModel",
      "state": {
       "_model_module": "@jupyter-widgets/controls",
       "_model_module_version": "1.5.0",
       "_model_name": "ProgressStyleModel",
       "_view_count": null,
       "_view_module": "@jupyter-widgets/base",
       "_view_module_version": "1.2.0",
       "_view_name": "StyleView",
       "bar_color": null,
       "description_width": ""
      }
     },
     "7b74cbe0e5f043dfafe8507bc3a4f121": {
      "model_module": "@jupyter-widgets/base",
      "model_module_version": "1.2.0",
      "model_name": "LayoutModel",
      "state": {
       "_model_module": "@jupyter-widgets/base",
       "_model_module_version": "1.2.0",
       "_model_name": "LayoutModel",
       "_view_count": null,
       "_view_module": "@jupyter-widgets/base",
       "_view_module_version": "1.2.0",
       "_view_name": "LayoutView",
       "align_content": null,
       "align_items": null,
       "align_self": null,
       "border": null,
       "bottom": null,
       "display": null,
       "flex": null,
       "flex_flow": null,
       "grid_area": null,
       "grid_auto_columns": null,
       "grid_auto_flow": null,
       "grid_auto_rows": null,
       "grid_column": null,
       "grid_gap": null,
       "grid_row": null,
       "grid_template_areas": null,
       "grid_template_columns": null,
       "grid_template_rows": null,
       "height": null,
       "justify_content": null,
       "justify_items": null,
       "left": null,
       "margin": null,
       "max_height": null,
       "max_width": null,
       "min_height": null,
       "min_width": null,
       "object_fit": null,
       "object_position": null,
       "order": null,
       "overflow": null,
       "overflow_x": null,
       "overflow_y": null,
       "padding": null,
       "right": null,
       "top": null,
       "visibility": null,
       "width": null
      }
     },
     "7bf98a871a7649c898f024698dd80311": {
      "model_module": "@jupyter-widgets/controls",
      "model_module_version": "1.5.0",
      "model_name": "HTMLModel",
      "state": {
       "_dom_classes": [],
       "_model_module": "@jupyter-widgets/controls",
       "_model_module_version": "1.5.0",
       "_model_name": "HTMLModel",
       "_view_count": null,
       "_view_module": "@jupyter-widgets/controls",
       "_view_module_version": "1.5.0",
       "_view_name": "HTMLView",
       "description": "",
       "description_tooltip": null,
       "layout": "IPY_MODEL_38c5bc0a691542fc96fed50a73093a93",
       "placeholder": "​",
       "style": "IPY_MODEL_6b7fe38d5587477c984c3f7ab0a9a2b3",
       "value": " 3/3 [00:11&lt;00:00,  3.90s/it]"
      }
     },
     "7c1fb4f582ff460cbbd0345f8e7a1f38": {
      "model_module": "@jupyter-widgets/controls",
      "model_module_version": "1.5.0",
      "model_name": "DescriptionStyleModel",
      "state": {
       "_model_module": "@jupyter-widgets/controls",
       "_model_module_version": "1.5.0",
       "_model_name": "DescriptionStyleModel",
       "_view_count": null,
       "_view_module": "@jupyter-widgets/base",
       "_view_module_version": "1.2.0",
       "_view_name": "StyleView",
       "description_width": ""
      }
     },
     "7c7fdee8e0dd4fd499d8abcd03e037cf": {
      "model_module": "@jupyter-widgets/base",
      "model_module_version": "1.2.0",
      "model_name": "LayoutModel",
      "state": {
       "_model_module": "@jupyter-widgets/base",
       "_model_module_version": "1.2.0",
       "_model_name": "LayoutModel",
       "_view_count": null,
       "_view_module": "@jupyter-widgets/base",
       "_view_module_version": "1.2.0",
       "_view_name": "LayoutView",
       "align_content": null,
       "align_items": null,
       "align_self": null,
       "border": null,
       "bottom": null,
       "display": null,
       "flex": null,
       "flex_flow": null,
       "grid_area": null,
       "grid_auto_columns": null,
       "grid_auto_flow": null,
       "grid_auto_rows": null,
       "grid_column": null,
       "grid_gap": null,
       "grid_row": null,
       "grid_template_areas": null,
       "grid_template_columns": null,
       "grid_template_rows": null,
       "height": null,
       "justify_content": null,
       "justify_items": null,
       "left": null,
       "margin": null,
       "max_height": null,
       "max_width": null,
       "min_height": null,
       "min_width": null,
       "object_fit": null,
       "object_position": null,
       "order": null,
       "overflow": null,
       "overflow_x": null,
       "overflow_y": null,
       "padding": null,
       "right": null,
       "top": null,
       "visibility": null,
       "width": null
      }
     },
     "7d1989608a234268b051a562b624b86f": {
      "model_module": "@jupyter-widgets/controls",
      "model_module_version": "1.5.0",
      "model_name": "DescriptionStyleModel",
      "state": {
       "_model_module": "@jupyter-widgets/controls",
       "_model_module_version": "1.5.0",
       "_model_name": "DescriptionStyleModel",
       "_view_count": null,
       "_view_module": "@jupyter-widgets/base",
       "_view_module_version": "1.2.0",
       "_view_name": "StyleView",
       "description_width": ""
      }
     },
     "7d70d15c1f544796841aca95936d922d": {
      "model_module": "@jupyter-widgets/controls",
      "model_module_version": "1.5.0",
      "model_name": "HTMLModel",
      "state": {
       "_dom_classes": [],
       "_model_module": "@jupyter-widgets/controls",
       "_model_module_version": "1.5.0",
       "_model_name": "HTMLModel",
       "_view_count": null,
       "_view_module": "@jupyter-widgets/controls",
       "_view_module_version": "1.5.0",
       "_view_name": "HTMLView",
       "description": "",
       "description_tooltip": null,
       "layout": "IPY_MODEL_567e72c830eb4b92b6ba56646c9b939c",
       "placeholder": "​",
       "style": "IPY_MODEL_6f717883cc1f4bff99600cafac859e1c",
       "value": "Loading checkpoint shards: 100%"
      }
     },
     "7d941675ae084fae892f458494cb8eec": {
      "model_module": "@jupyter-widgets/controls",
      "model_module_version": "1.5.0",
      "model_name": "HTMLModel",
      "state": {
       "_dom_classes": [],
       "_model_module": "@jupyter-widgets/controls",
       "_model_module_version": "1.5.0",
       "_model_name": "HTMLModel",
       "_view_count": null,
       "_view_module": "@jupyter-widgets/controls",
       "_view_module_version": "1.5.0",
       "_view_name": "HTMLView",
       "description": "",
       "description_tooltip": null,
       "layout": "IPY_MODEL_f4d7c1f5d97e42eda38407b3cd813a96",
       "placeholder": "​",
       "style": "IPY_MODEL_325614de539346fbaa011ab791653e66",
       "value": " 4.54G/4.54G [00:55&lt;00:00, 85.8MB/s]"
      }
     },
     "7db9beb00c2d4984adab8211851a90d4": {
      "model_module": "@jupyter-widgets/controls",
      "model_module_version": "1.5.0",
      "model_name": "DescriptionStyleModel",
      "state": {
       "_model_module": "@jupyter-widgets/controls",
       "_model_module_version": "1.5.0",
       "_model_name": "DescriptionStyleModel",
       "_view_count": null,
       "_view_module": "@jupyter-widgets/base",
       "_view_module_version": "1.2.0",
       "_view_name": "StyleView",
       "description_width": ""
      }
     },
     "7ddd1fc9bedf47b8b482c51626922957": {
      "model_module": "@jupyter-widgets/base",
      "model_module_version": "1.2.0",
      "model_name": "LayoutModel",
      "state": {
       "_model_module": "@jupyter-widgets/base",
       "_model_module_version": "1.2.0",
       "_model_name": "LayoutModel",
       "_view_count": null,
       "_view_module": "@jupyter-widgets/base",
       "_view_module_version": "1.2.0",
       "_view_name": "LayoutView",
       "align_content": null,
       "align_items": null,
       "align_self": null,
       "border": null,
       "bottom": null,
       "display": null,
       "flex": null,
       "flex_flow": null,
       "grid_area": null,
       "grid_auto_columns": null,
       "grid_auto_flow": null,
       "grid_auto_rows": null,
       "grid_column": null,
       "grid_gap": null,
       "grid_row": null,
       "grid_template_areas": null,
       "grid_template_columns": null,
       "grid_template_rows": null,
       "height": null,
       "justify_content": null,
       "justify_items": null,
       "left": null,
       "margin": null,
       "max_height": null,
       "max_width": null,
       "min_height": null,
       "min_width": null,
       "object_fit": null,
       "object_position": null,
       "order": null,
       "overflow": null,
       "overflow_x": null,
       "overflow_y": null,
       "padding": null,
       "right": null,
       "top": null,
       "visibility": null,
       "width": null
      }
     },
     "7f19179d430f466895b4b7643e09b59b": {
      "model_module": "@jupyter-widgets/controls",
      "model_module_version": "1.5.0",
      "model_name": "DescriptionStyleModel",
      "state": {
       "_model_module": "@jupyter-widgets/controls",
       "_model_module_version": "1.5.0",
       "_model_name": "DescriptionStyleModel",
       "_view_count": null,
       "_view_module": "@jupyter-widgets/base",
       "_view_module_version": "1.2.0",
       "_view_name": "StyleView",
       "description_width": ""
      }
     },
     "7fb660c7ce65404fbef08930d61523c8": {
      "model_module": "@jupyter-widgets/base",
      "model_module_version": "1.2.0",
      "model_name": "LayoutModel",
      "state": {
       "_model_module": "@jupyter-widgets/base",
       "_model_module_version": "1.2.0",
       "_model_name": "LayoutModel",
       "_view_count": null,
       "_view_module": "@jupyter-widgets/base",
       "_view_module_version": "1.2.0",
       "_view_name": "LayoutView",
       "align_content": null,
       "align_items": null,
       "align_self": null,
       "border": null,
       "bottom": null,
       "display": null,
       "flex": null,
       "flex_flow": null,
       "grid_area": null,
       "grid_auto_columns": null,
       "grid_auto_flow": null,
       "grid_auto_rows": null,
       "grid_column": null,
       "grid_gap": null,
       "grid_row": null,
       "grid_template_areas": null,
       "grid_template_columns": null,
       "grid_template_rows": null,
       "height": null,
       "justify_content": null,
       "justify_items": null,
       "left": null,
       "margin": null,
       "max_height": null,
       "max_width": null,
       "min_height": null,
       "min_width": null,
       "object_fit": null,
       "object_position": null,
       "order": null,
       "overflow": null,
       "overflow_x": null,
       "overflow_y": null,
       "padding": null,
       "right": null,
       "top": null,
       "visibility": null,
       "width": null
      }
     },
     "80520f1dca0a48af910f5c4e0ee7a6ed": {
      "model_module": "@jupyter-widgets/base",
      "model_module_version": "1.2.0",
      "model_name": "LayoutModel",
      "state": {
       "_model_module": "@jupyter-widgets/base",
       "_model_module_version": "1.2.0",
       "_model_name": "LayoutModel",
       "_view_count": null,
       "_view_module": "@jupyter-widgets/base",
       "_view_module_version": "1.2.0",
       "_view_name": "LayoutView",
       "align_content": null,
       "align_items": null,
       "align_self": null,
       "border": null,
       "bottom": null,
       "display": null,
       "flex": null,
       "flex_flow": null,
       "grid_area": null,
       "grid_auto_columns": null,
       "grid_auto_flow": null,
       "grid_auto_rows": null,
       "grid_column": null,
       "grid_gap": null,
       "grid_row": null,
       "grid_template_areas": null,
       "grid_template_columns": null,
       "grid_template_rows": null,
       "height": null,
       "justify_content": null,
       "justify_items": null,
       "left": null,
       "margin": null,
       "max_height": null,
       "max_width": null,
       "min_height": null,
       "min_width": null,
       "object_fit": null,
       "object_position": null,
       "order": null,
       "overflow": null,
       "overflow_x": null,
       "overflow_y": null,
       "padding": null,
       "right": null,
       "top": null,
       "visibility": null,
       "width": null
      }
     },
     "8194c34544c14740b776563d4e283b1b": {
      "model_module": "@jupyter-widgets/controls",
      "model_module_version": "1.5.0",
      "model_name": "HBoxModel",
      "state": {
       "_dom_classes": [],
       "_model_module": "@jupyter-widgets/controls",
       "_model_module_version": "1.5.0",
       "_model_name": "HBoxModel",
       "_view_count": null,
       "_view_module": "@jupyter-widgets/controls",
       "_view_module_version": "1.5.0",
       "_view_name": "HBoxView",
       "box_style": "",
       "children": [
        "IPY_MODEL_9c7c2ca7ee5f4a8cb386373677364cbd",
        "IPY_MODEL_8d3d01d53e9a4e65a806d701bdb062cf",
        "IPY_MODEL_15ff12a37633446b9ac7cb5c7f1db13b"
       ],
       "layout": "IPY_MODEL_01f80216e3304022acc62712391ec544"
      }
     },
     "82106538ffc244938eef5164c3f655c7": {
      "model_module": "@jupyter-widgets/base",
      "model_module_version": "1.2.0",
      "model_name": "LayoutModel",
      "state": {
       "_model_module": "@jupyter-widgets/base",
       "_model_module_version": "1.2.0",
       "_model_name": "LayoutModel",
       "_view_count": null,
       "_view_module": "@jupyter-widgets/base",
       "_view_module_version": "1.2.0",
       "_view_name": "LayoutView",
       "align_content": null,
       "align_items": null,
       "align_self": null,
       "border": null,
       "bottom": null,
       "display": null,
       "flex": null,
       "flex_flow": null,
       "grid_area": null,
       "grid_auto_columns": null,
       "grid_auto_flow": null,
       "grid_auto_rows": null,
       "grid_column": null,
       "grid_gap": null,
       "grid_row": null,
       "grid_template_areas": null,
       "grid_template_columns": null,
       "grid_template_rows": null,
       "height": null,
       "justify_content": null,
       "justify_items": null,
       "left": null,
       "margin": null,
       "max_height": null,
       "max_width": null,
       "min_height": null,
       "min_width": null,
       "object_fit": null,
       "object_position": null,
       "order": null,
       "overflow": null,
       "overflow_x": null,
       "overflow_y": null,
       "padding": null,
       "right": null,
       "top": null,
       "visibility": null,
       "width": null
      }
     },
     "84fa1cbc74c840a29628b4a76a137674": {
      "model_module": "@jupyter-widgets/controls",
      "model_module_version": "1.5.0",
      "model_name": "DescriptionStyleModel",
      "state": {
       "_model_module": "@jupyter-widgets/controls",
       "_model_module_version": "1.5.0",
       "_model_name": "DescriptionStyleModel",
       "_view_count": null,
       "_view_module": "@jupyter-widgets/base",
       "_view_module_version": "1.2.0",
       "_view_name": "StyleView",
       "description_width": ""
      }
     },
     "85aab98c27c740cb81e8f6bd0100e26a": {
      "model_module": "@jupyter-widgets/base",
      "model_module_version": "1.2.0",
      "model_name": "LayoutModel",
      "state": {
       "_model_module": "@jupyter-widgets/base",
       "_model_module_version": "1.2.0",
       "_model_name": "LayoutModel",
       "_view_count": null,
       "_view_module": "@jupyter-widgets/base",
       "_view_module_version": "1.2.0",
       "_view_name": "LayoutView",
       "align_content": null,
       "align_items": null,
       "align_self": null,
       "border": null,
       "bottom": null,
       "display": null,
       "flex": null,
       "flex_flow": null,
       "grid_area": null,
       "grid_auto_columns": null,
       "grid_auto_flow": null,
       "grid_auto_rows": null,
       "grid_column": null,
       "grid_gap": null,
       "grid_row": null,
       "grid_template_areas": null,
       "grid_template_columns": null,
       "grid_template_rows": null,
       "height": null,
       "justify_content": null,
       "justify_items": null,
       "left": null,
       "margin": null,
       "max_height": null,
       "max_width": null,
       "min_height": null,
       "min_width": null,
       "object_fit": null,
       "object_position": null,
       "order": null,
       "overflow": null,
       "overflow_x": null,
       "overflow_y": null,
       "padding": null,
       "right": null,
       "top": null,
       "visibility": null,
       "width": null
      }
     },
     "85b8cf2751bb4878b5c6dc24e8383a21": {
      "model_module": "@jupyter-widgets/base",
      "model_module_version": "1.2.0",
      "model_name": "LayoutModel",
      "state": {
       "_model_module": "@jupyter-widgets/base",
       "_model_module_version": "1.2.0",
       "_model_name": "LayoutModel",
       "_view_count": null,
       "_view_module": "@jupyter-widgets/base",
       "_view_module_version": "1.2.0",
       "_view_name": "LayoutView",
       "align_content": null,
       "align_items": null,
       "align_self": null,
       "border": null,
       "bottom": null,
       "display": null,
       "flex": null,
       "flex_flow": null,
       "grid_area": null,
       "grid_auto_columns": null,
       "grid_auto_flow": null,
       "grid_auto_rows": null,
       "grid_column": null,
       "grid_gap": null,
       "grid_row": null,
       "grid_template_areas": null,
       "grid_template_columns": null,
       "grid_template_rows": null,
       "height": null,
       "justify_content": null,
       "justify_items": null,
       "left": null,
       "margin": null,
       "max_height": null,
       "max_width": null,
       "min_height": null,
       "min_width": null,
       "object_fit": null,
       "object_position": null,
       "order": null,
       "overflow": null,
       "overflow_x": null,
       "overflow_y": null,
       "padding": null,
       "right": null,
       "top": null,
       "visibility": null,
       "width": null
      }
     },
     "86062dfcb0d64f4f802619cc69dfa6e5": {
      "model_module": "@jupyter-widgets/base",
      "model_module_version": "1.2.0",
      "model_name": "LayoutModel",
      "state": {
       "_model_module": "@jupyter-widgets/base",
       "_model_module_version": "1.2.0",
       "_model_name": "LayoutModel",
       "_view_count": null,
       "_view_module": "@jupyter-widgets/base",
       "_view_module_version": "1.2.0",
       "_view_name": "LayoutView",
       "align_content": null,
       "align_items": null,
       "align_self": null,
       "border": null,
       "bottom": null,
       "display": null,
       "flex": null,
       "flex_flow": null,
       "grid_area": null,
       "grid_auto_columns": null,
       "grid_auto_flow": null,
       "grid_auto_rows": null,
       "grid_column": null,
       "grid_gap": null,
       "grid_row": null,
       "grid_template_areas": null,
       "grid_template_columns": null,
       "grid_template_rows": null,
       "height": null,
       "justify_content": null,
       "justify_items": null,
       "left": null,
       "margin": null,
       "max_height": null,
       "max_width": null,
       "min_height": null,
       "min_width": null,
       "object_fit": null,
       "object_position": null,
       "order": null,
       "overflow": null,
       "overflow_x": null,
       "overflow_y": null,
       "padding": null,
       "right": null,
       "top": null,
       "visibility": null,
       "width": null
      }
     },
     "866a45f682d04cfc8aa2bf6484529d3a": {
      "model_module": "@jupyter-widgets/controls",
      "model_module_version": "1.5.0",
      "model_name": "HBoxModel",
      "state": {
       "_dom_classes": [],
       "_model_module": "@jupyter-widgets/controls",
       "_model_module_version": "1.5.0",
       "_model_name": "HBoxModel",
       "_view_count": null,
       "_view_module": "@jupyter-widgets/controls",
       "_view_module_version": "1.5.0",
       "_view_name": "HBoxView",
       "box_style": "",
       "children": [
        "IPY_MODEL_cca1cf932f53488bb573f1f92cd2d0f4",
        "IPY_MODEL_626c492b6a934a5bbd2dcbf3161b28be",
        "IPY_MODEL_41dcdb1a0dc3456393ef9cb5ecf5a1c2"
       ],
       "layout": "IPY_MODEL_31d90d1ec76d4cec95518c27e8ab6d64"
      }
     },
     "8778e07f7cbe4d03b47e7eef34259188": {
      "model_module": "@jupyter-widgets/controls",
      "model_module_version": "1.5.0",
      "model_name": "ProgressStyleModel",
      "state": {
       "_model_module": "@jupyter-widgets/controls",
       "_model_module_version": "1.5.0",
       "_model_name": "ProgressStyleModel",
       "_view_count": null,
       "_view_module": "@jupyter-widgets/base",
       "_view_module_version": "1.2.0",
       "_view_name": "StyleView",
       "bar_color": null,
       "description_width": ""
      }
     },
     "87c9c4802e284aefa8d66822cb35137e": {
      "model_module": "@jupyter-widgets/base",
      "model_module_version": "1.2.0",
      "model_name": "LayoutModel",
      "state": {
       "_model_module": "@jupyter-widgets/base",
       "_model_module_version": "1.2.0",
       "_model_name": "LayoutModel",
       "_view_count": null,
       "_view_module": "@jupyter-widgets/base",
       "_view_module_version": "1.2.0",
       "_view_name": "LayoutView",
       "align_content": null,
       "align_items": null,
       "align_self": null,
       "border": null,
       "bottom": null,
       "display": null,
       "flex": null,
       "flex_flow": null,
       "grid_area": null,
       "grid_auto_columns": null,
       "grid_auto_flow": null,
       "grid_auto_rows": null,
       "grid_column": null,
       "grid_gap": null,
       "grid_row": null,
       "grid_template_areas": null,
       "grid_template_columns": null,
       "grid_template_rows": null,
       "height": null,
       "justify_content": null,
       "justify_items": null,
       "left": null,
       "margin": null,
       "max_height": null,
       "max_width": null,
       "min_height": null,
       "min_width": null,
       "object_fit": null,
       "object_position": null,
       "order": null,
       "overflow": null,
       "overflow_x": null,
       "overflow_y": null,
       "padding": null,
       "right": null,
       "top": null,
       "visibility": null,
       "width": null
      }
     },
     "88a2dbd7ab464aa49915aa792fdb50a3": {
      "model_module": "@jupyter-widgets/base",
      "model_module_version": "1.2.0",
      "model_name": "LayoutModel",
      "state": {
       "_model_module": "@jupyter-widgets/base",
       "_model_module_version": "1.2.0",
       "_model_name": "LayoutModel",
       "_view_count": null,
       "_view_module": "@jupyter-widgets/base",
       "_view_module_version": "1.2.0",
       "_view_name": "LayoutView",
       "align_content": null,
       "align_items": null,
       "align_self": null,
       "border": null,
       "bottom": null,
       "display": null,
       "flex": null,
       "flex_flow": null,
       "grid_area": null,
       "grid_auto_columns": null,
       "grid_auto_flow": null,
       "grid_auto_rows": null,
       "grid_column": null,
       "grid_gap": null,
       "grid_row": null,
       "grid_template_areas": null,
       "grid_template_columns": null,
       "grid_template_rows": null,
       "height": null,
       "justify_content": null,
       "justify_items": null,
       "left": null,
       "margin": null,
       "max_height": null,
       "max_width": null,
       "min_height": null,
       "min_width": null,
       "object_fit": null,
       "object_position": null,
       "order": null,
       "overflow": null,
       "overflow_x": null,
       "overflow_y": null,
       "padding": null,
       "right": null,
       "top": null,
       "visibility": null,
       "width": null
      }
     },
     "891a55bc0aa44319bc4979d4114d2068": {
      "model_module": "@jupyter-widgets/controls",
      "model_module_version": "1.5.0",
      "model_name": "HTMLModel",
      "state": {
       "_dom_classes": [],
       "_model_module": "@jupyter-widgets/controls",
       "_model_module_version": "1.5.0",
       "_model_name": "HTMLModel",
       "_view_count": null,
       "_view_module": "@jupyter-widgets/controls",
       "_view_module_version": "1.5.0",
       "_view_name": "HTMLView",
       "description": "",
       "description_tooltip": null,
       "layout": "IPY_MODEL_5ab2637379d74692bfce93d5014ae588",
       "placeholder": "​",
       "style": "IPY_MODEL_fb0b797cdf064acdb3583b9ab26dba10",
       "value": " 3/3 [00:11&lt;00:00,  3.93s/it]"
      }
     },
     "8a519caabc004353b3ed93f07d0b0039": {
      "model_module": "@jupyter-widgets/controls",
      "model_module_version": "1.5.0",
      "model_name": "HTMLModel",
      "state": {
       "_dom_classes": [],
       "_model_module": "@jupyter-widgets/controls",
       "_model_module_version": "1.5.0",
       "_model_name": "HTMLModel",
       "_view_count": null,
       "_view_module": "@jupyter-widgets/controls",
       "_view_module_version": "1.5.0",
       "_view_name": "HTMLView",
       "description": "",
       "description_tooltip": null,
       "layout": "IPY_MODEL_5dbec148cf274875ab00bc7302bf8f17",
       "placeholder": "​",
       "style": "IPY_MODEL_7d1989608a234268b051a562b624b86f",
       "value": " 3/3 [00:11&lt;00:00,  3.81s/it]"
      }
     },
     "8b6b07bcec4e4b36bfae2a6b6f86099a": {
      "model_module": "@jupyter-widgets/controls",
      "model_module_version": "1.5.0",
      "model_name": "HTMLModel",
      "state": {
       "_dom_classes": [],
       "_model_module": "@jupyter-widgets/controls",
       "_model_module_version": "1.5.0",
       "_model_name": "HTMLModel",
       "_view_count": null,
       "_view_module": "@jupyter-widgets/controls",
       "_view_module_version": "1.5.0",
       "_view_name": "HTMLView",
       "description": "",
       "description_tooltip": null,
       "layout": "IPY_MODEL_1daa961b12b74c5fba6738e2160f1eec",
       "placeholder": "​",
       "style": "IPY_MODEL_6fa6e382935c4716a2a6c2c7d9b3b599",
       "value": "Loading checkpoint shards: 100%"
      }
     },
     "8c0ac29123a44dda96c8c346ebcd0d42": {
      "model_module": "@jupyter-widgets/controls",
      "model_module_version": "1.5.0",
      "model_name": "ProgressStyleModel",
      "state": {
       "_model_module": "@jupyter-widgets/controls",
       "_model_module_version": "1.5.0",
       "_model_name": "ProgressStyleModel",
       "_view_count": null,
       "_view_module": "@jupyter-widgets/base",
       "_view_module_version": "1.2.0",
       "_view_name": "StyleView",
       "bar_color": null,
       "description_width": ""
      }
     },
     "8d3d01d53e9a4e65a806d701bdb062cf": {
      "model_module": "@jupyter-widgets/controls",
      "model_module_version": "1.5.0",
      "model_name": "FloatProgressModel",
      "state": {
       "_dom_classes": [],
       "_model_module": "@jupyter-widgets/controls",
       "_model_module_version": "1.5.0",
       "_model_name": "FloatProgressModel",
       "_view_count": null,
       "_view_module": "@jupyter-widgets/controls",
       "_view_module_version": "1.5.0",
       "_view_name": "ProgressView",
       "bar_style": "success",
       "description": "",
       "description_tooltip": null,
       "layout": "IPY_MODEL_0e5be29d3e9f4f0fa41c9909f32c588e",
       "max": 3.0,
       "min": 0.0,
       "orientation": "horizontal",
       "style": "IPY_MODEL_8c0ac29123a44dda96c8c346ebcd0d42",
       "value": 3.0
      }
     },
     "8eb4cdccc8ab42d38576ae45f2641514": {
      "model_module": "@jupyter-widgets/controls",
      "model_module_version": "1.5.0",
      "model_name": "FloatProgressModel",
      "state": {
       "_dom_classes": [],
       "_model_module": "@jupyter-widgets/controls",
       "_model_module_version": "1.5.0",
       "_model_name": "FloatProgressModel",
       "_view_count": null,
       "_view_module": "@jupyter-widgets/controls",
       "_view_module_version": "1.5.0",
       "_view_name": "ProgressView",
       "bar_style": "success",
       "description": "",
       "description_tooltip": null,
       "layout": "IPY_MODEL_e15e5dfddb4e42388d0050d9104dbe9c",
       "max": 4943162336.0,
       "min": 0.0,
       "orientation": "horizontal",
       "style": "IPY_MODEL_5386a612d55043aa800e1939c4142a37",
       "value": 4943162336.0
      }
     },
     "8f952eae11f24649a9c90fa1e9764a20": {
      "model_module": "@jupyter-widgets/base",
      "model_module_version": "1.2.0",
      "model_name": "LayoutModel",
      "state": {
       "_model_module": "@jupyter-widgets/base",
       "_model_module_version": "1.2.0",
       "_model_name": "LayoutModel",
       "_view_count": null,
       "_view_module": "@jupyter-widgets/base",
       "_view_module_version": "1.2.0",
       "_view_name": "LayoutView",
       "align_content": null,
       "align_items": null,
       "align_self": null,
       "border": null,
       "bottom": null,
       "display": null,
       "flex": null,
       "flex_flow": null,
       "grid_area": null,
       "grid_auto_columns": null,
       "grid_auto_flow": null,
       "grid_auto_rows": null,
       "grid_column": null,
       "grid_gap": null,
       "grid_row": null,
       "grid_template_areas": null,
       "grid_template_columns": null,
       "grid_template_rows": null,
       "height": null,
       "justify_content": null,
       "justify_items": null,
       "left": null,
       "margin": null,
       "max_height": null,
       "max_width": null,
       "min_height": null,
       "min_width": null,
       "object_fit": null,
       "object_position": null,
       "order": null,
       "overflow": null,
       "overflow_x": null,
       "overflow_y": null,
       "padding": null,
       "right": null,
       "top": null,
       "visibility": null,
       "width": null
      }
     },
     "9a0271995b15482d89d30a56aad432a5": {
      "model_module": "@jupyter-widgets/controls",
      "model_module_version": "1.5.0",
      "model_name": "DescriptionStyleModel",
      "state": {
       "_model_module": "@jupyter-widgets/controls",
       "_model_module_version": "1.5.0",
       "_model_name": "DescriptionStyleModel",
       "_view_count": null,
       "_view_module": "@jupyter-widgets/base",
       "_view_module_version": "1.2.0",
       "_view_name": "StyleView",
       "description_width": ""
      }
     },
     "9c7c2ca7ee5f4a8cb386373677364cbd": {
      "model_module": "@jupyter-widgets/controls",
      "model_module_version": "1.5.0",
      "model_name": "HTMLModel",
      "state": {
       "_dom_classes": [],
       "_model_module": "@jupyter-widgets/controls",
       "_model_module_version": "1.5.0",
       "_model_name": "HTMLModel",
       "_view_count": null,
       "_view_module": "@jupyter-widgets/controls",
       "_view_module_version": "1.5.0",
       "_view_name": "HTMLView",
       "description": "",
       "description_tooltip": null,
       "layout": "IPY_MODEL_417540144e6e42bc94b4edebb0f54f2d",
       "placeholder": "​",
       "style": "IPY_MODEL_e61d331db4fb487d9ed24e06a50d0d87",
       "value": "Loading checkpoint shards: 100%"
      }
     },
     "9d2e2c7716d840f7b028fa6ccc0d4a7c": {
      "model_module": "@jupyter-widgets/controls",
      "model_module_version": "1.5.0",
      "model_name": "DescriptionStyleModel",
      "state": {
       "_model_module": "@jupyter-widgets/controls",
       "_model_module_version": "1.5.0",
       "_model_name": "DescriptionStyleModel",
       "_view_count": null,
       "_view_module": "@jupyter-widgets/base",
       "_view_module_version": "1.2.0",
       "_view_name": "StyleView",
       "description_width": ""
      }
     },
     "a0159724e1c641d183edc318837cec97": {
      "model_module": "@jupyter-widgets/controls",
      "model_module_version": "1.5.0",
      "model_name": "FloatProgressModel",
      "state": {
       "_dom_classes": [],
       "_model_module": "@jupyter-widgets/controls",
       "_model_module_version": "1.5.0",
       "_model_name": "FloatProgressModel",
       "_view_count": null,
       "_view_module": "@jupyter-widgets/controls",
       "_view_module_version": "1.5.0",
       "_view_name": "ProgressView",
       "bar_style": "success",
       "description": "",
       "description_tooltip": null,
       "layout": "IPY_MODEL_132e5a06fc14434c89c94405e649621a",
       "max": 3.0,
       "min": 0.0,
       "orientation": "horizontal",
       "style": "IPY_MODEL_fb827a42f913403eadc003a7418abc17",
       "value": 3.0
      }
     },
     "a029dec1a3154c1da2221fa6c4db777c": {
      "model_module": "@jupyter-widgets/base",
      "model_module_version": "1.2.0",
      "model_name": "LayoutModel",
      "state": {
       "_model_module": "@jupyter-widgets/base",
       "_model_module_version": "1.2.0",
       "_model_name": "LayoutModel",
       "_view_count": null,
       "_view_module": "@jupyter-widgets/base",
       "_view_module_version": "1.2.0",
       "_view_name": "LayoutView",
       "align_content": null,
       "align_items": null,
       "align_self": null,
       "border": null,
       "bottom": null,
       "display": null,
       "flex": null,
       "flex_flow": null,
       "grid_area": null,
       "grid_auto_columns": null,
       "grid_auto_flow": null,
       "grid_auto_rows": null,
       "grid_column": null,
       "grid_gap": null,
       "grid_row": null,
       "grid_template_areas": null,
       "grid_template_columns": null,
       "grid_template_rows": null,
       "height": null,
       "justify_content": null,
       "justify_items": null,
       "left": null,
       "margin": null,
       "max_height": null,
       "max_width": null,
       "min_height": null,
       "min_width": null,
       "object_fit": null,
       "object_position": null,
       "order": null,
       "overflow": null,
       "overflow_x": null,
       "overflow_y": null,
       "padding": null,
       "right": null,
       "top": null,
       "visibility": null,
       "width": null
      }
     },
     "a03205a885af467db68172e01a7c1714": {
      "model_module": "@jupyter-widgets/base",
      "model_module_version": "1.2.0",
      "model_name": "LayoutModel",
      "state": {
       "_model_module": "@jupyter-widgets/base",
       "_model_module_version": "1.2.0",
       "_model_name": "LayoutModel",
       "_view_count": null,
       "_view_module": "@jupyter-widgets/base",
       "_view_module_version": "1.2.0",
       "_view_name": "LayoutView",
       "align_content": null,
       "align_items": null,
       "align_self": null,
       "border": null,
       "bottom": null,
       "display": null,
       "flex": null,
       "flex_flow": null,
       "grid_area": null,
       "grid_auto_columns": null,
       "grid_auto_flow": null,
       "grid_auto_rows": null,
       "grid_column": null,
       "grid_gap": null,
       "grid_row": null,
       "grid_template_areas": null,
       "grid_template_columns": null,
       "grid_template_rows": null,
       "height": null,
       "justify_content": null,
       "justify_items": null,
       "left": null,
       "margin": null,
       "max_height": null,
       "max_width": null,
       "min_height": null,
       "min_width": null,
       "object_fit": null,
       "object_position": null,
       "order": null,
       "overflow": null,
       "overflow_x": null,
       "overflow_y": null,
       "padding": null,
       "right": null,
       "top": null,
       "visibility": null,
       "width": null
      }
     },
     "a03e509ad7ee46e29a596498eba90d0c": {
      "model_module": "@jupyter-widgets/controls",
      "model_module_version": "1.5.0",
      "model_name": "HBoxModel",
      "state": {
       "_dom_classes": [],
       "_model_module": "@jupyter-widgets/controls",
       "_model_module_version": "1.5.0",
       "_model_name": "HBoxModel",
       "_view_count": null,
       "_view_module": "@jupyter-widgets/controls",
       "_view_module_version": "1.5.0",
       "_view_name": "HBoxView",
       "box_style": "",
       "children": [
        "IPY_MODEL_5bf8900043f54b2480f045aba41a9526",
        "IPY_MODEL_6f85a2b3fd4d4f6f9ff53c6f117d3637",
        "IPY_MODEL_10388e6671be4a9484e3548b0e2ba310"
       ],
       "layout": "IPY_MODEL_0d4c02c47fdd4032bc0b14ec827ecb8f"
      }
     },
     "a626828de0df486e9306e7bd6e2431ed": {
      "model_module": "@jupyter-widgets/base",
      "model_module_version": "1.2.0",
      "model_name": "LayoutModel",
      "state": {
       "_model_module": "@jupyter-widgets/base",
       "_model_module_version": "1.2.0",
       "_model_name": "LayoutModel",
       "_view_count": null,
       "_view_module": "@jupyter-widgets/base",
       "_view_module_version": "1.2.0",
       "_view_name": "LayoutView",
       "align_content": null,
       "align_items": null,
       "align_self": null,
       "border": null,
       "bottom": null,
       "display": null,
       "flex": null,
       "flex_flow": null,
       "grid_area": null,
       "grid_auto_columns": null,
       "grid_auto_flow": null,
       "grid_auto_rows": null,
       "grid_column": null,
       "grid_gap": null,
       "grid_row": null,
       "grid_template_areas": null,
       "grid_template_columns": null,
       "grid_template_rows": null,
       "height": null,
       "justify_content": null,
       "justify_items": null,
       "left": null,
       "margin": null,
       "max_height": null,
       "max_width": null,
       "min_height": null,
       "min_width": null,
       "object_fit": null,
       "object_position": null,
       "order": null,
       "overflow": null,
       "overflow_x": null,
       "overflow_y": null,
       "padding": null,
       "right": null,
       "top": null,
       "visibility": null,
       "width": null
      }
     },
     "a62b90e7a64c4ab39a431507cba8f9af": {
      "model_module": "@jupyter-widgets/base",
      "model_module_version": "1.2.0",
      "model_name": "LayoutModel",
      "state": {
       "_model_module": "@jupyter-widgets/base",
       "_model_module_version": "1.2.0",
       "_model_name": "LayoutModel",
       "_view_count": null,
       "_view_module": "@jupyter-widgets/base",
       "_view_module_version": "1.2.0",
       "_view_name": "LayoutView",
       "align_content": null,
       "align_items": null,
       "align_self": null,
       "border": null,
       "bottom": null,
       "display": null,
       "flex": null,
       "flex_flow": null,
       "grid_area": null,
       "grid_auto_columns": null,
       "grid_auto_flow": null,
       "grid_auto_rows": null,
       "grid_column": null,
       "grid_gap": null,
       "grid_row": null,
       "grid_template_areas": null,
       "grid_template_columns": null,
       "grid_template_rows": null,
       "height": null,
       "justify_content": null,
       "justify_items": null,
       "left": null,
       "margin": null,
       "max_height": null,
       "max_width": null,
       "min_height": null,
       "min_width": null,
       "object_fit": null,
       "object_position": null,
       "order": null,
       "overflow": null,
       "overflow_x": null,
       "overflow_y": null,
       "padding": null,
       "right": null,
       "top": null,
       "visibility": null,
       "width": null
      }
     },
     "a71cae19c1fd4608900f7987ffdb6deb": {
      "model_module": "@jupyter-widgets/controls",
      "model_module_version": "1.5.0",
      "model_name": "HTMLModel",
      "state": {
       "_dom_classes": [],
       "_model_module": "@jupyter-widgets/controls",
       "_model_module_version": "1.5.0",
       "_model_name": "HTMLModel",
       "_view_count": null,
       "_view_module": "@jupyter-widgets/controls",
       "_view_module_version": "1.5.0",
       "_view_name": "HTMLView",
       "description": "",
       "description_tooltip": null,
       "layout": "IPY_MODEL_235521bf5d564392a1ff43689542a211",
       "placeholder": "​",
       "style": "IPY_MODEL_70fd51715d374084a860d92f370ec80a",
       "value": " 3/3 [00:11&lt;00:00,  3.72s/it]"
      }
     },
     "a72ab1fe305a4cadbbee0de75d8a57f4": {
      "model_module": "@jupyter-widgets/controls",
      "model_module_version": "1.5.0",
      "model_name": "HBoxModel",
      "state": {
       "_dom_classes": [],
       "_model_module": "@jupyter-widgets/controls",
       "_model_module_version": "1.5.0",
       "_model_name": "HBoxModel",
       "_view_count": null,
       "_view_module": "@jupyter-widgets/controls",
       "_view_module_version": "1.5.0",
       "_view_name": "HBoxView",
       "box_style": "",
       "children": [
        "IPY_MODEL_7d70d15c1f544796841aca95936d922d",
        "IPY_MODEL_222c9da4d934429583914ee45ab9d41c",
        "IPY_MODEL_bc2275aac4e644c29de14e6f304c78af"
       ],
       "layout": "IPY_MODEL_eaab1f27c10e4fbabf7b0de041746454"
      }
     },
     "a81ff2fd865241d2b1ec31edb6e5602a": {
      "model_module": "@jupyter-widgets/base",
      "model_module_version": "1.2.0",
      "model_name": "LayoutModel",
      "state": {
       "_model_module": "@jupyter-widgets/base",
       "_model_module_version": "1.2.0",
       "_model_name": "LayoutModel",
       "_view_count": null,
       "_view_module": "@jupyter-widgets/base",
       "_view_module_version": "1.2.0",
       "_view_name": "LayoutView",
       "align_content": null,
       "align_items": null,
       "align_self": null,
       "border": null,
       "bottom": null,
       "display": null,
       "flex": null,
       "flex_flow": null,
       "grid_area": null,
       "grid_auto_columns": null,
       "grid_auto_flow": null,
       "grid_auto_rows": null,
       "grid_column": null,
       "grid_gap": null,
       "grid_row": null,
       "grid_template_areas": null,
       "grid_template_columns": null,
       "grid_template_rows": null,
       "height": null,
       "justify_content": null,
       "justify_items": null,
       "left": null,
       "margin": null,
       "max_height": null,
       "max_width": null,
       "min_height": null,
       "min_width": null,
       "object_fit": null,
       "object_position": null,
       "order": null,
       "overflow": null,
       "overflow_x": null,
       "overflow_y": null,
       "padding": null,
       "right": null,
       "top": null,
       "visibility": null,
       "width": null
      }
     },
     "a84e1045921b4258b24923c9888dca9c": {
      "model_module": "@jupyter-widgets/base",
      "model_module_version": "1.2.0",
      "model_name": "LayoutModel",
      "state": {
       "_model_module": "@jupyter-widgets/base",
       "_model_module_version": "1.2.0",
       "_model_name": "LayoutModel",
       "_view_count": null,
       "_view_module": "@jupyter-widgets/base",
       "_view_module_version": "1.2.0",
       "_view_name": "LayoutView",
       "align_content": null,
       "align_items": null,
       "align_self": null,
       "border": null,
       "bottom": null,
       "display": null,
       "flex": null,
       "flex_flow": null,
       "grid_area": null,
       "grid_auto_columns": null,
       "grid_auto_flow": null,
       "grid_auto_rows": null,
       "grid_column": null,
       "grid_gap": null,
       "grid_row": null,
       "grid_template_areas": null,
       "grid_template_columns": null,
       "grid_template_rows": null,
       "height": null,
       "justify_content": null,
       "justify_items": null,
       "left": null,
       "margin": null,
       "max_height": null,
       "max_width": null,
       "min_height": null,
       "min_width": null,
       "object_fit": null,
       "object_position": null,
       "order": null,
       "overflow": null,
       "overflow_x": null,
       "overflow_y": null,
       "padding": null,
       "right": null,
       "top": null,
       "visibility": null,
       "width": null
      }
     },
     "a89529979ad34e52a37579bc43558eb7": {
      "model_module": "@jupyter-widgets/base",
      "model_module_version": "1.2.0",
      "model_name": "LayoutModel",
      "state": {
       "_model_module": "@jupyter-widgets/base",
       "_model_module_version": "1.2.0",
       "_model_name": "LayoutModel",
       "_view_count": null,
       "_view_module": "@jupyter-widgets/base",
       "_view_module_version": "1.2.0",
       "_view_name": "LayoutView",
       "align_content": null,
       "align_items": null,
       "align_self": null,
       "border": null,
       "bottom": null,
       "display": null,
       "flex": null,
       "flex_flow": null,
       "grid_area": null,
       "grid_auto_columns": null,
       "grid_auto_flow": null,
       "grid_auto_rows": null,
       "grid_column": null,
       "grid_gap": null,
       "grid_row": null,
       "grid_template_areas": null,
       "grid_template_columns": null,
       "grid_template_rows": null,
       "height": null,
       "justify_content": null,
       "justify_items": null,
       "left": null,
       "margin": null,
       "max_height": null,
       "max_width": null,
       "min_height": null,
       "min_width": null,
       "object_fit": null,
       "object_position": null,
       "order": null,
       "overflow": null,
       "overflow_x": null,
       "overflow_y": null,
       "padding": null,
       "right": null,
       "top": null,
       "visibility": null,
       "width": null
      }
     },
     "abeb28f5baa34623b40a925b820299bd": {
      "model_module": "@jupyter-widgets/controls",
      "model_module_version": "1.5.0",
      "model_name": "HTMLModel",
      "state": {
       "_dom_classes": [],
       "_model_module": "@jupyter-widgets/controls",
       "_model_module_version": "1.5.0",
       "_model_name": "HTMLModel",
       "_view_count": null,
       "_view_module": "@jupyter-widgets/controls",
       "_view_module_version": "1.5.0",
       "_view_name": "HTMLView",
       "description": "",
       "description_tooltip": null,
       "layout": "IPY_MODEL_66f053599c7743da98e64ccbb02efe1d",
       "placeholder": "​",
       "style": "IPY_MODEL_e7f1cc517f714f2bb47f4e3b43477dd4",
       "value": "Loading checkpoint shards: 100%"
      }
     },
     "ac2c0b70764b44a583829cf16e62209e": {
      "model_module": "@jupyter-widgets/controls",
      "model_module_version": "1.5.0",
      "model_name": "HTMLModel",
      "state": {
       "_dom_classes": [],
       "_model_module": "@jupyter-widgets/controls",
       "_model_module_version": "1.5.0",
       "_model_name": "HTMLModel",
       "_view_count": null,
       "_view_module": "@jupyter-widgets/controls",
       "_view_module_version": "1.5.0",
       "_view_name": "HTMLView",
       "description": "",
       "description_tooltip": null,
       "layout": "IPY_MODEL_f1a18fdfbfe8491789f80079f62fa0c2",
       "placeholder": "​",
       "style": "IPY_MODEL_d063985e301445b78df2a4d5e403da74",
       "value": "config.json: 100%"
      }
     },
     "ac4d434132b749bead6f581173a8d5f4": {
      "model_module": "@jupyter-widgets/controls",
      "model_module_version": "1.5.0",
      "model_name": "HBoxModel",
      "state": {
       "_dom_classes": [],
       "_model_module": "@jupyter-widgets/controls",
       "_model_module_version": "1.5.0",
       "_model_name": "HBoxModel",
       "_view_count": null,
       "_view_module": "@jupyter-widgets/controls",
       "_view_module_version": "1.5.0",
       "_view_name": "HBoxView",
       "box_style": "",
       "children": [
        "IPY_MODEL_b6c14cd70d2b4b1da634526287828a84",
        "IPY_MODEL_1589d2e94de34817a1841d9782b182fe",
        "IPY_MODEL_a71cae19c1fd4608900f7987ffdb6deb"
       ],
       "layout": "IPY_MODEL_f6590680d59e48df9bc824562173a11d"
      }
     },
     "ace92839ece6491fb4eba1f22b80e14e": {
      "model_module": "@jupyter-widgets/base",
      "model_module_version": "1.2.0",
      "model_name": "LayoutModel",
      "state": {
       "_model_module": "@jupyter-widgets/base",
       "_model_module_version": "1.2.0",
       "_model_name": "LayoutModel",
       "_view_count": null,
       "_view_module": "@jupyter-widgets/base",
       "_view_module_version": "1.2.0",
       "_view_name": "LayoutView",
       "align_content": null,
       "align_items": null,
       "align_self": null,
       "border": null,
       "bottom": null,
       "display": null,
       "flex": null,
       "flex_flow": null,
       "grid_area": null,
       "grid_auto_columns": null,
       "grid_auto_flow": null,
       "grid_auto_rows": null,
       "grid_column": null,
       "grid_gap": null,
       "grid_row": null,
       "grid_template_areas": null,
       "grid_template_columns": null,
       "grid_template_rows": null,
       "height": null,
       "justify_content": null,
       "justify_items": null,
       "left": null,
       "margin": null,
       "max_height": null,
       "max_width": null,
       "min_height": null,
       "min_width": null,
       "object_fit": null,
       "object_position": null,
       "order": null,
       "overflow": null,
       "overflow_x": null,
       "overflow_y": null,
       "padding": null,
       "right": null,
       "top": null,
       "visibility": null,
       "width": null
      }
     },
     "aec25495c5d149b993bab62a6b9458b4": {
      "model_module": "@jupyter-widgets/controls",
      "model_module_version": "1.5.0",
      "model_name": "DescriptionStyleModel",
      "state": {
       "_model_module": "@jupyter-widgets/controls",
       "_model_module_version": "1.5.0",
       "_model_name": "DescriptionStyleModel",
       "_view_count": null,
       "_view_module": "@jupyter-widgets/base",
       "_view_module_version": "1.2.0",
       "_view_name": "StyleView",
       "description_width": ""
      }
     },
     "afd40d35539148ac86fbb743640d7973": {
      "model_module": "@jupyter-widgets/controls",
      "model_module_version": "1.5.0",
      "model_name": "HBoxModel",
      "state": {
       "_dom_classes": [],
       "_model_module": "@jupyter-widgets/controls",
       "_model_module_version": "1.5.0",
       "_model_name": "HBoxModel",
       "_view_count": null,
       "_view_module": "@jupyter-widgets/controls",
       "_view_module_version": "1.5.0",
       "_view_name": "HBoxView",
       "box_style": "",
       "children": [
        "IPY_MODEL_4fb76a689fe64d95aa2ede0f291153bb",
        "IPY_MODEL_c01e5ed2651045fc87c0e24cb37c96a8",
        "IPY_MODEL_6bc319197ef9471ca529630933a24935"
       ],
       "layout": "IPY_MODEL_80520f1dca0a48af910f5c4e0ee7a6ed"
      }
     },
     "b053ffe40e6e4fcab46d59b618784669": {
      "model_module": "@jupyter-widgets/controls",
      "model_module_version": "1.5.0",
      "model_name": "HTMLModel",
      "state": {
       "_dom_classes": [],
       "_model_module": "@jupyter-widgets/controls",
       "_model_module_version": "1.5.0",
       "_model_name": "HTMLModel",
       "_view_count": null,
       "_view_module": "@jupyter-widgets/controls",
       "_view_module_version": "1.5.0",
       "_view_name": "HTMLView",
       "description": "",
       "description_tooltip": null,
       "layout": "IPY_MODEL_86062dfcb0d64f4f802619cc69dfa6e5",
       "placeholder": "​",
       "style": "IPY_MODEL_dd961d308a0f47078989e043ab9c286b",
       "value": " 3/3 [03:00&lt;00:00, 59.34s/it]"
      }
     },
     "b067d165f3704919bdeec21ff58b2309": {
      "model_module": "@jupyter-widgets/controls",
      "model_module_version": "1.5.0",
      "model_name": "HBoxModel",
      "state": {
       "_dom_classes": [],
       "_model_module": "@jupyter-widgets/controls",
       "_model_module_version": "1.5.0",
       "_model_name": "HBoxModel",
       "_view_count": null,
       "_view_module": "@jupyter-widgets/controls",
       "_view_module_version": "1.5.0",
       "_view_name": "HBoxView",
       "box_style": "",
       "children": [
        "IPY_MODEL_4879abf6733f4b058cc95a232a03b2df",
        "IPY_MODEL_b7dba99d889d434f873d3b4728734128",
        "IPY_MODEL_5f684943dddc4544954c683a6fdca8af"
       ],
       "layout": "IPY_MODEL_87c9c4802e284aefa8d66822cb35137e"
      }
     },
     "b072fb23e76e452ba979b85a11af319f": {
      "model_module": "@jupyter-widgets/controls",
      "model_module_version": "1.5.0",
      "model_name": "DescriptionStyleModel",
      "state": {
       "_model_module": "@jupyter-widgets/controls",
       "_model_module_version": "1.5.0",
       "_model_name": "DescriptionStyleModel",
       "_view_count": null,
       "_view_module": "@jupyter-widgets/base",
       "_view_module_version": "1.2.0",
       "_view_name": "StyleView",
       "description_width": ""
      }
     },
     "b2c362f763854c57b747a5608a793e57": {
      "model_module": "@jupyter-widgets/controls",
      "model_module_version": "1.5.0",
      "model_name": "DescriptionStyleModel",
      "state": {
       "_model_module": "@jupyter-widgets/controls",
       "_model_module_version": "1.5.0",
       "_model_name": "DescriptionStyleModel",
       "_view_count": null,
       "_view_module": "@jupyter-widgets/base",
       "_view_module_version": "1.2.0",
       "_view_name": "StyleView",
       "description_width": ""
      }
     },
     "b305171cbf5a4f0e8f6bc0fd9c1ff5a0": {
      "model_module": "@jupyter-widgets/controls",
      "model_module_version": "1.5.0",
      "model_name": "ProgressStyleModel",
      "state": {
       "_model_module": "@jupyter-widgets/controls",
       "_model_module_version": "1.5.0",
       "_model_name": "ProgressStyleModel",
       "_view_count": null,
       "_view_module": "@jupyter-widgets/base",
       "_view_module_version": "1.2.0",
       "_view_name": "StyleView",
       "bar_color": null,
       "description_width": ""
      }
     },
     "b41b65318749407daeabc47814122a19": {
      "model_module": "@jupyter-widgets/controls",
      "model_module_version": "1.5.0",
      "model_name": "ProgressStyleModel",
      "state": {
       "_model_module": "@jupyter-widgets/controls",
       "_model_module_version": "1.5.0",
       "_model_name": "ProgressStyleModel",
       "_view_count": null,
       "_view_module": "@jupyter-widgets/base",
       "_view_module_version": "1.2.0",
       "_view_name": "StyleView",
       "bar_color": null,
       "description_width": ""
      }
     },
     "b46215d39b6d426d94d23f835ceeb59d": {
      "model_module": "@jupyter-widgets/controls",
      "model_module_version": "1.5.0",
      "model_name": "ProgressStyleModel",
      "state": {
       "_model_module": "@jupyter-widgets/controls",
       "_model_module_version": "1.5.0",
       "_model_name": "ProgressStyleModel",
       "_view_count": null,
       "_view_module": "@jupyter-widgets/base",
       "_view_module_version": "1.2.0",
       "_view_name": "StyleView",
       "bar_color": null,
       "description_width": ""
      }
     },
     "b488eecc016149a1b8e6d5a5f7063ff0": {
      "model_module": "@jupyter-widgets/base",
      "model_module_version": "1.2.0",
      "model_name": "LayoutModel",
      "state": {
       "_model_module": "@jupyter-widgets/base",
       "_model_module_version": "1.2.0",
       "_model_name": "LayoutModel",
       "_view_count": null,
       "_view_module": "@jupyter-widgets/base",
       "_view_module_version": "1.2.0",
       "_view_name": "LayoutView",
       "align_content": null,
       "align_items": null,
       "align_self": null,
       "border": null,
       "bottom": null,
       "display": null,
       "flex": null,
       "flex_flow": null,
       "grid_area": null,
       "grid_auto_columns": null,
       "grid_auto_flow": null,
       "grid_auto_rows": null,
       "grid_column": null,
       "grid_gap": null,
       "grid_row": null,
       "grid_template_areas": null,
       "grid_template_columns": null,
       "grid_template_rows": null,
       "height": null,
       "justify_content": null,
       "justify_items": null,
       "left": null,
       "margin": null,
       "max_height": null,
       "max_width": null,
       "min_height": null,
       "min_width": null,
       "object_fit": null,
       "object_position": null,
       "order": null,
       "overflow": null,
       "overflow_x": null,
       "overflow_y": null,
       "padding": null,
       "right": null,
       "top": null,
       "visibility": null,
       "width": null
      }
     },
     "b48dc6de0c4b4f8cb28f7fdb8c83a080": {
      "model_module": "@jupyter-widgets/base",
      "model_module_version": "1.2.0",
      "model_name": "LayoutModel",
      "state": {
       "_model_module": "@jupyter-widgets/base",
       "_model_module_version": "1.2.0",
       "_model_name": "LayoutModel",
       "_view_count": null,
       "_view_module": "@jupyter-widgets/base",
       "_view_module_version": "1.2.0",
       "_view_name": "LayoutView",
       "align_content": null,
       "align_items": null,
       "align_self": null,
       "border": null,
       "bottom": null,
       "display": null,
       "flex": null,
       "flex_flow": null,
       "grid_area": null,
       "grid_auto_columns": null,
       "grid_auto_flow": null,
       "grid_auto_rows": null,
       "grid_column": null,
       "grid_gap": null,
       "grid_row": null,
       "grid_template_areas": null,
       "grid_template_columns": null,
       "grid_template_rows": null,
       "height": null,
       "justify_content": null,
       "justify_items": null,
       "left": null,
       "margin": null,
       "max_height": null,
       "max_width": null,
       "min_height": null,
       "min_width": null,
       "object_fit": null,
       "object_position": null,
       "order": null,
       "overflow": null,
       "overflow_x": null,
       "overflow_y": null,
       "padding": null,
       "right": null,
       "top": null,
       "visibility": null,
       "width": null
      }
     },
     "b4e93ab7ba654b8cb00aa45bc5dc5f6f": {
      "model_module": "@jupyter-widgets/controls",
      "model_module_version": "1.5.0",
      "model_name": "HTMLModel",
      "state": {
       "_dom_classes": [],
       "_model_module": "@jupyter-widgets/controls",
       "_model_module_version": "1.5.0",
       "_model_name": "HTMLModel",
       "_view_count": null,
       "_view_module": "@jupyter-widgets/controls",
       "_view_module_version": "1.5.0",
       "_view_name": "HTMLView",
       "description": "",
       "description_tooltip": null,
       "layout": "IPY_MODEL_a029dec1a3154c1da2221fa6c4db777c",
       "placeholder": "​",
       "style": "IPY_MODEL_31ba8fb6b26048dfb71d3be42b1d314d",
       "value": " 111/111 [00:00&lt;00:00, 9.07kB/s]"
      }
     },
     "b5ef85fe0117459c8f73ead5b91ccd5c": {
      "model_module": "@jupyter-widgets/controls",
      "model_module_version": "1.5.0",
      "model_name": "ProgressStyleModel",
      "state": {
       "_model_module": "@jupyter-widgets/controls",
       "_model_module_version": "1.5.0",
       "_model_name": "ProgressStyleModel",
       "_view_count": null,
       "_view_module": "@jupyter-widgets/base",
       "_view_module_version": "1.2.0",
       "_view_name": "StyleView",
       "bar_color": null,
       "description_width": ""
      }
     },
     "b6c14cd70d2b4b1da634526287828a84": {
      "model_module": "@jupyter-widgets/controls",
      "model_module_version": "1.5.0",
      "model_name": "HTMLModel",
      "state": {
       "_dom_classes": [],
       "_model_module": "@jupyter-widgets/controls",
       "_model_module_version": "1.5.0",
       "_model_name": "HTMLModel",
       "_view_count": null,
       "_view_module": "@jupyter-widgets/controls",
       "_view_module_version": "1.5.0",
       "_view_name": "HTMLView",
       "description": "",
       "description_tooltip": null,
       "layout": "IPY_MODEL_d73bdcd718544c32a8827de2e82e9aaf",
       "placeholder": "​",
       "style": "IPY_MODEL_aec25495c5d149b993bab62a6b9458b4",
       "value": "Loading checkpoint shards: 100%"
      }
     },
     "b772ccd776594990bcefe0330a474f14": {
      "model_module": "@jupyter-widgets/controls",
      "model_module_version": "1.5.0",
      "model_name": "HBoxModel",
      "state": {
       "_dom_classes": [],
       "_model_module": "@jupyter-widgets/controls",
       "_model_module_version": "1.5.0",
       "_model_name": "HBoxModel",
       "_view_count": null,
       "_view_module": "@jupyter-widgets/controls",
       "_view_module_version": "1.5.0",
       "_view_name": "HBoxView",
       "box_style": "",
       "children": [
        "IPY_MODEL_e0bff8f8fb2248909b29263100f61249",
        "IPY_MODEL_d7971efcdf884b45aaf2ac117e78048a",
        "IPY_MODEL_00835aec824e40c29c459df61641969a"
       ],
       "layout": "IPY_MODEL_a84e1045921b4258b24923c9888dca9c"
      }
     },
     "b7dba99d889d434f873d3b4728734128": {
      "model_module": "@jupyter-widgets/controls",
      "model_module_version": "1.5.0",
      "model_name": "FloatProgressModel",
      "state": {
       "_dom_classes": [],
       "_model_module": "@jupyter-widgets/controls",
       "_model_module_version": "1.5.0",
       "_model_name": "FloatProgressModel",
       "_view_count": null,
       "_view_module": "@jupyter-widgets/controls",
       "_view_module_version": "1.5.0",
       "_view_name": "ProgressView",
       "bar_style": "success",
       "description": "",
       "description_tooltip": null,
       "layout": "IPY_MODEL_d262d1d408454185a59bb3d2420d9ec1",
       "max": 3.0,
       "min": 0.0,
       "orientation": "horizontal",
       "style": "IPY_MODEL_2979e9aacdd849cb9028b013e7f225b7",
       "value": 3.0
      }
     },
     "b8042e83bd0f4e2386d90103b9bd536f": {
      "model_module": "@jupyter-widgets/controls",
      "model_module_version": "1.5.0",
      "model_name": "HTMLModel",
      "state": {
       "_dom_classes": [],
       "_model_module": "@jupyter-widgets/controls",
       "_model_module_version": "1.5.0",
       "_model_name": "HTMLModel",
       "_view_count": null,
       "_view_module": "@jupyter-widgets/controls",
       "_view_module_version": "1.5.0",
       "_view_name": "HTMLView",
       "description": "",
       "description_tooltip": null,
       "layout": "IPY_MODEL_171a98ab07294e5c9cc33dd8354aac8e",
       "placeholder": "​",
       "style": "IPY_MODEL_7db9beb00c2d4984adab8211851a90d4",
       "value": " 596/596 [00:00&lt;00:00, 35.3kB/s]"
      }
     },
     "b82d92f079994df9876e8685f5f369c9": {
      "model_module": "@jupyter-widgets/controls",
      "model_module_version": "1.5.0",
      "model_name": "FloatProgressModel",
      "state": {
       "_dom_classes": [],
       "_model_module": "@jupyter-widgets/controls",
       "_model_module_version": "1.5.0",
       "_model_name": "FloatProgressModel",
       "_view_count": null,
       "_view_module": "@jupyter-widgets/controls",
       "_view_module_version": "1.5.0",
       "_view_name": "ProgressView",
       "bar_style": "success",
       "description": "",
       "description_tooltip": null,
       "layout": "IPY_MODEL_5fb02d50274b474cb35fe1ce11d66a7d",
       "max": 3.0,
       "min": 0.0,
       "orientation": "horizontal",
       "style": "IPY_MODEL_d57cf419b77f4c7aa648d73d04cdd89e",
       "value": 3.0
      }
     },
     "b8d8848e04dc4312aec4687a3ad70c93": {
      "model_module": "@jupyter-widgets/controls",
      "model_module_version": "1.5.0",
      "model_name": "HBoxModel",
      "state": {
       "_dom_classes": [],
       "_model_module": "@jupyter-widgets/controls",
       "_model_module_version": "1.5.0",
       "_model_name": "HBoxModel",
       "_view_count": null,
       "_view_module": "@jupyter-widgets/controls",
       "_view_module_version": "1.5.0",
       "_view_name": "HBoxView",
       "box_style": "",
       "children": [
        "IPY_MODEL_abeb28f5baa34623b40a925b820299bd",
        "IPY_MODEL_6fa51e314f5c41a8b981f31bcf922516",
        "IPY_MODEL_891a55bc0aa44319bc4979d4114d2068"
       ],
       "layout": "IPY_MODEL_6889b565581843529ffa24aab5ff403b"
      }
     },
     "b918e253ecc44e2ba7e87119cf68eb05": {
      "model_module": "@jupyter-widgets/base",
      "model_module_version": "1.2.0",
      "model_name": "LayoutModel",
      "state": {
       "_model_module": "@jupyter-widgets/base",
       "_model_module_version": "1.2.0",
       "_model_name": "LayoutModel",
       "_view_count": null,
       "_view_module": "@jupyter-widgets/base",
       "_view_module_version": "1.2.0",
       "_view_name": "LayoutView",
       "align_content": null,
       "align_items": null,
       "align_self": null,
       "border": null,
       "bottom": null,
       "display": null,
       "flex": null,
       "flex_flow": null,
       "grid_area": null,
       "grid_auto_columns": null,
       "grid_auto_flow": null,
       "grid_auto_rows": null,
       "grid_column": null,
       "grid_gap": null,
       "grid_row": null,
       "grid_template_areas": null,
       "grid_template_columns": null,
       "grid_template_rows": null,
       "height": null,
       "justify_content": null,
       "justify_items": null,
       "left": null,
       "margin": null,
       "max_height": null,
       "max_width": null,
       "min_height": null,
       "min_width": null,
       "object_fit": null,
       "object_position": null,
       "order": null,
       "overflow": null,
       "overflow_x": null,
       "overflow_y": null,
       "padding": null,
       "right": null,
       "top": null,
       "visibility": null,
       "width": null
      }
     },
     "bc2275aac4e644c29de14e6f304c78af": {
      "model_module": "@jupyter-widgets/controls",
      "model_module_version": "1.5.0",
      "model_name": "HTMLModel",
      "state": {
       "_dom_classes": [],
       "_model_module": "@jupyter-widgets/controls",
       "_model_module_version": "1.5.0",
       "_model_name": "HTMLModel",
       "_view_count": null,
       "_view_module": "@jupyter-widgets/controls",
       "_view_module_version": "1.5.0",
       "_view_name": "HTMLView",
       "description": "",
       "description_tooltip": null,
       "layout": "IPY_MODEL_573dd80e2f2b4726b8c39d0294538ced",
       "placeholder": "​",
       "style": "IPY_MODEL_359af4fee0fd4764a075e683eea0b1ef",
       "value": " 3/3 [00:11&lt;00:00,  3.74s/it]"
      }
     },
     "bfe6e68589994b10af5aa8847c79c73f": {
      "model_module": "@jupyter-widgets/base",
      "model_module_version": "1.2.0",
      "model_name": "LayoutModel",
      "state": {
       "_model_module": "@jupyter-widgets/base",
       "_model_module_version": "1.2.0",
       "_model_name": "LayoutModel",
       "_view_count": null,
       "_view_module": "@jupyter-widgets/base",
       "_view_module_version": "1.2.0",
       "_view_name": "LayoutView",
       "align_content": null,
       "align_items": null,
       "align_self": null,
       "border": null,
       "bottom": null,
       "display": null,
       "flex": null,
       "flex_flow": null,
       "grid_area": null,
       "grid_auto_columns": null,
       "grid_auto_flow": null,
       "grid_auto_rows": null,
       "grid_column": null,
       "grid_gap": null,
       "grid_row": null,
       "grid_template_areas": null,
       "grid_template_columns": null,
       "grid_template_rows": null,
       "height": null,
       "justify_content": null,
       "justify_items": null,
       "left": null,
       "margin": null,
       "max_height": null,
       "max_width": null,
       "min_height": null,
       "min_width": null,
       "object_fit": null,
       "object_position": null,
       "order": null,
       "overflow": null,
       "overflow_x": null,
       "overflow_y": null,
       "padding": null,
       "right": null,
       "top": null,
       "visibility": null,
       "width": null
      }
     },
     "c01e5ed2651045fc87c0e24cb37c96a8": {
      "model_module": "@jupyter-widgets/controls",
      "model_module_version": "1.5.0",
      "model_name": "FloatProgressModel",
      "state": {
       "_dom_classes": [],
       "_model_module": "@jupyter-widgets/controls",
       "_model_module_version": "1.5.0",
       "_model_name": "FloatProgressModel",
       "_view_count": null,
       "_view_module": "@jupyter-widgets/controls",
       "_view_module_version": "1.5.0",
       "_view_name": "ProgressView",
       "bar_style": "success",
       "description": "",
       "description_tooltip": null,
       "layout": "IPY_MODEL_2a76317730a240fb9a5c6c87914f8659",
       "max": 3.0,
       "min": 0.0,
       "orientation": "horizontal",
       "style": "IPY_MODEL_21ecb74bb9154ac1bbdffee40d394d6c",
       "value": 3.0
      }
     },
     "c2182be3d27146a5b88203a98f1c63af": {
      "model_module": "@jupyter-widgets/controls",
      "model_module_version": "1.5.0",
      "model_name": "ProgressStyleModel",
      "state": {
       "_model_module": "@jupyter-widgets/controls",
       "_model_module_version": "1.5.0",
       "_model_name": "ProgressStyleModel",
       "_view_count": null,
       "_view_module": "@jupyter-widgets/base",
       "_view_module_version": "1.2.0",
       "_view_name": "StyleView",
       "bar_color": null,
       "description_width": ""
      }
     },
     "c3ccb4d4cc514a2eaa4b226e6a945ec9": {
      "model_module": "@jupyter-widgets/base",
      "model_module_version": "1.2.0",
      "model_name": "LayoutModel",
      "state": {
       "_model_module": "@jupyter-widgets/base",
       "_model_module_version": "1.2.0",
       "_model_name": "LayoutModel",
       "_view_count": null,
       "_view_module": "@jupyter-widgets/base",
       "_view_module_version": "1.2.0",
       "_view_name": "LayoutView",
       "align_content": null,
       "align_items": null,
       "align_self": null,
       "border": null,
       "bottom": null,
       "display": null,
       "flex": null,
       "flex_flow": null,
       "grid_area": null,
       "grid_auto_columns": null,
       "grid_auto_flow": null,
       "grid_auto_rows": null,
       "grid_column": null,
       "grid_gap": null,
       "grid_row": null,
       "grid_template_areas": null,
       "grid_template_columns": null,
       "grid_template_rows": null,
       "height": null,
       "justify_content": null,
       "justify_items": null,
       "left": null,
       "margin": null,
       "max_height": null,
       "max_width": null,
       "min_height": null,
       "min_width": null,
       "object_fit": null,
       "object_position": null,
       "order": null,
       "overflow": null,
       "overflow_x": null,
       "overflow_y": null,
       "padding": null,
       "right": null,
       "top": null,
       "visibility": null,
       "width": null
      }
     },
     "c5fff18f15884e9bae0ecdff59507718": {
      "model_module": "@jupyter-widgets/controls",
      "model_module_version": "1.5.0",
      "model_name": "HBoxModel",
      "state": {
       "_dom_classes": [],
       "_model_module": "@jupyter-widgets/controls",
       "_model_module_version": "1.5.0",
       "_model_name": "HBoxModel",
       "_view_count": null,
       "_view_module": "@jupyter-widgets/controls",
       "_view_module_version": "1.5.0",
       "_view_name": "HBoxView",
       "box_style": "",
       "children": [
        "IPY_MODEL_0c82c8c60d13465f91e7d3e14da12a23",
        "IPY_MODEL_d4bdecf56a2b47548985c2a3de03ff60",
        "IPY_MODEL_fdddd00a009b46a8a9c8863c645a7a5f"
       ],
       "layout": "IPY_MODEL_6664d7437ebb41df80eca77e09b3eec3"
      }
     },
     "ca7521a5f4bc4006afd90852fdc3a731": {
      "model_module": "@jupyter-widgets/base",
      "model_module_version": "1.2.0",
      "model_name": "LayoutModel",
      "state": {
       "_model_module": "@jupyter-widgets/base",
       "_model_module_version": "1.2.0",
       "_model_name": "LayoutModel",
       "_view_count": null,
       "_view_module": "@jupyter-widgets/base",
       "_view_module_version": "1.2.0",
       "_view_name": "LayoutView",
       "align_content": null,
       "align_items": null,
       "align_self": null,
       "border": null,
       "bottom": null,
       "display": null,
       "flex": null,
       "flex_flow": null,
       "grid_area": null,
       "grid_auto_columns": null,
       "grid_auto_flow": null,
       "grid_auto_rows": null,
       "grid_column": null,
       "grid_gap": null,
       "grid_row": null,
       "grid_template_areas": null,
       "grid_template_columns": null,
       "grid_template_rows": null,
       "height": null,
       "justify_content": null,
       "justify_items": null,
       "left": null,
       "margin": null,
       "max_height": null,
       "max_width": null,
       "min_height": null,
       "min_width": null,
       "object_fit": null,
       "object_position": null,
       "order": null,
       "overflow": null,
       "overflow_x": null,
       "overflow_y": null,
       "padding": null,
       "right": null,
       "top": null,
       "visibility": null,
       "width": null
      }
     },
     "cca1cf932f53488bb573f1f92cd2d0f4": {
      "model_module": "@jupyter-widgets/controls",
      "model_module_version": "1.5.0",
      "model_name": "HTMLModel",
      "state": {
       "_dom_classes": [],
       "_model_module": "@jupyter-widgets/controls",
       "_model_module_version": "1.5.0",
       "_model_name": "HTMLModel",
       "_view_count": null,
       "_view_module": "@jupyter-widgets/controls",
       "_view_module_version": "1.5.0",
       "_view_name": "HTMLView",
       "description": "",
       "description_tooltip": null,
       "layout": "IPY_MODEL_6a16aaf80cb54e98b037b357b5c4d116",
       "placeholder": "​",
       "style": "IPY_MODEL_9d2e2c7716d840f7b028fa6ccc0d4a7c",
       "value": "Loading checkpoint shards: 100%"
      }
     },
     "cd3f92e25c6447c4b9140f7079e81a3d": {
      "model_module": "@jupyter-widgets/controls",
      "model_module_version": "1.5.0",
      "model_name": "DescriptionStyleModel",
      "state": {
       "_model_module": "@jupyter-widgets/controls",
       "_model_module_version": "1.5.0",
       "_model_name": "DescriptionStyleModel",
       "_view_count": null,
       "_view_module": "@jupyter-widgets/base",
       "_view_module_version": "1.2.0",
       "_view_name": "StyleView",
       "description_width": ""
      }
     },
     "cdfdf0cd95a04b87937c881c8b29f75a": {
      "model_module": "@jupyter-widgets/controls",
      "model_module_version": "1.5.0",
      "model_name": "HTMLModel",
      "state": {
       "_dom_classes": [],
       "_model_module": "@jupyter-widgets/controls",
       "_model_module_version": "1.5.0",
       "_model_name": "HTMLModel",
       "_view_count": null,
       "_view_module": "@jupyter-widgets/controls",
       "_view_module_version": "1.5.0",
       "_view_name": "HTMLView",
       "description": "",
       "description_tooltip": null,
       "layout": "IPY_MODEL_b48dc6de0c4b4f8cb28f7fdb8c83a080",
       "placeholder": "​",
       "style": "IPY_MODEL_3e5898df49a843499e8709228da75093",
       "value": " 3/3 [00:11&lt;00:00,  3.67s/it]"
      }
     },
     "cec0fd13b7214a96abf2059cdaad696b": {
      "model_module": "@jupyter-widgets/controls",
      "model_module_version": "1.5.0",
      "model_name": "ProgressStyleModel",
      "state": {
       "_model_module": "@jupyter-widgets/controls",
       "_model_module_version": "1.5.0",
       "_model_name": "ProgressStyleModel",
       "_view_count": null,
       "_view_module": "@jupyter-widgets/base",
       "_view_module_version": "1.2.0",
       "_view_name": "StyleView",
       "bar_color": null,
       "description_width": ""
      }
     },
     "cf9b62403b7f46128303feb40d34e785": {
      "model_module": "@jupyter-widgets/base",
      "model_module_version": "1.2.0",
      "model_name": "LayoutModel",
      "state": {
       "_model_module": "@jupyter-widgets/base",
       "_model_module_version": "1.2.0",
       "_model_name": "LayoutModel",
       "_view_count": null,
       "_view_module": "@jupyter-widgets/base",
       "_view_module_version": "1.2.0",
       "_view_name": "LayoutView",
       "align_content": null,
       "align_items": null,
       "align_self": null,
       "border": null,
       "bottom": null,
       "display": null,
       "flex": null,
       "flex_flow": null,
       "grid_area": null,
       "grid_auto_columns": null,
       "grid_auto_flow": null,
       "grid_auto_rows": null,
       "grid_column": null,
       "grid_gap": null,
       "grid_row": null,
       "grid_template_areas": null,
       "grid_template_columns": null,
       "grid_template_rows": null,
       "height": null,
       "justify_content": null,
       "justify_items": null,
       "left": null,
       "margin": null,
       "max_height": null,
       "max_width": null,
       "min_height": null,
       "min_width": null,
       "object_fit": null,
       "object_position": null,
       "order": null,
       "overflow": null,
       "overflow_x": null,
       "overflow_y": null,
       "padding": null,
       "right": null,
       "top": null,
       "visibility": null,
       "width": null
      }
     },
     "d04f92e1a169446da43cc08a26450894": {
      "model_module": "@jupyter-widgets/controls",
      "model_module_version": "1.5.0",
      "model_name": "HTMLModel",
      "state": {
       "_dom_classes": [],
       "_model_module": "@jupyter-widgets/controls",
       "_model_module_version": "1.5.0",
       "_model_name": "HTMLModel",
       "_view_count": null,
       "_view_module": "@jupyter-widgets/controls",
       "_view_module_version": "1.5.0",
       "_view_name": "HTMLView",
       "description": "",
       "description_tooltip": null,
       "layout": "IPY_MODEL_0202016a1d974c479a8995f04f679b69",
       "placeholder": "​",
       "style": "IPY_MODEL_611a262fe5cf43cb9d6eab1028d079d1",
       "value": "model-00003-of-00003.safetensors: 100%"
      }
     },
     "d063985e301445b78df2a4d5e403da74": {
      "model_module": "@jupyter-widgets/controls",
      "model_module_version": "1.5.0",
      "model_name": "DescriptionStyleModel",
      "state": {
       "_model_module": "@jupyter-widgets/controls",
       "_model_module_version": "1.5.0",
       "_model_name": "DescriptionStyleModel",
       "_view_count": null,
       "_view_module": "@jupyter-widgets/base",
       "_view_module_version": "1.2.0",
       "_view_name": "StyleView",
       "description_width": ""
      }
     },
     "d242073ce76c4435837be1847d7df519": {
      "model_module": "@jupyter-widgets/controls",
      "model_module_version": "1.5.0",
      "model_name": "HTMLModel",
      "state": {
       "_dom_classes": [],
       "_model_module": "@jupyter-widgets/controls",
       "_model_module_version": "1.5.0",
       "_model_name": "HTMLModel",
       "_view_count": null,
       "_view_module": "@jupyter-widgets/controls",
       "_view_module_version": "1.5.0",
       "_view_name": "HTMLView",
       "description": "",
       "description_tooltip": null,
       "layout": "IPY_MODEL_c3ccb4d4cc514a2eaa4b226e6a945ec9",
       "placeholder": "​",
       "style": "IPY_MODEL_d839b599c69d4adda4919161381bc034",
       "value": " 3/3 [00:12&lt;00:00,  4.14s/it]"
      }
     },
     "d262d1d408454185a59bb3d2420d9ec1": {
      "model_module": "@jupyter-widgets/base",
      "model_module_version": "1.2.0",
      "model_name": "LayoutModel",
      "state": {
       "_model_module": "@jupyter-widgets/base",
       "_model_module_version": "1.2.0",
       "_model_name": "LayoutModel",
       "_view_count": null,
       "_view_module": "@jupyter-widgets/base",
       "_view_module_version": "1.2.0",
       "_view_name": "LayoutView",
       "align_content": null,
       "align_items": null,
       "align_self": null,
       "border": null,
       "bottom": null,
       "display": null,
       "flex": null,
       "flex_flow": null,
       "grid_area": null,
       "grid_auto_columns": null,
       "grid_auto_flow": null,
       "grid_auto_rows": null,
       "grid_column": null,
       "grid_gap": null,
       "grid_row": null,
       "grid_template_areas": null,
       "grid_template_columns": null,
       "grid_template_rows": null,
       "height": null,
       "justify_content": null,
       "justify_items": null,
       "left": null,
       "margin": null,
       "max_height": null,
       "max_width": null,
       "min_height": null,
       "min_width": null,
       "object_fit": null,
       "object_position": null,
       "order": null,
       "overflow": null,
       "overflow_x": null,
       "overflow_y": null,
       "padding": null,
       "right": null,
       "top": null,
       "visibility": null,
       "width": null
      }
     },
     "d2c7a71e46f74daa80820f527f1686e7": {
      "model_module": "@jupyter-widgets/base",
      "model_module_version": "1.2.0",
      "model_name": "LayoutModel",
      "state": {
       "_model_module": "@jupyter-widgets/base",
       "_model_module_version": "1.2.0",
       "_model_name": "LayoutModel",
       "_view_count": null,
       "_view_module": "@jupyter-widgets/base",
       "_view_module_version": "1.2.0",
       "_view_name": "LayoutView",
       "align_content": null,
       "align_items": null,
       "align_self": null,
       "border": null,
       "bottom": null,
       "display": null,
       "flex": null,
       "flex_flow": null,
       "grid_area": null,
       "grid_auto_columns": null,
       "grid_auto_flow": null,
       "grid_auto_rows": null,
       "grid_column": null,
       "grid_gap": null,
       "grid_row": null,
       "grid_template_areas": null,
       "grid_template_columns": null,
       "grid_template_rows": null,
       "height": null,
       "justify_content": null,
       "justify_items": null,
       "left": null,
       "margin": null,
       "max_height": null,
       "max_width": null,
       "min_height": null,
       "min_width": null,
       "object_fit": null,
       "object_position": null,
       "order": null,
       "overflow": null,
       "overflow_x": null,
       "overflow_y": null,
       "padding": null,
       "right": null,
       "top": null,
       "visibility": null,
       "width": null
      }
     },
     "d38a824368b2447190653be44fc44d18": {
      "model_module": "@jupyter-widgets/controls",
      "model_module_version": "1.5.0",
      "model_name": "HBoxModel",
      "state": {
       "_dom_classes": [],
       "_model_module": "@jupyter-widgets/controls",
       "_model_module_version": "1.5.0",
       "_model_name": "HBoxModel",
       "_view_count": null,
       "_view_module": "@jupyter-widgets/controls",
       "_view_module_version": "1.5.0",
       "_view_name": "HBoxView",
       "box_style": "",
       "children": [
        "IPY_MODEL_62c0646b9d984495b2f43565d020ec9b",
        "IPY_MODEL_5b764725f43945658494b6455c5e9d38",
        "IPY_MODEL_b4e93ab7ba654b8cb00aa45bc5dc5f6f"
       ],
       "layout": "IPY_MODEL_7b74cbe0e5f043dfafe8507bc3a4f121"
      }
     },
     "d392b16b3a7949d79fb5136d0fc99e3f": {
      "model_module": "@jupyter-widgets/controls",
      "model_module_version": "1.5.0",
      "model_name": "DescriptionStyleModel",
      "state": {
       "_model_module": "@jupyter-widgets/controls",
       "_model_module_version": "1.5.0",
       "_model_name": "DescriptionStyleModel",
       "_view_count": null,
       "_view_module": "@jupyter-widgets/base",
       "_view_module_version": "1.2.0",
       "_view_name": "StyleView",
       "description_width": ""
      }
     },
     "d3b62ef11b4248b3a887cb4c519a49b9": {
      "model_module": "@jupyter-widgets/controls",
      "model_module_version": "1.5.0",
      "model_name": "HTMLModel",
      "state": {
       "_dom_classes": [],
       "_model_module": "@jupyter-widgets/controls",
       "_model_module_version": "1.5.0",
       "_model_name": "HTMLModel",
       "_view_count": null,
       "_view_module": "@jupyter-widgets/controls",
       "_view_module_version": "1.5.0",
       "_view_name": "HTMLView",
       "description": "",
       "description_tooltip": null,
       "layout": "IPY_MODEL_d534c4e0009140feb70310e99d067fa3",
       "placeholder": "​",
       "style": "IPY_MODEL_b2c362f763854c57b747a5608a793e57",
       "value": "model.safetensors.index.json: 100%"
      }
     },
     "d42168ed7dc943ee8e49823d1a0fb2c7": {
      "model_module": "@jupyter-widgets/base",
      "model_module_version": "1.2.0",
      "model_name": "LayoutModel",
      "state": {
       "_model_module": "@jupyter-widgets/base",
       "_model_module_version": "1.2.0",
       "_model_name": "LayoutModel",
       "_view_count": null,
       "_view_module": "@jupyter-widgets/base",
       "_view_module_version": "1.2.0",
       "_view_name": "LayoutView",
       "align_content": null,
       "align_items": null,
       "align_self": null,
       "border": null,
       "bottom": null,
       "display": null,
       "flex": null,
       "flex_flow": null,
       "grid_area": null,
       "grid_auto_columns": null,
       "grid_auto_flow": null,
       "grid_auto_rows": null,
       "grid_column": null,
       "grid_gap": null,
       "grid_row": null,
       "grid_template_areas": null,
       "grid_template_columns": null,
       "grid_template_rows": null,
       "height": null,
       "justify_content": null,
       "justify_items": null,
       "left": null,
       "margin": null,
       "max_height": null,
       "max_width": null,
       "min_height": null,
       "min_width": null,
       "object_fit": null,
       "object_position": null,
       "order": null,
       "overflow": null,
       "overflow_x": null,
       "overflow_y": null,
       "padding": null,
       "right": null,
       "top": null,
       "visibility": null,
       "width": null
      }
     },
     "d4bdecf56a2b47548985c2a3de03ff60": {
      "model_module": "@jupyter-widgets/controls",
      "model_module_version": "1.5.0",
      "model_name": "FloatProgressModel",
      "state": {
       "_dom_classes": [],
       "_model_module": "@jupyter-widgets/controls",
       "_model_module_version": "1.5.0",
       "_model_name": "FloatProgressModel",
       "_view_count": null,
       "_view_module": "@jupyter-widgets/controls",
       "_view_module_version": "1.5.0",
       "_view_name": "ProgressView",
       "bar_style": "success",
       "description": "",
       "description_tooltip": null,
       "layout": "IPY_MODEL_4b5f701728a84d31bfe7e5bf9f3c49c3",
       "max": 3.0,
       "min": 0.0,
       "orientation": "horizontal",
       "style": "IPY_MODEL_50cac9c92d234c6aa7adfd6c42e7a391",
       "value": 3.0
      }
     },
     "d534c4e0009140feb70310e99d067fa3": {
      "model_module": "@jupyter-widgets/base",
      "model_module_version": "1.2.0",
      "model_name": "LayoutModel",
      "state": {
       "_model_module": "@jupyter-widgets/base",
       "_model_module_version": "1.2.0",
       "_model_name": "LayoutModel",
       "_view_count": null,
       "_view_module": "@jupyter-widgets/base",
       "_view_module_version": "1.2.0",
       "_view_name": "LayoutView",
       "align_content": null,
       "align_items": null,
       "align_self": null,
       "border": null,
       "bottom": null,
       "display": null,
       "flex": null,
       "flex_flow": null,
       "grid_area": null,
       "grid_auto_columns": null,
       "grid_auto_flow": null,
       "grid_auto_rows": null,
       "grid_column": null,
       "grid_gap": null,
       "grid_row": null,
       "grid_template_areas": null,
       "grid_template_columns": null,
       "grid_template_rows": null,
       "height": null,
       "justify_content": null,
       "justify_items": null,
       "left": null,
       "margin": null,
       "max_height": null,
       "max_width": null,
       "min_height": null,
       "min_width": null,
       "object_fit": null,
       "object_position": null,
       "order": null,
       "overflow": null,
       "overflow_x": null,
       "overflow_y": null,
       "padding": null,
       "right": null,
       "top": null,
       "visibility": null,
       "width": null
      }
     },
     "d57cf419b77f4c7aa648d73d04cdd89e": {
      "model_module": "@jupyter-widgets/controls",
      "model_module_version": "1.5.0",
      "model_name": "ProgressStyleModel",
      "state": {
       "_model_module": "@jupyter-widgets/controls",
       "_model_module_version": "1.5.0",
       "_model_name": "ProgressStyleModel",
       "_view_count": null,
       "_view_module": "@jupyter-widgets/base",
       "_view_module_version": "1.2.0",
       "_view_name": "StyleView",
       "bar_color": null,
       "description_width": ""
      }
     },
     "d73bdcd718544c32a8827de2e82e9aaf": {
      "model_module": "@jupyter-widgets/base",
      "model_module_version": "1.2.0",
      "model_name": "LayoutModel",
      "state": {
       "_model_module": "@jupyter-widgets/base",
       "_model_module_version": "1.2.0",
       "_model_name": "LayoutModel",
       "_view_count": null,
       "_view_module": "@jupyter-widgets/base",
       "_view_module_version": "1.2.0",
       "_view_name": "LayoutView",
       "align_content": null,
       "align_items": null,
       "align_self": null,
       "border": null,
       "bottom": null,
       "display": null,
       "flex": null,
       "flex_flow": null,
       "grid_area": null,
       "grid_auto_columns": null,
       "grid_auto_flow": null,
       "grid_auto_rows": null,
       "grid_column": null,
       "grid_gap": null,
       "grid_row": null,
       "grid_template_areas": null,
       "grid_template_columns": null,
       "grid_template_rows": null,
       "height": null,
       "justify_content": null,
       "justify_items": null,
       "left": null,
       "margin": null,
       "max_height": null,
       "max_width": null,
       "min_height": null,
       "min_width": null,
       "object_fit": null,
       "object_position": null,
       "order": null,
       "overflow": null,
       "overflow_x": null,
       "overflow_y": null,
       "padding": null,
       "right": null,
       "top": null,
       "visibility": null,
       "width": null
      }
     },
     "d7971efcdf884b45aaf2ac117e78048a": {
      "model_module": "@jupyter-widgets/controls",
      "model_module_version": "1.5.0",
      "model_name": "FloatProgressModel",
      "state": {
       "_dom_classes": [],
       "_model_module": "@jupyter-widgets/controls",
       "_model_module_version": "1.5.0",
       "_model_name": "FloatProgressModel",
       "_view_count": null,
       "_view_module": "@jupyter-widgets/controls",
       "_view_module_version": "1.5.0",
       "_view_name": "ProgressView",
       "bar_style": "success",
       "description": "",
       "description_tooltip": null,
       "layout": "IPY_MODEL_4e3a0727386a45829122bdde2df96bd5",
       "max": 3.0,
       "min": 0.0,
       "orientation": "horizontal",
       "style": "IPY_MODEL_47135fe6d2eb402e97cd7bae503017ff",
       "value": 3.0
      }
     },
     "d82f9b3c598b45139241382cd3b4d4bb": {
      "model_module": "@jupyter-widgets/base",
      "model_module_version": "1.2.0",
      "model_name": "LayoutModel",
      "state": {
       "_model_module": "@jupyter-widgets/base",
       "_model_module_version": "1.2.0",
       "_model_name": "LayoutModel",
       "_view_count": null,
       "_view_module": "@jupyter-widgets/base",
       "_view_module_version": "1.2.0",
       "_view_name": "LayoutView",
       "align_content": null,
       "align_items": null,
       "align_self": null,
       "border": null,
       "bottom": null,
       "display": null,
       "flex": null,
       "flex_flow": null,
       "grid_area": null,
       "grid_auto_columns": null,
       "grid_auto_flow": null,
       "grid_auto_rows": null,
       "grid_column": null,
       "grid_gap": null,
       "grid_row": null,
       "grid_template_areas": null,
       "grid_template_columns": null,
       "grid_template_rows": null,
       "height": null,
       "justify_content": null,
       "justify_items": null,
       "left": null,
       "margin": null,
       "max_height": null,
       "max_width": null,
       "min_height": null,
       "min_width": null,
       "object_fit": null,
       "object_position": null,
       "order": null,
       "overflow": null,
       "overflow_x": null,
       "overflow_y": null,
       "padding": null,
       "right": null,
       "top": null,
       "visibility": null,
       "width": null
      }
     },
     "d839b599c69d4adda4919161381bc034": {
      "model_module": "@jupyter-widgets/controls",
      "model_module_version": "1.5.0",
      "model_name": "DescriptionStyleModel",
      "state": {
       "_model_module": "@jupyter-widgets/controls",
       "_model_module_version": "1.5.0",
       "_model_name": "DescriptionStyleModel",
       "_view_count": null,
       "_view_module": "@jupyter-widgets/base",
       "_view_module_version": "1.2.0",
       "_view_name": "StyleView",
       "description_width": ""
      }
     },
     "d855b7c3989d49cf9cc97feb3de25d87": {
      "model_module": "@jupyter-widgets/base",
      "model_module_version": "1.2.0",
      "model_name": "LayoutModel",
      "state": {
       "_model_module": "@jupyter-widgets/base",
       "_model_module_version": "1.2.0",
       "_model_name": "LayoutModel",
       "_view_count": null,
       "_view_module": "@jupyter-widgets/base",
       "_view_module_version": "1.2.0",
       "_view_name": "LayoutView",
       "align_content": null,
       "align_items": null,
       "align_self": null,
       "border": null,
       "bottom": null,
       "display": null,
       "flex": null,
       "flex_flow": null,
       "grid_area": null,
       "grid_auto_columns": null,
       "grid_auto_flow": null,
       "grid_auto_rows": null,
       "grid_column": null,
       "grid_gap": null,
       "grid_row": null,
       "grid_template_areas": null,
       "grid_template_columns": null,
       "grid_template_rows": null,
       "height": null,
       "justify_content": null,
       "justify_items": null,
       "left": null,
       "margin": null,
       "max_height": null,
       "max_width": null,
       "min_height": null,
       "min_width": null,
       "object_fit": null,
       "object_position": null,
       "order": null,
       "overflow": null,
       "overflow_x": null,
       "overflow_y": null,
       "padding": null,
       "right": null,
       "top": null,
       "visibility": null,
       "width": null
      }
     },
     "d94fb3b74bb244a5b757281ebb5a47d1": {
      "model_module": "@jupyter-widgets/controls",
      "model_module_version": "1.5.0",
      "model_name": "DescriptionStyleModel",
      "state": {
       "_model_module": "@jupyter-widgets/controls",
       "_model_module_version": "1.5.0",
       "_model_name": "DescriptionStyleModel",
       "_view_count": null,
       "_view_module": "@jupyter-widgets/base",
       "_view_module_version": "1.2.0",
       "_view_name": "StyleView",
       "description_width": ""
      }
     },
     "da2481abc3a644a383f704688e1931df": {
      "model_module": "@jupyter-widgets/base",
      "model_module_version": "1.2.0",
      "model_name": "LayoutModel",
      "state": {
       "_model_module": "@jupyter-widgets/base",
       "_model_module_version": "1.2.0",
       "_model_name": "LayoutModel",
       "_view_count": null,
       "_view_module": "@jupyter-widgets/base",
       "_view_module_version": "1.2.0",
       "_view_name": "LayoutView",
       "align_content": null,
       "align_items": null,
       "align_self": null,
       "border": null,
       "bottom": null,
       "display": null,
       "flex": null,
       "flex_flow": null,
       "grid_area": null,
       "grid_auto_columns": null,
       "grid_auto_flow": null,
       "grid_auto_rows": null,
       "grid_column": null,
       "grid_gap": null,
       "grid_row": null,
       "grid_template_areas": null,
       "grid_template_columns": null,
       "grid_template_rows": null,
       "height": null,
       "justify_content": null,
       "justify_items": null,
       "left": null,
       "margin": null,
       "max_height": null,
       "max_width": null,
       "min_height": null,
       "min_width": null,
       "object_fit": null,
       "object_position": null,
       "order": null,
       "overflow": null,
       "overflow_x": null,
       "overflow_y": null,
       "padding": null,
       "right": null,
       "top": null,
       "visibility": null,
       "width": null
      }
     },
     "dbc75b15ac4249cba7d4b8c26439c4b7": {
      "model_module": "@jupyter-widgets/controls",
      "model_module_version": "1.5.0",
      "model_name": "HBoxModel",
      "state": {
       "_dom_classes": [],
       "_model_module": "@jupyter-widgets/controls",
       "_model_module_version": "1.5.0",
       "_model_name": "HBoxModel",
       "_view_count": null,
       "_view_module": "@jupyter-widgets/controls",
       "_view_module_version": "1.5.0",
       "_view_name": "HBoxView",
       "box_style": "",
       "children": [
        "IPY_MODEL_3846b41fe9d04412b5d8e4bfa00cd1c6",
        "IPY_MODEL_b82d92f079994df9876e8685f5f369c9",
        "IPY_MODEL_7bf98a871a7649c898f024698dd80311"
       ],
       "layout": "IPY_MODEL_e091327a298c4b3c8d51205205aae970"
      }
     },
     "dd78a4395ecf49d29fec7a1078ce16bf": {
      "model_module": "@jupyter-widgets/controls",
      "model_module_version": "1.5.0",
      "model_name": "HBoxModel",
      "state": {
       "_dom_classes": [],
       "_model_module": "@jupyter-widgets/controls",
       "_model_module_version": "1.5.0",
       "_model_name": "HBoxModel",
       "_view_count": null,
       "_view_module": "@jupyter-widgets/controls",
       "_view_module_version": "1.5.0",
       "_view_name": "HBoxView",
       "box_style": "",
       "children": [
        "IPY_MODEL_6c9ec2671366436fade2681bc3850a0c",
        "IPY_MODEL_8eb4cdccc8ab42d38576ae45f2641514",
        "IPY_MODEL_f74901a6be9e44c9a64e1b5d823a5542"
       ],
       "layout": "IPY_MODEL_d855b7c3989d49cf9cc97feb3de25d87"
      }
     },
     "dd961d308a0f47078989e043ab9c286b": {
      "model_module": "@jupyter-widgets/controls",
      "model_module_version": "1.5.0",
      "model_name": "DescriptionStyleModel",
      "state": {
       "_model_module": "@jupyter-widgets/controls",
       "_model_module_version": "1.5.0",
       "_model_name": "DescriptionStyleModel",
       "_view_count": null,
       "_view_module": "@jupyter-widgets/base",
       "_view_module_version": "1.2.0",
       "_view_name": "StyleView",
       "description_width": ""
      }
     },
     "e005740e5ad24c81a1a02b0f14e02913": {
      "model_module": "@jupyter-widgets/base",
      "model_module_version": "1.2.0",
      "model_name": "LayoutModel",
      "state": {
       "_model_module": "@jupyter-widgets/base",
       "_model_module_version": "1.2.0",
       "_model_name": "LayoutModel",
       "_view_count": null,
       "_view_module": "@jupyter-widgets/base",
       "_view_module_version": "1.2.0",
       "_view_name": "LayoutView",
       "align_content": null,
       "align_items": null,
       "align_self": null,
       "border": null,
       "bottom": null,
       "display": null,
       "flex": null,
       "flex_flow": null,
       "grid_area": null,
       "grid_auto_columns": null,
       "grid_auto_flow": null,
       "grid_auto_rows": null,
       "grid_column": null,
       "grid_gap": null,
       "grid_row": null,
       "grid_template_areas": null,
       "grid_template_columns": null,
       "grid_template_rows": null,
       "height": null,
       "justify_content": null,
       "justify_items": null,
       "left": null,
       "margin": null,
       "max_height": null,
       "max_width": null,
       "min_height": null,
       "min_width": null,
       "object_fit": null,
       "object_position": null,
       "order": null,
       "overflow": null,
       "overflow_x": null,
       "overflow_y": null,
       "padding": null,
       "right": null,
       "top": null,
       "visibility": null,
       "width": null
      }
     },
     "e091327a298c4b3c8d51205205aae970": {
      "model_module": "@jupyter-widgets/base",
      "model_module_version": "1.2.0",
      "model_name": "LayoutModel",
      "state": {
       "_model_module": "@jupyter-widgets/base",
       "_model_module_version": "1.2.0",
       "_model_name": "LayoutModel",
       "_view_count": null,
       "_view_module": "@jupyter-widgets/base",
       "_view_module_version": "1.2.0",
       "_view_name": "LayoutView",
       "align_content": null,
       "align_items": null,
       "align_self": null,
       "border": null,
       "bottom": null,
       "display": null,
       "flex": null,
       "flex_flow": null,
       "grid_area": null,
       "grid_auto_columns": null,
       "grid_auto_flow": null,
       "grid_auto_rows": null,
       "grid_column": null,
       "grid_gap": null,
       "grid_row": null,
       "grid_template_areas": null,
       "grid_template_columns": null,
       "grid_template_rows": null,
       "height": null,
       "justify_content": null,
       "justify_items": null,
       "left": null,
       "margin": null,
       "max_height": null,
       "max_width": null,
       "min_height": null,
       "min_width": null,
       "object_fit": null,
       "object_position": null,
       "order": null,
       "overflow": null,
       "overflow_x": null,
       "overflow_y": null,
       "padding": null,
       "right": null,
       "top": null,
       "visibility": null,
       "width": null
      }
     },
     "e0bff8f8fb2248909b29263100f61249": {
      "model_module": "@jupyter-widgets/controls",
      "model_module_version": "1.5.0",
      "model_name": "HTMLModel",
      "state": {
       "_dom_classes": [],
       "_model_module": "@jupyter-widgets/controls",
       "_model_module_version": "1.5.0",
       "_model_name": "HTMLModel",
       "_view_count": null,
       "_view_module": "@jupyter-widgets/controls",
       "_view_module_version": "1.5.0",
       "_view_name": "HTMLView",
       "description": "",
       "description_tooltip": null,
       "layout": "IPY_MODEL_159ac36a34344438a0bf5e2e8f5b1363",
       "placeholder": "​",
       "style": "IPY_MODEL_35a6b8e6a2cf4c608eb32c90deff8469",
       "value": "Loading checkpoint shards: 100%"
      }
     },
     "e15e5dfddb4e42388d0050d9104dbe9c": {
      "model_module": "@jupyter-widgets/base",
      "model_module_version": "1.2.0",
      "model_name": "LayoutModel",
      "state": {
       "_model_module": "@jupyter-widgets/base",
       "_model_module_version": "1.2.0",
       "_model_name": "LayoutModel",
       "_view_count": null,
       "_view_module": "@jupyter-widgets/base",
       "_view_module_version": "1.2.0",
       "_view_name": "LayoutView",
       "align_content": null,
       "align_items": null,
       "align_self": null,
       "border": null,
       "bottom": null,
       "display": null,
       "flex": null,
       "flex_flow": null,
       "grid_area": null,
       "grid_auto_columns": null,
       "grid_auto_flow": null,
       "grid_auto_rows": null,
       "grid_column": null,
       "grid_gap": null,
       "grid_row": null,
       "grid_template_areas": null,
       "grid_template_columns": null,
       "grid_template_rows": null,
       "height": null,
       "justify_content": null,
       "justify_items": null,
       "left": null,
       "margin": null,
       "max_height": null,
       "max_width": null,
       "min_height": null,
       "min_width": null,
       "object_fit": null,
       "object_position": null,
       "order": null,
       "overflow": null,
       "overflow_x": null,
       "overflow_y": null,
       "padding": null,
       "right": null,
       "top": null,
       "visibility": null,
       "width": null
      }
     },
     "e23ae3f2f9a8421e98f23ea1defbefcc": {
      "model_module": "@jupyter-widgets/controls",
      "model_module_version": "1.5.0",
      "model_name": "DescriptionStyleModel",
      "state": {
       "_model_module": "@jupyter-widgets/controls",
       "_model_module_version": "1.5.0",
       "_model_name": "DescriptionStyleModel",
       "_view_count": null,
       "_view_module": "@jupyter-widgets/base",
       "_view_module_version": "1.2.0",
       "_view_name": "StyleView",
       "description_width": ""
      }
     },
     "e2b17b40e70b402c874cf1538e53b019": {
      "model_module": "@jupyter-widgets/controls",
      "model_module_version": "1.5.0",
      "model_name": "DescriptionStyleModel",
      "state": {
       "_model_module": "@jupyter-widgets/controls",
       "_model_module_version": "1.5.0",
       "_model_name": "DescriptionStyleModel",
       "_view_count": null,
       "_view_module": "@jupyter-widgets/base",
       "_view_module_version": "1.2.0",
       "_view_name": "StyleView",
       "description_width": ""
      }
     },
     "e3b00b6efe3b4629953125ac8ae09072": {
      "model_module": "@jupyter-widgets/controls",
      "model_module_version": "1.5.0",
      "model_name": "HTMLModel",
      "state": {
       "_dom_classes": [],
       "_model_module": "@jupyter-widgets/controls",
       "_model_module_version": "1.5.0",
       "_model_name": "HTMLModel",
       "_view_count": null,
       "_view_module": "@jupyter-widgets/controls",
       "_view_module_version": "1.5.0",
       "_view_name": "HTMLView",
       "description": "",
       "description_tooltip": null,
       "layout": "IPY_MODEL_741f472dffe042fc851b4f49594b15c3",
       "placeholder": "​",
       "style": "IPY_MODEL_f94d7bcd89c14f4fbfdcdf1b7588bff9",
       "value": "Loading checkpoint shards: 100%"
      }
     },
     "e3d3bbd18fc945cb87d6ce7f23ede51a": {
      "model_module": "@jupyter-widgets/base",
      "model_module_version": "1.2.0",
      "model_name": "LayoutModel",
      "state": {
       "_model_module": "@jupyter-widgets/base",
       "_model_module_version": "1.2.0",
       "_model_name": "LayoutModel",
       "_view_count": null,
       "_view_module": "@jupyter-widgets/base",
       "_view_module_version": "1.2.0",
       "_view_name": "LayoutView",
       "align_content": null,
       "align_items": null,
       "align_self": null,
       "border": null,
       "bottom": null,
       "display": null,
       "flex": null,
       "flex_flow": null,
       "grid_area": null,
       "grid_auto_columns": null,
       "grid_auto_flow": null,
       "grid_auto_rows": null,
       "grid_column": null,
       "grid_gap": null,
       "grid_row": null,
       "grid_template_areas": null,
       "grid_template_columns": null,
       "grid_template_rows": null,
       "height": null,
       "justify_content": null,
       "justify_items": null,
       "left": null,
       "margin": null,
       "max_height": null,
       "max_width": null,
       "min_height": null,
       "min_width": null,
       "object_fit": null,
       "object_position": null,
       "order": null,
       "overflow": null,
       "overflow_x": null,
       "overflow_y": null,
       "padding": null,
       "right": null,
       "top": null,
       "visibility": null,
       "width": null
      }
     },
     "e3fecbc35b92455992539d2615eb915d": {
      "model_module": "@jupyter-widgets/base",
      "model_module_version": "1.2.0",
      "model_name": "LayoutModel",
      "state": {
       "_model_module": "@jupyter-widgets/base",
       "_model_module_version": "1.2.0",
       "_model_name": "LayoutModel",
       "_view_count": null,
       "_view_module": "@jupyter-widgets/base",
       "_view_module_version": "1.2.0",
       "_view_name": "LayoutView",
       "align_content": null,
       "align_items": null,
       "align_self": null,
       "border": null,
       "bottom": null,
       "display": null,
       "flex": null,
       "flex_flow": null,
       "grid_area": null,
       "grid_auto_columns": null,
       "grid_auto_flow": null,
       "grid_auto_rows": null,
       "grid_column": null,
       "grid_gap": null,
       "grid_row": null,
       "grid_template_areas": null,
       "grid_template_columns": null,
       "grid_template_rows": null,
       "height": null,
       "justify_content": null,
       "justify_items": null,
       "left": null,
       "margin": null,
       "max_height": null,
       "max_width": null,
       "min_height": null,
       "min_width": null,
       "object_fit": null,
       "object_position": null,
       "order": null,
       "overflow": null,
       "overflow_x": null,
       "overflow_y": null,
       "padding": null,
       "right": null,
       "top": null,
       "visibility": null,
       "width": null
      }
     },
     "e542b840d8344ffb94055175f790a070": {
      "model_module": "@jupyter-widgets/controls",
      "model_module_version": "1.5.0",
      "model_name": "HTMLModel",
      "state": {
       "_dom_classes": [],
       "_model_module": "@jupyter-widgets/controls",
       "_model_module_version": "1.5.0",
       "_model_name": "HTMLModel",
       "_view_count": null,
       "_view_module": "@jupyter-widgets/controls",
       "_view_module_version": "1.5.0",
       "_view_name": "HTMLView",
       "description": "",
       "description_tooltip": null,
       "layout": "IPY_MODEL_d82f9b3c598b45139241382cd3b4d4bb",
       "placeholder": "​",
       "style": "IPY_MODEL_4e9ad83cd75d44f8975a5795b9e312b1",
       "value": " 25.1k/25.1k [00:00&lt;00:00, 2.12MB/s]"
      }
     },
     "e61d331db4fb487d9ed24e06a50d0d87": {
      "model_module": "@jupyter-widgets/controls",
      "model_module_version": "1.5.0",
      "model_name": "DescriptionStyleModel",
      "state": {
       "_model_module": "@jupyter-widgets/controls",
       "_model_module_version": "1.5.0",
       "_model_name": "DescriptionStyleModel",
       "_view_count": null,
       "_view_module": "@jupyter-widgets/base",
       "_view_module_version": "1.2.0",
       "_view_name": "StyleView",
       "description_width": ""
      }
     },
     "e7f1cc517f714f2bb47f4e3b43477dd4": {
      "model_module": "@jupyter-widgets/controls",
      "model_module_version": "1.5.0",
      "model_name": "DescriptionStyleModel",
      "state": {
       "_model_module": "@jupyter-widgets/controls",
       "_model_module_version": "1.5.0",
       "_model_name": "DescriptionStyleModel",
       "_view_count": null,
       "_view_module": "@jupyter-widgets/base",
       "_view_module_version": "1.2.0",
       "_view_name": "StyleView",
       "description_width": ""
      }
     },
     "ea87685a1ea94fb3b7a62b0b51cc847a": {
      "model_module": "@jupyter-widgets/controls",
      "model_module_version": "1.5.0",
      "model_name": "HBoxModel",
      "state": {
       "_dom_classes": [],
       "_model_module": "@jupyter-widgets/controls",
       "_model_module_version": "1.5.0",
       "_model_name": "HBoxModel",
       "_view_count": null,
       "_view_module": "@jupyter-widgets/controls",
       "_view_module_version": "1.5.0",
       "_view_name": "HBoxView",
       "box_style": "",
       "children": [
        "IPY_MODEL_323e9e0f45c24f41ba32a9db75d536a4",
        "IPY_MODEL_564026eed6bb43f19339263e90f92ac9",
        "IPY_MODEL_b053ffe40e6e4fcab46d59b618784669"
       ],
       "layout": "IPY_MODEL_f9d115b480a948cf877ec469510deacf"
      }
     },
     "eaab1f27c10e4fbabf7b0de041746454": {
      "model_module": "@jupyter-widgets/base",
      "model_module_version": "1.2.0",
      "model_name": "LayoutModel",
      "state": {
       "_model_module": "@jupyter-widgets/base",
       "_model_module_version": "1.2.0",
       "_model_name": "LayoutModel",
       "_view_count": null,
       "_view_module": "@jupyter-widgets/base",
       "_view_module_version": "1.2.0",
       "_view_name": "LayoutView",
       "align_content": null,
       "align_items": null,
       "align_self": null,
       "border": null,
       "bottom": null,
       "display": null,
       "flex": null,
       "flex_flow": null,
       "grid_area": null,
       "grid_auto_columns": null,
       "grid_auto_flow": null,
       "grid_auto_rows": null,
       "grid_column": null,
       "grid_gap": null,
       "grid_row": null,
       "grid_template_areas": null,
       "grid_template_columns": null,
       "grid_template_rows": null,
       "height": null,
       "justify_content": null,
       "justify_items": null,
       "left": null,
       "margin": null,
       "max_height": null,
       "max_width": null,
       "min_height": null,
       "min_width": null,
       "object_fit": null,
       "object_position": null,
       "order": null,
       "overflow": null,
       "overflow_x": null,
       "overflow_y": null,
       "padding": null,
       "right": null,
       "top": null,
       "visibility": null,
       "width": null
      }
     },
     "f0234e7241634012983f2a1f7f9bc171": {
      "model_module": "@jupyter-widgets/base",
      "model_module_version": "1.2.0",
      "model_name": "LayoutModel",
      "state": {
       "_model_module": "@jupyter-widgets/base",
       "_model_module_version": "1.2.0",
       "_model_name": "LayoutModel",
       "_view_count": null,
       "_view_module": "@jupyter-widgets/base",
       "_view_module_version": "1.2.0",
       "_view_name": "LayoutView",
       "align_content": null,
       "align_items": null,
       "align_self": null,
       "border": null,
       "bottom": null,
       "display": null,
       "flex": null,
       "flex_flow": null,
       "grid_area": null,
       "grid_auto_columns": null,
       "grid_auto_flow": null,
       "grid_auto_rows": null,
       "grid_column": null,
       "grid_gap": null,
       "grid_row": null,
       "grid_template_areas": null,
       "grid_template_columns": null,
       "grid_template_rows": null,
       "height": null,
       "justify_content": null,
       "justify_items": null,
       "left": null,
       "margin": null,
       "max_height": null,
       "max_width": null,
       "min_height": null,
       "min_width": null,
       "object_fit": null,
       "object_position": null,
       "order": null,
       "overflow": null,
       "overflow_x": null,
       "overflow_y": null,
       "padding": null,
       "right": null,
       "top": null,
       "visibility": null,
       "width": null
      }
     },
     "f1a18fdfbfe8491789f80079f62fa0c2": {
      "model_module": "@jupyter-widgets/base",
      "model_module_version": "1.2.0",
      "model_name": "LayoutModel",
      "state": {
       "_model_module": "@jupyter-widgets/base",
       "_model_module_version": "1.2.0",
       "_model_name": "LayoutModel",
       "_view_count": null,
       "_view_module": "@jupyter-widgets/base",
       "_view_module_version": "1.2.0",
       "_view_name": "LayoutView",
       "align_content": null,
       "align_items": null,
       "align_self": null,
       "border": null,
       "bottom": null,
       "display": null,
       "flex": null,
       "flex_flow": null,
       "grid_area": null,
       "grid_auto_columns": null,
       "grid_auto_flow": null,
       "grid_auto_rows": null,
       "grid_column": null,
       "grid_gap": null,
       "grid_row": null,
       "grid_template_areas": null,
       "grid_template_columns": null,
       "grid_template_rows": null,
       "height": null,
       "justify_content": null,
       "justify_items": null,
       "left": null,
       "margin": null,
       "max_height": null,
       "max_width": null,
       "min_height": null,
       "min_width": null,
       "object_fit": null,
       "object_position": null,
       "order": null,
       "overflow": null,
       "overflow_x": null,
       "overflow_y": null,
       "padding": null,
       "right": null,
       "top": null,
       "visibility": null,
       "width": null
      }
     },
     "f34457d02a10413abc9dcfa358d1cbba": {
      "model_module": "@jupyter-widgets/controls",
      "model_module_version": "1.5.0",
      "model_name": "ProgressStyleModel",
      "state": {
       "_model_module": "@jupyter-widgets/controls",
       "_model_module_version": "1.5.0",
       "_model_name": "ProgressStyleModel",
       "_view_count": null,
       "_view_module": "@jupyter-widgets/base",
       "_view_module_version": "1.2.0",
       "_view_name": "StyleView",
       "bar_color": null,
       "description_width": ""
      }
     },
     "f4d7c1f5d97e42eda38407b3cd813a96": {
      "model_module": "@jupyter-widgets/base",
      "model_module_version": "1.2.0",
      "model_name": "LayoutModel",
      "state": {
       "_model_module": "@jupyter-widgets/base",
       "_model_module_version": "1.2.0",
       "_model_name": "LayoutModel",
       "_view_count": null,
       "_view_module": "@jupyter-widgets/base",
       "_view_module_version": "1.2.0",
       "_view_name": "LayoutView",
       "align_content": null,
       "align_items": null,
       "align_self": null,
       "border": null,
       "bottom": null,
       "display": null,
       "flex": null,
       "flex_flow": null,
       "grid_area": null,
       "grid_auto_columns": null,
       "grid_auto_flow": null,
       "grid_auto_rows": null,
       "grid_column": null,
       "grid_gap": null,
       "grid_row": null,
       "grid_template_areas": null,
       "grid_template_columns": null,
       "grid_template_rows": null,
       "height": null,
       "justify_content": null,
       "justify_items": null,
       "left": null,
       "margin": null,
       "max_height": null,
       "max_width": null,
       "min_height": null,
       "min_width": null,
       "object_fit": null,
       "object_position": null,
       "order": null,
       "overflow": null,
       "overflow_x": null,
       "overflow_y": null,
       "padding": null,
       "right": null,
       "top": null,
       "visibility": null,
       "width": null
      }
     },
     "f51ab589365540c89d36f49232e5857d": {
      "model_module": "@jupyter-widgets/controls",
      "model_module_version": "1.5.0",
      "model_name": "DescriptionStyleModel",
      "state": {
       "_model_module": "@jupyter-widgets/controls",
       "_model_module_version": "1.5.0",
       "_model_name": "DescriptionStyleModel",
       "_view_count": null,
       "_view_module": "@jupyter-widgets/base",
       "_view_module_version": "1.2.0",
       "_view_name": "StyleView",
       "description_width": ""
      }
     },
     "f6590680d59e48df9bc824562173a11d": {
      "model_module": "@jupyter-widgets/base",
      "model_module_version": "1.2.0",
      "model_name": "LayoutModel",
      "state": {
       "_model_module": "@jupyter-widgets/base",
       "_model_module_version": "1.2.0",
       "_model_name": "LayoutModel",
       "_view_count": null,
       "_view_module": "@jupyter-widgets/base",
       "_view_module_version": "1.2.0",
       "_view_name": "LayoutView",
       "align_content": null,
       "align_items": null,
       "align_self": null,
       "border": null,
       "bottom": null,
       "display": null,
       "flex": null,
       "flex_flow": null,
       "grid_area": null,
       "grid_auto_columns": null,
       "grid_auto_flow": null,
       "grid_auto_rows": null,
       "grid_column": null,
       "grid_gap": null,
       "grid_row": null,
       "grid_template_areas": null,
       "grid_template_columns": null,
       "grid_template_rows": null,
       "height": null,
       "justify_content": null,
       "justify_items": null,
       "left": null,
       "margin": null,
       "max_height": null,
       "max_width": null,
       "min_height": null,
       "min_width": null,
       "object_fit": null,
       "object_position": null,
       "order": null,
       "overflow": null,
       "overflow_x": null,
       "overflow_y": null,
       "padding": null,
       "right": null,
       "top": null,
       "visibility": null,
       "width": null
      }
     },
     "f67e584cb4cf42f69029b70d84113001": {
      "model_module": "@jupyter-widgets/controls",
      "model_module_version": "1.5.0",
      "model_name": "DescriptionStyleModel",
      "state": {
       "_model_module": "@jupyter-widgets/controls",
       "_model_module_version": "1.5.0",
       "_model_name": "DescriptionStyleModel",
       "_view_count": null,
       "_view_module": "@jupyter-widgets/base",
       "_view_module_version": "1.2.0",
       "_view_name": "StyleView",
       "description_width": ""
      }
     },
     "f71307d795e24e528528bd45da57b073": {
      "model_module": "@jupyter-widgets/base",
      "model_module_version": "1.2.0",
      "model_name": "LayoutModel",
      "state": {
       "_model_module": "@jupyter-widgets/base",
       "_model_module_version": "1.2.0",
       "_model_name": "LayoutModel",
       "_view_count": null,
       "_view_module": "@jupyter-widgets/base",
       "_view_module_version": "1.2.0",
       "_view_name": "LayoutView",
       "align_content": null,
       "align_items": null,
       "align_self": null,
       "border": null,
       "bottom": null,
       "display": null,
       "flex": null,
       "flex_flow": null,
       "grid_area": null,
       "grid_auto_columns": null,
       "grid_auto_flow": null,
       "grid_auto_rows": null,
       "grid_column": null,
       "grid_gap": null,
       "grid_row": null,
       "grid_template_areas": null,
       "grid_template_columns": null,
       "grid_template_rows": null,
       "height": null,
       "justify_content": null,
       "justify_items": null,
       "left": null,
       "margin": null,
       "max_height": null,
       "max_width": null,
       "min_height": null,
       "min_width": null,
       "object_fit": null,
       "object_position": null,
       "order": null,
       "overflow": null,
       "overflow_x": null,
       "overflow_y": null,
       "padding": null,
       "right": null,
       "top": null,
       "visibility": null,
       "width": null
      }
     },
     "f74901a6be9e44c9a64e1b5d823a5542": {
      "model_module": "@jupyter-widgets/controls",
      "model_module_version": "1.5.0",
      "model_name": "HTMLModel",
      "state": {
       "_dom_classes": [],
       "_model_module": "@jupyter-widgets/controls",
       "_model_module_version": "1.5.0",
       "_model_name": "HTMLModel",
       "_view_count": null,
       "_view_module": "@jupyter-widgets/controls",
       "_view_module_version": "1.5.0",
       "_view_name": "HTMLView",
       "description": "",
       "description_tooltip": null,
       "layout": "IPY_MODEL_82106538ffc244938eef5164c3f655c7",
       "placeholder": "​",
       "style": "IPY_MODEL_50fda7b3bd2f457cb7263e896bd78e31",
       "value": " 4.94G/4.94G [01:02&lt;00:00, 85.5MB/s]"
      }
     },
     "f7bcc5ca4dfa4490b291c8151db22096": {
      "model_module": "@jupyter-widgets/base",
      "model_module_version": "1.2.0",
      "model_name": "LayoutModel",
      "state": {
       "_model_module": "@jupyter-widgets/base",
       "_model_module_version": "1.2.0",
       "_model_name": "LayoutModel",
       "_view_count": null,
       "_view_module": "@jupyter-widgets/base",
       "_view_module_version": "1.2.0",
       "_view_name": "LayoutView",
       "align_content": null,
       "align_items": null,
       "align_self": null,
       "border": null,
       "bottom": null,
       "display": null,
       "flex": null,
       "flex_flow": null,
       "grid_area": null,
       "grid_auto_columns": null,
       "grid_auto_flow": null,
       "grid_auto_rows": null,
       "grid_column": null,
       "grid_gap": null,
       "grid_row": null,
       "grid_template_areas": null,
       "grid_template_columns": null,
       "grid_template_rows": null,
       "height": null,
       "justify_content": null,
       "justify_items": null,
       "left": null,
       "margin": null,
       "max_height": null,
       "max_width": null,
       "min_height": null,
       "min_width": null,
       "object_fit": null,
       "object_position": null,
       "order": null,
       "overflow": null,
       "overflow_x": null,
       "overflow_y": null,
       "padding": null,
       "right": null,
       "top": null,
       "visibility": null,
       "width": null
      }
     },
     "f8b5ead10ed24930b29a3481cb01673b": {
      "model_module": "@jupyter-widgets/controls",
      "model_module_version": "1.5.0",
      "model_name": "DescriptionStyleModel",
      "state": {
       "_model_module": "@jupyter-widgets/controls",
       "_model_module_version": "1.5.0",
       "_model_name": "DescriptionStyleModel",
       "_view_count": null,
       "_view_module": "@jupyter-widgets/base",
       "_view_module_version": "1.2.0",
       "_view_name": "StyleView",
       "description_width": ""
      }
     },
     "f93a86f476de45899644b3e9f2f2b4f7": {
      "model_module": "@jupyter-widgets/controls",
      "model_module_version": "1.5.0",
      "model_name": "DescriptionStyleModel",
      "state": {
       "_model_module": "@jupyter-widgets/controls",
       "_model_module_version": "1.5.0",
       "_model_name": "DescriptionStyleModel",
       "_view_count": null,
       "_view_module": "@jupyter-widgets/base",
       "_view_module_version": "1.2.0",
       "_view_name": "StyleView",
       "description_width": ""
      }
     },
     "f94d7bcd89c14f4fbfdcdf1b7588bff9": {
      "model_module": "@jupyter-widgets/controls",
      "model_module_version": "1.5.0",
      "model_name": "DescriptionStyleModel",
      "state": {
       "_model_module": "@jupyter-widgets/controls",
       "_model_module_version": "1.5.0",
       "_model_name": "DescriptionStyleModel",
       "_view_count": null,
       "_view_module": "@jupyter-widgets/base",
       "_view_module_version": "1.2.0",
       "_view_name": "StyleView",
       "description_width": ""
      }
     },
     "f9a797ef92f0437789dc240d81e3fabe": {
      "model_module": "@jupyter-widgets/base",
      "model_module_version": "1.2.0",
      "model_name": "LayoutModel",
      "state": {
       "_model_module": "@jupyter-widgets/base",
       "_model_module_version": "1.2.0",
       "_model_name": "LayoutModel",
       "_view_count": null,
       "_view_module": "@jupyter-widgets/base",
       "_view_module_version": "1.2.0",
       "_view_name": "LayoutView",
       "align_content": null,
       "align_items": null,
       "align_self": null,
       "border": null,
       "bottom": null,
       "display": null,
       "flex": null,
       "flex_flow": null,
       "grid_area": null,
       "grid_auto_columns": null,
       "grid_auto_flow": null,
       "grid_auto_rows": null,
       "grid_column": null,
       "grid_gap": null,
       "grid_row": null,
       "grid_template_areas": null,
       "grid_template_columns": null,
       "grid_template_rows": null,
       "height": null,
       "justify_content": null,
       "justify_items": null,
       "left": null,
       "margin": null,
       "max_height": null,
       "max_width": null,
       "min_height": null,
       "min_width": null,
       "object_fit": null,
       "object_position": null,
       "order": null,
       "overflow": null,
       "overflow_x": null,
       "overflow_y": null,
       "padding": null,
       "right": null,
       "top": null,
       "visibility": null,
       "width": null
      }
     },
     "f9d115b480a948cf877ec469510deacf": {
      "model_module": "@jupyter-widgets/base",
      "model_module_version": "1.2.0",
      "model_name": "LayoutModel",
      "state": {
       "_model_module": "@jupyter-widgets/base",
       "_model_module_version": "1.2.0",
       "_model_name": "LayoutModel",
       "_view_count": null,
       "_view_module": "@jupyter-widgets/base",
       "_view_module_version": "1.2.0",
       "_view_name": "LayoutView",
       "align_content": null,
       "align_items": null,
       "align_self": null,
       "border": null,
       "bottom": null,
       "display": null,
       "flex": null,
       "flex_flow": null,
       "grid_area": null,
       "grid_auto_columns": null,
       "grid_auto_flow": null,
       "grid_auto_rows": null,
       "grid_column": null,
       "grid_gap": null,
       "grid_row": null,
       "grid_template_areas": null,
       "grid_template_columns": null,
       "grid_template_rows": null,
       "height": null,
       "justify_content": null,
       "justify_items": null,
       "left": null,
       "margin": null,
       "max_height": null,
       "max_width": null,
       "min_height": null,
       "min_width": null,
       "object_fit": null,
       "object_position": null,
       "order": null,
       "overflow": null,
       "overflow_x": null,
       "overflow_y": null,
       "padding": null,
       "right": null,
       "top": null,
       "visibility": null,
       "width": null
      }
     },
     "fb0b797cdf064acdb3583b9ab26dba10": {
      "model_module": "@jupyter-widgets/controls",
      "model_module_version": "1.5.0",
      "model_name": "DescriptionStyleModel",
      "state": {
       "_model_module": "@jupyter-widgets/controls",
       "_model_module_version": "1.5.0",
       "_model_name": "DescriptionStyleModel",
       "_view_count": null,
       "_view_module": "@jupyter-widgets/base",
       "_view_module_version": "1.2.0",
       "_view_name": "StyleView",
       "description_width": ""
      }
     },
     "fb827a42f913403eadc003a7418abc17": {
      "model_module": "@jupyter-widgets/controls",
      "model_module_version": "1.5.0",
      "model_name": "ProgressStyleModel",
      "state": {
       "_model_module": "@jupyter-widgets/controls",
       "_model_module_version": "1.5.0",
       "_model_name": "ProgressStyleModel",
       "_view_count": null,
       "_view_module": "@jupyter-widgets/base",
       "_view_module_version": "1.2.0",
       "_view_name": "StyleView",
       "bar_color": null,
       "description_width": ""
      }
     },
     "fca692522c2d43f48b8f94a759f514f9": {
      "model_module": "@jupyter-widgets/base",
      "model_module_version": "1.2.0",
      "model_name": "LayoutModel",
      "state": {
       "_model_module": "@jupyter-widgets/base",
       "_model_module_version": "1.2.0",
       "_model_name": "LayoutModel",
       "_view_count": null,
       "_view_module": "@jupyter-widgets/base",
       "_view_module_version": "1.2.0",
       "_view_name": "LayoutView",
       "align_content": null,
       "align_items": null,
       "align_self": null,
       "border": null,
       "bottom": null,
       "display": null,
       "flex": null,
       "flex_flow": null,
       "grid_area": null,
       "grid_auto_columns": null,
       "grid_auto_flow": null,
       "grid_auto_rows": null,
       "grid_column": null,
       "grid_gap": null,
       "grid_row": null,
       "grid_template_areas": null,
       "grid_template_columns": null,
       "grid_template_rows": null,
       "height": null,
       "justify_content": null,
       "justify_items": null,
       "left": null,
       "margin": null,
       "max_height": null,
       "max_width": null,
       "min_height": null,
       "min_width": null,
       "object_fit": null,
       "object_position": null,
       "order": null,
       "overflow": null,
       "overflow_x": null,
       "overflow_y": null,
       "padding": null,
       "right": null,
       "top": null,
       "visibility": null,
       "width": null
      }
     },
     "fcc70b06513d4d2d94d896c8a508935a": {
      "model_module": "@jupyter-widgets/controls",
      "model_module_version": "1.5.0",
      "model_name": "HBoxModel",
      "state": {
       "_dom_classes": [],
       "_model_module": "@jupyter-widgets/controls",
       "_model_module_version": "1.5.0",
       "_model_name": "HBoxModel",
       "_view_count": null,
       "_view_module": "@jupyter-widgets/controls",
       "_view_module_version": "1.5.0",
       "_view_name": "HBoxView",
       "box_style": "",
       "children": [
        "IPY_MODEL_d3b62ef11b4248b3a887cb4c519a49b9",
        "IPY_MODEL_3f25cdb69a5a4a698f7c46841f5761d6",
        "IPY_MODEL_e542b840d8344ffb94055175f790a070"
       ],
       "layout": "IPY_MODEL_70528a79722e4a20b183107c0261c1a3"
      }
     },
     "fdddd00a009b46a8a9c8863c645a7a5f": {
      "model_module": "@jupyter-widgets/controls",
      "model_module_version": "1.5.0",
      "model_name": "HTMLModel",
      "state": {
       "_dom_classes": [],
       "_model_module": "@jupyter-widgets/controls",
       "_model_module_version": "1.5.0",
       "_model_name": "HTMLModel",
       "_view_count": null,
       "_view_module": "@jupyter-widgets/controls",
       "_view_module_version": "1.5.0",
       "_view_name": "HTMLView",
       "description": "",
       "description_tooltip": null,
       "layout": "IPY_MODEL_e005740e5ad24c81a1a02b0f14e02913",
       "placeholder": "​",
       "style": "IPY_MODEL_d392b16b3a7949d79fb5136d0fc99e3f",
       "value": " 3/3 [00:12&lt;00:00,  3.98s/it]"
      }
     },
     "ff040db3539f46e6b0b44754a070cd5a": {
      "model_module": "@jupyter-widgets/controls",
      "model_module_version": "1.5.0",
      "model_name": "FloatProgressModel",
      "state": {
       "_dom_classes": [],
       "_model_module": "@jupyter-widgets/controls",
       "_model_module_version": "1.5.0",
       "_model_name": "FloatProgressModel",
       "_view_count": null,
       "_view_module": "@jupyter-widgets/controls",
       "_view_module_version": "1.5.0",
       "_view_name": "ProgressView",
       "bar_style": "success",
       "description": "",
       "description_tooltip": null,
       "layout": "IPY_MODEL_52060298752a4808bed4817a26b1d473",
       "max": 3.0,
       "min": 0.0,
       "orientation": "horizontal",
       "style": "IPY_MODEL_3b6046e1f9974e6296623b3a7e362899",
       "value": 3.0
      }
     }
    },
    "version_major": 2,
    "version_minor": 0
   }
  }
 },
 "nbformat": 4,
 "nbformat_minor": 5
}
