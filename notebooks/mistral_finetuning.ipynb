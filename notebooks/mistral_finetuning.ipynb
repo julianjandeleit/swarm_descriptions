{
  "cells": [
    {
      "cell_type": "markdown",
      "id": "86dd56a6",
      "metadata": {
        "papermill": {
          "duration": 0.00973,
          "end_time": "2023-12-10T12:06:29.953120",
          "exception": false,
          "start_time": "2023-12-10T12:06:29.943390",
          "status": "completed"
        },
        "tags": [],
        "id": "86dd56a6"
      },
      "source": [
        "# Fine-Tuning Mistral"
      ]
    },
    {
      "cell_type": "code",
      "execution_count": null,
      "id": "2d2af4bb",
      "metadata": {
        "_cell_guid": "b1076dfc-b9ad-4769-8c92-a6c4dae69d19",
        "_uuid": "8f2839f25d086af736a60e9eeb907d3b93b6e0e5",
        "execution": {
          "iopub.execute_input": "2023-12-10T12:06:29.973117Z",
          "iopub.status.busy": "2023-12-10T12:06:29.972808Z",
          "iopub.status.idle": "2023-12-10T12:07:00.089537Z",
          "shell.execute_reply": "2023-12-10T12:07:00.088472Z"
        },
        "papermill": {
          "duration": 30.129242,
          "end_time": "2023-12-10T12:07:00.091993",
          "exception": false,
          "start_time": "2023-12-10T12:06:29.962751",
          "status": "completed"
        },
        "tags": [],
        "colab": {
          "base_uri": "https://localhost:8080/"
        },
        "id": "2d2af4bb",
        "outputId": "da47b2c3-968a-460f-ffa1-c74d4aa38aa2"
      },
      "outputs": [
        {
          "output_type": "stream",
          "name": "stdout",
          "text": [
            "\u001b[?25l     \u001b[90m━━━━━━━━━━━━━━━━━━━━━━━━━━━━━━━━━━━━━━━━\u001b[0m \u001b[32m0.0/168.3 kB\u001b[0m \u001b[31m?\u001b[0m eta \u001b[36m-:--:--\u001b[0m\r\u001b[2K     \u001b[91m━━━━━━━━━━━━━━━━━━━━━\u001b[0m\u001b[91m╸\u001b[0m\u001b[90m━━━━━━━━━━━━━━━━━━\u001b[0m \u001b[32m92.2/168.3 kB\u001b[0m \u001b[31m2.9 MB/s\u001b[0m eta \u001b[36m0:00:01\u001b[0m\r\u001b[2K     \u001b[90m━━━━━━━━━━━━━━━━━━━━━━━━━━━━━━━━━━━━━━━━\u001b[0m \u001b[32m168.3/168.3 kB\u001b[0m \u001b[31m3.1 MB/s\u001b[0m eta \u001b[36m0:00:00\u001b[0m\n",
            "\u001b[?25h"
          ]
        }
      ],
      "source": [
        "!pip install -q -U transformers bitsandbytes peft datasets accelerate trl"
      ]
    },
    {
      "cell_type": "code",
      "source": [
        "import torch\n",
        "from transformers import BitsAndBytesConfig\n",
        "from transformers import AutoTokenizer\n",
        "from transformers import AutoModelForCausalLM\n",
        "from peft import LoraConfig, get_peft_model\n",
        "from peft import get_peft_model\n",
        "from transformers import TrainingArguments\n",
        "from peft import prepare_model_for_kbit_training\n",
        "from trl import SFTTrainer\n",
        "from copy import deepcopy"
      ],
      "metadata": {
        "colab": {
          "base_uri": "https://localhost:8080/"
        },
        "id": "TlkFxiFp2Eka",
        "outputId": "a4d5d6b8-6f1d-45df-9151-9a7df889db81"
      },
      "id": "TlkFxiFp2Eka",
      "execution_count": null,
      "outputs": [
        {
          "output_type": "stream",
          "name": "stderr",
          "text": [
            "/usr/local/lib/python3.10/dist-packages/trl/trainer/ppo_config.py:141: UserWarning: The `optimize_cuda_cache` arguement will be deprecated soon, please use `optimize_device_cache` instead.\n",
            "  warnings.warn(\n"
          ]
        }
      ]
    },
    {
      "cell_type": "markdown",
      "id": "cd45aa4b",
      "metadata": {
        "papermill": {
          "duration": 0.010117,
          "end_time": "2023-12-10T12:07:08.926762",
          "exception": false,
          "start_time": "2023-12-10T12:07:08.916645",
          "status": "completed"
        },
        "tags": [],
        "id": "cd45aa4b"
      },
      "source": [
        "# Loading the Model"
      ]
    },
    {
      "cell_type": "code",
      "execution_count": null,
      "id": "3356f495",
      "metadata": {
        "execution": {
          "iopub.execute_input": "2023-12-10T12:07:08.951401Z",
          "iopub.status.busy": "2023-12-10T12:07:08.951055Z",
          "iopub.status.idle": "2023-12-10T12:07:08.960886Z",
          "shell.execute_reply": "2023-12-10T12:07:08.960052Z"
        },
        "papermill": {
          "duration": 0.025872,
          "end_time": "2023-12-10T12:07:08.962939",
          "exception": false,
          "start_time": "2023-12-10T12:07:08.937067",
          "status": "completed"
        },
        "tags": [],
        "colab": {
          "base_uri": "https://localhost:8080/",
          "height": 49,
          "referenced_widgets": [
            "5687935390994e248ca5c0a52bdcc674",
            "1196f21b5d26448da861b8019fa3b2ec",
            "0387c206b0134d92a83c2ae2f52c06a0",
            "23488c01aab347378786776aab638e62",
            "04803141d4174dc898ce1cd06526a83c",
            "c2b1cba89c684e60aa86242f95cd018b",
            "d46a9a90df2e4bdbb5a2d00962b10f4d",
            "022d44b58b0848e89e425f18200bd9e7",
            "65ec356228a040939b0c0dbe16e4f15e",
            "f564da0a90af4cdeabc60ad681250e1c",
            "032ea3d4d3e64b0384a782631f274ec7"
          ]
        },
        "id": "3356f495",
        "outputId": "68210439-08e0-451b-bfb5-5462a0582106"
      },
      "outputs": [
        {
          "output_type": "display_data",
          "data": {
            "text/plain": [
              "Loading checkpoint shards:   0%|          | 0/3 [00:00<?, ?it/s]"
            ],
            "application/vnd.jupyter.widget-view+json": {
              "version_major": 2,
              "version_minor": 0,
              "model_id": "5687935390994e248ca5c0a52bdcc674"
            }
          },
          "metadata": {}
        }
      ],
      "source": [
        "def load_checkpoint(path: str):\n",
        "\n",
        "  # this should make it fit to vram of gpu\n",
        "  bnb_config = BitsAndBytesConfig(\n",
        "      load_in_4bit=True,\n",
        "      bnb_4bit_quant_type=\"nf4\",\n",
        "      bnb_4bit_use_double_quant=False,\n",
        "      bnb_4bit_compute_dtype=torch.bfloat16\n",
        "  )\n",
        "\n",
        "  model = AutoModelForCausalLM.from_pretrained(\n",
        "    path,\n",
        "    load_in_4bit=True,\n",
        "    quantization_config=bnb_config,\n",
        "    torch_dtype=torch.bfloat16,\n",
        "    device_map=\"auto\",\n",
        "  )\n",
        "\n",
        "  tokenizer = AutoTokenizer.from_pretrained(\n",
        "    path\n",
        "  )\n",
        "\n",
        "  return model, tokenizer\n",
        "\n",
        "\n",
        "\n",
        "base_model = \"mistralai/Mistral-7B-Instruct-v0.2\"\n",
        "model, tokenizer = load_checkpoint(base_model)"
      ]
    },
    {
      "cell_type": "code",
      "execution_count": null,
      "id": "f1b47860",
      "metadata": {
        "execution": {
          "iopub.execute_input": "2023-12-10T12:07:08.986127Z",
          "iopub.status.busy": "2023-12-10T12:07:08.985467Z",
          "iopub.status.idle": "2023-12-10T12:15:01.951667Z",
          "shell.execute_reply": "2023-12-10T12:15:01.950562Z"
        },
        "papermill": {
          "duration": 472.980433,
          "end_time": "2023-12-10T12:15:01.954245",
          "exception": false,
          "start_time": "2023-12-10T12:07:08.973812",
          "status": "completed"
        },
        "tags": [],
        "id": "f1b47860"
      },
      "outputs": [],
      "source": []
    },
    {
      "cell_type": "markdown",
      "id": "7823f7a5",
      "metadata": {
        "papermill": {
          "duration": 0.013308,
          "end_time": "2023-12-10T12:15:01.982799",
          "exception": false,
          "start_time": "2023-12-10T12:15:01.969491",
          "status": "completed"
        },
        "tags": [],
        "id": "7823f7a5"
      },
      "source": [
        "# Loading the Dataset"
      ]
    },
    {
      "cell_type": "code",
      "execution_count": null,
      "id": "e3320ba5",
      "metadata": {
        "execution": {
          "iopub.execute_input": "2023-12-10T12:15:02.011515Z",
          "iopub.status.busy": "2023-12-10T12:15:02.010760Z",
          "iopub.status.idle": "2023-12-10T12:15:13.797411Z",
          "shell.execute_reply": "2023-12-10T12:15:13.796388Z"
        },
        "papermill": {
          "duration": 11.803676,
          "end_time": "2023-12-10T12:15:13.799893",
          "exception": false,
          "start_time": "2023-12-10T12:15:01.996217",
          "status": "completed"
        },
        "tags": [],
        "id": "e3320ba5"
      },
      "outputs": [],
      "source": [
        "from datasets import load_dataset\n",
        "\n",
        "dataset_name = \"databricks/databricks-dolly-15k\"\n",
        "\n",
        "train_dataset_raw = load_dataset(dataset_name, split=\"train[0:800]\")\n",
        "eval_dataset_raw = load_dataset(dataset_name, split=\"train[800:1000]\")"
      ]
    },
    {
      "cell_type": "markdown",
      "id": "16a48309",
      "metadata": {
        "papermill": {
          "duration": 0.012551,
          "end_time": "2023-12-10T12:15:13.825897",
          "exception": false,
          "start_time": "2023-12-10T12:15:13.813346",
          "status": "completed"
        },
        "tags": [],
        "id": "16a48309"
      },
      "source": [
        "# Dataset Preprocessing\n",
        "\n",
        "converts to prompt format"
      ]
    },
    {
      "cell_type": "code",
      "execution_count": null,
      "id": "19ba877a",
      "metadata": {
        "execution": {
          "iopub.execute_input": "2023-12-10T12:15:13.851492Z",
          "iopub.status.busy": "2023-12-10T12:15:13.851005Z",
          "iopub.status.idle": "2023-12-10T12:15:13.856871Z",
          "shell.execute_reply": "2023-12-10T12:15:13.856010Z"
        },
        "papermill": {
          "duration": 0.020713,
          "end_time": "2023-12-10T12:15:13.858713",
          "exception": false,
          "start_time": "2023-12-10T12:15:13.838000",
          "status": "completed"
        },
        "tags": [],
        "colab": {
          "base_uri": "https://localhost:8080/"
        },
        "id": "19ba877a",
        "outputId": "28ac68e4-18ac-4230-b3c4-ea234393ee51"
      },
      "outputs": [
        {
          "output_type": "execute_result",
          "data": {
            "text/plain": [
              "Dataset({\n",
              "    features: ['instruction', 'context', 'response', 'category'],\n",
              "    num_rows: 800\n",
              "})"
            ]
          },
          "metadata": {},
          "execution_count": 5
        }
      ],
      "source": [
        "train_dataset_raw"
      ]
    },
    {
      "cell_type": "code",
      "execution_count": null,
      "id": "66167773",
      "metadata": {
        "execution": {
          "iopub.execute_input": "2023-12-10T12:15:13.884601Z",
          "iopub.status.busy": "2023-12-10T12:15:13.883945Z",
          "iopub.status.idle": "2023-12-10T12:15:13.922410Z",
          "shell.execute_reply": "2023-12-10T12:15:13.921487Z"
        },
        "papermill": {
          "duration": 0.053419,
          "end_time": "2023-12-10T12:15:13.924284",
          "exception": false,
          "start_time": "2023-12-10T12:15:13.870865",
          "status": "completed"
        },
        "tags": [],
        "colab": {
          "base_uri": "https://localhost:8080/",
          "height": 424
        },
        "id": "66167773",
        "outputId": "4e05123e-f0dc-4ad1-87f4-705816c13827"
      },
      "outputs": [
        {
          "output_type": "execute_result",
          "data": {
            "text/plain": [
              "                                           instruction  \\\n",
              "0           When did Virgin Australia start operating?   \n",
              "1             Which is a species of fish? Tope or Rope   \n",
              "2       Why can camels survive for long without water?   \n",
              "3    Alice's parents have three daughters: Amy, Jes...   \n",
              "4                      When was Tomoaki Komorida born?   \n",
              "..                                                 ...   \n",
              "795         Who is the founder of the Communist Party?   \n",
              "796                                 What is gardening?   \n",
              "797  What are your thoughts of Michael Jackson as a...   \n",
              "798                     What is the largest pollutant?   \n",
              "799                        Why do people drink coffee?   \n",
              "\n",
              "                                               context  \\\n",
              "0    Virgin Australia, the trading name of Virgin A...   \n",
              "1                                                        \n",
              "2                                                        \n",
              "3                                                        \n",
              "4    Komorida was born in Kumamoto Prefecture on Ju...   \n",
              "..                                                 ...   \n",
              "795                                                      \n",
              "796  Gardening is the practice of growing and culti...   \n",
              "797                                                      \n",
              "798                                                      \n",
              "799                                                      \n",
              "\n",
              "                                              response                category  \n",
              "0    Virgin Australia commenced services on 31 Augu...               closed_qa  \n",
              "1                                                 Tope          classification  \n",
              "2    Camels use the fat in their humps to keep them...                 open_qa  \n",
              "3              The name of the third daughter is Alice                 open_qa  \n",
              "4           Tomoaki Komorida was born on July 10,1981.               closed_qa  \n",
              "..                                                 ...                     ...  \n",
              "795                                              Lenin                 open_qa  \n",
              "796  Gardening is laying out and caring for a plot ...  information_extraction  \n",
              "797  Michael Jackson is acclaimed as the greatest p...        creative_writing  \n",
              "798  Carbon dioxide (CO2) - a greenhouse gas emitte...              general_qa  \n",
              "799  Coffee contains caffeine which is a stimulant....              general_qa  \n",
              "\n",
              "[800 rows x 4 columns]"
            ],
            "text/html": [
              "\n",
              "  <div id=\"df-1a6f25c6-e61b-410c-a069-56046ee4bdfe\" class=\"colab-df-container\">\n",
              "    <div>\n",
              "<style scoped>\n",
              "    .dataframe tbody tr th:only-of-type {\n",
              "        vertical-align: middle;\n",
              "    }\n",
              "\n",
              "    .dataframe tbody tr th {\n",
              "        vertical-align: top;\n",
              "    }\n",
              "\n",
              "    .dataframe thead th {\n",
              "        text-align: right;\n",
              "    }\n",
              "</style>\n",
              "<table border=\"1\" class=\"dataframe\">\n",
              "  <thead>\n",
              "    <tr style=\"text-align: right;\">\n",
              "      <th></th>\n",
              "      <th>instruction</th>\n",
              "      <th>context</th>\n",
              "      <th>response</th>\n",
              "      <th>category</th>\n",
              "    </tr>\n",
              "  </thead>\n",
              "  <tbody>\n",
              "    <tr>\n",
              "      <th>0</th>\n",
              "      <td>When did Virgin Australia start operating?</td>\n",
              "      <td>Virgin Australia, the trading name of Virgin A...</td>\n",
              "      <td>Virgin Australia commenced services on 31 Augu...</td>\n",
              "      <td>closed_qa</td>\n",
              "    </tr>\n",
              "    <tr>\n",
              "      <th>1</th>\n",
              "      <td>Which is a species of fish? Tope or Rope</td>\n",
              "      <td></td>\n",
              "      <td>Tope</td>\n",
              "      <td>classification</td>\n",
              "    </tr>\n",
              "    <tr>\n",
              "      <th>2</th>\n",
              "      <td>Why can camels survive for long without water?</td>\n",
              "      <td></td>\n",
              "      <td>Camels use the fat in their humps to keep them...</td>\n",
              "      <td>open_qa</td>\n",
              "    </tr>\n",
              "    <tr>\n",
              "      <th>3</th>\n",
              "      <td>Alice's parents have three daughters: Amy, Jes...</td>\n",
              "      <td></td>\n",
              "      <td>The name of the third daughter is Alice</td>\n",
              "      <td>open_qa</td>\n",
              "    </tr>\n",
              "    <tr>\n",
              "      <th>4</th>\n",
              "      <td>When was Tomoaki Komorida born?</td>\n",
              "      <td>Komorida was born in Kumamoto Prefecture on Ju...</td>\n",
              "      <td>Tomoaki Komorida was born on July 10,1981.</td>\n",
              "      <td>closed_qa</td>\n",
              "    </tr>\n",
              "    <tr>\n",
              "      <th>...</th>\n",
              "      <td>...</td>\n",
              "      <td>...</td>\n",
              "      <td>...</td>\n",
              "      <td>...</td>\n",
              "    </tr>\n",
              "    <tr>\n",
              "      <th>795</th>\n",
              "      <td>Who is the founder of the Communist Party?</td>\n",
              "      <td></td>\n",
              "      <td>Lenin</td>\n",
              "      <td>open_qa</td>\n",
              "    </tr>\n",
              "    <tr>\n",
              "      <th>796</th>\n",
              "      <td>What is gardening?</td>\n",
              "      <td>Gardening is the practice of growing and culti...</td>\n",
              "      <td>Gardening is laying out and caring for a plot ...</td>\n",
              "      <td>information_extraction</td>\n",
              "    </tr>\n",
              "    <tr>\n",
              "      <th>797</th>\n",
              "      <td>What are your thoughts of Michael Jackson as a...</td>\n",
              "      <td></td>\n",
              "      <td>Michael Jackson is acclaimed as the greatest p...</td>\n",
              "      <td>creative_writing</td>\n",
              "    </tr>\n",
              "    <tr>\n",
              "      <th>798</th>\n",
              "      <td>What is the largest pollutant?</td>\n",
              "      <td></td>\n",
              "      <td>Carbon dioxide (CO2) - a greenhouse gas emitte...</td>\n",
              "      <td>general_qa</td>\n",
              "    </tr>\n",
              "    <tr>\n",
              "      <th>799</th>\n",
              "      <td>Why do people drink coffee?</td>\n",
              "      <td></td>\n",
              "      <td>Coffee contains caffeine which is a stimulant....</td>\n",
              "      <td>general_qa</td>\n",
              "    </tr>\n",
              "  </tbody>\n",
              "</table>\n",
              "<p>800 rows × 4 columns</p>\n",
              "</div>\n",
              "    <div class=\"colab-df-buttons\">\n",
              "\n",
              "  <div class=\"colab-df-container\">\n",
              "    <button class=\"colab-df-convert\" onclick=\"convertToInteractive('df-1a6f25c6-e61b-410c-a069-56046ee4bdfe')\"\n",
              "            title=\"Convert this dataframe to an interactive table.\"\n",
              "            style=\"display:none;\">\n",
              "\n",
              "  <svg xmlns=\"http://www.w3.org/2000/svg\" height=\"24px\" viewBox=\"0 -960 960 960\">\n",
              "    <path d=\"M120-120v-720h720v720H120Zm60-500h600v-160H180v160Zm220 220h160v-160H400v160Zm0 220h160v-160H400v160ZM180-400h160v-160H180v160Zm440 0h160v-160H620v160ZM180-180h160v-160H180v160Zm440 0h160v-160H620v160Z\"/>\n",
              "  </svg>\n",
              "    </button>\n",
              "\n",
              "  <style>\n",
              "    .colab-df-container {\n",
              "      display:flex;\n",
              "      gap: 12px;\n",
              "    }\n",
              "\n",
              "    .colab-df-convert {\n",
              "      background-color: #E8F0FE;\n",
              "      border: none;\n",
              "      border-radius: 50%;\n",
              "      cursor: pointer;\n",
              "      display: none;\n",
              "      fill: #1967D2;\n",
              "      height: 32px;\n",
              "      padding: 0 0 0 0;\n",
              "      width: 32px;\n",
              "    }\n",
              "\n",
              "    .colab-df-convert:hover {\n",
              "      background-color: #E2EBFA;\n",
              "      box-shadow: 0px 1px 2px rgba(60, 64, 67, 0.3), 0px 1px 3px 1px rgba(60, 64, 67, 0.15);\n",
              "      fill: #174EA6;\n",
              "    }\n",
              "\n",
              "    .colab-df-buttons div {\n",
              "      margin-bottom: 4px;\n",
              "    }\n",
              "\n",
              "    [theme=dark] .colab-df-convert {\n",
              "      background-color: #3B4455;\n",
              "      fill: #D2E3FC;\n",
              "    }\n",
              "\n",
              "    [theme=dark] .colab-df-convert:hover {\n",
              "      background-color: #434B5C;\n",
              "      box-shadow: 0px 1px 3px 1px rgba(0, 0, 0, 0.15);\n",
              "      filter: drop-shadow(0px 1px 2px rgba(0, 0, 0, 0.3));\n",
              "      fill: #FFFFFF;\n",
              "    }\n",
              "  </style>\n",
              "\n",
              "    <script>\n",
              "      const buttonEl =\n",
              "        document.querySelector('#df-1a6f25c6-e61b-410c-a069-56046ee4bdfe button.colab-df-convert');\n",
              "      buttonEl.style.display =\n",
              "        google.colab.kernel.accessAllowed ? 'block' : 'none';\n",
              "\n",
              "      async function convertToInteractive(key) {\n",
              "        const element = document.querySelector('#df-1a6f25c6-e61b-410c-a069-56046ee4bdfe');\n",
              "        const dataTable =\n",
              "          await google.colab.kernel.invokeFunction('convertToInteractive',\n",
              "                                                    [key], {});\n",
              "        if (!dataTable) return;\n",
              "\n",
              "        const docLinkHtml = 'Like what you see? Visit the ' +\n",
              "          '<a target=\"_blank\" href=https://colab.research.google.com/notebooks/data_table.ipynb>data table notebook</a>'\n",
              "          + ' to learn more about interactive tables.';\n",
              "        element.innerHTML = '';\n",
              "        dataTable['output_type'] = 'display_data';\n",
              "        await google.colab.output.renderOutput(dataTable, element);\n",
              "        const docLink = document.createElement('div');\n",
              "        docLink.innerHTML = docLinkHtml;\n",
              "        element.appendChild(docLink);\n",
              "      }\n",
              "    </script>\n",
              "  </div>\n",
              "\n",
              "\n",
              "<div id=\"df-90aeda49-6bba-4165-9fb2-46e3a5e219a1\">\n",
              "  <button class=\"colab-df-quickchart\" onclick=\"quickchart('df-90aeda49-6bba-4165-9fb2-46e3a5e219a1')\"\n",
              "            title=\"Suggest charts\"\n",
              "            style=\"display:none;\">\n",
              "\n",
              "<svg xmlns=\"http://www.w3.org/2000/svg\" height=\"24px\"viewBox=\"0 0 24 24\"\n",
              "     width=\"24px\">\n",
              "    <g>\n",
              "        <path d=\"M19 3H5c-1.1 0-2 .9-2 2v14c0 1.1.9 2 2 2h14c1.1 0 2-.9 2-2V5c0-1.1-.9-2-2-2zM9 17H7v-7h2v7zm4 0h-2V7h2v10zm4 0h-2v-4h2v4z\"/>\n",
              "    </g>\n",
              "</svg>\n",
              "  </button>\n",
              "\n",
              "<style>\n",
              "  .colab-df-quickchart {\n",
              "      --bg-color: #E8F0FE;\n",
              "      --fill-color: #1967D2;\n",
              "      --hover-bg-color: #E2EBFA;\n",
              "      --hover-fill-color: #174EA6;\n",
              "      --disabled-fill-color: #AAA;\n",
              "      --disabled-bg-color: #DDD;\n",
              "  }\n",
              "\n",
              "  [theme=dark] .colab-df-quickchart {\n",
              "      --bg-color: #3B4455;\n",
              "      --fill-color: #D2E3FC;\n",
              "      --hover-bg-color: #434B5C;\n",
              "      --hover-fill-color: #FFFFFF;\n",
              "      --disabled-bg-color: #3B4455;\n",
              "      --disabled-fill-color: #666;\n",
              "  }\n",
              "\n",
              "  .colab-df-quickchart {\n",
              "    background-color: var(--bg-color);\n",
              "    border: none;\n",
              "    border-radius: 50%;\n",
              "    cursor: pointer;\n",
              "    display: none;\n",
              "    fill: var(--fill-color);\n",
              "    height: 32px;\n",
              "    padding: 0;\n",
              "    width: 32px;\n",
              "  }\n",
              "\n",
              "  .colab-df-quickchart:hover {\n",
              "    background-color: var(--hover-bg-color);\n",
              "    box-shadow: 0 1px 2px rgba(60, 64, 67, 0.3), 0 1px 3px 1px rgba(60, 64, 67, 0.15);\n",
              "    fill: var(--button-hover-fill-color);\n",
              "  }\n",
              "\n",
              "  .colab-df-quickchart-complete:disabled,\n",
              "  .colab-df-quickchart-complete:disabled:hover {\n",
              "    background-color: var(--disabled-bg-color);\n",
              "    fill: var(--disabled-fill-color);\n",
              "    box-shadow: none;\n",
              "  }\n",
              "\n",
              "  .colab-df-spinner {\n",
              "    border: 2px solid var(--fill-color);\n",
              "    border-color: transparent;\n",
              "    border-bottom-color: var(--fill-color);\n",
              "    animation:\n",
              "      spin 1s steps(1) infinite;\n",
              "  }\n",
              "\n",
              "  @keyframes spin {\n",
              "    0% {\n",
              "      border-color: transparent;\n",
              "      border-bottom-color: var(--fill-color);\n",
              "      border-left-color: var(--fill-color);\n",
              "    }\n",
              "    20% {\n",
              "      border-color: transparent;\n",
              "      border-left-color: var(--fill-color);\n",
              "      border-top-color: var(--fill-color);\n",
              "    }\n",
              "    30% {\n",
              "      border-color: transparent;\n",
              "      border-left-color: var(--fill-color);\n",
              "      border-top-color: var(--fill-color);\n",
              "      border-right-color: var(--fill-color);\n",
              "    }\n",
              "    40% {\n",
              "      border-color: transparent;\n",
              "      border-right-color: var(--fill-color);\n",
              "      border-top-color: var(--fill-color);\n",
              "    }\n",
              "    60% {\n",
              "      border-color: transparent;\n",
              "      border-right-color: var(--fill-color);\n",
              "    }\n",
              "    80% {\n",
              "      border-color: transparent;\n",
              "      border-right-color: var(--fill-color);\n",
              "      border-bottom-color: var(--fill-color);\n",
              "    }\n",
              "    90% {\n",
              "      border-color: transparent;\n",
              "      border-bottom-color: var(--fill-color);\n",
              "    }\n",
              "  }\n",
              "</style>\n",
              "\n",
              "  <script>\n",
              "    async function quickchart(key) {\n",
              "      const quickchartButtonEl =\n",
              "        document.querySelector('#' + key + ' button');\n",
              "      quickchartButtonEl.disabled = true;  // To prevent multiple clicks.\n",
              "      quickchartButtonEl.classList.add('colab-df-spinner');\n",
              "      try {\n",
              "        const charts = await google.colab.kernel.invokeFunction(\n",
              "            'suggestCharts', [key], {});\n",
              "      } catch (error) {\n",
              "        console.error('Error during call to suggestCharts:', error);\n",
              "      }\n",
              "      quickchartButtonEl.classList.remove('colab-df-spinner');\n",
              "      quickchartButtonEl.classList.add('colab-df-quickchart-complete');\n",
              "    }\n",
              "    (() => {\n",
              "      let quickchartButtonEl =\n",
              "        document.querySelector('#df-90aeda49-6bba-4165-9fb2-46e3a5e219a1 button');\n",
              "      quickchartButtonEl.style.display =\n",
              "        google.colab.kernel.accessAllowed ? 'block' : 'none';\n",
              "    })();\n",
              "  </script>\n",
              "</div>\n",
              "    </div>\n",
              "  </div>\n"
            ]
          },
          "metadata": {},
          "execution_count": 6
        }
      ],
      "source": [
        "train_dataset_raw.to_pandas()"
      ]
    },
    {
      "cell_type": "code",
      "execution_count": null,
      "id": "b29fe001",
      "metadata": {
        "execution": {
          "iopub.execute_input": "2023-12-10T12:15:13.950689Z",
          "iopub.status.busy": "2023-12-10T12:15:13.950423Z",
          "iopub.status.idle": "2023-12-10T12:15:13.959493Z",
          "shell.execute_reply": "2023-12-10T12:15:13.958655Z"
        },
        "papermill": {
          "duration": 0.024361,
          "end_time": "2023-12-10T12:15:13.961421",
          "exception": false,
          "start_time": "2023-12-10T12:15:13.937060",
          "status": "completed"
        },
        "tags": [],
        "colab": {
          "base_uri": "https://localhost:8080/"
        },
        "id": "b29fe001",
        "outputId": "3f25e5de-85ee-4e35-8037-78554dcbe15d"
      },
      "outputs": [
        {
          "output_type": "execute_result",
          "data": {
            "text/plain": [
              "instruction    object\n",
              "context        object\n",
              "response       object\n",
              "category       object\n",
              "dtype: object"
            ]
          },
          "metadata": {},
          "execution_count": 7
        }
      ],
      "source": [
        "train_dataset_raw.to_pandas().dtypes"
      ]
    },
    {
      "cell_type": "code",
      "execution_count": null,
      "id": "938c17ed",
      "metadata": {
        "execution": {
          "iopub.execute_input": "2023-12-10T12:15:13.987822Z",
          "iopub.status.busy": "2023-12-10T12:15:13.987552Z",
          "iopub.status.idle": "2023-12-10T12:15:13.998275Z",
          "shell.execute_reply": "2023-12-10T12:15:13.997430Z"
        },
        "papermill": {
          "duration": 0.026026,
          "end_time": "2023-12-10T12:15:14.000164",
          "exception": false,
          "start_time": "2023-12-10T12:15:13.974138",
          "status": "completed"
        },
        "tags": [],
        "colab": {
          "base_uri": "https://localhost:8080/"
        },
        "id": "938c17ed",
        "outputId": "03f64e62-6ba8-40a7-9f6e-a2e87b66114b"
      },
      "outputs": [
        {
          "output_type": "execute_result",
          "data": {
            "text/plain": [
              "category\n",
              "open_qa                   202\n",
              "general_qa                132\n",
              "classification            111\n",
              "brainstorming              95\n",
              "closed_qa                  90\n",
              "information_extraction     68\n",
              "summarization              63\n",
              "creative_writing           39\n",
              "dtype: int64"
            ]
          },
          "metadata": {},
          "execution_count": 8
        }
      ],
      "source": [
        "train_dataset_raw.to_pandas().value_counts(\"category\")"
      ]
    },
    {
      "cell_type": "code",
      "source": [
        "def generate_prompt(sample, tokenizer):\n",
        "  messages = [\n",
        "      {\"role\": \"user\", \"content\": (sample[\"context\"]+\" \" if sample[\"context\"] else \"\") + sample[\"instruction\"]},\n",
        "      {\"role\": \"assistant\", \"content\": sample[\"response\"]},\n",
        "  ]\n",
        "\n",
        "  text = tokenizer.apply_chat_template(messages, tokenize=False) # wraps text with special tokens depending on role (assitant or user)\n",
        "  return {\"text\": text}"
      ],
      "metadata": {
        "id": "Dh7kDsHD6wB7"
      },
      "id": "Dh7kDsHD6wB7",
      "execution_count": null,
      "outputs": []
    },
    {
      "cell_type": "code",
      "execution_count": null,
      "id": "9e2dd5e2",
      "metadata": {
        "execution": {
          "iopub.execute_input": "2023-12-10T12:15:14.190220Z",
          "iopub.status.busy": "2023-12-10T12:15:14.189938Z",
          "iopub.status.idle": "2023-12-10T12:15:14.311982Z",
          "shell.execute_reply": "2023-12-10T12:15:14.311231Z"
        },
        "papermill": {
          "duration": 0.138457,
          "end_time": "2023-12-10T12:15:14.314317",
          "exception": false,
          "start_time": "2023-12-10T12:15:14.175860",
          "status": "completed"
        },
        "tags": [],
        "colab": {
          "base_uri": "https://localhost:8080/",
          "height": 81,
          "referenced_widgets": [
            "c4d7c77cb24e4e829504ff1cbba85f33",
            "ec9f6ca17f5b4a95806f138561fab68a",
            "58e5b27cb4ce4cc0ad3afe9c236800f4",
            "75f86d981fa54ff5a38f26970cabcca3",
            "5c94908a4a9a4597b39322babf6ddf7a",
            "0716161530154a2cb917e376ce5e0fad",
            "ec6d1815ea224e0abe737b19d1ccb798",
            "c577e7ad6b1a4b718f8b1ea03ce8e4e4",
            "428ebdcc38d8475eb51141a90a36f557",
            "289d616312d641e48c22cb9b36692618",
            "cff09b1f417d407daa4fe74d20b0ce74",
            "ce3bd92130694a029410eb17bebb51d5",
            "666d6a4fc7ae4e5e9b82e01a96d86ec0",
            "05ec211ed0544be9b18100213e7f97c1",
            "d6573c8e664041179c225de31f38c3ab",
            "30aa78d7b6174c68888013b205d09f31",
            "0d0f108706d84734b3446c36f26d65d6",
            "444a81171ddc4c2ebcbc46d2a348e1c8",
            "a135c7e60827479ba2edaf8e6a55b0b1",
            "dd1c087267194be581a5f0b962a53cd3",
            "01cde56414e24d41a0641240891ec994",
            "6bb95e5b9e844e7fbb28830c20bc767d"
          ]
        },
        "id": "9e2dd5e2",
        "outputId": "7b253597-dc54-40b6-ba39-0b876c84d47c"
      },
      "outputs": [
        {
          "output_type": "display_data",
          "data": {
            "text/plain": [
              "Map:   0%|          | 0/800 [00:00<?, ? examples/s]"
            ],
            "application/vnd.jupyter.widget-view+json": {
              "version_major": 2,
              "version_minor": 0,
              "model_id": "c4d7c77cb24e4e829504ff1cbba85f33"
            }
          },
          "metadata": {}
        },
        {
          "output_type": "display_data",
          "data": {
            "text/plain": [
              "Map:   0%|          | 0/200 [00:00<?, ? examples/s]"
            ],
            "application/vnd.jupyter.widget-view+json": {
              "version_major": 2,
              "version_minor": 0,
              "model_id": "ce3bd92130694a029410eb17bebb51d5"
            }
          },
          "metadata": {}
        }
      ],
      "source": [
        "generated_train_dataset = train_dataset_raw.map(\n",
        "    lambda x: generate_prompt(x, tokenizer), remove_columns=list(train_dataset_raw.features))\n",
        "generated_val_dataset = eval_dataset_raw.map(\n",
        "    lambda x: generate_prompt(x, tokenizer), remove_columns=list(train_dataset_raw.features))"
      ]
    },
    {
      "cell_type": "code",
      "execution_count": null,
      "id": "6a6bda35",
      "metadata": {
        "execution": {
          "iopub.execute_input": "2023-12-10T12:15:14.342663Z",
          "iopub.status.busy": "2023-12-10T12:15:14.342396Z",
          "iopub.status.idle": "2023-12-10T12:15:14.347392Z",
          "shell.execute_reply": "2023-12-10T12:15:14.346564Z"
        },
        "papermill": {
          "duration": 0.021207,
          "end_time": "2023-12-10T12:15:14.349286",
          "exception": false,
          "start_time": "2023-12-10T12:15:14.328079",
          "status": "completed"
        },
        "tags": [],
        "colab": {
          "base_uri": "https://localhost:8080/"
        },
        "id": "6a6bda35",
        "outputId": "2cd44ca1-83a0-4f92-86ac-24aa146fc74a"
      },
      "outputs": [
        {
          "output_type": "execute_result",
          "data": {
            "text/plain": [
              "Dataset({\n",
              "    features: ['text'],\n",
              "    num_rows: 800\n",
              "})"
            ]
          },
          "metadata": {},
          "execution_count": 19
        }
      ],
      "source": [
        "generated_train_dataset"
      ]
    },
    {
      "cell_type": "markdown",
      "id": "e5314d1d",
      "metadata": {
        "papermill": {
          "duration": 0.013752,
          "end_time": "2023-12-10T12:15:14.462174",
          "exception": false,
          "start_time": "2023-12-10T12:15:14.448422",
          "status": "completed"
        },
        "tags": [],
        "id": "e5314d1d"
      },
      "source": [
        "# LoRA Configuration"
      ]
    },
    {
      "cell_type": "code",
      "execution_count": null,
      "id": "83c703c1",
      "metadata": {
        "execution": {
          "iopub.execute_input": "2023-12-10T12:15:14.588440Z",
          "iopub.status.busy": "2023-12-10T12:15:14.588130Z",
          "iopub.status.idle": "2023-12-10T12:15:14.593329Z",
          "shell.execute_reply": "2023-12-10T12:15:14.592471Z"
        },
        "papermill": {
          "duration": 0.022111,
          "end_time": "2023-12-10T12:15:14.595233",
          "exception": false,
          "start_time": "2023-12-10T12:15:14.573122",
          "status": "completed"
        },
        "tags": [],
        "id": "83c703c1"
      },
      "outputs": [],
      "source": [
        "def print_trainable_parameters(model):\n",
        "    trainable_params = 0\n",
        "    all_param = 0\n",
        "    for _, param in model.named_parameters():\n",
        "        all_param += param.numel()\n",
        "        if param.requires_grad:\n",
        "            trainable_params += param.numel()\n",
        "    print(\n",
        "        f\"trainable params: {trainable_params} || all params: {all_param} || trainable%: {100 * trainable_params / all_param}\"\n",
        "    )"
      ]
    },
    {
      "cell_type": "code",
      "execution_count": null,
      "id": "3b42896c",
      "metadata": {
        "execution": {
          "iopub.execute_input": "2023-12-10T12:15:14.491212Z",
          "iopub.status.busy": "2023-12-10T12:15:14.490930Z",
          "iopub.status.idle": "2023-12-10T12:15:14.557037Z",
          "shell.execute_reply": "2023-12-10T12:15:14.556380Z"
        },
        "papermill": {
          "duration": 0.082694,
          "end_time": "2023-12-10T12:15:14.558966",
          "exception": false,
          "start_time": "2023-12-10T12:15:14.476272",
          "status": "completed"
        },
        "tags": [],
        "colab": {
          "base_uri": "https://localhost:8080/"
        },
        "id": "3b42896c",
        "outputId": "cf19d8bf-6a5d-4e67-a056-7df8002ccdd5"
      },
      "outputs": [
        {
          "output_type": "stream",
          "name": "stdout",
          "text": [
            "trainable params: 21260288 || all params: 3773331456 || trainable%: 0.5634354746703705\n"
          ]
        }
      ],
      "source": [
        "def convert_to_lora_pft_mut(model):\n",
        "    model.gradient_checkpointing_enable()\n",
        "    model = prepare_model_for_kbit_training(model)\n",
        "    lora_config = LoraConfig(\n",
        "        r=8,\n",
        "        lora_alpha=16,\n",
        "        target_modules=[\n",
        "            \"q_proj\",\n",
        "            \"k_proj\",\n",
        "            \"v_proj\",\n",
        "            \"o_proj\",\n",
        "            \"gate_proj\",\n",
        "            \"up_proj\",\n",
        "            \"down_proj\",\n",
        "            \"lm_head\",\n",
        "        ],\n",
        "        bias=\"none\",\n",
        "        lora_dropout=0.05,\n",
        "        task_type=\"CAUSAL_LM\",\n",
        "    )\n",
        "\n",
        "    model = get_peft_model(model, lora_config)\n",
        "    return lora_config\n",
        "\n",
        "lora_config = convert_to_lora_pft_mut(model)\n",
        "print_trainable_parameters(model)"
      ]
    },
    {
      "cell_type": "markdown",
      "id": "f1456acd",
      "metadata": {
        "papermill": {
          "duration": 0.019617,
          "end_time": "2023-12-10T12:15:15.223417",
          "exception": false,
          "start_time": "2023-12-10T12:15:15.203800",
          "status": "completed"
        },
        "tags": [],
        "id": "f1456acd"
      },
      "source": [
        "# Model Training"
      ]
    },
    {
      "cell_type": "code",
      "execution_count": null,
      "id": "6ce5e293",
      "metadata": {
        "execution": {
          "iopub.execute_input": "2023-12-10T12:15:15.286595Z",
          "iopub.status.busy": "2023-12-10T12:15:15.285904Z",
          "iopub.status.idle": "2023-12-10T12:15:15.303343Z",
          "shell.execute_reply": "2023-12-10T12:15:15.302628Z"
        },
        "papermill": {
          "duration": 0.034588,
          "end_time": "2023-12-10T12:15:15.305198",
          "exception": false,
          "start_time": "2023-12-10T12:15:15.270610",
          "status": "completed"
        },
        "tags": [],
        "colab": {
          "base_uri": "https://localhost:8080/",
          "height": 170,
          "referenced_widgets": [
            "82e8f58bf6674bcda66fd3d5300d5a71",
            "001209f5f0cc4ff098df77e6fe439c3c",
            "24b358370f4d42378c85e0eafa52164b",
            "060f92613d6c4acf9875f74c31bc4e0c",
            "73bcb863ce1a4d0890c3c42084a79370",
            "5c32d514287b442482d5a2f4f5cc2656",
            "2b78fc68a9704868afa234071c431028",
            "9482071f93d54cdcacf8d8c257c35948",
            "bb59f2cdda3e4bc98d34e50f3f92a53b",
            "4e45b1301df642c0b02955afe82cf310",
            "7fa2ed77cc3c4d0b95f5587d5eaced45",
            "ab69d6dcf011467e89dd32ca098b296d",
            "aa04355a7ac84bef89885c761a6e1830",
            "4d36ecb4dc714b28b3640acc5e259756",
            "3d0258ee47a34e168b4787d323aabccd",
            "99b9eea8edba4ab6bcb58b6ce9872181",
            "9f8fb51e1dbb4f54accf426af1be9af4",
            "9e15ec793a8e4991b0c65ed2f118b497",
            "c5af94c067a74eab8304fb86f13f76b4",
            "15bfcfc517ce44688c1b6dcc6fd337c4",
            "126ea4e3e86441fea574aa08fd77885a",
            "3d6fcda4c2f8488488b57463aef34116"
          ]
        },
        "id": "6ce5e293",
        "outputId": "14eb0c0f-22a0-4f7e-ac2b-95c024daca02"
      },
      "outputs": [
        {
          "output_type": "stream",
          "name": "stderr",
          "text": [
            "/usr/local/lib/python3.10/dist-packages/trl/trainer/sft_trainer.py:194: UserWarning: You didn't pass a `max_seq_length` argument to the SFTTrainer, this will default to 1024\n",
            "  warnings.warn(\n"
          ]
        },
        {
          "output_type": "display_data",
          "data": {
            "text/plain": [
              "Map:   0%|          | 0/800 [00:00<?, ? examples/s]"
            ],
            "application/vnd.jupyter.widget-view+json": {
              "version_major": 2,
              "version_minor": 0,
              "model_id": "82e8f58bf6674bcda66fd3d5300d5a71"
            }
          },
          "metadata": {}
        },
        {
          "output_type": "display_data",
          "data": {
            "text/plain": [
              "Map:   0%|          | 0/200 [00:00<?, ? examples/s]"
            ],
            "application/vnd.jupyter.widget-view+json": {
              "version_major": 2,
              "version_minor": 0,
              "model_id": "ab69d6dcf011467e89dd32ca098b296d"
            }
          },
          "metadata": {}
        },
        {
          "output_type": "stream",
          "name": "stderr",
          "text": [
            "/usr/local/lib/python3.10/dist-packages/trl/trainer/sft_trainer.py:247: UserWarning: You passed a tokenizer with `padding_side` not equal to `right` to the SFTTrainer. This might lead to some unexpected behaviour due to overflow issues when training a model in half-precision. You might consider adding `tokenizer.padding_side = 'right'` to your code.\n",
            "  warnings.warn(\n"
          ]
        }
      ],
      "source": [
        "def define_trainer(model, tokenizer, lora_config, train_dataset, eval_dataset):\n",
        "  training_arguments = TrainingArguments(\n",
        "      output_dir=\"./results\",\n",
        "      num_train_epochs=1,\n",
        "      per_device_train_batch_size=4,\n",
        "      gradient_accumulation_steps=1,\n",
        "      optim=\"paged_adamw_32bit\",\n",
        "      save_strategy=\"steps\",\n",
        "      save_steps=25,\n",
        "      logging_steps=25,\n",
        "      learning_rate=2e-4,\n",
        "      weight_decay=0.001,\n",
        "      max_steps=250,\n",
        "      evaluation_strategy=\"steps\",\n",
        "      eval_steps=25,\n",
        "      do_eval=True,\n",
        "      report_to=\"none\",\n",
        "  )\n",
        "\n",
        "\n",
        "\n",
        "  # this appareantly performs reinforcement learning\n",
        "  # https://pypi.org/project/trl/\n",
        "\n",
        "  # Setting sft parameters\n",
        "  trainer = SFTTrainer(\n",
        "      model=model,\n",
        "      tokenizer=tokenizer,\n",
        "      args=training_arguments,\n",
        "      train_dataset=train_dataset,\n",
        "      eval_dataset=eval_dataset,\n",
        "      peft_config=lora_config,\n",
        "      dataset_text_field=\"text\", # SFTTrainer assumes instruction and response in the same string.\n",
        "  )\n",
        "\n",
        "  # necessary for training\n",
        "  model.config.use_cache = False\n",
        "  tokenizer.pad_token = tokenizer.eos_token\n",
        "\n",
        "  return trainer\n",
        "\n",
        "trainer = define_trainer(model, tokenizer, lora_config, generated_train_dataset, generated_val_dataset)"
      ]
    },
    {
      "cell_type": "code",
      "execution_count": null,
      "id": "a16fcdbd",
      "metadata": {
        "execution": {
          "iopub.execute_input": "2023-12-10T12:15:15.334751Z",
          "iopub.status.busy": "2023-12-10T12:15:15.334472Z",
          "iopub.status.idle": "2023-12-10T12:15:28.099142Z",
          "shell.execute_reply": "2023-12-10T12:15:28.098375Z"
        },
        "papermill": {
          "duration": 12.781802,
          "end_time": "2023-12-10T12:15:28.101109",
          "exception": false,
          "start_time": "2023-12-10T12:15:15.319307",
          "status": "completed"
        },
        "tags": [],
        "colab": {
          "base_uri": "https://localhost:8080/",
          "height": 130
        },
        "id": "a16fcdbd",
        "outputId": "65b497cc-72a0-4945-b50b-8e141982bece"
      },
      "outputs": [
        {
          "output_type": "stream",
          "name": "stderr",
          "text": [
            "/usr/local/lib/python3.10/dist-packages/torch/utils/checkpoint.py:429: UserWarning: torch.utils.checkpoint: please pass in use_reentrant=True or use_reentrant=False explicitly. The default value of use_reentrant will be updated to be False in the future. To maintain current behavior, pass use_reentrant=True. It is recommended that you use use_reentrant=False. Refer to docs for more details on the differences between the two variants.\n",
            "  warnings.warn(\n"
          ]
        },
        {
          "output_type": "display_data",
          "data": {
            "text/plain": [
              "<IPython.core.display.HTML object>"
            ],
            "text/html": [
              "\n",
              "    <div>\n",
              "      \n",
              "      <progress value='25' max='250' style='width:300px; height:20px; vertical-align: middle;'></progress>\n",
              "      [ 25/250 08:27 < 1:22:48, 0.05 it/s, Epoch 0.12/2]\n",
              "    </div>\n",
              "    <table border=\"1\" class=\"dataframe\">\n",
              "  <thead>\n",
              " <tr style=\"text-align: left;\">\n",
              "      <th>Step</th>\n",
              "      <th>Training Loss</th>\n",
              "      <th>Validation Loss</th>\n",
              "    </tr>\n",
              "  </thead>\n",
              "  <tbody>\n",
              "  </tbody>\n",
              "</table><p>"
            ]
          },
          "metadata": {}
        }
      ],
      "source": [
        "trainer.train()"
      ]
    },
    {
      "cell_type": "code",
      "execution_count": null,
      "id": "fec33c3f",
      "metadata": {
        "papermill": {
          "duration": 0.014372,
          "end_time": "2023-12-10T12:15:28.130571",
          "exception": false,
          "start_time": "2023-12-10T12:15:28.116199",
          "status": "completed"
        },
        "tags": [],
        "id": "fec33c3f"
      },
      "outputs": [],
      "source": []
    },
    {
      "cell_type": "code",
      "execution_count": null,
      "id": "f9ffca13",
      "metadata": {
        "papermill": {
          "duration": 0.014367,
          "end_time": "2023-12-10T12:15:28.159582",
          "exception": false,
          "start_time": "2023-12-10T12:15:28.145215",
          "status": "completed"
        },
        "tags": [],
        "id": "f9ffca13"
      },
      "outputs": [],
      "source": []
    },
    {
      "cell_type": "code",
      "execution_count": null,
      "id": "acab3311",
      "metadata": {
        "execution": {
          "iopub.execute_input": "2023-12-10T12:15:28.189808Z",
          "iopub.status.busy": "2023-12-10T12:15:28.189530Z",
          "iopub.status.idle": "2023-12-10T13:39:23.201549Z",
          "shell.execute_reply": "2023-12-10T13:39:23.200601Z"
        },
        "papermill": {
          "duration": 5035.029586,
          "end_time": "2023-12-10T13:39:23.203645",
          "exception": false,
          "start_time": "2023-12-10T12:15:28.174059",
          "status": "completed"
        },
        "tags": [],
        "id": "acab3311",
        "outputId": "21ce7e07-c3c7-4f3f-9ccf-f439e1c837a9"
      },
      "outputs": [
        {
          "name": "stderr",
          "output_type": "stream",
          "text": [
            "You're using a LlamaTokenizerFast tokenizer. Please note that with a fast tokenizer, using the `__call__` method is faster than using a method to encode the text followed by a call to the `pad` method to get a padded encoding.\n"
          ]
        },
        {
          "data": {
            "text/html": [
              "\n",
              "    <div>\n",
              "      \n",
              "      <progress value='250' max='250' style='width:300px; height:20px; vertical-align: middle;'></progress>\n",
              "      [250/250 1:23:47, Epoch 1/2]\n",
              "    </div>\n",
              "    <table border=\"1\" class=\"dataframe\">\n",
              "  <thead>\n",
              " <tr style=\"text-align: left;\">\n",
              "      <th>Step</th>\n",
              "      <th>Training Loss</th>\n",
              "      <th>Validation Loss</th>\n",
              "    </tr>\n",
              "  </thead>\n",
              "  <tbody>\n",
              "    <tr>\n",
              "      <td>25</td>\n",
              "      <td>1.508800</td>\n",
              "      <td>1.486149</td>\n",
              "    </tr>\n",
              "    <tr>\n",
              "      <td>50</td>\n",
              "      <td>1.498600</td>\n",
              "      <td>1.426235</td>\n",
              "    </tr>\n",
              "    <tr>\n",
              "      <td>75</td>\n",
              "      <td>1.525100</td>\n",
              "      <td>1.411534</td>\n",
              "    </tr>\n",
              "    <tr>\n",
              "      <td>100</td>\n",
              "      <td>1.434200</td>\n",
              "      <td>1.407450</td>\n",
              "    </tr>\n",
              "    <tr>\n",
              "      <td>125</td>\n",
              "      <td>1.381000</td>\n",
              "      <td>1.404542</td>\n",
              "    </tr>\n",
              "    <tr>\n",
              "      <td>150</td>\n",
              "      <td>1.416100</td>\n",
              "      <td>1.399403</td>\n",
              "    </tr>\n",
              "    <tr>\n",
              "      <td>175</td>\n",
              "      <td>1.388800</td>\n",
              "      <td>1.397642</td>\n",
              "    </tr>\n",
              "    <tr>\n",
              "      <td>200</td>\n",
              "      <td>1.353100</td>\n",
              "      <td>1.395627</td>\n",
              "    </tr>\n",
              "    <tr>\n",
              "      <td>225</td>\n",
              "      <td>1.174500</td>\n",
              "      <td>1.406148</td>\n",
              "    </tr>\n",
              "    <tr>\n",
              "      <td>250</td>\n",
              "      <td>1.108500</td>\n",
              "      <td>1.409241</td>\n",
              "    </tr>\n",
              "  </tbody>\n",
              "</table><p>"
            ],
            "text/plain": [
              "<IPython.core.display.HTML object>"
            ]
          },
          "metadata": {},
          "output_type": "display_data"
        },
        {
          "name": "stderr",
          "output_type": "stream",
          "text": [
            "/opt/conda/lib/python3.10/site-packages/peft/utils/save_and_load.py:131: UserWarning: Setting `save_embedding_layers` to `True` as embedding layers found in `target_modules`.\n",
            "  warnings.warn(\"Setting `save_embedding_layers` to `True` as embedding layers found in `target_modules`.\")\n",
            "/opt/conda/lib/python3.10/site-packages/peft/utils/save_and_load.py:131: UserWarning: Setting `save_embedding_layers` to `True` as embedding layers found in `target_modules`.\n",
            "  warnings.warn(\"Setting `save_embedding_layers` to `True` as embedding layers found in `target_modules`.\")\n",
            "/opt/conda/lib/python3.10/site-packages/peft/utils/save_and_load.py:131: UserWarning: Setting `save_embedding_layers` to `True` as embedding layers found in `target_modules`.\n",
            "  warnings.warn(\"Setting `save_embedding_layers` to `True` as embedding layers found in `target_modules`.\")\n",
            "/opt/conda/lib/python3.10/site-packages/peft/utils/save_and_load.py:131: UserWarning: Setting `save_embedding_layers` to `True` as embedding layers found in `target_modules`.\n",
            "  warnings.warn(\"Setting `save_embedding_layers` to `True` as embedding layers found in `target_modules`.\")\n",
            "/opt/conda/lib/python3.10/site-packages/peft/utils/save_and_load.py:131: UserWarning: Setting `save_embedding_layers` to `True` as embedding layers found in `target_modules`.\n",
            "  warnings.warn(\"Setting `save_embedding_layers` to `True` as embedding layers found in `target_modules`.\")\n",
            "/opt/conda/lib/python3.10/site-packages/peft/utils/save_and_load.py:131: UserWarning: Setting `save_embedding_layers` to `True` as embedding layers found in `target_modules`.\n",
            "  warnings.warn(\"Setting `save_embedding_layers` to `True` as embedding layers found in `target_modules`.\")\n",
            "/opt/conda/lib/python3.10/site-packages/peft/utils/save_and_load.py:131: UserWarning: Setting `save_embedding_layers` to `True` as embedding layers found in `target_modules`.\n",
            "  warnings.warn(\"Setting `save_embedding_layers` to `True` as embedding layers found in `target_modules`.\")\n",
            "/opt/conda/lib/python3.10/site-packages/peft/utils/save_and_load.py:131: UserWarning: Setting `save_embedding_layers` to `True` as embedding layers found in `target_modules`.\n",
            "  warnings.warn(\"Setting `save_embedding_layers` to `True` as embedding layers found in `target_modules`.\")\n",
            "/opt/conda/lib/python3.10/site-packages/peft/utils/save_and_load.py:131: UserWarning: Setting `save_embedding_layers` to `True` as embedding layers found in `target_modules`.\n",
            "  warnings.warn(\"Setting `save_embedding_layers` to `True` as embedding layers found in `target_modules`.\")\n",
            "/opt/conda/lib/python3.10/site-packages/peft/utils/save_and_load.py:131: UserWarning: Setting `save_embedding_layers` to `True` as embedding layers found in `target_modules`.\n",
            "  warnings.warn(\"Setting `save_embedding_layers` to `True` as embedding layers found in `target_modules`.\")\n",
            "/opt/conda/lib/python3.10/site-packages/peft/utils/save_and_load.py:131: UserWarning: Setting `save_embedding_layers` to `True` as embedding layers found in `target_modules`.\n",
            "  warnings.warn(\"Setting `save_embedding_layers` to `True` as embedding layers found in `target_modules`.\")\n"
          ]
        },
        {
          "data": {
            "text/plain": [
              "TrainOutput(global_step=250, training_loss=1.3788602905273437, metrics={'train_runtime': 5034.6364, 'train_samples_per_second': 0.199, 'train_steps_per_second': 0.05, 'total_flos': 1.8007699582058496e+16, 'train_loss': 1.3788602905273437, 'epoch': 1.25})"
            ]
          },
          "execution_count": 26,
          "metadata": {},
          "output_type": "execute_result"
        }
      ],
      "source": []
    },
    {
      "cell_type": "code",
      "execution_count": null,
      "id": "cc33a600",
      "metadata": {
        "execution": {
          "iopub.execute_input": "2023-12-10T13:39:23.237558Z",
          "iopub.status.busy": "2023-12-10T13:39:23.236873Z",
          "iopub.status.idle": "2023-12-10T13:39:27.043446Z",
          "shell.execute_reply": "2023-12-10T13:39:27.042353Z"
        },
        "papermill": {
          "duration": 3.825594,
          "end_time": "2023-12-10T13:39:27.045545",
          "exception": false,
          "start_time": "2023-12-10T13:39:23.219951",
          "status": "completed"
        },
        "tags": [],
        "id": "cc33a600",
        "outputId": "687e864c-ceaf-4540-d8da-22c20b205373"
      },
      "outputs": [
        {
          "name": "stderr",
          "output_type": "stream",
          "text": [
            "/opt/conda/lib/python3.10/site-packages/transformers/generation/utils.py:1473: UserWarning: You have modified the pretrained model configuration to control generation. This is a deprecated strategy to control generation and will be removed soon, in a future version. Please use and modify the model generation configuration (see https://huggingface.co/docs/transformers/generation_strategies#default-text-generation-configuration )\n",
            "  warnings.warn(\n",
            "Setting `pad_token_id` to `eos_token_id`:2 for open-end generation.\n",
            "A decoder-only architecture is being used, but right-padding was detected! For correct generation results, please set `padding_side='left'` when initializing the tokenizer.\n",
            "/opt/conda/lib/python3.10/site-packages/transformers/generation/utils.py:1273: UserWarning: Using the model-agnostic default `max_length` (=20) to control the generation length. We recommend setting `max_new_tokens` to control the maximum length of the generation.\n",
            "  warnings.warn(\n",
            "/opt/conda/lib/python3.10/site-packages/transformers/generation/utils.py:1591: UserWarning: You are calling .generate() with the `input_ids` being on a device type different than your model's device. `input_ids` is on cpu, whereas the model is on cuda. You may experience unexpected behaviors or slower generation. Please make sure that you have put `input_ids` to the correct device by calling for example input_ids = input_ids.to('cuda') before running `.generate()`.\n",
            "  warnings.warn(\n"
          ]
        },
        {
          "data": {
            "text/plain": [
              "'<s> When did Virgin Australia start operating?</s> 2000\\n    None\\n    ['"
            ]
          },
          "execution_count": 27,
          "metadata": {},
          "output_type": "execute_result"
        }
      ],
      "source": [
        "inputs = tokenizer(\"When did Virgin Australia start operating?\", return_tensors=\"pt\")\n",
        "\n",
        "outputs = model.generate(**inputs)\n",
        "\n",
        "text = tokenizer.decode(outputs[-1], padding_side=\"left\")\n",
        "text"
      ]
    },
    {
      "cell_type": "code",
      "execution_count": null,
      "id": "b02acf61",
      "metadata": {
        "execution": {
          "iopub.execute_input": "2023-12-10T13:39:27.079898Z",
          "iopub.status.busy": "2023-12-10T13:39:27.079581Z",
          "iopub.status.idle": "2023-12-10T13:39:27.083958Z",
          "shell.execute_reply": "2023-12-10T13:39:27.083045Z"
        },
        "papermill": {
          "duration": 0.023713,
          "end_time": "2023-12-10T13:39:27.085988",
          "exception": false,
          "start_time": "2023-12-10T13:39:27.062275",
          "status": "completed"
        },
        "tags": [],
        "id": "b02acf61"
      },
      "outputs": [],
      "source": [
        "my_finetuned_model = \"mistral-7b-dolly\"\n",
        "\n",
        "#trainer.model.push_to_hub(my_finetuned_model)"
      ]
    }
  ],
  "metadata": {
    "kaggle": {
      "accelerator": "gpu",
      "dataSources": [],
      "dockerImageVersionId": 30587,
      "isGpuEnabled": true,
      "isInternetEnabled": true,
      "language": "python",
      "sourceType": "notebook"
    },
    "kernelspec": {
      "display_name": "Python 3",
      "name": "python3"
    },
    "language_info": {
      "codemirror_mode": {
        "name": "ipython",
        "version": 3
      },
      "file_extension": ".py",
      "mimetype": "text/x-python",
      "name": "python",
      "nbconvert_exporter": "python",
      "pygments_lexer": "ipython3",
      "version": "3.10.12"
    },
    "papermill": {
      "default_parameters": {},
      "duration": 5583.833576,
      "end_time": "2023-12-10T13:39:30.585093",
      "environment_variables": {},
      "exception": null,
      "input_path": "__notebook__.ipynb",
      "output_path": "__notebook__.ipynb",
      "parameters": {},
      "start_time": "2023-12-10T12:06:26.751517",
      "version": "2.4.0"
    },
    "widgets": {
      "application/vnd.jupyter.widget-state+json": {
        "5687935390994e248ca5c0a52bdcc674": {
          "model_module": "@jupyter-widgets/controls",
          "model_name": "HBoxModel",
          "model_module_version": "1.5.0",
          "state": {
            "_dom_classes": [],
            "_model_module": "@jupyter-widgets/controls",
            "_model_module_version": "1.5.0",
            "_model_name": "HBoxModel",
            "_view_count": null,
            "_view_module": "@jupyter-widgets/controls",
            "_view_module_version": "1.5.0",
            "_view_name": "HBoxView",
            "box_style": "",
            "children": [
              "IPY_MODEL_1196f21b5d26448da861b8019fa3b2ec",
              "IPY_MODEL_0387c206b0134d92a83c2ae2f52c06a0",
              "IPY_MODEL_23488c01aab347378786776aab638e62"
            ],
            "layout": "IPY_MODEL_04803141d4174dc898ce1cd06526a83c"
          }
        },
        "1196f21b5d26448da861b8019fa3b2ec": {
          "model_module": "@jupyter-widgets/controls",
          "model_name": "HTMLModel",
          "model_module_version": "1.5.0",
          "state": {
            "_dom_classes": [],
            "_model_module": "@jupyter-widgets/controls",
            "_model_module_version": "1.5.0",
            "_model_name": "HTMLModel",
            "_view_count": null,
            "_view_module": "@jupyter-widgets/controls",
            "_view_module_version": "1.5.0",
            "_view_name": "HTMLView",
            "description": "",
            "description_tooltip": null,
            "layout": "IPY_MODEL_c2b1cba89c684e60aa86242f95cd018b",
            "placeholder": "​",
            "style": "IPY_MODEL_d46a9a90df2e4bdbb5a2d00962b10f4d",
            "value": "Loading checkpoint shards: 100%"
          }
        },
        "0387c206b0134d92a83c2ae2f52c06a0": {
          "model_module": "@jupyter-widgets/controls",
          "model_name": "FloatProgressModel",
          "model_module_version": "1.5.0",
          "state": {
            "_dom_classes": [],
            "_model_module": "@jupyter-widgets/controls",
            "_model_module_version": "1.5.0",
            "_model_name": "FloatProgressModel",
            "_view_count": null,
            "_view_module": "@jupyter-widgets/controls",
            "_view_module_version": "1.5.0",
            "_view_name": "ProgressView",
            "bar_style": "success",
            "description": "",
            "description_tooltip": null,
            "layout": "IPY_MODEL_022d44b58b0848e89e425f18200bd9e7",
            "max": 3,
            "min": 0,
            "orientation": "horizontal",
            "style": "IPY_MODEL_65ec356228a040939b0c0dbe16e4f15e",
            "value": 3
          }
        },
        "23488c01aab347378786776aab638e62": {
          "model_module": "@jupyter-widgets/controls",
          "model_name": "HTMLModel",
          "model_module_version": "1.5.0",
          "state": {
            "_dom_classes": [],
            "_model_module": "@jupyter-widgets/controls",
            "_model_module_version": "1.5.0",
            "_model_name": "HTMLModel",
            "_view_count": null,
            "_view_module": "@jupyter-widgets/controls",
            "_view_module_version": "1.5.0",
            "_view_name": "HTMLView",
            "description": "",
            "description_tooltip": null,
            "layout": "IPY_MODEL_f564da0a90af4cdeabc60ad681250e1c",
            "placeholder": "​",
            "style": "IPY_MODEL_032ea3d4d3e64b0384a782631f274ec7",
            "value": " 3/3 [01:12&lt;00:00, 23.58s/it]"
          }
        },
        "04803141d4174dc898ce1cd06526a83c": {
          "model_module": "@jupyter-widgets/base",
          "model_name": "LayoutModel",
          "model_module_version": "1.2.0",
          "state": {
            "_model_module": "@jupyter-widgets/base",
            "_model_module_version": "1.2.0",
            "_model_name": "LayoutModel",
            "_view_count": null,
            "_view_module": "@jupyter-widgets/base",
            "_view_module_version": "1.2.0",
            "_view_name": "LayoutView",
            "align_content": null,
            "align_items": null,
            "align_self": null,
            "border": null,
            "bottom": null,
            "display": null,
            "flex": null,
            "flex_flow": null,
            "grid_area": null,
            "grid_auto_columns": null,
            "grid_auto_flow": null,
            "grid_auto_rows": null,
            "grid_column": null,
            "grid_gap": null,
            "grid_row": null,
            "grid_template_areas": null,
            "grid_template_columns": null,
            "grid_template_rows": null,
            "height": null,
            "justify_content": null,
            "justify_items": null,
            "left": null,
            "margin": null,
            "max_height": null,
            "max_width": null,
            "min_height": null,
            "min_width": null,
            "object_fit": null,
            "object_position": null,
            "order": null,
            "overflow": null,
            "overflow_x": null,
            "overflow_y": null,
            "padding": null,
            "right": null,
            "top": null,
            "visibility": null,
            "width": null
          }
        },
        "c2b1cba89c684e60aa86242f95cd018b": {
          "model_module": "@jupyter-widgets/base",
          "model_name": "LayoutModel",
          "model_module_version": "1.2.0",
          "state": {
            "_model_module": "@jupyter-widgets/base",
            "_model_module_version": "1.2.0",
            "_model_name": "LayoutModel",
            "_view_count": null,
            "_view_module": "@jupyter-widgets/base",
            "_view_module_version": "1.2.0",
            "_view_name": "LayoutView",
            "align_content": null,
            "align_items": null,
            "align_self": null,
            "border": null,
            "bottom": null,
            "display": null,
            "flex": null,
            "flex_flow": null,
            "grid_area": null,
            "grid_auto_columns": null,
            "grid_auto_flow": null,
            "grid_auto_rows": null,
            "grid_column": null,
            "grid_gap": null,
            "grid_row": null,
            "grid_template_areas": null,
            "grid_template_columns": null,
            "grid_template_rows": null,
            "height": null,
            "justify_content": null,
            "justify_items": null,
            "left": null,
            "margin": null,
            "max_height": null,
            "max_width": null,
            "min_height": null,
            "min_width": null,
            "object_fit": null,
            "object_position": null,
            "order": null,
            "overflow": null,
            "overflow_x": null,
            "overflow_y": null,
            "padding": null,
            "right": null,
            "top": null,
            "visibility": null,
            "width": null
          }
        },
        "d46a9a90df2e4bdbb5a2d00962b10f4d": {
          "model_module": "@jupyter-widgets/controls",
          "model_name": "DescriptionStyleModel",
          "model_module_version": "1.5.0",
          "state": {
            "_model_module": "@jupyter-widgets/controls",
            "_model_module_version": "1.5.0",
            "_model_name": "DescriptionStyleModel",
            "_view_count": null,
            "_view_module": "@jupyter-widgets/base",
            "_view_module_version": "1.2.0",
            "_view_name": "StyleView",
            "description_width": ""
          }
        },
        "022d44b58b0848e89e425f18200bd9e7": {
          "model_module": "@jupyter-widgets/base",
          "model_name": "LayoutModel",
          "model_module_version": "1.2.0",
          "state": {
            "_model_module": "@jupyter-widgets/base",
            "_model_module_version": "1.2.0",
            "_model_name": "LayoutModel",
            "_view_count": null,
            "_view_module": "@jupyter-widgets/base",
            "_view_module_version": "1.2.0",
            "_view_name": "LayoutView",
            "align_content": null,
            "align_items": null,
            "align_self": null,
            "border": null,
            "bottom": null,
            "display": null,
            "flex": null,
            "flex_flow": null,
            "grid_area": null,
            "grid_auto_columns": null,
            "grid_auto_flow": null,
            "grid_auto_rows": null,
            "grid_column": null,
            "grid_gap": null,
            "grid_row": null,
            "grid_template_areas": null,
            "grid_template_columns": null,
            "grid_template_rows": null,
            "height": null,
            "justify_content": null,
            "justify_items": null,
            "left": null,
            "margin": null,
            "max_height": null,
            "max_width": null,
            "min_height": null,
            "min_width": null,
            "object_fit": null,
            "object_position": null,
            "order": null,
            "overflow": null,
            "overflow_x": null,
            "overflow_y": null,
            "padding": null,
            "right": null,
            "top": null,
            "visibility": null,
            "width": null
          }
        },
        "65ec356228a040939b0c0dbe16e4f15e": {
          "model_module": "@jupyter-widgets/controls",
          "model_name": "ProgressStyleModel",
          "model_module_version": "1.5.0",
          "state": {
            "_model_module": "@jupyter-widgets/controls",
            "_model_module_version": "1.5.0",
            "_model_name": "ProgressStyleModel",
            "_view_count": null,
            "_view_module": "@jupyter-widgets/base",
            "_view_module_version": "1.2.0",
            "_view_name": "StyleView",
            "bar_color": null,
            "description_width": ""
          }
        },
        "f564da0a90af4cdeabc60ad681250e1c": {
          "model_module": "@jupyter-widgets/base",
          "model_name": "LayoutModel",
          "model_module_version": "1.2.0",
          "state": {
            "_model_module": "@jupyter-widgets/base",
            "_model_module_version": "1.2.0",
            "_model_name": "LayoutModel",
            "_view_count": null,
            "_view_module": "@jupyter-widgets/base",
            "_view_module_version": "1.2.0",
            "_view_name": "LayoutView",
            "align_content": null,
            "align_items": null,
            "align_self": null,
            "border": null,
            "bottom": null,
            "display": null,
            "flex": null,
            "flex_flow": null,
            "grid_area": null,
            "grid_auto_columns": null,
            "grid_auto_flow": null,
            "grid_auto_rows": null,
            "grid_column": null,
            "grid_gap": null,
            "grid_row": null,
            "grid_template_areas": null,
            "grid_template_columns": null,
            "grid_template_rows": null,
            "height": null,
            "justify_content": null,
            "justify_items": null,
            "left": null,
            "margin": null,
            "max_height": null,
            "max_width": null,
            "min_height": null,
            "min_width": null,
            "object_fit": null,
            "object_position": null,
            "order": null,
            "overflow": null,
            "overflow_x": null,
            "overflow_y": null,
            "padding": null,
            "right": null,
            "top": null,
            "visibility": null,
            "width": null
          }
        },
        "032ea3d4d3e64b0384a782631f274ec7": {
          "model_module": "@jupyter-widgets/controls",
          "model_name": "DescriptionStyleModel",
          "model_module_version": "1.5.0",
          "state": {
            "_model_module": "@jupyter-widgets/controls",
            "_model_module_version": "1.5.0",
            "_model_name": "DescriptionStyleModel",
            "_view_count": null,
            "_view_module": "@jupyter-widgets/base",
            "_view_module_version": "1.2.0",
            "_view_name": "StyleView",
            "description_width": ""
          }
        },
        "c4d7c77cb24e4e829504ff1cbba85f33": {
          "model_module": "@jupyter-widgets/controls",
          "model_name": "HBoxModel",
          "model_module_version": "1.5.0",
          "state": {
            "_dom_classes": [],
            "_model_module": "@jupyter-widgets/controls",
            "_model_module_version": "1.5.0",
            "_model_name": "HBoxModel",
            "_view_count": null,
            "_view_module": "@jupyter-widgets/controls",
            "_view_module_version": "1.5.0",
            "_view_name": "HBoxView",
            "box_style": "",
            "children": [
              "IPY_MODEL_ec9f6ca17f5b4a95806f138561fab68a",
              "IPY_MODEL_58e5b27cb4ce4cc0ad3afe9c236800f4",
              "IPY_MODEL_75f86d981fa54ff5a38f26970cabcca3"
            ],
            "layout": "IPY_MODEL_5c94908a4a9a4597b39322babf6ddf7a"
          }
        },
        "ec9f6ca17f5b4a95806f138561fab68a": {
          "model_module": "@jupyter-widgets/controls",
          "model_name": "HTMLModel",
          "model_module_version": "1.5.0",
          "state": {
            "_dom_classes": [],
            "_model_module": "@jupyter-widgets/controls",
            "_model_module_version": "1.5.0",
            "_model_name": "HTMLModel",
            "_view_count": null,
            "_view_module": "@jupyter-widgets/controls",
            "_view_module_version": "1.5.0",
            "_view_name": "HTMLView",
            "description": "",
            "description_tooltip": null,
            "layout": "IPY_MODEL_0716161530154a2cb917e376ce5e0fad",
            "placeholder": "​",
            "style": "IPY_MODEL_ec6d1815ea224e0abe737b19d1ccb798",
            "value": "Map: 100%"
          }
        },
        "58e5b27cb4ce4cc0ad3afe9c236800f4": {
          "model_module": "@jupyter-widgets/controls",
          "model_name": "FloatProgressModel",
          "model_module_version": "1.5.0",
          "state": {
            "_dom_classes": [],
            "_model_module": "@jupyter-widgets/controls",
            "_model_module_version": "1.5.0",
            "_model_name": "FloatProgressModel",
            "_view_count": null,
            "_view_module": "@jupyter-widgets/controls",
            "_view_module_version": "1.5.0",
            "_view_name": "ProgressView",
            "bar_style": "success",
            "description": "",
            "description_tooltip": null,
            "layout": "IPY_MODEL_c577e7ad6b1a4b718f8b1ea03ce8e4e4",
            "max": 800,
            "min": 0,
            "orientation": "horizontal",
            "style": "IPY_MODEL_428ebdcc38d8475eb51141a90a36f557",
            "value": 800
          }
        },
        "75f86d981fa54ff5a38f26970cabcca3": {
          "model_module": "@jupyter-widgets/controls",
          "model_name": "HTMLModel",
          "model_module_version": "1.5.0",
          "state": {
            "_dom_classes": [],
            "_model_module": "@jupyter-widgets/controls",
            "_model_module_version": "1.5.0",
            "_model_name": "HTMLModel",
            "_view_count": null,
            "_view_module": "@jupyter-widgets/controls",
            "_view_module_version": "1.5.0",
            "_view_name": "HTMLView",
            "description": "",
            "description_tooltip": null,
            "layout": "IPY_MODEL_289d616312d641e48c22cb9b36692618",
            "placeholder": "​",
            "style": "IPY_MODEL_cff09b1f417d407daa4fe74d20b0ce74",
            "value": " 800/800 [00:00&lt;00:00, 3633.88 examples/s]"
          }
        },
        "5c94908a4a9a4597b39322babf6ddf7a": {
          "model_module": "@jupyter-widgets/base",
          "model_name": "LayoutModel",
          "model_module_version": "1.2.0",
          "state": {
            "_model_module": "@jupyter-widgets/base",
            "_model_module_version": "1.2.0",
            "_model_name": "LayoutModel",
            "_view_count": null,
            "_view_module": "@jupyter-widgets/base",
            "_view_module_version": "1.2.0",
            "_view_name": "LayoutView",
            "align_content": null,
            "align_items": null,
            "align_self": null,
            "border": null,
            "bottom": null,
            "display": null,
            "flex": null,
            "flex_flow": null,
            "grid_area": null,
            "grid_auto_columns": null,
            "grid_auto_flow": null,
            "grid_auto_rows": null,
            "grid_column": null,
            "grid_gap": null,
            "grid_row": null,
            "grid_template_areas": null,
            "grid_template_columns": null,
            "grid_template_rows": null,
            "height": null,
            "justify_content": null,
            "justify_items": null,
            "left": null,
            "margin": null,
            "max_height": null,
            "max_width": null,
            "min_height": null,
            "min_width": null,
            "object_fit": null,
            "object_position": null,
            "order": null,
            "overflow": null,
            "overflow_x": null,
            "overflow_y": null,
            "padding": null,
            "right": null,
            "top": null,
            "visibility": null,
            "width": null
          }
        },
        "0716161530154a2cb917e376ce5e0fad": {
          "model_module": "@jupyter-widgets/base",
          "model_name": "LayoutModel",
          "model_module_version": "1.2.0",
          "state": {
            "_model_module": "@jupyter-widgets/base",
            "_model_module_version": "1.2.0",
            "_model_name": "LayoutModel",
            "_view_count": null,
            "_view_module": "@jupyter-widgets/base",
            "_view_module_version": "1.2.0",
            "_view_name": "LayoutView",
            "align_content": null,
            "align_items": null,
            "align_self": null,
            "border": null,
            "bottom": null,
            "display": null,
            "flex": null,
            "flex_flow": null,
            "grid_area": null,
            "grid_auto_columns": null,
            "grid_auto_flow": null,
            "grid_auto_rows": null,
            "grid_column": null,
            "grid_gap": null,
            "grid_row": null,
            "grid_template_areas": null,
            "grid_template_columns": null,
            "grid_template_rows": null,
            "height": null,
            "justify_content": null,
            "justify_items": null,
            "left": null,
            "margin": null,
            "max_height": null,
            "max_width": null,
            "min_height": null,
            "min_width": null,
            "object_fit": null,
            "object_position": null,
            "order": null,
            "overflow": null,
            "overflow_x": null,
            "overflow_y": null,
            "padding": null,
            "right": null,
            "top": null,
            "visibility": null,
            "width": null
          }
        },
        "ec6d1815ea224e0abe737b19d1ccb798": {
          "model_module": "@jupyter-widgets/controls",
          "model_name": "DescriptionStyleModel",
          "model_module_version": "1.5.0",
          "state": {
            "_model_module": "@jupyter-widgets/controls",
            "_model_module_version": "1.5.0",
            "_model_name": "DescriptionStyleModel",
            "_view_count": null,
            "_view_module": "@jupyter-widgets/base",
            "_view_module_version": "1.2.0",
            "_view_name": "StyleView",
            "description_width": ""
          }
        },
        "c577e7ad6b1a4b718f8b1ea03ce8e4e4": {
          "model_module": "@jupyter-widgets/base",
          "model_name": "LayoutModel",
          "model_module_version": "1.2.0",
          "state": {
            "_model_module": "@jupyter-widgets/base",
            "_model_module_version": "1.2.0",
            "_model_name": "LayoutModel",
            "_view_count": null,
            "_view_module": "@jupyter-widgets/base",
            "_view_module_version": "1.2.0",
            "_view_name": "LayoutView",
            "align_content": null,
            "align_items": null,
            "align_self": null,
            "border": null,
            "bottom": null,
            "display": null,
            "flex": null,
            "flex_flow": null,
            "grid_area": null,
            "grid_auto_columns": null,
            "grid_auto_flow": null,
            "grid_auto_rows": null,
            "grid_column": null,
            "grid_gap": null,
            "grid_row": null,
            "grid_template_areas": null,
            "grid_template_columns": null,
            "grid_template_rows": null,
            "height": null,
            "justify_content": null,
            "justify_items": null,
            "left": null,
            "margin": null,
            "max_height": null,
            "max_width": null,
            "min_height": null,
            "min_width": null,
            "object_fit": null,
            "object_position": null,
            "order": null,
            "overflow": null,
            "overflow_x": null,
            "overflow_y": null,
            "padding": null,
            "right": null,
            "top": null,
            "visibility": null,
            "width": null
          }
        },
        "428ebdcc38d8475eb51141a90a36f557": {
          "model_module": "@jupyter-widgets/controls",
          "model_name": "ProgressStyleModel",
          "model_module_version": "1.5.0",
          "state": {
            "_model_module": "@jupyter-widgets/controls",
            "_model_module_version": "1.5.0",
            "_model_name": "ProgressStyleModel",
            "_view_count": null,
            "_view_module": "@jupyter-widgets/base",
            "_view_module_version": "1.2.0",
            "_view_name": "StyleView",
            "bar_color": null,
            "description_width": ""
          }
        },
        "289d616312d641e48c22cb9b36692618": {
          "model_module": "@jupyter-widgets/base",
          "model_name": "LayoutModel",
          "model_module_version": "1.2.0",
          "state": {
            "_model_module": "@jupyter-widgets/base",
            "_model_module_version": "1.2.0",
            "_model_name": "LayoutModel",
            "_view_count": null,
            "_view_module": "@jupyter-widgets/base",
            "_view_module_version": "1.2.0",
            "_view_name": "LayoutView",
            "align_content": null,
            "align_items": null,
            "align_self": null,
            "border": null,
            "bottom": null,
            "display": null,
            "flex": null,
            "flex_flow": null,
            "grid_area": null,
            "grid_auto_columns": null,
            "grid_auto_flow": null,
            "grid_auto_rows": null,
            "grid_column": null,
            "grid_gap": null,
            "grid_row": null,
            "grid_template_areas": null,
            "grid_template_columns": null,
            "grid_template_rows": null,
            "height": null,
            "justify_content": null,
            "justify_items": null,
            "left": null,
            "margin": null,
            "max_height": null,
            "max_width": null,
            "min_height": null,
            "min_width": null,
            "object_fit": null,
            "object_position": null,
            "order": null,
            "overflow": null,
            "overflow_x": null,
            "overflow_y": null,
            "padding": null,
            "right": null,
            "top": null,
            "visibility": null,
            "width": null
          }
        },
        "cff09b1f417d407daa4fe74d20b0ce74": {
          "model_module": "@jupyter-widgets/controls",
          "model_name": "DescriptionStyleModel",
          "model_module_version": "1.5.0",
          "state": {
            "_model_module": "@jupyter-widgets/controls",
            "_model_module_version": "1.5.0",
            "_model_name": "DescriptionStyleModel",
            "_view_count": null,
            "_view_module": "@jupyter-widgets/base",
            "_view_module_version": "1.2.0",
            "_view_name": "StyleView",
            "description_width": ""
          }
        },
        "ce3bd92130694a029410eb17bebb51d5": {
          "model_module": "@jupyter-widgets/controls",
          "model_name": "HBoxModel",
          "model_module_version": "1.5.0",
          "state": {
            "_dom_classes": [],
            "_model_module": "@jupyter-widgets/controls",
            "_model_module_version": "1.5.0",
            "_model_name": "HBoxModel",
            "_view_count": null,
            "_view_module": "@jupyter-widgets/controls",
            "_view_module_version": "1.5.0",
            "_view_name": "HBoxView",
            "box_style": "",
            "children": [
              "IPY_MODEL_666d6a4fc7ae4e5e9b82e01a96d86ec0",
              "IPY_MODEL_05ec211ed0544be9b18100213e7f97c1",
              "IPY_MODEL_d6573c8e664041179c225de31f38c3ab"
            ],
            "layout": "IPY_MODEL_30aa78d7b6174c68888013b205d09f31"
          }
        },
        "666d6a4fc7ae4e5e9b82e01a96d86ec0": {
          "model_module": "@jupyter-widgets/controls",
          "model_name": "HTMLModel",
          "model_module_version": "1.5.0",
          "state": {
            "_dom_classes": [],
            "_model_module": "@jupyter-widgets/controls",
            "_model_module_version": "1.5.0",
            "_model_name": "HTMLModel",
            "_view_count": null,
            "_view_module": "@jupyter-widgets/controls",
            "_view_module_version": "1.5.0",
            "_view_name": "HTMLView",
            "description": "",
            "description_tooltip": null,
            "layout": "IPY_MODEL_0d0f108706d84734b3446c36f26d65d6",
            "placeholder": "​",
            "style": "IPY_MODEL_444a81171ddc4c2ebcbc46d2a348e1c8",
            "value": "Map: 100%"
          }
        },
        "05ec211ed0544be9b18100213e7f97c1": {
          "model_module": "@jupyter-widgets/controls",
          "model_name": "FloatProgressModel",
          "model_module_version": "1.5.0",
          "state": {
            "_dom_classes": [],
            "_model_module": "@jupyter-widgets/controls",
            "_model_module_version": "1.5.0",
            "_model_name": "FloatProgressModel",
            "_view_count": null,
            "_view_module": "@jupyter-widgets/controls",
            "_view_module_version": "1.5.0",
            "_view_name": "ProgressView",
            "bar_style": "success",
            "description": "",
            "description_tooltip": null,
            "layout": "IPY_MODEL_a135c7e60827479ba2edaf8e6a55b0b1",
            "max": 200,
            "min": 0,
            "orientation": "horizontal",
            "style": "IPY_MODEL_dd1c087267194be581a5f0b962a53cd3",
            "value": 200
          }
        },
        "d6573c8e664041179c225de31f38c3ab": {
          "model_module": "@jupyter-widgets/controls",
          "model_name": "HTMLModel",
          "model_module_version": "1.5.0",
          "state": {
            "_dom_classes": [],
            "_model_module": "@jupyter-widgets/controls",
            "_model_module_version": "1.5.0",
            "_model_name": "HTMLModel",
            "_view_count": null,
            "_view_module": "@jupyter-widgets/controls",
            "_view_module_version": "1.5.0",
            "_view_name": "HTMLView",
            "description": "",
            "description_tooltip": null,
            "layout": "IPY_MODEL_01cde56414e24d41a0641240891ec994",
            "placeholder": "​",
            "style": "IPY_MODEL_6bb95e5b9e844e7fbb28830c20bc767d",
            "value": " 200/200 [00:00&lt;00:00, 2247.94 examples/s]"
          }
        },
        "30aa78d7b6174c68888013b205d09f31": {
          "model_module": "@jupyter-widgets/base",
          "model_name": "LayoutModel",
          "model_module_version": "1.2.0",
          "state": {
            "_model_module": "@jupyter-widgets/base",
            "_model_module_version": "1.2.0",
            "_model_name": "LayoutModel",
            "_view_count": null,
            "_view_module": "@jupyter-widgets/base",
            "_view_module_version": "1.2.0",
            "_view_name": "LayoutView",
            "align_content": null,
            "align_items": null,
            "align_self": null,
            "border": null,
            "bottom": null,
            "display": null,
            "flex": null,
            "flex_flow": null,
            "grid_area": null,
            "grid_auto_columns": null,
            "grid_auto_flow": null,
            "grid_auto_rows": null,
            "grid_column": null,
            "grid_gap": null,
            "grid_row": null,
            "grid_template_areas": null,
            "grid_template_columns": null,
            "grid_template_rows": null,
            "height": null,
            "justify_content": null,
            "justify_items": null,
            "left": null,
            "margin": null,
            "max_height": null,
            "max_width": null,
            "min_height": null,
            "min_width": null,
            "object_fit": null,
            "object_position": null,
            "order": null,
            "overflow": null,
            "overflow_x": null,
            "overflow_y": null,
            "padding": null,
            "right": null,
            "top": null,
            "visibility": null,
            "width": null
          }
        },
        "0d0f108706d84734b3446c36f26d65d6": {
          "model_module": "@jupyter-widgets/base",
          "model_name": "LayoutModel",
          "model_module_version": "1.2.0",
          "state": {
            "_model_module": "@jupyter-widgets/base",
            "_model_module_version": "1.2.0",
            "_model_name": "LayoutModel",
            "_view_count": null,
            "_view_module": "@jupyter-widgets/base",
            "_view_module_version": "1.2.0",
            "_view_name": "LayoutView",
            "align_content": null,
            "align_items": null,
            "align_self": null,
            "border": null,
            "bottom": null,
            "display": null,
            "flex": null,
            "flex_flow": null,
            "grid_area": null,
            "grid_auto_columns": null,
            "grid_auto_flow": null,
            "grid_auto_rows": null,
            "grid_column": null,
            "grid_gap": null,
            "grid_row": null,
            "grid_template_areas": null,
            "grid_template_columns": null,
            "grid_template_rows": null,
            "height": null,
            "justify_content": null,
            "justify_items": null,
            "left": null,
            "margin": null,
            "max_height": null,
            "max_width": null,
            "min_height": null,
            "min_width": null,
            "object_fit": null,
            "object_position": null,
            "order": null,
            "overflow": null,
            "overflow_x": null,
            "overflow_y": null,
            "padding": null,
            "right": null,
            "top": null,
            "visibility": null,
            "width": null
          }
        },
        "444a81171ddc4c2ebcbc46d2a348e1c8": {
          "model_module": "@jupyter-widgets/controls",
          "model_name": "DescriptionStyleModel",
          "model_module_version": "1.5.0",
          "state": {
            "_model_module": "@jupyter-widgets/controls",
            "_model_module_version": "1.5.0",
            "_model_name": "DescriptionStyleModel",
            "_view_count": null,
            "_view_module": "@jupyter-widgets/base",
            "_view_module_version": "1.2.0",
            "_view_name": "StyleView",
            "description_width": ""
          }
        },
        "a135c7e60827479ba2edaf8e6a55b0b1": {
          "model_module": "@jupyter-widgets/base",
          "model_name": "LayoutModel",
          "model_module_version": "1.2.0",
          "state": {
            "_model_module": "@jupyter-widgets/base",
            "_model_module_version": "1.2.0",
            "_model_name": "LayoutModel",
            "_view_count": null,
            "_view_module": "@jupyter-widgets/base",
            "_view_module_version": "1.2.0",
            "_view_name": "LayoutView",
            "align_content": null,
            "align_items": null,
            "align_self": null,
            "border": null,
            "bottom": null,
            "display": null,
            "flex": null,
            "flex_flow": null,
            "grid_area": null,
            "grid_auto_columns": null,
            "grid_auto_flow": null,
            "grid_auto_rows": null,
            "grid_column": null,
            "grid_gap": null,
            "grid_row": null,
            "grid_template_areas": null,
            "grid_template_columns": null,
            "grid_template_rows": null,
            "height": null,
            "justify_content": null,
            "justify_items": null,
            "left": null,
            "margin": null,
            "max_height": null,
            "max_width": null,
            "min_height": null,
            "min_width": null,
            "object_fit": null,
            "object_position": null,
            "order": null,
            "overflow": null,
            "overflow_x": null,
            "overflow_y": null,
            "padding": null,
            "right": null,
            "top": null,
            "visibility": null,
            "width": null
          }
        },
        "dd1c087267194be581a5f0b962a53cd3": {
          "model_module": "@jupyter-widgets/controls",
          "model_name": "ProgressStyleModel",
          "model_module_version": "1.5.0",
          "state": {
            "_model_module": "@jupyter-widgets/controls",
            "_model_module_version": "1.5.0",
            "_model_name": "ProgressStyleModel",
            "_view_count": null,
            "_view_module": "@jupyter-widgets/base",
            "_view_module_version": "1.2.0",
            "_view_name": "StyleView",
            "bar_color": null,
            "description_width": ""
          }
        },
        "01cde56414e24d41a0641240891ec994": {
          "model_module": "@jupyter-widgets/base",
          "model_name": "LayoutModel",
          "model_module_version": "1.2.0",
          "state": {
            "_model_module": "@jupyter-widgets/base",
            "_model_module_version": "1.2.0",
            "_model_name": "LayoutModel",
            "_view_count": null,
            "_view_module": "@jupyter-widgets/base",
            "_view_module_version": "1.2.0",
            "_view_name": "LayoutView",
            "align_content": null,
            "align_items": null,
            "align_self": null,
            "border": null,
            "bottom": null,
            "display": null,
            "flex": null,
            "flex_flow": null,
            "grid_area": null,
            "grid_auto_columns": null,
            "grid_auto_flow": null,
            "grid_auto_rows": null,
            "grid_column": null,
            "grid_gap": null,
            "grid_row": null,
            "grid_template_areas": null,
            "grid_template_columns": null,
            "grid_template_rows": null,
            "height": null,
            "justify_content": null,
            "justify_items": null,
            "left": null,
            "margin": null,
            "max_height": null,
            "max_width": null,
            "min_height": null,
            "min_width": null,
            "object_fit": null,
            "object_position": null,
            "order": null,
            "overflow": null,
            "overflow_x": null,
            "overflow_y": null,
            "padding": null,
            "right": null,
            "top": null,
            "visibility": null,
            "width": null
          }
        },
        "6bb95e5b9e844e7fbb28830c20bc767d": {
          "model_module": "@jupyter-widgets/controls",
          "model_name": "DescriptionStyleModel",
          "model_module_version": "1.5.0",
          "state": {
            "_model_module": "@jupyter-widgets/controls",
            "_model_module_version": "1.5.0",
            "_model_name": "DescriptionStyleModel",
            "_view_count": null,
            "_view_module": "@jupyter-widgets/base",
            "_view_module_version": "1.2.0",
            "_view_name": "StyleView",
            "description_width": ""
          }
        },
        "82e8f58bf6674bcda66fd3d5300d5a71": {
          "model_module": "@jupyter-widgets/controls",
          "model_name": "HBoxModel",
          "model_module_version": "1.5.0",
          "state": {
            "_dom_classes": [],
            "_model_module": "@jupyter-widgets/controls",
            "_model_module_version": "1.5.0",
            "_model_name": "HBoxModel",
            "_view_count": null,
            "_view_module": "@jupyter-widgets/controls",
            "_view_module_version": "1.5.0",
            "_view_name": "HBoxView",
            "box_style": "",
            "children": [
              "IPY_MODEL_001209f5f0cc4ff098df77e6fe439c3c",
              "IPY_MODEL_24b358370f4d42378c85e0eafa52164b",
              "IPY_MODEL_060f92613d6c4acf9875f74c31bc4e0c"
            ],
            "layout": "IPY_MODEL_73bcb863ce1a4d0890c3c42084a79370"
          }
        },
        "001209f5f0cc4ff098df77e6fe439c3c": {
          "model_module": "@jupyter-widgets/controls",
          "model_name": "HTMLModel",
          "model_module_version": "1.5.0",
          "state": {
            "_dom_classes": [],
            "_model_module": "@jupyter-widgets/controls",
            "_model_module_version": "1.5.0",
            "_model_name": "HTMLModel",
            "_view_count": null,
            "_view_module": "@jupyter-widgets/controls",
            "_view_module_version": "1.5.0",
            "_view_name": "HTMLView",
            "description": "",
            "description_tooltip": null,
            "layout": "IPY_MODEL_5c32d514287b442482d5a2f4f5cc2656",
            "placeholder": "​",
            "style": "IPY_MODEL_2b78fc68a9704868afa234071c431028",
            "value": "Map: 100%"
          }
        },
        "24b358370f4d42378c85e0eafa52164b": {
          "model_module": "@jupyter-widgets/controls",
          "model_name": "FloatProgressModel",
          "model_module_version": "1.5.0",
          "state": {
            "_dom_classes": [],
            "_model_module": "@jupyter-widgets/controls",
            "_model_module_version": "1.5.0",
            "_model_name": "FloatProgressModel",
            "_view_count": null,
            "_view_module": "@jupyter-widgets/controls",
            "_view_module_version": "1.5.0",
            "_view_name": "ProgressView",
            "bar_style": "success",
            "description": "",
            "description_tooltip": null,
            "layout": "IPY_MODEL_9482071f93d54cdcacf8d8c257c35948",
            "max": 800,
            "min": 0,
            "orientation": "horizontal",
            "style": "IPY_MODEL_bb59f2cdda3e4bc98d34e50f3f92a53b",
            "value": 800
          }
        },
        "060f92613d6c4acf9875f74c31bc4e0c": {
          "model_module": "@jupyter-widgets/controls",
          "model_name": "HTMLModel",
          "model_module_version": "1.5.0",
          "state": {
            "_dom_classes": [],
            "_model_module": "@jupyter-widgets/controls",
            "_model_module_version": "1.5.0",
            "_model_name": "HTMLModel",
            "_view_count": null,
            "_view_module": "@jupyter-widgets/controls",
            "_view_module_version": "1.5.0",
            "_view_name": "HTMLView",
            "description": "",
            "description_tooltip": null,
            "layout": "IPY_MODEL_4e45b1301df642c0b02955afe82cf310",
            "placeholder": "​",
            "style": "IPY_MODEL_7fa2ed77cc3c4d0b95f5587d5eaced45",
            "value": " 800/800 [00:00&lt;00:00, 1546.04 examples/s]"
          }
        },
        "73bcb863ce1a4d0890c3c42084a79370": {
          "model_module": "@jupyter-widgets/base",
          "model_name": "LayoutModel",
          "model_module_version": "1.2.0",
          "state": {
            "_model_module": "@jupyter-widgets/base",
            "_model_module_version": "1.2.0",
            "_model_name": "LayoutModel",
            "_view_count": null,
            "_view_module": "@jupyter-widgets/base",
            "_view_module_version": "1.2.0",
            "_view_name": "LayoutView",
            "align_content": null,
            "align_items": null,
            "align_self": null,
            "border": null,
            "bottom": null,
            "display": null,
            "flex": null,
            "flex_flow": null,
            "grid_area": null,
            "grid_auto_columns": null,
            "grid_auto_flow": null,
            "grid_auto_rows": null,
            "grid_column": null,
            "grid_gap": null,
            "grid_row": null,
            "grid_template_areas": null,
            "grid_template_columns": null,
            "grid_template_rows": null,
            "height": null,
            "justify_content": null,
            "justify_items": null,
            "left": null,
            "margin": null,
            "max_height": null,
            "max_width": null,
            "min_height": null,
            "min_width": null,
            "object_fit": null,
            "object_position": null,
            "order": null,
            "overflow": null,
            "overflow_x": null,
            "overflow_y": null,
            "padding": null,
            "right": null,
            "top": null,
            "visibility": null,
            "width": null
          }
        },
        "5c32d514287b442482d5a2f4f5cc2656": {
          "model_module": "@jupyter-widgets/base",
          "model_name": "LayoutModel",
          "model_module_version": "1.2.0",
          "state": {
            "_model_module": "@jupyter-widgets/base",
            "_model_module_version": "1.2.0",
            "_model_name": "LayoutModel",
            "_view_count": null,
            "_view_module": "@jupyter-widgets/base",
            "_view_module_version": "1.2.0",
            "_view_name": "LayoutView",
            "align_content": null,
            "align_items": null,
            "align_self": null,
            "border": null,
            "bottom": null,
            "display": null,
            "flex": null,
            "flex_flow": null,
            "grid_area": null,
            "grid_auto_columns": null,
            "grid_auto_flow": null,
            "grid_auto_rows": null,
            "grid_column": null,
            "grid_gap": null,
            "grid_row": null,
            "grid_template_areas": null,
            "grid_template_columns": null,
            "grid_template_rows": null,
            "height": null,
            "justify_content": null,
            "justify_items": null,
            "left": null,
            "margin": null,
            "max_height": null,
            "max_width": null,
            "min_height": null,
            "min_width": null,
            "object_fit": null,
            "object_position": null,
            "order": null,
            "overflow": null,
            "overflow_x": null,
            "overflow_y": null,
            "padding": null,
            "right": null,
            "top": null,
            "visibility": null,
            "width": null
          }
        },
        "2b78fc68a9704868afa234071c431028": {
          "model_module": "@jupyter-widgets/controls",
          "model_name": "DescriptionStyleModel",
          "model_module_version": "1.5.0",
          "state": {
            "_model_module": "@jupyter-widgets/controls",
            "_model_module_version": "1.5.0",
            "_model_name": "DescriptionStyleModel",
            "_view_count": null,
            "_view_module": "@jupyter-widgets/base",
            "_view_module_version": "1.2.0",
            "_view_name": "StyleView",
            "description_width": ""
          }
        },
        "9482071f93d54cdcacf8d8c257c35948": {
          "model_module": "@jupyter-widgets/base",
          "model_name": "LayoutModel",
          "model_module_version": "1.2.0",
          "state": {
            "_model_module": "@jupyter-widgets/base",
            "_model_module_version": "1.2.0",
            "_model_name": "LayoutModel",
            "_view_count": null,
            "_view_module": "@jupyter-widgets/base",
            "_view_module_version": "1.2.0",
            "_view_name": "LayoutView",
            "align_content": null,
            "align_items": null,
            "align_self": null,
            "border": null,
            "bottom": null,
            "display": null,
            "flex": null,
            "flex_flow": null,
            "grid_area": null,
            "grid_auto_columns": null,
            "grid_auto_flow": null,
            "grid_auto_rows": null,
            "grid_column": null,
            "grid_gap": null,
            "grid_row": null,
            "grid_template_areas": null,
            "grid_template_columns": null,
            "grid_template_rows": null,
            "height": null,
            "justify_content": null,
            "justify_items": null,
            "left": null,
            "margin": null,
            "max_height": null,
            "max_width": null,
            "min_height": null,
            "min_width": null,
            "object_fit": null,
            "object_position": null,
            "order": null,
            "overflow": null,
            "overflow_x": null,
            "overflow_y": null,
            "padding": null,
            "right": null,
            "top": null,
            "visibility": null,
            "width": null
          }
        },
        "bb59f2cdda3e4bc98d34e50f3f92a53b": {
          "model_module": "@jupyter-widgets/controls",
          "model_name": "ProgressStyleModel",
          "model_module_version": "1.5.0",
          "state": {
            "_model_module": "@jupyter-widgets/controls",
            "_model_module_version": "1.5.0",
            "_model_name": "ProgressStyleModel",
            "_view_count": null,
            "_view_module": "@jupyter-widgets/base",
            "_view_module_version": "1.2.0",
            "_view_name": "StyleView",
            "bar_color": null,
            "description_width": ""
          }
        },
        "4e45b1301df642c0b02955afe82cf310": {
          "model_module": "@jupyter-widgets/base",
          "model_name": "LayoutModel",
          "model_module_version": "1.2.0",
          "state": {
            "_model_module": "@jupyter-widgets/base",
            "_model_module_version": "1.2.0",
            "_model_name": "LayoutModel",
            "_view_count": null,
            "_view_module": "@jupyter-widgets/base",
            "_view_module_version": "1.2.0",
            "_view_name": "LayoutView",
            "align_content": null,
            "align_items": null,
            "align_self": null,
            "border": null,
            "bottom": null,
            "display": null,
            "flex": null,
            "flex_flow": null,
            "grid_area": null,
            "grid_auto_columns": null,
            "grid_auto_flow": null,
            "grid_auto_rows": null,
            "grid_column": null,
            "grid_gap": null,
            "grid_row": null,
            "grid_template_areas": null,
            "grid_template_columns": null,
            "grid_template_rows": null,
            "height": null,
            "justify_content": null,
            "justify_items": null,
            "left": null,
            "margin": null,
            "max_height": null,
            "max_width": null,
            "min_height": null,
            "min_width": null,
            "object_fit": null,
            "object_position": null,
            "order": null,
            "overflow": null,
            "overflow_x": null,
            "overflow_y": null,
            "padding": null,
            "right": null,
            "top": null,
            "visibility": null,
            "width": null
          }
        },
        "7fa2ed77cc3c4d0b95f5587d5eaced45": {
          "model_module": "@jupyter-widgets/controls",
          "model_name": "DescriptionStyleModel",
          "model_module_version": "1.5.0",
          "state": {
            "_model_module": "@jupyter-widgets/controls",
            "_model_module_version": "1.5.0",
            "_model_name": "DescriptionStyleModel",
            "_view_count": null,
            "_view_module": "@jupyter-widgets/base",
            "_view_module_version": "1.2.0",
            "_view_name": "StyleView",
            "description_width": ""
          }
        },
        "ab69d6dcf011467e89dd32ca098b296d": {
          "model_module": "@jupyter-widgets/controls",
          "model_name": "HBoxModel",
          "model_module_version": "1.5.0",
          "state": {
            "_dom_classes": [],
            "_model_module": "@jupyter-widgets/controls",
            "_model_module_version": "1.5.0",
            "_model_name": "HBoxModel",
            "_view_count": null,
            "_view_module": "@jupyter-widgets/controls",
            "_view_module_version": "1.5.0",
            "_view_name": "HBoxView",
            "box_style": "",
            "children": [
              "IPY_MODEL_aa04355a7ac84bef89885c761a6e1830",
              "IPY_MODEL_4d36ecb4dc714b28b3640acc5e259756",
              "IPY_MODEL_3d0258ee47a34e168b4787d323aabccd"
            ],
            "layout": "IPY_MODEL_99b9eea8edba4ab6bcb58b6ce9872181"
          }
        },
        "aa04355a7ac84bef89885c761a6e1830": {
          "model_module": "@jupyter-widgets/controls",
          "model_name": "HTMLModel",
          "model_module_version": "1.5.0",
          "state": {
            "_dom_classes": [],
            "_model_module": "@jupyter-widgets/controls",
            "_model_module_version": "1.5.0",
            "_model_name": "HTMLModel",
            "_view_count": null,
            "_view_module": "@jupyter-widgets/controls",
            "_view_module_version": "1.5.0",
            "_view_name": "HTMLView",
            "description": "",
            "description_tooltip": null,
            "layout": "IPY_MODEL_9f8fb51e1dbb4f54accf426af1be9af4",
            "placeholder": "​",
            "style": "IPY_MODEL_9e15ec793a8e4991b0c65ed2f118b497",
            "value": "Map: 100%"
          }
        },
        "4d36ecb4dc714b28b3640acc5e259756": {
          "model_module": "@jupyter-widgets/controls",
          "model_name": "FloatProgressModel",
          "model_module_version": "1.5.0",
          "state": {
            "_dom_classes": [],
            "_model_module": "@jupyter-widgets/controls",
            "_model_module_version": "1.5.0",
            "_model_name": "FloatProgressModel",
            "_view_count": null,
            "_view_module": "@jupyter-widgets/controls",
            "_view_module_version": "1.5.0",
            "_view_name": "ProgressView",
            "bar_style": "success",
            "description": "",
            "description_tooltip": null,
            "layout": "IPY_MODEL_c5af94c067a74eab8304fb86f13f76b4",
            "max": 200,
            "min": 0,
            "orientation": "horizontal",
            "style": "IPY_MODEL_15bfcfc517ce44688c1b6dcc6fd337c4",
            "value": 200
          }
        },
        "3d0258ee47a34e168b4787d323aabccd": {
          "model_module": "@jupyter-widgets/controls",
          "model_name": "HTMLModel",
          "model_module_version": "1.5.0",
          "state": {
            "_dom_classes": [],
            "_model_module": "@jupyter-widgets/controls",
            "_model_module_version": "1.5.0",
            "_model_name": "HTMLModel",
            "_view_count": null,
            "_view_module": "@jupyter-widgets/controls",
            "_view_module_version": "1.5.0",
            "_view_name": "HTMLView",
            "description": "",
            "description_tooltip": null,
            "layout": "IPY_MODEL_126ea4e3e86441fea574aa08fd77885a",
            "placeholder": "​",
            "style": "IPY_MODEL_3d6fcda4c2f8488488b57463aef34116",
            "value": " 200/200 [00:00&lt;00:00, 1187.98 examples/s]"
          }
        },
        "99b9eea8edba4ab6bcb58b6ce9872181": {
          "model_module": "@jupyter-widgets/base",
          "model_name": "LayoutModel",
          "model_module_version": "1.2.0",
          "state": {
            "_model_module": "@jupyter-widgets/base",
            "_model_module_version": "1.2.0",
            "_model_name": "LayoutModel",
            "_view_count": null,
            "_view_module": "@jupyter-widgets/base",
            "_view_module_version": "1.2.0",
            "_view_name": "LayoutView",
            "align_content": null,
            "align_items": null,
            "align_self": null,
            "border": null,
            "bottom": null,
            "display": null,
            "flex": null,
            "flex_flow": null,
            "grid_area": null,
            "grid_auto_columns": null,
            "grid_auto_flow": null,
            "grid_auto_rows": null,
            "grid_column": null,
            "grid_gap": null,
            "grid_row": null,
            "grid_template_areas": null,
            "grid_template_columns": null,
            "grid_template_rows": null,
            "height": null,
            "justify_content": null,
            "justify_items": null,
            "left": null,
            "margin": null,
            "max_height": null,
            "max_width": null,
            "min_height": null,
            "min_width": null,
            "object_fit": null,
            "object_position": null,
            "order": null,
            "overflow": null,
            "overflow_x": null,
            "overflow_y": null,
            "padding": null,
            "right": null,
            "top": null,
            "visibility": null,
            "width": null
          }
        },
        "9f8fb51e1dbb4f54accf426af1be9af4": {
          "model_module": "@jupyter-widgets/base",
          "model_name": "LayoutModel",
          "model_module_version": "1.2.0",
          "state": {
            "_model_module": "@jupyter-widgets/base",
            "_model_module_version": "1.2.0",
            "_model_name": "LayoutModel",
            "_view_count": null,
            "_view_module": "@jupyter-widgets/base",
            "_view_module_version": "1.2.0",
            "_view_name": "LayoutView",
            "align_content": null,
            "align_items": null,
            "align_self": null,
            "border": null,
            "bottom": null,
            "display": null,
            "flex": null,
            "flex_flow": null,
            "grid_area": null,
            "grid_auto_columns": null,
            "grid_auto_flow": null,
            "grid_auto_rows": null,
            "grid_column": null,
            "grid_gap": null,
            "grid_row": null,
            "grid_template_areas": null,
            "grid_template_columns": null,
            "grid_template_rows": null,
            "height": null,
            "justify_content": null,
            "justify_items": null,
            "left": null,
            "margin": null,
            "max_height": null,
            "max_width": null,
            "min_height": null,
            "min_width": null,
            "object_fit": null,
            "object_position": null,
            "order": null,
            "overflow": null,
            "overflow_x": null,
            "overflow_y": null,
            "padding": null,
            "right": null,
            "top": null,
            "visibility": null,
            "width": null
          }
        },
        "9e15ec793a8e4991b0c65ed2f118b497": {
          "model_module": "@jupyter-widgets/controls",
          "model_name": "DescriptionStyleModel",
          "model_module_version": "1.5.0",
          "state": {
            "_model_module": "@jupyter-widgets/controls",
            "_model_module_version": "1.5.0",
            "_model_name": "DescriptionStyleModel",
            "_view_count": null,
            "_view_module": "@jupyter-widgets/base",
            "_view_module_version": "1.2.0",
            "_view_name": "StyleView",
            "description_width": ""
          }
        },
        "c5af94c067a74eab8304fb86f13f76b4": {
          "model_module": "@jupyter-widgets/base",
          "model_name": "LayoutModel",
          "model_module_version": "1.2.0",
          "state": {
            "_model_module": "@jupyter-widgets/base",
            "_model_module_version": "1.2.0",
            "_model_name": "LayoutModel",
            "_view_count": null,
            "_view_module": "@jupyter-widgets/base",
            "_view_module_version": "1.2.0",
            "_view_name": "LayoutView",
            "align_content": null,
            "align_items": null,
            "align_self": null,
            "border": null,
            "bottom": null,
            "display": null,
            "flex": null,
            "flex_flow": null,
            "grid_area": null,
            "grid_auto_columns": null,
            "grid_auto_flow": null,
            "grid_auto_rows": null,
            "grid_column": null,
            "grid_gap": null,
            "grid_row": null,
            "grid_template_areas": null,
            "grid_template_columns": null,
            "grid_template_rows": null,
            "height": null,
            "justify_content": null,
            "justify_items": null,
            "left": null,
            "margin": null,
            "max_height": null,
            "max_width": null,
            "min_height": null,
            "min_width": null,
            "object_fit": null,
            "object_position": null,
            "order": null,
            "overflow": null,
            "overflow_x": null,
            "overflow_y": null,
            "padding": null,
            "right": null,
            "top": null,
            "visibility": null,
            "width": null
          }
        },
        "15bfcfc517ce44688c1b6dcc6fd337c4": {
          "model_module": "@jupyter-widgets/controls",
          "model_name": "ProgressStyleModel",
          "model_module_version": "1.5.0",
          "state": {
            "_model_module": "@jupyter-widgets/controls",
            "_model_module_version": "1.5.0",
            "_model_name": "ProgressStyleModel",
            "_view_count": null,
            "_view_module": "@jupyter-widgets/base",
            "_view_module_version": "1.2.0",
            "_view_name": "StyleView",
            "bar_color": null,
            "description_width": ""
          }
        },
        "126ea4e3e86441fea574aa08fd77885a": {
          "model_module": "@jupyter-widgets/base",
          "model_name": "LayoutModel",
          "model_module_version": "1.2.0",
          "state": {
            "_model_module": "@jupyter-widgets/base",
            "_model_module_version": "1.2.0",
            "_model_name": "LayoutModel",
            "_view_count": null,
            "_view_module": "@jupyter-widgets/base",
            "_view_module_version": "1.2.0",
            "_view_name": "LayoutView",
            "align_content": null,
            "align_items": null,
            "align_self": null,
            "border": null,
            "bottom": null,
            "display": null,
            "flex": null,
            "flex_flow": null,
            "grid_area": null,
            "grid_auto_columns": null,
            "grid_auto_flow": null,
            "grid_auto_rows": null,
            "grid_column": null,
            "grid_gap": null,
            "grid_row": null,
            "grid_template_areas": null,
            "grid_template_columns": null,
            "grid_template_rows": null,
            "height": null,
            "justify_content": null,
            "justify_items": null,
            "left": null,
            "margin": null,
            "max_height": null,
            "max_width": null,
            "min_height": null,
            "min_width": null,
            "object_fit": null,
            "object_position": null,
            "order": null,
            "overflow": null,
            "overflow_x": null,
            "overflow_y": null,
            "padding": null,
            "right": null,
            "top": null,
            "visibility": null,
            "width": null
          }
        },
        "3d6fcda4c2f8488488b57463aef34116": {
          "model_module": "@jupyter-widgets/controls",
          "model_name": "DescriptionStyleModel",
          "model_module_version": "1.5.0",
          "state": {
            "_model_module": "@jupyter-widgets/controls",
            "_model_module_version": "1.5.0",
            "_model_name": "DescriptionStyleModel",
            "_view_count": null,
            "_view_module": "@jupyter-widgets/base",
            "_view_module_version": "1.2.0",
            "_view_name": "StyleView",
            "description_width": ""
          }
        }
      }
    },
    "colab": {
      "provenance": [],
      "gpuType": "T4"
    },
    "accelerator": "GPU"
  },
  "nbformat": 4,
  "nbformat_minor": 5
}